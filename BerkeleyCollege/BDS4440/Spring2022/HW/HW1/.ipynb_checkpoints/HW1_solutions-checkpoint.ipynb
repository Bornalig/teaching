{
 "cells": [
  {
   "cell_type": "markdown",
   "metadata": {},
   "source": [
    "# BDS4440: Homework 1 Solutions\n",
    "\n",
    "Problems 1-6 Ch9 Intro to Computer Science and Data Science by Deitel\n",
    "\n",
    "Problem 1\n",
    "\n",
    "Write code that enables you to store any number of grades in the format of 'name  grade \\n' into a grades.txt text file."
   ]
  },
  {
   "cell_type": "code",
   "execution_count": 20,
   "metadata": {},
   "outputs": [
    {
     "name": "stdout",
     "output_type": "stream",
     "text": [
      "Enter name (space) grade and null to end: Joe 100\n",
      "Enter name (space) grade and null to end: Mike 90\n",
      "Enter name (space) grade and null to end: null 0\n"
     ]
    }
   ],
   "source": [
    "# Exercise 9.1\n",
    "with open('grades.txt', mode='w') as grades:\n",
    "    name = ' '\n",
    "    while name != 'null':\n",
    "        data = input('Enter name (space) grade and null to end: ')\n",
    "        name,grade = data.split(' ')\n",
    "        grades.write(str(name)+' '+str(grade)+'\\n') # get one grade"
   ]
  },
  {
   "cell_type": "markdown",
   "metadata": {},
   "source": [
    "Problem 2\n",
    "\n",
    "Write code that reads from the grades.txt from problem 1. Print the individiual grades and their total, count and average."
   ]
  },
  {
   "cell_type": "code",
   "execution_count": 10,
   "metadata": {},
   "outputs": [
    {
     "name": "stdout",
     "output_type": "stream",
     "text": [
      "Name: Joe, Grade: 100\n",
      "\n",
      "Name: Mike, Grade: 90\n",
      "\n",
      "Number of grades read: 2\n",
      "Total of all grades: 190\n",
      "Average grade: 95.00\n"
     ]
    }
   ],
   "source": [
    "# Exercise 9.2\n",
    "with open('grades.txt', mode='r') as grades:\n",
    "    total = 0\n",
    "    count = 0\n",
    "    \n",
    "    for g in grades:\n",
    "        name,grade = g.split(' ')\n",
    "        if name!='null':\n",
    "            print('Name: {}, Grade: {}'.format(name,grade))\n",
    "            total += int(grade)\n",
    "            count += 1\n",
    "        \n",
    "    print(f'Number of grades read: {count}')\n",
    "    print(f'Total of all grades: {total}')\n",
    "    print(f'Average grade: {total / count:.2f}')\n",
    "grades.close()"
   ]
  },
  {
   "cell_type": "markdown",
   "metadata": {},
   "source": [
    "Problem 3\n",
    "\n",
    "Write code that enables you to store information in a `csv` file named `grades.csv`. Write code that enables you to enter each student's first name, last name as strings and three exam grades as integers - saving them as an entry into the csv file.\n",
    "\n",
    "The format will be\n",
    "\n",
    "`last name, first name, grade1::int, grade2::int, grade3::int` "
   ]
  },
  {
   "cell_type": "code",
   "execution_count": 11,
   "metadata": {},
   "outputs": [
    {
     "name": "stdout",
     "output_type": "stream",
     "text": [
      "first_name: Joe\n",
      "last name: Ganser\n",
      "exam 1 grade: 100\n",
      "exam 2 grade: 90\n",
      "exam 3 grade: 80\n",
      "first_name: Mike\n",
      "last name: Scardino\n",
      "exam 1 grade: 50\n",
      "exam 2 grade: 60\n",
      "exam 3 grade: 40\n",
      "first_name: -1\n"
     ]
    }
   ],
   "source": [
    "#Exercise 9.3\n",
    "import csv\n",
    "with open('grades.csv',mode='w',newline='') as grades2:\n",
    "    records = csv.writer(grades2)\n",
    "    stop = False\n",
    "    while not stop:\n",
    "        row = []\n",
    "        for record in ['first_name','last name','exam 1 grade','exam 2 grade','exam 3 grade']:      \n",
    "            data = input(record+': ')\n",
    "            if data==-1 or data=='-1':\n",
    "                stop=True\n",
    "                break\n",
    "            else:\n",
    "                row.append(data) \n",
    "        records.writerow(row)\n",
    "grades2.close()"
   ]
  },
  {
   "cell_type": "markdown",
   "metadata": {},
   "source": [
    "Problem 4\n",
    "\n",
    "Use csv module to read the `grades.csv` file from the previous exercise. Display the data in a table format."
   ]
  },
  {
   "cell_type": "code",
   "execution_count": 17,
   "metadata": {},
   "outputs": [
    {
     "name": "stdout",
     "output_type": "stream",
     "text": [
      "First name, last name,grade1,grade2,grade3\n",
      "Joe Ganser 100 90 80\n",
      "Mike Scardino 50 60 40\n"
     ]
    }
   ],
   "source": [
    "#Exercise 9.4 (other solution)\n",
    "with open('grades.csv','r',newline='') as grades:\n",
    "    reader = csv.reader(grades)\n",
    "    print('First name, last name,grade1,grade2,grade3')\n",
    "    for record in reader:\n",
    "        if len(record)==5:\n",
    "            firstname,lastname,grade1,grade2,grade3 = record\n",
    "            \n",
    "            print(firstname,lastname,grade1,grade2,grade3)"
   ]
  },
  {
   "cell_type": "markdown",
   "metadata": {},
   "source": [
    "Problem 5\n",
    "Modify your solution to the preceding exercise to create a grade report that displays each students average to the right of that student's row and the class average for each exam below that exam's column.\n",
    "\n"
   ]
  },
  {
   "cell_type": "code",
   "execution_count": 18,
   "metadata": {},
   "outputs": [
    {
     "name": "stdout",
     "output_type": "stream",
     "text": [
      "First name, last name,grade1,grade2,grade3\n",
      "Joe Ganser 100 90 80 90.0\n",
      "Mike Scardino 50 60 40 50.0\n",
      "Exam averages;  50.0   50.0   40.0\n"
     ]
    }
   ],
   "source": [
    "#Exercise 9.5 (other solution)\n",
    "with open('grades.csv','r',newline='') as grades:\n",
    "    reader = csv.reader(grades)\n",
    "    print('First name, last name,grade1,grade2,grade3')\n",
    "    exam1 = []\n",
    "    exam2 = []\n",
    "    exam3 = []\n",
    "    for record in reader:\n",
    "        if len(record)==5:\n",
    "            firstname,lastname,grade1,grade2,grade3 = record\n",
    "            exam1.append(int(grade1))\n",
    "            exam2.append(int(grade2))\n",
    "            exam3.append(int(grade3))\n",
    "            avg = (int(grade1)+int(grade2)+int(grade3))/3\n",
    "            print(firstname,lastname,grade1,grade2,grade3,avg)\n",
    "print('Exam averages; ',sum(exam1)/3,' ',sum(exam2)/3,' ',sum(exam3)/3)"
   ]
  },
  {
   "cell_type": "markdown",
   "metadata": {},
   "source": [
    "Problem 6:\n",
    "    \n",
    "Do problem 9.3 but instead save it in JSON format;\n",
    "\n",
    "i.e. `gradebook_dict = {'students':[{student_name:'john',grade1:'100'},{student_name:'Mike':grade1:'90'}]}`"
   ]
  },
  {
   "cell_type": "code",
   "execution_count": 19,
   "metadata": {},
   "outputs": [
    {
     "name": "stdout",
     "output_type": "stream",
     "text": [
      "Enter a student's first name, last name and three grades, separated by spaces. Enter -1 to end input \n",
      "?Joe Ganser 100 90 95\n",
      "?Mike Scardino 50 40 75\n",
      "?-1\n"
     ]
    }
   ],
   "source": [
    "# Exercise 9.6\n",
    "import json\n",
    "\n",
    "gradebook_dict = {'students' : []}\n",
    "\n",
    "with open('grades2.json', mode='w') as grades:    \n",
    "    print(\"\"\"Enter a student's first name, last name and three grades, separated by spaces. Enter -1 to end input \"\"\")\n",
    "    line = input('?')\n",
    "    \n",
    "    while line != '-1':\n",
    "        line = line.split()\n",
    "        student_dict = {'first_name': line[0], 'last_name': line[1], 'exam1': int(line[2]), 'exam2': int(line[3]),'exam3': int(line[4])}\n",
    "        gradebook_dict['students'].append(student_dict)\n",
    "        line = input('?')\n",
    "        \n",
    "    json.dump(gradebook_dict, grades)"
   ]
  },
  {
   "cell_type": "code",
   "execution_count": null,
   "metadata": {},
   "outputs": [],
   "source": []
  }
 ],
 "metadata": {
  "kernelspec": {
   "display_name": "Python 3",
   "language": "python",
   "name": "python3"
  },
  "language_info": {
   "codemirror_mode": {
    "name": "ipython",
    "version": 3
   },
   "file_extension": ".py",
   "mimetype": "text/x-python",
   "name": "python",
   "nbconvert_exporter": "python",
   "pygments_lexer": "ipython3",
   "version": "3.7.3"
  }
 },
 "nbformat": 4,
 "nbformat_minor": 2
}
