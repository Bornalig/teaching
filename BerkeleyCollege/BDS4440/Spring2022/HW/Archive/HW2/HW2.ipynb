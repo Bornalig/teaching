{
 "cells": [
  {
   "cell_type": "markdown",
   "metadata": {},
   "source": [
    "# BDS4440 HW2\n",
    "\n",
    "# Ch 9 Problem 7\n",
    "\n",
    "# Ch 10 Problems 2,3,4,6,9\n",
    "\n",
    "all from text: Intro to Python for Computer Science and Data Science By Dietel & Dietel"
   ]
  },
  {
   "cell_type": "markdown",
   "metadata": {},
   "source": [
    "# Ch9 Problem 7"
   ]
  },
  {
   "cell_type": "code",
   "execution_count": 8,
   "metadata": {},
   "outputs": [
    {
     "name": "stdout",
     "output_type": "stream",
     "text": [
      "First name,last name,grade1,grade2,grade3,avg\n",
      "Joe Ganser 55 77 88 73.33333333333333\n",
      "Mike Scardino 88 99 66 84.33333333333333\n",
      "Exam Averages: Exam 1 47.666666666666664, Exam 2 58.666666666666664, Exam 3 51.333333333333336\n"
     ]
    }
   ],
   "source": [
    "#Ch9 Problem 7 \n",
    "\n",
    "import json \n",
    "with open('grades2.json','r') as grades_json:\n",
    "    grades = json.load(grades_json)\n",
    "    print('First name,last name,grade1,grade2,grade3,avg')\n",
    "    exam1 = []\n",
    "    exam2 = []\n",
    "    exam3 = []\n",
    "    for record in grades['students']:\n",
    "        records = list(record.values())\n",
    "        first_name,last_name,grade1,grade2,grade3 = records[0],records[1],records[2],records[3],records[4]\n",
    "        exam1.append(int(grade1))\n",
    "        exam2.append(int(grade2))\n",
    "        exam3.append(int(grade3))\n",
    "        avg = (int(grade1)+int(grade2)+int(grade3))/3\n",
    "        print(first_name,last_name,grade1,grade2,grade3,avg)\n",
    "avgs = 'Exam Averages: Exam 1 {}, Exam 2 {}, Exam 3 {}'.format(sum(exam1)/3,sum(exam2)/3,sum(exam3)/3)\n",
    "print(avgs)"
   ]
  },
  {
   "cell_type": "markdown",
   "metadata": {},
   "source": [
    "# Ch 10 problem 2"
   ]
  },
  {
   "cell_type": "code",
   "execution_count": 9,
   "metadata": {},
   "outputs": [],
   "source": [
    "\"\"\"Account class definition.\"\"\"\n",
    "from decimal import Decimal\n",
    "\n",
    "class Account:\n",
    "    \"\"\"Account class for maintaining a bank account balance.\"\"\"\n",
    "    def __init__(self, name, balance):\n",
    "        \"\"\"Initialize an Account object.\"\"\"\n",
    "\n",
    "        # if balance is less than 0.00, raise an exception\n",
    "        if balance < Decimal('0.00'):\n",
    "            raise ValueError('Initial balance must be >= to 0.00.')\n",
    "\n",
    "        self._name = name\n",
    "        self._balance = balance\n",
    "    \n",
    "    # skip the steps of withdraw/deposit function, we only need the name and balance for demo purposes\n",
    "    @property\n",
    "    def name(self):\n",
    "        return self._name\n",
    "    \n",
    "    \n",
    "    @property\n",
    "    def balance(self):\n",
    "        return self._balance"
   ]
  },
  {
   "cell_type": "code",
   "execution_count": 10,
   "metadata": {},
   "outputs": [
    {
     "name": "stdout",
     "output_type": "stream",
     "text": [
      "John Green\n",
      "50.00\n"
     ]
    }
   ],
   "source": [
    "from decimal import Decimal\n",
    "\n",
    "# Create an Account Object with a Constructor Expression\n",
    "account1 = Account('John Green', Decimal('50.00'))\n",
    "\n",
    "# Getting an Account’s Name and Balance\n",
    "print(account1.name)\n",
    "\n",
    "print(account1.balance)"
   ]
  },
  {
   "cell_type": "code",
   "execution_count": 11,
   "metadata": {},
   "outputs": [
    {
     "ename": "AttributeError",
     "evalue": "can't set attribute",
     "output_type": "error",
     "traceback": [
      "\u001b[0;31m---------------------------------------------------------------------------\u001b[0m",
      "\u001b[0;31mAttributeError\u001b[0m                            Traceback (most recent call last)",
      "\u001b[0;32m<ipython-input-11-dc184c36e4ed>\u001b[0m in \u001b[0;36m<module>\u001b[0;34m\u001b[0m\n\u001b[1;32m      1\u001b[0m \u001b[0;31m# Attempting to modify the name and balance\u001b[0m\u001b[0;34m\u001b[0m\u001b[0;34m\u001b[0m\u001b[0;34m\u001b[0m\u001b[0m\n\u001b[0;32m----> 2\u001b[0;31m \u001b[0maccount1\u001b[0m\u001b[0;34m.\u001b[0m\u001b[0mname\u001b[0m \u001b[0;34m=\u001b[0m \u001b[0;34m'Bob Blue'\u001b[0m\u001b[0;34m\u001b[0m\u001b[0;34m\u001b[0m\u001b[0m\n\u001b[0m",
      "\u001b[0;31mAttributeError\u001b[0m: can't set attribute"
     ]
    }
   ],
   "source": [
    "# Attempting to modify the name and balance\n",
    "account1.name = 'Bob Blue'"
   ]
  },
  {
   "cell_type": "code",
   "execution_count": 12,
   "metadata": {},
   "outputs": [
    {
     "ename": "AttributeError",
     "evalue": "can't set attribute",
     "output_type": "error",
     "traceback": [
      "\u001b[0;31m---------------------------------------------------------------------------\u001b[0m",
      "\u001b[0;31mAttributeError\u001b[0m                            Traceback (most recent call last)",
      "\u001b[0;32m<ipython-input-12-da69b8457b1e>\u001b[0m in \u001b[0;36m<module>\u001b[0;34m\u001b[0m\n\u001b[0;32m----> 1\u001b[0;31m \u001b[0maccount1\u001b[0m\u001b[0;34m.\u001b[0m\u001b[0mbalance\u001b[0m \u001b[0;34m=\u001b[0m \u001b[0mDecimal\u001b[0m\u001b[0;34m(\u001b[0m\u001b[0;34m'12345.67'\u001b[0m\u001b[0;34m)\u001b[0m\u001b[0;34m\u001b[0m\u001b[0;34m\u001b[0m\u001b[0m\n\u001b[0m",
      "\u001b[0;31mAttributeError\u001b[0m: can't set attribute"
     ]
    }
   ],
   "source": [
    "account1.balance = Decimal('12345.67')"
   ]
  },
  {
   "cell_type": "markdown",
   "metadata": {},
   "source": [
    "# CH10 Problem 3"
   ]
  },
  {
   "cell_type": "code",
   "execution_count": 3,
   "metadata": {},
   "outputs": [
    {
     "data": {
      "text/plain": [
       "'23:30:00'"
      ]
     },
     "execution_count": 3,
     "metadata": {},
     "output_type": "execute_result"
    }
   ],
   "source": [
    "from datetime import datetime\n",
    "class Time:\n",
    "    def __init__(self,hour=0,minute=0,second=0):\n",
    "        self.hour = hour\n",
    "        self.minute = minute\n",
    "        self.second = second\n",
    "    \n",
    "    @property\n",
    "    def hour(self):\n",
    "        return self._hour\n",
    "    \n",
    "    @hour.setter\n",
    "    def hour(self,hour):\n",
    "        if not (0<=hour<24):\n",
    "            raise ValueError(f'Hour ({hour}) must be 0-23')\n",
    "        self._hour = hour\n",
    "        \n",
    "    @property\n",
    "    def minute(self):\n",
    "        return self._minute\n",
    "    \n",
    "    @minute.setter\n",
    "    def minute(self,minute):\n",
    "        if not (0<=minute<60):\n",
    "            raise ValueError(f'Minute ({minute}) must be 0-59')\n",
    "        self._minute = minute\n",
    "        \n",
    "    @property\n",
    "    def second(self):\n",
    "        return self._second\n",
    "    \n",
    "    @second.setter\n",
    "    def second(self,second):\n",
    "        if not (0<=second<60):\n",
    "            raise ValueError(f'Second ({second}) must be 0-59')\n",
    "        self._second = second\n",
    "        \n",
    "    def __str__(self):\n",
    "        return (('12' if self.hour in (0,12) else str(self.hour%12))+f':{self.minute:0>2}:{self.second:0>2}'+\n",
    "               (' AM' if self.hour<12 else ' PM'))\n",
    "    \n",
    "    def less_than_10(self,number):\n",
    "        if number<10:\n",
    "            number = '0'+str(number)\n",
    "        else:\n",
    "            number = str(number)\n",
    "        return number\n",
    "    \n",
    "    @property\n",
    "    def universal_str(self):\n",
    "        h = self.less_than_10(self._hour)\n",
    "        m = self.less_than_10(self._minute)\n",
    "        s = self.less_than_10(self._second)\n",
    "        self._time = h+':'+m+':'+s\n",
    "        return self._time\n",
    "    \n",
    "    #another way\n",
    "    @property\n",
    "    def universal_str2(self):\n",
    "        \"\"\"Return Time string in 24-hour clock format.\"\"\"\n",
    "        return f'{self.hour:0>2}:{self.minute:0>2}:{self.second:0>2}'\n",
    "    \n",
    "wake_up = Time(hour=23, minute=30)\n",
    "\n",
    "wake_up.universal_str"
   ]
  },
  {
   "cell_type": "markdown",
   "metadata": {},
   "source": [
    "# CH10 Problem 4"
   ]
  },
  {
   "cell_type": "code",
   "execution_count": 14,
   "metadata": {},
   "outputs": [
    {
     "data": {
      "text/plain": [
       "23400"
      ]
     },
     "execution_count": 14,
     "metadata": {},
     "output_type": "execute_result"
    }
   ],
   "source": [
    "from datetime import datetime\n",
    "class Time2:\n",
    "    def __init__(self,hour=0,minute=0,second=0):\n",
    "        self.hour = hour\n",
    "        self.minute = minute\n",
    "        self.second = second\n",
    "        \n",
    "    @property\n",
    "    def _total_seconds(self):\n",
    "        h = 60*60*self.hour\n",
    "        m = 60*self.minute\n",
    "        return self.second+m+h\n",
    "    \n",
    "    \n",
    "t = Time2(hour=6, minute=30)\n",
    "\n",
    "t._total_seconds"
   ]
  },
  {
   "cell_type": "markdown",
   "metadata": {},
   "source": [
    "# Ch 10 Probelm 6"
   ]
  },
  {
   "cell_type": "code",
   "execution_count": 15,
   "metadata": {},
   "outputs": [],
   "source": [
    "class Point:\n",
    "    \"\"\"Point class for maintaining an x-y location.\"\"\"\n",
    "    \n",
    "    def __init__(self, x, y):\n",
    "        \"\"\"Initialize a Point object.\"\"\"\n",
    "        self.x = x\n",
    "        self.y = y\n",
    "        \n",
    "    @property\n",
    "    def x(self):\n",
    "        return self._x\n",
    "    \n",
    "    @x.setter\n",
    "    def x(self, x):\n",
    "        self._x = x\n",
    "        \n",
    "    @property\n",
    "    def y(self):\n",
    "        return self._y\n",
    "    \n",
    "    @y.setter\n",
    "    def y(self, y):\n",
    "        self._y = y\n",
    "        \n",
    "    def __repr__(self):\n",
    "        return f'Point(x={self.x}, y={self.y})'\n",
    "    \n",
    "    def move(self, p):\n",
    "        self.x = p.x\n",
    "        self.y = p.y\n",
    "\n",
    "\n",
    "class circle:\n",
    "    \"\"\"Circle class for maintaining a point and radius.\"\"\"\n",
    "    \n",
    "    def __init__(self, point, radius):\n",
    "        \"\"\"Initialize a Point object.\"\"\"\n",
    "        self._point = point #input from the point class\n",
    "        self.radius = radius\n",
    "        \n",
    "    @property\n",
    "    def point(self):\n",
    "        return self._point\n",
    "    \n",
    "    @property\n",
    "    def radius(self):\n",
    "        return self._radius\n",
    "    \n",
    "    @radius.setter\n",
    "    def radius(self, radius):\n",
    "        self._radius = radius  # could validate\n",
    "        \n",
    "    def __repr__(self):\n",
    "        return f'circle(center={self.point}, radius={self.radius})'\n",
    "    \n",
    "    def move(self, new_location):\n",
    "        self.point.move(new_location)"
   ]
  },
  {
   "cell_type": "code",
   "execution_count": 16,
   "metadata": {},
   "outputs": [],
   "source": [
    "P = Point(0,0) \n",
    "C = circle(P,2)"
   ]
  },
  {
   "cell_type": "code",
   "execution_count": 17,
   "metadata": {},
   "outputs": [],
   "source": [
    "C.move(Point(3,4))"
   ]
  },
  {
   "cell_type": "code",
   "execution_count": 18,
   "metadata": {},
   "outputs": [
    {
     "data": {
      "text/plain": [
       "2"
      ]
     },
     "execution_count": 18,
     "metadata": {},
     "output_type": "execute_result"
    }
   ],
   "source": [
    "C.radius"
   ]
  },
  {
   "cell_type": "code",
   "execution_count": 19,
   "metadata": {},
   "outputs": [
    {
     "data": {
      "text/plain": [
       "'circle(center=Point(x=3, y=4), radius=2)'"
      ]
     },
     "execution_count": 19,
     "metadata": {},
     "output_type": "execute_result"
    }
   ],
   "source": [
    "C.__repr__()"
   ]
  },
  {
   "cell_type": "markdown",
   "metadata": {},
   "source": [
    "# Problem 10.9"
   ]
  },
  {
   "cell_type": "code",
   "execution_count": 20,
   "metadata": {},
   "outputs": [],
   "source": [
    "class Square:\n",
    "    \"\"\"Square class.\"\"\"\n",
    "    \n",
    "    def __init__(self, side):\n",
    "        \"\"\"Initialize a Point object.\"\"\"\n",
    "        self._side = side  # could validate\n",
    "        \n",
    "    @property\n",
    "    def side(self):\n",
    "        return self._side\n",
    "        \n",
    "    @property\n",
    "    def perimeter(self):\n",
    "        return 4 * self.side\n",
    "        \n",
    "    @property\n",
    "    def area(self):\n",
    "        return self.side ** 2\n",
    "        \n",
    "    @property\n",
    "    def diagonal(self):\n",
    "        return (2 * self.side ** 2) ** 0.5\n",
    "        \n",
    "    def __repr__(self):\n",
    "        return f'Square(side={self.side})'"
   ]
  },
  {
   "cell_type": "code",
   "execution_count": 21,
   "metadata": {},
   "outputs": [],
   "source": [
    "a = Square(3)"
   ]
  },
  {
   "cell_type": "code",
   "execution_count": 22,
   "metadata": {},
   "outputs": [
    {
     "data": {
      "text/plain": [
       "9"
      ]
     },
     "execution_count": 22,
     "metadata": {},
     "output_type": "execute_result"
    }
   ],
   "source": [
    "a.area"
   ]
  },
  {
   "cell_type": "code",
   "execution_count": 5,
   "metadata": {},
   "outputs": [
    {
     "data": {
      "text/plain": [
       "4.242640687119285"
      ]
     },
     "execution_count": 5,
     "metadata": {},
     "output_type": "execute_result"
    }
   ],
   "source": [
    "a.diagonal"
   ]
  },
  {
   "cell_type": "code",
   "execution_count": 6,
   "metadata": {},
   "outputs": [
    {
     "data": {
      "text/plain": [
       "12"
      ]
     },
     "execution_count": 6,
     "metadata": {},
     "output_type": "execute_result"
    }
   ],
   "source": [
    "a.perimeter"
   ]
  },
  {
   "cell_type": "code",
   "execution_count": null,
   "metadata": {},
   "outputs": [],
   "source": []
  }
 ],
 "metadata": {
  "kernelspec": {
   "display_name": "Python 3",
   "language": "python",
   "name": "python3"
  },
  "language_info": {
   "codemirror_mode": {
    "name": "ipython",
    "version": 3
   },
   "file_extension": ".py",
   "mimetype": "text/x-python",
   "name": "python",
   "nbconvert_exporter": "python",
   "pygments_lexer": "ipython3",
   "version": "3.7.3"
  }
 },
 "nbformat": 4,
 "nbformat_minor": 2
}
