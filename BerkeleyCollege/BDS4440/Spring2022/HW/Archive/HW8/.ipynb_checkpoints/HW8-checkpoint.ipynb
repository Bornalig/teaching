{
 "cells": [
  {
   "cell_type": "markdown",
   "metadata": {},
   "source": [
    "# Ch 10 Problem 11"
   ]
  },
  {
   "cell_type": "code",
   "execution_count": 13,
   "metadata": {},
   "outputs": [
    {
     "name": "stdout",
     "output_type": "stream",
     "text": [
      "2/3\n",
      "3/2\n",
      "13/6\n",
      "-5/6\n",
      "1\n",
      "4/9\n",
      "0.6666666666666666\n"
     ]
    }
   ],
   "source": [
    "from fractions import Fraction\n",
    "\n",
    "fraction1 = Fraction(numerator=2, denominator=3)\n",
    "\n",
    "fraction2 = Fraction(numerator=3, denominator=2)\n",
    "\n",
    "\n",
    "print(fraction1)\n",
    "\n",
    "print(fraction2)\n",
    "\n",
    "print(fraction1 + fraction2)\n",
    "\n",
    "print(fraction1 - fraction2)\n",
    "\n",
    "\n",
    "print(fraction1 * fraction2)\n",
    "\n",
    "print(fraction1 / fraction2)\n",
    "\n",
    "print(float(fraction1.numerator/fraction1.denominator))"
   ]
  }
 ],
 "metadata": {
  "kernelspec": {
   "display_name": "Python 3",
   "language": "python",
   "name": "python3"
  },
  "language_info": {
   "codemirror_mode": {
    "name": "ipython",
    "version": 3
   },
   "file_extension": ".py",
   "mimetype": "text/x-python",
   "name": "python",
   "nbconvert_exporter": "python",
   "pygments_lexer": "ipython3",
   "version": "3.7.3"
  }
 },
 "nbformat": 4,
 "nbformat_minor": 2
}
