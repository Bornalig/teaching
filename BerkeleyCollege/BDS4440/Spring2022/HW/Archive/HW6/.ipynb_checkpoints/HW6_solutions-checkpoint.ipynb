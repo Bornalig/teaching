{
 "cells": [
  {
   "cell_type": "markdown",
   "metadata": {},
   "source": [
    "# Problems 15.3, 15.6, 15.15, 15.16"
   ]
  },
  {
   "cell_type": "markdown",
   "metadata": {},
   "source": [
    "# Problem 15.3"
   ]
  },
  {
   "cell_type": "code",
   "execution_count": null,
   "metadata": {},
   "outputs": [],
   "source": [
    "from sklearn.datasets import fetch_california_housing #pg 626, 628, 630\n",
    "import seaborn as sns\n",
    "import pandas as pd\n",
    "california = fetch_california_housing()\n",
    "data = pd.DataFrame(california['data'],columns=california['feature_names'])\n",
    "target = pd.DataFrame(california['target'])\n",
    "grid = sns.pairplot(data=data,vars=data.columns) #page 648\n",
    "grid"
   ]
  },
  {
   "cell_type": "markdown",
   "metadata": {},
   "source": [
    "# Problem 15.6"
   ]
  },
  {
   "cell_type": "code",
   "execution_count": null,
   "metadata": {},
   "outputs": [],
   "source": [
    "#Skip this problem due to errors with the ncdc NOAA website."
   ]
  },
  {
   "cell_type": "markdown",
   "metadata": {},
   "source": [
    "# Problem 15.15"
   ]
  },
  {
   "cell_type": "code",
   "execution_count": 2,
   "metadata": {
    "scrolled": false
   },
   "outputs": [
    {
     "name": "stdout",
     "output_type": "stream",
     "text": [
      "OLS coefficients:\n",
      "0    32.14567287589749\n",
      "1    -242.8258201614843\n",
      "2    559.9873821340648\n",
      "3    407.64166456896027\n",
      "4    -718.6870385676395\n",
      "5    396.63010925137814\n",
      "6    10.423047758440612\n",
      "7    171.81177552712788\n",
      "8    627.0797642583411\n",
      "9    -21.624207114326325\n"
     ]
    },
    {
     "data": {
      "image/png": "[encoded data removed]",
      "text/plain": [
       "<Figure size 576x576 with 1 Axes>"
      ]
     },
     "metadata": {
      "needs_background": "light"
     },
     "output_type": "display_data"
    }
   ],
   "source": [
    "from sklearn.datasets import load_diabetes\n",
    "import matplotlib.pyplot as plt\n",
    "import seaborn as sns\n",
    "from sklearn.model_selection import train_test_split\n",
    "import pandas as pd\n",
    "from sklearn.linear_model import LinearRegression\n",
    "from sklearn.metrics import r2_score,mean_squared_error\n",
    "from scipy import stats\n",
    "X,y = load_diabetes(return_X_y=True)\n",
    "data = pd.concat([pd.DataFrame(X),pd.Series(y)],axis=1)\n",
    "data.columns = list(range(0,10))+['target']\n",
    "n=1\n",
    "#for feature in data.columns:\n",
    "#    if n<=9:\n",
    "#        plt.figure(figsize=(16,9))\n",
    "#        plt.subplot(3,3,n)\n",
    "#        sns.scatterplot(data=data,x=feature,y='target',hue='target',palette='cool',legend='brief')\n",
    "#        n=n+1\n",
    "X_train, X_test, y_train, y_test = train_test_split(X, y, test_size=0.33, random_state=42)\n",
    "\n",
    "OLS = LinearRegression()\n",
    "OLS.fit(X_train,y_train)\n",
    "print('OLS coefficients:')\n",
    "for index,i in enumerate(OLS.coef_):\n",
    "    print(index,'  ',i)\n",
    "y_pred = OLS.predict(X_test)\n",
    "r2 = r2_score(y_test,y_pred)\n",
    "mse = mean_squared_error(y_test,y_pred)\n",
    "slope, intercept, r_value, p_value, std_err = stats.linregress(y_test,y_pred)\n",
    "line = slope*y_test+intercept\n",
    "plt.figure(figsize=(8,8))\n",
    "plt.scatter(y_test,y_pred, color=\"black\")\n",
    "plt.plot(y_test,line,color='red',linewidth=3)\n",
    "plt.xlabel('y_test')\n",
    "plt.ylabel('y_pred')\n",
    "plt.title('r2 score :{}, mse: {}'.format(r2,mse))\n",
    "plt.show()"
   ]
  },
  {
   "cell_type": "markdown",
   "metadata": {},
   "source": [
    "# Problem  15.16"
   ]
  },
  {
   "cell_type": "code",
   "execution_count": 16,
   "metadata": {},
   "outputs": [
    {
     "data": {
      "text/plain": [
       "{'MedInc': 0.4725720683367076,\n",
       " 'HouseAge': 0.011069233426040048,\n",
       " 'AveRooms': 0.023036337954520203,\n",
       " 'AveBedrms': 0.0016564286182662036,\n",
       " 'Population': 0.000607575231760471,\n",
       " 'AveOccup': 0.0006782363549892034,\n",
       " 'Latitude': 0.02316088573408348,\n",
       " 'Longitude': 0.0011505926426811364,\n",
       " 'multi_regression': 0.5970494128783952}"
      ]
     },
     "execution_count": 16,
     "metadata": {},
     "output_type": "execute_result"
    }
   ],
   "source": [
    "from sklearn.datasets import fetch_california_housing #pg 626, 628, 630\n",
    "from sklearn.model_selection import train_test_split\n",
    "import pandas as pd\n",
    "from sklearn.linear_model import LinearRegression\n",
    "from sklearn.metrics import r2_score\n",
    "import numpy as np\n",
    "california = fetch_california_housing()\n",
    "X = pd.DataFrame(california['data'],columns=california['feature_names'])\n",
    "y = pd.DataFrame(california['target'])\n",
    "X_train, X_test, y_train, y_test = train_test_split(X, y, test_size=0.33, random_state=42)\n",
    "L = {}\n",
    "for c in X.columns:\n",
    "    OLS = LinearRegression()\n",
    "    X_train_p = np.array(X_train[c]).reshape(-1,1)\n",
    "    X_test_p = np.array(X_test[c]).reshape(-1,1)\n",
    "    OLS.fit(X_train_p,y_train)\n",
    "    y_pred = OLS.predict(X_test_p)\n",
    "    r2 = r2_score(y_test,y_pred)\n",
    "    L[c]=r2\n",
    "\n",
    "OLS = LinearRegression()\n",
    "X_train_m = np.array(X_train)\n",
    "X_test_m = np.array(X_test)\n",
    "y_train_m = np.array(y_train)\n",
    "OLS.fit(X_train_m,y_train)\n",
    "y_pred_m = OLS.predict(X_test_m)\n",
    "r2_m = r2_score(y_test,y_pred_m)\n",
    "L['multi_regression'] = r2_m\n",
    "L"
   ]
  },
  {
   "cell_type": "code",
   "execution_count": null,
   "metadata": {},
   "outputs": [],
   "source": []
  }
 ],
 "metadata": {
  "kernelspec": {
   "display_name": "Python 3",
   "language": "python",
   "name": "python3"
  },
  "language_info": {
   "codemirror_mode": {
    "name": "ipython",
    "version": 3
   },
   "file_extension": ".py",
   "mimetype": "text/x-python",
   "name": "python",
   "nbconvert_exporter": "python",
   "pygments_lexer": "ipython3",
   "version": "3.7.3"
  }
 },
 "nbformat": 4,
 "nbformat_minor": 2
}
