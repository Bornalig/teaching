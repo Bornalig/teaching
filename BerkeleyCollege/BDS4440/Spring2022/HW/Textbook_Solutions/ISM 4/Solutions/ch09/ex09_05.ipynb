{
 "cells": [
  {
   "cell_type": "markdown",
   "metadata": {},
   "source": [
    "# Exercise 9.5"
   ]
  },
  {
   "cell_type": "code",
   "execution_count": 17,
   "metadata": {},
   "outputs": [
    {
     "name": "stdout",
     "output_type": "stream",
     "text": [
      "First     Last      Test1  Test2  Test3  Average\n",
      "Bob       Jones        86     75     84    81.67\n",
      "Sue       Smith        99     77     88    88.00\n",
      "Karen     Doe          83     88     92    87.67\n",
      "Test Averages       89.33  80.00  80.00\n"
     ]
    }
   ],
   "source": [
    "import csv\n",
    "\n",
    "with open('grades.csv', 'r', newline='') as grades:\n",
    "    print(f'{\"First\":<10}{\"Last\":<10}{\"Test1\":>5}  {\"Test2\":>5}  {\"Test3\":>5}  {\"Average\"}')\n",
    "    reader = csv.reader(grades)\n",
    "    test1_total = 0\n",
    "    test2_total = 0\n",
    "    test3_total = 0\n",
    "          \n",
    "    for record in reader:  \n",
    "        first, last, test1, test2, test3 = record\n",
    "        test1, test2, test3 = int(test1), int(test2), int(test3)\n",
    "        test1_total += test1\n",
    "        test2_total += test2\n",
    "        test3_total += test3\n",
    "        average = (test1 + test2 + test3) / 3\n",
    "        print(f'{first:<10}{last:<10}{test1:>5}  {test2:>5}  {test3:>5}  {average:>7.2f}')\n",
    "\n",
    "    print(f'{\"Test Averages\":<20}{test1_total/3:>5.2f}  {test2_total/3:>5.2f}  {test2_total/3:>5.2f}')"
   ]
  },
  {
   "cell_type": "code",
   "execution_count": 3,
   "metadata": {},
   "outputs": [],
   "source": [
    "##########################################################################\n",
    "# (C) Copyright 2019 by Deitel & Associates, Inc. and                    #\n",
    "# Pearson Education, Inc. All Rights Reserved.                           #\n",
    "#                                                                        #\n",
    "# DISCLAIMER: The authors and publisher of this book have used their     #\n",
    "# best efforts in preparing the book. These efforts include the          #\n",
    "# development, research, and testing of the theories and programs        #\n",
    "# to determine their effectiveness. The authors and publisher make       #\n",
    "# no warranty of any kind, expressed or implied, with regard to these    #\n",
    "# programs or to the documentation contained in these books. The authors #\n",
    "# and publisher shall not be liable in any event for incidental or       #\n",
    "# consequential damages in connection with, or arising out of, the       #\n",
    "# furnishing, performance, or use of these programs.                     #\n",
    "##########################################################################"
   ]
  }
 ],
 "metadata": {
  "kernelspec": {
   "display_name": "Python 3",
   "language": "python",
   "name": "python3"
  },
  "language_info": {
   "codemirror_mode": {
    "name": "ipython",
    "version": 3
   },
   "file_extension": ".py",
   "mimetype": "text/x-python",
   "name": "python",
   "nbconvert_exporter": "python",
   "pygments_lexer": "ipython3",
   "version": "3.7.3"
  }
 },
 "nbformat": 4,
 "nbformat_minor": 2
}
