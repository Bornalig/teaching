{
 "cells": [
  {
   "cell_type": "markdown",
   "metadata": {},
   "source": [
    "# Exercise 9.9"
   ]
  },
  {
   "cell_type": "code",
   "execution_count": 3,
   "metadata": {},
   "outputs": [
    {
     "name": "stdin",
     "output_type": "stream",
     "text": [
      "Enter a 7-digit phone number 7938674\n"
     ]
    },
    {
     "name": "stdout",
     "output_type": "stream",
     "text": [
      "[7, 9, 3, 8, 6, 7, 4]\n"
     ]
    }
   ],
   "source": [
    "\"\"\"Telephone-Number Word Generator.\"\"\"\n",
    "# Note: phone number must be input in the form #######.\n",
    "# Only the digits 2 through 9 are recognized.\n",
    "letters = ['   ', '   ', 'ABC', 'DEF', 'GHI', 'JKL', 'MNO', 'PRS', 'TUV', 'WXY']\n",
    "\n",
    "phone = int(input('Enter a 7-digit phone number'))\n",
    "\n",
    "# get the digits\n",
    "digits = []\n",
    "\n",
    "for i in range(7):\n",
    "    digits.insert(0, phone % 10)\n",
    "    phone //= 10\n",
    "print(digits)\n",
    "\n",
    "with open('phone.txt', 'w') as phone:\n",
    "    # output all possible combinations\n",
    "    for loop1 in range(3):\n",
    "        for loop2 in range(3):\n",
    "            for loop3 in range(3):\n",
    "                for loop4 in range(3):\n",
    "                    for loop5 in range(3):\n",
    "                        for loop6 in range(3):\n",
    "                            for loop7 in range(3):\n",
    "                                print(letters[digits[0]][loop1], end='', file=phone)\n",
    "                                print(letters[digits[1]][loop2], end='', file=phone)\n",
    "                                print(letters[digits[2]][loop3], end='', file=phone)\n",
    "                                print(letters[digits[3]][loop4], end='', file=phone)\n",
    "                                print(letters[digits[4]][loop5], end='', file=phone)\n",
    "                                print(letters[digits[5]][loop6], end='', file=phone)\n",
    "                                print(letters[digits[6]][loop7], end=' ', file=phone)\n"
   ]
  },
  {
   "cell_type": "code",
   "execution_count": 3,
   "metadata": {},
   "outputs": [],
   "source": [
    "##########################################################################\n",
    "# (C) Copyright 2019 by Deitel & Associates, Inc. and                    #\n",
    "# Pearson Education, Inc. All Rights Reserved.                           #\n",
    "#                                                                        #\n",
    "# DISCLAIMER: The authors and publisher of this book have used their     #\n",
    "# best efforts in preparing the book. These efforts include the          #\n",
    "# development, research, and testing of the theories and programs        #\n",
    "# to determine their effectiveness. The authors and publisher make       #\n",
    "# no warranty of any kind, expressed or implied, with regard to these    #\n",
    "# programs or to the documentation contained in these books. The authors #\n",
    "# and publisher shall not be liable in any event for incidental or       #\n",
    "# consequential damages in connection with, or arising out of, the       #\n",
    "# furnishing, performance, or use of these programs.                     #\n",
    "##########################################################################"
   ]
  }
 ],
 "metadata": {
  "kernelspec": {
   "display_name": "Python 3",
   "language": "python",
   "name": "python3"
  },
  "language_info": {
   "codemirror_mode": {
    "name": "ipython",
    "version": 3
   },
   "file_extension": ".py",
   "mimetype": "text/x-python",
   "name": "python",
   "nbconvert_exporter": "python",
   "pygments_lexer": "ipython3",
   "version": "3.7.3"
  }
 },
 "nbformat": 4,
 "nbformat_minor": 2
}
