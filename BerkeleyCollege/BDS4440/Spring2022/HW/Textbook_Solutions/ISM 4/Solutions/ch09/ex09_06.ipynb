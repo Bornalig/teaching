{
 "cells": [
  {
   "cell_type": "markdown",
   "metadata": {},
   "source": [
    "# Exercise 9.6"
   ]
  },
  {
   "cell_type": "code",
   "execution_count": 3,
   "metadata": {},
   "outputs": [
    {
     "name": "stdout",
     "output_type": "stream",
     "text": [
      "Enter a student's first name, last name and \n",
      "    three grades, separated by spaces. Enter -1 to end input \n"
     ]
    },
    {
     "name": "stdin",
     "output_type": "stream",
     "text": [
      "? Bob Jones 86 75 84\n",
      "? Sue Smith 99 77 88\n",
      "? Karen Doe 83 88 92\n",
      "? -1\n"
     ]
    }
   ],
   "source": [
    "import json\n",
    "\n",
    "gradebook_dict = {'students' : []}\n",
    "\n",
    "with open('grades.json', mode='w') as grades:    \n",
    "    print(\"\"\"Enter a student's first name, last name and \n",
    "    three grades, separated by spaces. Enter -1 to end input \"\"\")\n",
    "    line = input('?')\n",
    "    \n",
    "    while line != '-1':\n",
    "        line = line.split()\n",
    "        student_dict = {'first_name': line[0], 'last_name': line[1], \n",
    "            'exam1': int(line[2]), 'exam2': int(line[3]), \n",
    "            'exam3': int(line[4])}\n",
    "        gradebook_dict['students'].append(student_dict)\n",
    "        line = input('?')\n",
    "        \n",
    "    json.dump(gradebook_dict, grades)"
   ]
  },
  {
   "cell_type": "code",
   "execution_count": 3,
   "metadata": {},
   "outputs": [],
   "source": [
    "##########################################################################\n",
    "# (C) Copyright 2019 by Deitel & Associates, Inc. and                    #\n",
    "# Pearson Education, Inc. All Rights Reserved.                           #\n",
    "#                                                                        #\n",
    "# DISCLAIMER: The authors and publisher of this book have used their     #\n",
    "# best efforts in preparing the book. These efforts include the          #\n",
    "# development, research, and testing of the theories and programs        #\n",
    "# to determine their effectiveness. The authors and publisher make       #\n",
    "# no warranty of any kind, expressed or implied, with regard to these    #\n",
    "# programs or to the documentation contained in these books. The authors #\n",
    "# and publisher shall not be liable in any event for incidental or       #\n",
    "# consequential damages in connection with, or arising out of, the       #\n",
    "# furnishing, performance, or use of these programs.                     #\n",
    "##########################################################################"
   ]
  }
 ],
 "metadata": {
  "kernelspec": {
   "display_name": "Python 3",
   "language": "python",
   "name": "python3"
  },
  "language_info": {
   "codemirror_mode": {
    "name": "ipython",
    "version": 3
   },
   "file_extension": ".py",
   "mimetype": "text/x-python",
   "name": "python",
   "nbconvert_exporter": "python",
   "pygments_lexer": "ipython3",
   "version": "3.7.3"
  }
 },
 "nbformat": 4,
 "nbformat_minor": 2
}
