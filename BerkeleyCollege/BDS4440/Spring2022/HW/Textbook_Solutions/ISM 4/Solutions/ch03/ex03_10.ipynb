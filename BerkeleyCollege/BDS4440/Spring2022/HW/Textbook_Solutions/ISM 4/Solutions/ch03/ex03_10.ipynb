{
 "cells": [
  {
   "cell_type": "markdown",
   "metadata": {},
   "source": [
    "# Exercise 3.10"
   ]
  },
  {
   "cell_type": "code",
   "execution_count": 4,
   "metadata": {},
   "outputs": [
    {
     "name": "stdout",
     "output_type": "stream",
     "text": [
      "Amount after 1 year(s): 1070.00\n",
      "Amount after 2 year(s): 1144.90\n",
      "Amount after 3 year(s): 1225.04\n",
      "Amount after 4 year(s): 1310.80\n",
      "Amount after 5 year(s): 1402.55\n",
      "Amount after 6 year(s): 1500.73\n",
      "Amount after 7 year(s): 1605.78\n",
      "Amount after 8 year(s): 1718.19\n",
      "Amount after 9 year(s): 1838.46\n",
      "Amount after 10 year(s): 1967.15\n",
      "Amount after 11 year(s): 2104.85\n",
      "Amount after 12 year(s): 2252.19\n",
      "Amount after 13 year(s): 2409.85\n",
      "Amount after 14 year(s): 2578.53\n",
      "Amount after 15 year(s): 2759.03\n",
      "Amount after 16 year(s): 2952.16\n",
      "Amount after 17 year(s): 3158.82\n",
      "Amount after 18 year(s): 3379.93\n",
      "Amount after 19 year(s): 3616.53\n",
      "Amount after 20 year(s): 3869.68\n",
      "Amount after 21 year(s): 4140.56\n",
      "Amount after 22 year(s): 4430.40\n",
      "Amount after 23 year(s): 4740.53\n",
      "Amount after 24 year(s): 5072.37\n",
      "Amount after 25 year(s): 5427.43\n",
      "Amount after 26 year(s): 5807.35\n",
      "Amount after 27 year(s): 6213.87\n",
      "Amount after 28 year(s): 6648.84\n",
      "Amount after 29 year(s): 7114.26\n",
      "Amount after 30 year(s): 7612.26\n"
     ]
    }
   ],
   "source": [
    "principal = 1000.0\n",
    "rate = 0.07\n",
    "\n",
    "for year in range(1, 31):\n",
    "    print(f'Amount after {year} year(s): {principal * (1 + rate) ** year:.2f}')"
   ]
  },
  {
   "cell_type": "code",
   "execution_count": 11,
   "metadata": {},
   "outputs": [],
   "source": [
    "##########################################################################\n",
    "# (C) Copyright 2019 by Deitel & Associates, Inc. and                    #\n",
    "# Pearson Education, Inc. All Rights Reserved.                           #\n",
    "#                                                                        #\n",
    "# DISCLAIMER: The authors and publisher of this book have used their     #\n",
    "# best efforts in preparing the book. These efforts include the          #\n",
    "# development, research, and testing of the theories and programs        #\n",
    "# to determine their effectiveness. The authors and publisher make       #\n",
    "# no warranty of any kind, expressed or implied, with regard to these    #\n",
    "# programs or to the documentation contained in these books. The authors #\n",
    "# and publisher shall not be liable in any event for incidental or       #\n",
    "# consequential damages in connection with, or arising out of, the       #\n",
    "# furnishing, performance, or use of these programs.                     #\n",
    "##########################################################################"
   ]
  }
 ],
 "metadata": {
  "kernelspec": {
   "display_name": "Python 3",
   "language": "python",
   "name": "python3"
  },
  "language_info": {
   "codemirror_mode": {
    "name": "ipython",
    "version": 3
   },
   "file_extension": ".py",
   "mimetype": "text/x-python",
   "name": "python",
   "nbconvert_exporter": "python",
   "pygments_lexer": "ipython3",
   "version": "3.7.3"
  }
 },
 "nbformat": 4,
 "nbformat_minor": 2
}
