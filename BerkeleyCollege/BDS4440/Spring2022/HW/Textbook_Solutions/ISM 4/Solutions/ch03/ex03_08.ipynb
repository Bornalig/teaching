{
 "cells": [
  {
   "cell_type": "markdown",
   "metadata": {},
   "source": [
    "# Exercise 3.8"
   ]
  },
  {
   "cell_type": "code",
   "execution_count": 1,
   "metadata": {},
   "outputs": [
    {
     "name": "stdin",
     "output_type": "stream",
     "text": [
      "Enter an integer:  10\n",
      "Enter an integer:  5\n",
      "Enter an integer:  30\n",
      "Enter an integer:  20\n"
     ]
    },
    {
     "name": "stdout",
     "output_type": "stream",
     "text": [
      "Sum: 65\n",
      "Average: 21.666666666666668\n",
      "Product: 30000\n",
      "Smallest: 5\n",
      "Largest: 30\n"
     ]
    }
   ],
   "source": [
    "total = 0\n",
    "product = 1\n",
    "smallest = 100000000000000000000000000000000000000000000000\n",
    "largest = -100000000000000000000000000000000000000000000000\n",
    "\n",
    "for i in range(4):\n",
    "    number = int(input('Enter an integer: '))\n",
    "    total += number\n",
    "    product *= number\n",
    "    \n",
    "    if number < smallest:\n",
    "        smallest = number\n",
    "\n",
    "    if number > largest:\n",
    "        largest = number\n",
    "\n",
    "print('Sum:', total)\n",
    "print('Average:', (total) / 3)\n",
    "print('Product:', product)\n",
    "print('Smallest:', smallest)\n",
    "print('Largest:', largest)"
   ]
  },
  {
   "cell_type": "code",
   "execution_count": 2,
   "metadata": {},
   "outputs": [],
   "source": [
    "##########################################################################\n",
    "# (C) Copyright 2019 by Deitel & Associates, Inc. and                    #\n",
    "# Pearson Education, Inc. All Rights Reserved.                           #\n",
    "#                                                                        #\n",
    "# DISCLAIMER: The authors and publisher of this book have used their     #\n",
    "# best efforts in preparing the book. These efforts include the          #\n",
    "# development, research, and testing of the theories and programs        #\n",
    "# to determine their effectiveness. The authors and publisher make       #\n",
    "# no warranty of any kind, expressed or implied, with regard to these    #\n",
    "# programs or to the documentation contained in these books. The authors #\n",
    "# and publisher shall not be liable in any event for incidental or       #\n",
    "# consequential damages in connection with, or arising out of, the       #\n",
    "# furnishing, performance, or use of these programs.                     #\n",
    "##########################################################################"
   ]
  }
 ],
 "metadata": {
  "kernelspec": {
   "display_name": "Python 3",
   "language": "python",
   "name": "python3"
  },
  "language_info": {
   "codemirror_mode": {
    "name": "ipython",
    "version": 3
   },
   "file_extension": ".py",
   "mimetype": "text/x-python",
   "name": "python",
   "nbconvert_exporter": "python",
   "pygments_lexer": "ipython3",
   "version": "3.7.3"
  }
 },
 "nbformat": 4,
 "nbformat_minor": 2
}
