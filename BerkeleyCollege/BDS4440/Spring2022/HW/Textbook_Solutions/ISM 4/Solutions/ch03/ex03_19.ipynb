{
 "cells": [
  {
   "cell_type": "markdown",
   "metadata": {},
   "source": [
    "# Exercise 3.19"
   ]
  },
  {
   "cell_type": "code",
   "execution_count": 3,
   "metadata": {},
   "outputs": [
    {
     "name": "stdout",
     "output_type": "stream",
     "text": [
      "Side 1  Side 2  Hypotenuse\n",
      "3       4       5\n",
      "4       3       5\n",
      "5       12      13\n",
      "6       8       10\n",
      "8       6       10\n",
      "8       15      17\n",
      "9       12      15\n",
      "12      5       13\n",
      "12      9       15\n",
      "12      16      20\n",
      "15      8       17\n",
      "16      12      20\n"
     ]
    }
   ],
   "source": [
    "\"\"\"Calculate Pythagorean triples.\"\"\"\n",
    "print(f'{\"Side 1\":<8}{\"Side 2\":<8}Hypotenuse')\n",
    "for side1 in range(1, 21):\n",
    "    for side2 in range(1, 21):\n",
    "        for hypotenuse in range(1, 21):\n",
    "            # use Pythagorean Theorem to print right triangles\n",
    "            if side1 * side1 + side2 * side2 == hypotenuse * hypotenuse:\n",
    "                print(f'{side1:<8}{side2:<8}{hypotenuse}')     "
   ]
  },
  {
   "cell_type": "code",
   "execution_count": null,
   "metadata": {},
   "outputs": [],
   "source": [
    "##########################################################################\n",
    "# (C) Copyright 2019 by Deitel & Associates, Inc. and                    #\n",
    "# Pearson Education, Inc. All Rights Reserved.                           #\n",
    "#                                                                        #\n",
    "# DISCLAIMER: The authors and publisher of this book have used their     #\n",
    "# best efforts in preparing the book. These efforts include the          #\n",
    "# development, research, and testing of the theories and programs        #\n",
    "# to determine their effectiveness. The authors and publisher make       #\n",
    "# no warranty of any kind, expressed or implied, with regard to these    #\n",
    "# programs or to the documentation contained in these books. The authors #\n",
    "# and publisher shall not be liable in any event for incidental or       #\n",
    "# consequential damages in connection with, or arising out of, the       #\n",
    "# furnishing, performance, or use of these programs.                     #\n",
    "##########################################################################"
   ]
  }
 ],
 "metadata": {
  "kernelspec": {
   "display_name": "Python 3",
   "language": "python",
   "name": "python3"
  },
  "language_info": {
   "codemirror_mode": {
    "name": "ipython",
    "version": 3
   },
   "file_extension": ".py",
   "mimetype": "text/x-python",
   "name": "python",
   "nbconvert_exporter": "python",
   "pygments_lexer": "ipython3",
   "version": "3.7.3"
  }
 },
 "nbformat": 4,
 "nbformat_minor": 2
}
