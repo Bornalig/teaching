{
 "cells": [
  {
   "cell_type": "markdown",
   "metadata": {},
   "source": [
    "# Exercise 3.18"
   ]
  },
  {
   "cell_type": "code",
   "execution_count": 5,
   "metadata": {},
   "outputs": [
    {
     "name": "stdout",
     "output_type": "stream",
     "text": [
      "*        \t**********\t**********\t         *\n",
      "**       \t********* \t *********\t        **\n",
      "***      \t********  \t  ********\t       ***\n",
      "****     \t*******   \t   *******\t      ****\n",
      "*****    \t******    \t    ******\t     *****\n",
      "******   \t*****     \t     *****\t    ******\n",
      "*******  \t****      \t      ****\t   *******\n",
      "******** \t***       \t       ***\t  ********\n",
      "*********\t**        \t        **\t *********\n",
      "**********\t*         \t         *\t**********\n",
      "\n"
     ]
    }
   ],
   "source": [
    "\"\"\"Print four triangles of asterisks, side-by-side\"\"\"\n",
    "for row in range(1, 11):\n",
    "    # first triangle\n",
    "    for column in range(1, row + 1):\n",
    "        print('*', end='')\n",
    "    for spaces in range(1, 10 - row):\n",
    "        print(' ', end='')\n",
    "    print('\\t', end='')\n",
    "\n",
    "    # second triangle\n",
    "    for column in range(10, row - 1, -1):\n",
    "        print('*', end='')\n",
    "    for spaces in range(1, row):\n",
    "        print(' ', end='')\n",
    "    print('\\t', end='')\n",
    "\n",
    "    # third triangle\n",
    "    for space in range(1, row):\n",
    "        print(' ', end='')\n",
    "    for column in range(10, row - 1, -1):\n",
    "        print('*', end='')\n",
    "    print('\\t', end='')\n",
    "\n",
    "    # fourth triangle\n",
    "    for space in range(10, row, -1):\n",
    "        print(' ', end='')\n",
    "    for column in range(1, row + 1):\n",
    "        print('*', end='')\n",
    "    print()\n",
    "print()"
   ]
  },
  {
   "cell_type": "code",
   "execution_count": null,
   "metadata": {},
   "outputs": [],
   "source": [
    "##########################################################################\n",
    "# (C) Copyright 2019 by Deitel & Associates, Inc. and                    #\n",
    "# Pearson Education, Inc. All Rights Reserved.                           #\n",
    "#                                                                        #\n",
    "# DISCLAIMER: The authors and publisher of this book have used their     #\n",
    "# best efforts in preparing the book. These efforts include the          #\n",
    "# development, research, and testing of the theories and programs        #\n",
    "# to determine their effectiveness. The authors and publisher make       #\n",
    "# no warranty of any kind, expressed or implied, with regard to these    #\n",
    "# programs or to the documentation contained in these books. The authors #\n",
    "# and publisher shall not be liable in any event for incidental or       #\n",
    "# consequential damages in connection with, or arising out of, the       #\n",
    "# furnishing, performance, or use of these programs.                     #\n",
    "##########################################################################"
   ]
  }
 ],
 "metadata": {
  "kernelspec": {
   "display_name": "Python 3",
   "language": "python",
   "name": "python3"
  },
  "language_info": {
   "codemirror_mode": {
    "name": "ipython",
    "version": 3
   },
   "file_extension": ".py",
   "mimetype": "text/x-python",
   "name": "python",
   "nbconvert_exporter": "python",
   "pygments_lexer": "ipython3",
   "version": "3.7.3"
  }
 },
 "nbformat": 4,
 "nbformat_minor": 2
}
