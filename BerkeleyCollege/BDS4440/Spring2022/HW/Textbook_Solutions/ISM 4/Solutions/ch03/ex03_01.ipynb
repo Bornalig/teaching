{
 "cells": [
  {
   "cell_type": "markdown",
   "metadata": {},
   "source": [
    "# Exercise 3.1"
   ]
  },
  {
   "cell_type": "code",
   "execution_count": 1,
   "metadata": {},
   "outputs": [
    {
     "name": "stdin",
     "output_type": "stream",
     "text": [
      "Enter result (1=pass, 2=fail):  1\n",
      "Enter result (1=pass, 2=fail):  0\n"
     ]
    },
    {
     "name": "stdout",
     "output_type": "stream",
     "text": [
      "Incorrect result entered.\n"
     ]
    },
    {
     "name": "stdin",
     "output_type": "stream",
     "text": [
      "Enter result (1=pass, 2=fail):  1\n",
      "Enter result (1=pass, 2=fail):  2\n",
      "Enter result (1=pass, 2=fail):  22\n"
     ]
    },
    {
     "name": "stdout",
     "output_type": "stream",
     "text": [
      "Incorrect result entered.\n"
     ]
    },
    {
     "name": "stdin",
     "output_type": "stream",
     "text": [
      "Enter result (1=pass, 2=fail):  2\n",
      "Enter result (1=pass, 2=fail):  1\n",
      "Enter result (1=pass, 2=fail):  1\n",
      "Enter result (1=pass, 2=fail):  3\n"
     ]
    },
    {
     "name": "stdout",
     "output_type": "stream",
     "text": [
      "Incorrect result entered.\n"
     ]
    },
    {
     "name": "stdin",
     "output_type": "stream",
     "text": [
      "Enter result (1=pass, 2=fail):  1\n",
      "Enter result (1=pass, 2=fail):  2\n",
      "Enter result (1=pass, 2=fail):  2\n",
      "Enter result (1=pass, 2=fail):  1\n"
     ]
    },
    {
     "name": "stdout",
     "output_type": "stream",
     "text": [
      "Passed: 6\n",
      "Failed: 4\n"
     ]
    }
   ],
   "source": [
    "# Exercise 3.1\n",
    "\"\"\"Using nested control statements to analyze examination results.\"\"\"\n",
    "\n",
    "passes = 0  # number of passes\n",
    "\n",
    "# process 10 students\n",
    "for student in range(10):\n",
    "    # get one exam result\n",
    "    result = int(input('Enter result (1=pass, 2=fail): '))\n",
    "    \n",
    "    while result != 1 and result != 2:  \n",
    "        print('Incorrect result entered.')\n",
    "        result = int(input('Enter result (1=pass, 2=fail): '))\n",
    "        \n",
    "    if result == 1:\n",
    "        passes = passes + 1\n",
    "\n",
    "# termination phase\n",
    "print('Passed:', passes)\n",
    "print('Failed:', 10 - passes)\n",
    "\n",
    "if passes > 8:\n",
    "    print('Bonus to instructor')"
   ]
  },
  {
   "cell_type": "code",
   "execution_count": null,
   "metadata": {},
   "outputs": [],
   "source": [
    "##########################################################################\n",
    "# (C) Copyright 2019 by Deitel & Associates, Inc. and                    #\n",
    "# Pearson Education, Inc. All Rights Reserved.                           #\n",
    "#                                                                        #\n",
    "# DISCLAIMER: The authors and publisher of this book have used their     #\n",
    "# best efforts in preparing the book. These efforts include the          #\n",
    "# development, research, and testing of the theories and programs        #\n",
    "# to determine their effectiveness. The authors and publisher make       #\n",
    "# no warranty of any kind, expressed or implied, with regard to these    #\n",
    "# programs or to the documentation contained in these books. The authors #\n",
    "# and publisher shall not be liable in any event for incidental or       #\n",
    "# consequential damages in connection with, or arising out of, the       #\n",
    "# furnishing, performance, or use of these programs.                     #\n",
    "##########################################################################"
   ]
  }
 ],
 "metadata": {
  "kernelspec": {
   "display_name": "Python 3",
   "language": "python",
   "name": "python3"
  },
  "language_info": {
   "codemirror_mode": {
    "name": "ipython",
    "version": 3
   },
   "file_extension": ".py",
   "mimetype": "text/x-python",
   "name": "python",
   "nbconvert_exporter": "python",
   "pygments_lexer": "ipython3",
   "version": "3.7.3"
  }
 },
 "nbformat": 4,
 "nbformat_minor": 2
}
