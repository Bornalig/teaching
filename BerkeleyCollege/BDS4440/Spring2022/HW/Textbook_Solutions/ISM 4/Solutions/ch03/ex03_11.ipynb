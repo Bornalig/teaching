{
 "cells": [
  {
   "cell_type": "markdown",
   "metadata": {},
   "source": [
    "# Exercise 3.11"
   ]
  },
  {
   "cell_type": "code",
   "execution_count": 5,
   "metadata": {},
   "outputs": [
    {
     "name": "stdin",
     "output_type": "stream",
     "text": [
      "Enter the gallons used (-1 to end):  12.8\n",
      "Enter the miles driven:  287\n"
     ]
    },
    {
     "name": "stdout",
     "output_type": "stream",
     "text": [
      "The miles/gallon for this tank was 22.421875\n"
     ]
    },
    {
     "name": "stdin",
     "output_type": "stream",
     "text": [
      "Enter the gallons used (-1 to end):  10.5\n",
      "Enter the miles driven:  200\n"
     ]
    },
    {
     "name": "stdout",
     "output_type": "stream",
     "text": [
      "The miles/gallon for this tank was 19.047619047619047\n"
     ]
    },
    {
     "name": "stdin",
     "output_type": "stream",
     "text": [
      "Enter the gallons used (-1 to end):  5\n",
      "Enter the miles driven:  120\n"
     ]
    },
    {
     "name": "stdout",
     "output_type": "stream",
     "text": [
      "The miles/gallon for this tank was 24.0\n"
     ]
    },
    {
     "name": "stdin",
     "output_type": "stream",
     "text": [
      "Enter the gallons used (-1 to end):  -1\n"
     ]
    },
    {
     "name": "stdout",
     "output_type": "stream",
     "text": [
      "Total MPG so far: 21.448763250883392\n"
     ]
    }
   ],
   "source": [
    "\"\"\"Calculating miles per gallon.\"\"\"\n",
    "total_miles = 0\n",
    "total_gallons = 0\n",
    "\n",
    "gallons = float(input('Enter the gallons used (-1 to end): '))\n",
    "\n",
    "while gallons != -1:\n",
    "    miles = float(input('Enter the miles driven: '))\n",
    "\n",
    "    total_miles += miles\n",
    "    total_gallons += gallons\n",
    "\n",
    "    if gallons != 0:\n",
    "        miles_per_gallon = miles / gallons\n",
    "        print(f'The miles/gallon for this tank was {miles_per_gallon}')           \n",
    "\n",
    "    gallons = float(input('Enter the gallons used (-1 to end): '))\n",
    "\n",
    "if total_gallons != 0:\n",
    "    total_miles_per_gallon = total_miles / total_gallons\n",
    "    print(f'Total MPG so far: {total_miles_per_gallon}')"
   ]
  },
  {
   "cell_type": "code",
   "execution_count": 4,
   "metadata": {},
   "outputs": [],
   "source": [
    "##########################################################################\n",
    "# (C) Copyright 2019 by Deitel & Associates, Inc. and                    #\n",
    "# Pearson Education, Inc. All Rights Reserved.                           #\n",
    "#                                                                        #\n",
    "# DISCLAIMER: The authors and publisher of this book have used their     #\n",
    "# best efforts in preparing the book. These efforts include the          #\n",
    "# development, research, and testing of the theories and programs        #\n",
    "# to determine their effectiveness. The authors and publisher make       #\n",
    "# no warranty of any kind, expressed or implied, with regard to these    #\n",
    "# programs or to the documentation contained in these books. The authors #\n",
    "# and publisher shall not be liable in any event for incidental or       #\n",
    "# consequential damages in connection with, or arising out of, the       #\n",
    "# furnishing, performance, or use of these programs.                     #\n",
    "##########################################################################"
   ]
  }
 ],
 "metadata": {
  "kernelspec": {
   "display_name": "Python 3",
   "language": "python",
   "name": "python3"
  },
  "language_info": {
   "codemirror_mode": {
    "name": "ipython",
    "version": 3
   },
   "file_extension": ".py",
   "mimetype": "text/x-python",
   "name": "python",
   "nbconvert_exporter": "python",
   "pygments_lexer": "ipython3",
   "version": "3.7.3"
  }
 },
 "nbformat": 4,
 "nbformat_minor": 2
}
