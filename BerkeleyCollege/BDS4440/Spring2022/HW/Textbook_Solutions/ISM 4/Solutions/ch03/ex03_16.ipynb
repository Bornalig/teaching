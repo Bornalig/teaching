{
 "cells": [
  {
   "cell_type": "markdown",
   "metadata": {},
   "source": [
    "# Exercise 3.16"
   ]
  },
  {
   "cell_type": "code",
   "execution_count": 2,
   "metadata": {},
   "outputs": [
    {
     "name": "stdin",
     "output_type": "stream",
     "text": [
      "Enter number:  100\n",
      "Enter number:  150\n",
      "Enter number:  20\n",
      "Enter number:  30\n",
      "Enter number:  40\n",
      "Enter number:  200\n",
      "Enter number:  190\n",
      "Enter number:  12\n",
      "Enter number:  17\n",
      "Enter number:  48\n"
     ]
    },
    {
     "name": "stdout",
     "output_type": "stream",
     "text": [
      "Largest is 200\n",
      "Second largest is 190\n"
     ]
    }
   ],
   "source": [
    "# Exercise 3.16\n",
    "\"\"\"Find the two largest integers.\"\"\"\n",
    "\n",
    "largest = int(input('Enter number: '))\n",
    "number = int(input('Enter number: '))\n",
    "\n",
    "if number > largest:\n",
    "    next_largest = largest\n",
    "    largest = number\n",
    "else:\n",
    "    next_largest = number\n",
    "\n",
    "for counter in range(2, 10):\n",
    "    number = int(input('Enter number: '))\n",
    "\n",
    "    if number > largest:\n",
    "        next_largest = largest\n",
    "        largest = number\n",
    "    elif number > next_largest:\n",
    "        next_largest = number\n",
    "\n",
    "print(f'Largest is {largest}\\nSecond largest is {next_largest}')"
   ]
  },
  {
   "cell_type": "code",
   "execution_count": null,
   "metadata": {},
   "outputs": [],
   "source": [
    "##########################################################################\n",
    "# (C) Copyright 2019 by Deitel & Associates, Inc. and                    #\n",
    "# Pearson Education, Inc. All Rights Reserved.                           #\n",
    "#                                                                        #\n",
    "# DISCLAIMER: The authors and publisher of this book have used their     #\n",
    "# best efforts in preparing the book. These efforts include the          #\n",
    "# development, research, and testing of the theories and programs        #\n",
    "# to determine their effectiveness. The authors and publisher make       #\n",
    "# no warranty of any kind, expressed or implied, with regard to these    #\n",
    "# programs or to the documentation contained in these books. The authors #\n",
    "# and publisher shall not be liable in any event for incidental or       #\n",
    "# consequential damages in connection with, or arising out of, the       #\n",
    "# furnishing, performance, or use of these programs.                     #\n",
    "##########################################################################"
   ]
  }
 ],
 "metadata": {
  "kernelspec": {
   "display_name": "Python 3",
   "language": "python",
   "name": "python3"
  },
  "language_info": {
   "codemirror_mode": {
    "name": "ipython",
    "version": 3
   },
   "file_extension": ".py",
   "mimetype": "text/x-python",
   "name": "python",
   "nbconvert_exporter": "python",
   "pygments_lexer": "ipython3",
   "version": "3.7.3"
  }
 },
 "nbformat": 4,
 "nbformat_minor": 2
}
