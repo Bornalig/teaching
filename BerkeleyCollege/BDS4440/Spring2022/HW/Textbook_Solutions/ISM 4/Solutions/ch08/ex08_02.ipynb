{
 "cells": [
  {
   "cell_type": "markdown",
   "metadata": {},
   "source": [
    "# Exercise 8.2"
   ]
  },
  {
   "cell_type": "code",
   "execution_count": 6,
   "metadata": {},
   "outputs": [
    {
     "name": "stdout",
     "output_type": "stream",
     "text": [
      "A dog jumped from one dog.\n",
      "Any car walked over one town.\n",
      "One town ran under a girl.\n",
      "Some boy drove over any dog.\n",
      "The girl jumped over any dog.\n",
      "One dog jumped from some car.\n",
      "Any boy skipped on the car.\n",
      "The boy walked from one dog.\n",
      "Some car walked to one dog.\n",
      "A boy drove from the girl.\n",
      "Some dog jumped on some boy.\n",
      "The dog jumped from a town.\n",
      "The car skipped on any town.\n",
      "The town drove on the boy.\n",
      "A town skipped on some car.\n",
      "A girl drove to one boy.\n",
      "One dog drove under a car.\n",
      "A boy drove under any boy.\n",
      "Any town drove over one town.\n",
      "Some car ran from the car.\n"
     ]
    }
   ],
   "source": [
    "import random\n",
    "\n",
    "article = ['the', 'a', 'one', 'some', 'any']\n",
    "noun = ['boy', 'girl', 'dog', 'town', 'car']\n",
    "verb = ['drove', 'jumped', 'ran', 'walked', 'skipped']\n",
    "preposition = ['to', 'from', 'over', 'under', 'on']\n",
    "\n",
    "for i in range(20):\n",
    "    words = [\n",
    "        article[random.randrange(len(article))].capitalize(),\n",
    "        noun[random.randrange(len(noun))],\n",
    "        verb[random.randrange(len(verb))],\n",
    "        preposition[random.randrange(len(preposition))],\n",
    "        article[random.randrange(len(article))],\n",
    "        noun[random.randrange(len(noun))]\n",
    "    ]\n",
    "\n",
    "    print(' '.join(words) + '.')"
   ]
  },
  {
   "cell_type": "code",
   "execution_count": 5,
   "metadata": {},
   "outputs": [],
   "source": [
    "##########################################################################\n",
    "# (C) Copyright 2019 by Deitel & Associates, Inc. and                    #\n",
    "# Pearson Education, Inc. All Rights Reserved.                           #\n",
    "#                                                                        #\n",
    "# DISCLAIMER: The authors and publisher of this book have used their     #\n",
    "# best efforts in preparing the book. These efforts include the          #\n",
    "# development, research, and testing of the theories and programs        #\n",
    "# to determine their effectiveness. The authors and publisher make       #\n",
    "# no warranty of any kind, expressed or implied, with regard to these    #\n",
    "# programs or to the documentation contained in these books. The authors #\n",
    "# and publisher shall not be liable in any event for incidental or       #\n",
    "# consequential damages in connection with, or arising out of, the       #\n",
    "# furnishing, performance, or use of these programs.                     #\n",
    "##########################################################################"
   ]
  }
 ],
 "metadata": {
  "kernelspec": {
   "display_name": "Python 3",
   "language": "python",
   "name": "python3"
  },
  "language_info": {
   "codemirror_mode": {
    "name": "ipython",
    "version": 3
   },
   "file_extension": ".py",
   "mimetype": "text/x-python",
   "name": "python",
   "nbconvert_exporter": "python",
   "pygments_lexer": "ipython3",
   "version": "3.7.3"
  }
 },
 "nbformat": 4,
 "nbformat_minor": 2
}
