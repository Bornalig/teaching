{
 "cells": [
  {
   "cell_type": "markdown",
   "metadata": {},
   "source": [
    "# Exercise 4.10"
   ]
  },
  {
   "cell_type": "code",
   "execution_count": 3,
   "metadata": {},
   "outputs": [
    {
     "name": "stdin",
     "output_type": "stream",
     "text": [
      "Guess (1 - 1000):  500\n"
     ]
    },
    {
     "name": "stdout",
     "output_type": "stream",
     "text": [
      "500 is too low. Try again.\n"
     ]
    },
    {
     "name": "stdin",
     "output_type": "stream",
     "text": [
      "Guess (1 - 1000):  750\n"
     ]
    },
    {
     "name": "stdout",
     "output_type": "stream",
     "text": [
      "750 is too low. Try again.\n"
     ]
    },
    {
     "name": "stdin",
     "output_type": "stream",
     "text": [
      "Guess (1 - 1000):  825\n"
     ]
    },
    {
     "name": "stdout",
     "output_type": "stream",
     "text": [
      "825 is too high. Try again.\n"
     ]
    },
    {
     "name": "stdin",
     "output_type": "stream",
     "text": [
      "Guess (1 - 1000):  812\n"
     ]
    },
    {
     "name": "stdout",
     "output_type": "stream",
     "text": [
      "812 is too high. Try again.\n"
     ]
    },
    {
     "name": "stdin",
     "output_type": "stream",
     "text": [
      "Guess (1 - 1000):  780\n"
     ]
    },
    {
     "name": "stdout",
     "output_type": "stream",
     "text": [
      "780 is too low. Try again.\n"
     ]
    },
    {
     "name": "stdin",
     "output_type": "stream",
     "text": [
      "Guess (1 - 1000):  800\n"
     ]
    },
    {
     "name": "stdout",
     "output_type": "stream",
     "text": [
      "800 is too low. Try again.\n"
     ]
    },
    {
     "name": "stdin",
     "output_type": "stream",
     "text": [
      "Guess (1 - 1000):  806\n"
     ]
    },
    {
     "name": "stdout",
     "output_type": "stream",
     "text": [
      "806 is too low. Try again.\n"
     ]
    },
    {
     "name": "stdin",
     "output_type": "stream",
     "text": [
      "Guess (1 - 1000):  808\n"
     ]
    },
    {
     "name": "stdout",
     "output_type": "stream",
     "text": [
      "808 is too low. Try again.\n"
     ]
    },
    {
     "name": "stdin",
     "output_type": "stream",
     "text": [
      "Guess (1 - 1000):  810\n"
     ]
    },
    {
     "name": "stdout",
     "output_type": "stream",
     "text": [
      "810 is too high. Try again.\n"
     ]
    },
    {
     "name": "stdin",
     "output_type": "stream",
     "text": [
      "Guess (1 - 1000):  809\n"
     ]
    },
    {
     "name": "stdout",
     "output_type": "stream",
     "text": [
      "Congratulations. You guessed the number!\n",
      "\n"
     ]
    },
    {
     "name": "stdin",
     "output_type": "stream",
     "text": [
      "Play again (yes or no)?  no\n"
     ]
    },
    {
     "name": "stdout",
     "output_type": "stream",
     "text": [
      "Thanks for playing!\n"
     ]
    }
   ],
   "source": [
    "\"\"\"Guess the number.\"\"\"\n",
    "import random\n",
    "\n",
    "def get_number():\n",
    "    \"\"\"Create a new number to guess.\"\"\"\n",
    "    return random.randrange(1, 1001)\n",
    "   \n",
    "def new_game():\n",
    "    \"\"\"Start a new game.\"\"\"\n",
    "    return get_number()\n",
    "    print('Guess a number between 1 and 1000')\n",
    "\n",
    "def check_guess(guess, answer):\n",
    "    \"\"\"Check user input\"\"\"\n",
    "    correct = False\n",
    "    \n",
    "    if (guess < answer):\n",
    "        print(f'{guess} is too low. Try again.')\n",
    "    elif (guess > answer):\n",
    "        print(f'{guess} is too high. Try again.')\n",
    "    else:\n",
    "        correct = True \n",
    "        print('Congratulations. You guessed the number!')\n",
    "        print()\n",
    "\n",
    "    return correct\n",
    "\n",
    "# game logic\n",
    "game_over = False    \n",
    "            \n",
    "while not game_over:\n",
    "    answer = new_game()\n",
    "\n",
    "    correct = False\n",
    "    \n",
    "    while not correct:\n",
    "        correct = check_guess(int(input('Guess (1 - 1000): ')), answer)\n",
    "\n",
    "    play_again = input('Play again (yes or no)? ')\n",
    "\n",
    "    if play_again == 'no': \n",
    "       game_over = True\n",
    "\n",
    "print('Thanks for playing!')"
   ]
  },
  {
   "cell_type": "code",
   "execution_count": 11,
   "metadata": {},
   "outputs": [],
   "source": [
    "##########################################################################\n",
    "# (C) Copyright 2019 by Deitel & Associates, Inc. and                    #\n",
    "# Pearson Education, Inc. All Rights Reserved.                           #\n",
    "#                                                                        #\n",
    "# DISCLAIMER: The authors and publisher of this book have used their     #\n",
    "# best efforts in preparing the book. These efforts include the          #\n",
    "# development, research, and testing of the theories and programs        #\n",
    "# to determine their effectiveness. The authors and publisher make       #\n",
    "# no warranty of any kind, expressed or implied, with regard to these    #\n",
    "# programs or to the documentation contained in these books. The authors #\n",
    "# and publisher shall not be liable in any event for incidental or       #\n",
    "# consequential damages in connection with, or arising out of, the       #\n",
    "# furnishing, performance, or use of these programs.                     #\n",
    "##########################################################################"
   ]
  }
 ],
 "metadata": {
  "kernelspec": {
   "display_name": "Python 3",
   "language": "python",
   "name": "python3"
  },
  "language_info": {
   "codemirror_mode": {
    "name": "ipython",
    "version": 3
   },
   "file_extension": ".py",
   "mimetype": "text/x-python",
   "name": "python",
   "nbconvert_exporter": "python",
   "pygments_lexer": "ipython3",
   "version": "3.7.3"
  }
 },
 "nbformat": 4,
 "nbformat_minor": 2
}
