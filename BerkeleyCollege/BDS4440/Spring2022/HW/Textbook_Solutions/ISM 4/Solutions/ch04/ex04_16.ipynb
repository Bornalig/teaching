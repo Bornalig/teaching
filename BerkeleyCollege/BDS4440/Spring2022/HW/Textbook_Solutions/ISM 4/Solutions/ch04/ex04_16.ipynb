{
 "cells": [
  {
   "cell_type": "markdown",
   "metadata": {},
   "source": [
    "# Exercise 4.16"
   ]
  },
  {
   "cell_type": "code",
   "execution_count": 3,
   "metadata": {},
   "outputs": [
    {
     "name": "stdin",
     "output_type": "stream",
     "text": [
      "Enter difficulty level (1 or 2):  2\n"
     ]
    },
    {
     "name": "stdout",
     "output_type": "stream",
     "text": [
      "How much is 42 * 59?\n"
     ]
    },
    {
     "name": "stdin",
     "output_type": "stream",
     "text": [
      "Enter your answer (-1 to exit):  2478\n"
     ]
    },
    {
     "name": "stdout",
     "output_type": "stream",
     "text": [
      "Keep up the good work!\n",
      "How much is 75 * 42?\n"
     ]
    },
    {
     "name": "stdin",
     "output_type": "stream",
     "text": [
      "Enter your answer (-1 to exit):  6150\n"
     ]
    },
    {
     "name": "stdout",
     "output_type": "stream",
     "text": [
      "No. Keep trying.\n"
     ]
    },
    {
     "name": "stdin",
     "output_type": "stream",
     "text": [
      "Enter your answer (-1 to exit):  3150\n"
     ]
    },
    {
     "name": "stdout",
     "output_type": "stream",
     "text": [
      "Nice work!\n",
      "How much is 39 * 32?\n"
     ]
    },
    {
     "name": "stdin",
     "output_type": "stream",
     "text": [
      "Enter your answer (-1 to exit):  -1\n"
     ]
    },
    {
     "name": "stdout",
     "output_type": "stream",
     "text": [
      "Thanks for playing!\n"
     ]
    }
   ],
   "source": [
    "# Exercise 4.16\n",
    "\"\"\"Generate single-digit multiplication problems.\"\"\"\n",
    "import random\n",
    "  \n",
    "def create_question(difficulty_level):\n",
    "    \"\"\"Creates a new question and returns the question text and answer.\"\"\"\n",
    "    # get two random numbers between 0 and 9\n",
    "    number1 = random.randrange(10 ** difficulty_level)\n",
    "    number2 = random.randrange(10 ** difficulty_level)\n",
    "\n",
    "    return (f'How much is {number1} * {number2}?', number1 * number2)\n",
    "\n",
    "def check_answer(guess, answer):\n",
    "    \"\"\"Check if user answered correctly and return a Boolean.\"\"\"\n",
    "    if guess != answer:\n",
    "        print(get_response(correct=False))\n",
    "        return False\n",
    "    else:\n",
    "        print(get_response(correct=True))\n",
    "        return True\n",
    "\n",
    "def get_response(correct):\n",
    "    if correct:\n",
    "        response = random.randrange(4)\n",
    "        \n",
    "        if response == 0:\n",
    "           return 'Very good!'\n",
    "        elif response == 1:\n",
    "           return 'Excellent!'\n",
    "        elif response == 2:\n",
    "           return 'Nice work!'\n",
    "        elif response == 3:\n",
    "           return 'Keep up the good work!'\n",
    "    else:\n",
    "        response = random.randrange(4)\n",
    "\n",
    "        if response == 0:\n",
    "           return 'No. Please try again.'\n",
    "        elif response == 1:\n",
    "           return 'Wrong. Try once more.'\n",
    "        elif response == 2:\n",
    "           return \"Don't give up!\"\n",
    "        elif response == 3:\n",
    "           return 'No. Keep trying.'\n",
    "\n",
    "# run the computer assisted instruction program\n",
    "difficulty_level = int(input('Enter difficulty level (1 or 2): '))\n",
    "question, answer = create_question(difficulty_level)\n",
    "print(question)\n",
    "\n",
    "guess = int(input('Enter your answer (-1 to exit): '))\n",
    "\n",
    "while guess != -1:\n",
    "    correct = check_answer(guess, answer)\n",
    "\n",
    "    if correct:\n",
    "        question, answer = create_question(difficulty_level)\n",
    "        print(question)\n",
    "        \n",
    "    guess = int(input('Enter your answer (-1 to exit): '))\n",
    "\n",
    "print('Thanks for playing!')"
   ]
  },
  {
   "cell_type": "code",
   "execution_count": null,
   "metadata": {},
   "outputs": [],
   "source": [
    "##########################################################################\n",
    "# (C) Copyright 2019 by Deitel & Associates, Inc. and                    #\n",
    "# Pearson Education, Inc. All Rights Reserved.                           #\n",
    "#                                                                        #\n",
    "# DISCLAIMER: The authors and publisher of this book have used their     #\n",
    "# best efforts in preparing the book. These efforts include the          #\n",
    "# development, research, and testing of the theories and programs        #\n",
    "# to determine their effectiveness. The authors and publisher make       #\n",
    "# no warranty of any kind, expressed or implied, with regard to these    #\n",
    "# programs or to the documentation contained in these books. The authors #\n",
    "# and publisher shall not be liable in any event for incidental or       #\n",
    "# consequential damages in connection with, or arising out of, the       #\n",
    "# furnishing, performance, or use of these programs.                     #\n",
    "##########################################################################"
   ]
  }
 ],
 "metadata": {
  "kernelspec": {
   "display_name": "Python 3",
   "language": "python",
   "name": "python3"
  },
  "language_info": {
   "codemirror_mode": {
    "name": "ipython",
    "version": 3
   },
   "file_extension": ".py",
   "mimetype": "text/x-python",
   "name": "python",
   "nbconvert_exporter": "python",
   "pygments_lexer": "ipython3",
   "version": "3.7.3"
  }
 },
 "nbformat": 4,
 "nbformat_minor": 2
}
