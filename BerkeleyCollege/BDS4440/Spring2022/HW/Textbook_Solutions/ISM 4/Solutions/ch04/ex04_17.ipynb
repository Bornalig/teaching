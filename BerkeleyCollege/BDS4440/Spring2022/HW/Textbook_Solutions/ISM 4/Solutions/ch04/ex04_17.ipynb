{
 "cells": [
  {
   "cell_type": "markdown",
   "metadata": {},
   "source": [
    "# Exercise 4.17"
   ]
  },
  {
   "cell_type": "code",
   "execution_count": 5,
   "metadata": {},
   "outputs": [
    {
     "name": "stdin",
     "output_type": "stream",
     "text": [
      "Enter difficulty level (1 or 2):  1\n"
     ]
    },
    {
     "name": "stdout",
     "output_type": "stream",
     "text": [
      "\n",
      "1 = addition\n",
      "2 = subtraction\n",
      "3 = mutiplication\n",
      "4 = division\n",
      "5 = mixed operations\n"
     ]
    },
    {
     "name": "stdin",
     "output_type": "stream",
     "text": [
      "Enter the operation (1 to 5):  2\n"
     ]
    },
    {
     "name": "stdout",
     "output_type": "stream",
     "text": [
      "How much is 3 - 2?\n"
     ]
    },
    {
     "name": "stdin",
     "output_type": "stream",
     "text": [
      "Enter your answer (-1 to exit):  1\n"
     ]
    },
    {
     "name": "stdout",
     "output_type": "stream",
     "text": [
      "Very good!\n",
      "How much is 4 - 0?\n"
     ]
    },
    {
     "name": "stdin",
     "output_type": "stream",
     "text": [
      "Enter your answer (-1 to exit):  4\n"
     ]
    },
    {
     "name": "stdout",
     "output_type": "stream",
     "text": [
      "Very good!\n",
      "How much is 5 - 3?\n"
     ]
    },
    {
     "name": "stdin",
     "output_type": "stream",
     "text": [
      "Enter your answer (-1 to exit):  2\n"
     ]
    },
    {
     "name": "stdout",
     "output_type": "stream",
     "text": [
      "Nice work!\n",
      "How much is 9 - 8?\n"
     ]
    },
    {
     "name": "stdin",
     "output_type": "stream",
     "text": [
      "Enter your answer (-1 to exit):  2\n"
     ]
    },
    {
     "name": "stdout",
     "output_type": "stream",
     "text": [
      "No. Keep trying.\n"
     ]
    },
    {
     "name": "stdin",
     "output_type": "stream",
     "text": [
      "Enter your answer (-1 to exit):  -1\n"
     ]
    },
    {
     "name": "stdout",
     "output_type": "stream",
     "text": [
      "Thanks for playing!\n"
     ]
    }
   ],
   "source": [
    "# Exercise 4.16\n",
    "\"\"\"Generate single-digit multiplication problems.\"\"\"\n",
    "import random\n",
    "\n",
    "ADDITION = 1\n",
    "SUBTRACTION = 2\n",
    "MULTIPLICATION = 3\n",
    "DIVISION = 4\n",
    "RANDOM = 5\n",
    "  \n",
    "def create_question(difficulty_level, operation):\n",
    "    \"\"\"Creates a new question and returns the question text and answer.\"\"\"\n",
    "    # get two random numbers between 0 and 9\n",
    "    number1 = random.randrange(10 ** difficulty_level)\n",
    "    number2 = random.randrange(10 ** difficulty_level)\n",
    "\n",
    "    if operation == RANDOM: \n",
    "        operation = random.randrange(1, 5)\n",
    "\n",
    "    if operation == ADDITION:\n",
    "        op = \"+\"\n",
    "        answer = number1 + number2\n",
    "    elif operation == SUBTRACTION:\n",
    "        # don't use negatives\n",
    "        if number1 < number2:\n",
    "           number1, number2 = number2, number1\n",
    "        \n",
    "        op = \"-\"\n",
    "        answer = number1 - number2\n",
    "    elif operation == MULTIPLICATION:\n",
    "        op = \"*\"\n",
    "        answer = number1 * number2\n",
    "    elif operation == DIVISION:\n",
    "        if number2 == 0:\n",
    "            number2 = 1\n",
    "\n",
    "        op =  \"/\"\n",
    "        answer = number1 / number2\n",
    "\n",
    "    return (f'How much is {number1} {op} {number2}?', answer)\n",
    "\n",
    "def check_answer(guess, answer):\n",
    "    \"\"\"Check if user answered correctly and return a Boolean.\"\"\"\n",
    "    if guess != answer:\n",
    "        print(get_response(correct=False))\n",
    "        return False\n",
    "    else:\n",
    "        print(get_response(correct=True))\n",
    "        return True\n",
    "\n",
    "def get_response(correct):\n",
    "    if correct:\n",
    "        response = random.randrange(4)\n",
    "        \n",
    "        if response == 0:\n",
    "           return 'Very good!'\n",
    "        elif response == 1:\n",
    "           return 'Excellent!'\n",
    "        elif response == 2:\n",
    "           return 'Nice work!'\n",
    "        elif response == 3:\n",
    "           return 'Keep up the good work!'\n",
    "    else:\n",
    "        response = random.randrange(4)\n",
    "\n",
    "        if response == 0:\n",
    "           return 'No. Please try again.'\n",
    "        elif response == 1:\n",
    "           return 'Wrong. Try once more.'\n",
    "        elif response == 2:\n",
    "           return \"Don't give up!\"\n",
    "        elif response == 3:\n",
    "           return 'No. Keep trying.'\n",
    "\n",
    "# run the computer assisted instruction program\n",
    "difficulty_level = int(input('Enter difficulty level (1 or 2): '))\n",
    "print('\\n1 = addition')\n",
    "print('2 = subtraction')\n",
    "print('3 = mutiplication')\n",
    "print('4 = division')\n",
    "print('5 = mixed operations')\n",
    "operation = int(input('Enter the operation (1 to 5): '))\n",
    "question, answer = create_question(difficulty_level, operation)\n",
    "print(question)\n",
    "\n",
    "guess = int(input('Enter your answer (-1 to exit): '))\n",
    "\n",
    "while guess != -1:\n",
    "    correct = check_answer(guess, answer)\n",
    "\n",
    "    if correct:\n",
    "        print('\\n1 = addition')\n",
    "        print('2 = subtraction')\n",
    "        print('3 = mutiplication')\n",
    "        print('4 = division')\n",
    "        print('5 = mixed operations')\n",
    "        operation = int(input('Enter the operation (1 to 5): '))\n",
    "        question, answer = create_question(difficulty_level, operation)\n",
    "        print(question)\n",
    "        \n",
    "    guess = int(input('Enter your answer (-1 to exit): '))\n",
    "\n",
    "print('Thanks for playing!')"
   ]
  },
  {
   "cell_type": "code",
   "execution_count": null,
   "metadata": {},
   "outputs": [],
   "source": [
    "##########################################################################\n",
    "# (C) Copyright 2019 by Deitel & Associates, Inc. and                    #\n",
    "# Pearson Education, Inc. All Rights Reserved.                           #\n",
    "#                                                                        #\n",
    "# DISCLAIMER: The authors and publisher of this book have used their     #\n",
    "# best efforts in preparing the book. These efforts include the          #\n",
    "# development, research, and testing of the theories and programs        #\n",
    "# to determine their effectiveness. The authors and publisher make       #\n",
    "# no warranty of any kind, expressed or implied, with regard to these    #\n",
    "# programs or to the documentation contained in these books. The authors #\n",
    "# and publisher shall not be liable in any event for incidental or       #\n",
    "# consequential damages in connection with, or arising out of, the       #\n",
    "# furnishing, performance, or use of these programs.                     #\n",
    "##########################################################################"
   ]
  }
 ],
 "metadata": {
  "kernelspec": {
   "display_name": "Python 3",
   "language": "python",
   "name": "python3"
  },
  "language_info": {
   "codemirror_mode": {
    "name": "ipython",
    "version": 3
   },
   "file_extension": ".py",
   "mimetype": "text/x-python",
   "name": "python",
   "nbconvert_exporter": "python",
   "pygments_lexer": "ipython3",
   "version": "3.7.3"
  }
 },
 "nbformat": 4,
 "nbformat_minor": 2
}
