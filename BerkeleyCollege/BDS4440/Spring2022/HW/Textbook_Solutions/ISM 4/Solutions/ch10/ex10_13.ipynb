{
 "cells": [
  {
   "cell_type": "markdown",
   "metadata": {},
   "source": [
    "# Exercise 10.13"
   ]
  },
  {
   "cell_type": "code",
   "execution_count": 1,
   "metadata": {},
   "outputs": [],
   "source": [
    "def maximum(value1, value2, value3):\n",
    "    \"\"\"Return the maximum of three values.\n",
    "    \n",
    "    >>> maximum(1, 2, 3)\n",
    "    3\n",
    "    >>> maximum(2, 1, 3)\n",
    "    3\n",
    "    >>> maximum(3, 1, 2)\n",
    "    3\n",
    "    >>> maximum(1.1, 2.2, 3.3)\n",
    "    3.3\n",
    "    >>> maximum(2.2, 1.1, 3.3)\n",
    "    3.3\n",
    "    >>> maximum(3.3, 1.1, 2.2)\n",
    "    3.3\n",
    "    >>> maximum('a', 'b', 'c')\n",
    "    'c'\n",
    "    >>> maximum('b', 'a', 'c')\n",
    "    'c'\n",
    "    >>> maximum('c', 'a', 'b')\n",
    "    'c'\n",
    "    \"\"\"\n",
    "    max_value = value1\n",
    "    \n",
    "    if value2 > max_value:\n",
    "        max_value = value2\n",
    "        \n",
    "    if value3 > max_value:\n",
    "        max_value = value3\n",
    "        \n",
    "    return max_value"
   ]
  },
  {
   "cell_type": "code",
   "execution_count": 2,
   "metadata": {},
   "outputs": [
    {
     "name": "stdout",
     "output_type": "stream",
     "text": [
      "Trying:\n",
      "    maximum(1, 2, 3)\n",
      "Expecting:\n",
      "    3\n",
      "ok\n",
      "Trying:\n",
      "    maximum(2, 1, 3)\n",
      "Expecting:\n",
      "    3\n",
      "ok\n",
      "Trying:\n",
      "    maximum(3, 1, 2)\n",
      "Expecting:\n",
      "    3\n",
      "ok\n",
      "Trying:\n",
      "    maximum(1.1, 2.2, 3.3)\n",
      "Expecting:\n",
      "    3.3\n",
      "ok\n",
      "Trying:\n",
      "    maximum(2.2, 1.1, 3.3)\n",
      "Expecting:\n",
      "    3.3\n",
      "ok\n",
      "Trying:\n",
      "    maximum(3.3, 1.1, 2.2)\n",
      "Expecting:\n",
      "    3.3\n",
      "ok\n",
      "Trying:\n",
      "    maximum('a', 'b', 'c')\n",
      "Expecting:\n",
      "    'c'\n",
      "ok\n",
      "Trying:\n",
      "    maximum('b', 'a', 'c')\n",
      "Expecting:\n",
      "    'c'\n",
      "ok\n",
      "Trying:\n",
      "    maximum('c', 'a', 'b')\n",
      "Expecting:\n",
      "    'c'\n",
      "ok\n",
      "1 items had no tests:\n",
      "    __main__\n",
      "1 items passed all tests:\n",
      "   9 tests in __main__.maximum\n",
      "9 tests in 2 items.\n",
      "9 passed and 0 failed.\n",
      "Test passed.\n"
     ]
    }
   ],
   "source": [
    "if __name__=='__main__':\n",
    "    import doctest\n",
    "    doctest.testmod(verbose=True)"
   ]
  },
  {
   "cell_type": "code",
   "execution_count": 3,
   "metadata": {},
   "outputs": [],
   "source": [
    "##########################################################################\n",
    "# (C) Copyright 2019 by Deitel & Associates, Inc. and                    #\n",
    "# Pearson Education, Inc. All Rights Reserved.                           #\n",
    "#                                                                        #\n",
    "# DISCLAIMER: The authors and publisher of this book have used their     #\n",
    "# best efforts in preparing the book. These efforts include the          #\n",
    "# development, research, and testing of the theories and programs        #\n",
    "# to determine their effectiveness. The authors and publisher make       #\n",
    "# no warranty of any kind, expressed or implied, with regard to these    #\n",
    "# programs or to the documentation contained in these books. The authors #\n",
    "# and publisher shall not be liable in any event for incidental or       #\n",
    "# consequential damages in connection with, or arising out of, the       #\n",
    "# furnishing, performance, or use of these programs.                     #\n",
    "##########################################################################"
   ]
  }
 ],
 "metadata": {
  "kernelspec": {
   "display_name": "Python 3",
   "language": "python",
   "name": "python3"
  },
  "language_info": {
   "codemirror_mode": {
    "name": "ipython",
    "version": 3
   },
   "file_extension": ".py",
   "mimetype": "text/x-python",
   "name": "python",
   "nbconvert_exporter": "python",
   "pygments_lexer": "ipython3",
   "version": "3.7.3"
  }
 },
 "nbformat": 4,
 "nbformat_minor": 2
}
