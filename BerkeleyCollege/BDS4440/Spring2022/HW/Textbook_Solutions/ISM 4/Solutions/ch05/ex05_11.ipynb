{
 "cells": [
  {
   "cell_type": "markdown",
   "metadata": {},
   "source": [
    "# Exercise 5.11"
   ]
  },
  {
   "cell_type": "code",
   "execution_count": 1,
   "metadata": {},
   "outputs": [],
   "source": [
    "ALPHABET = 'abcdefghijklmnopqrstuvwxyz'"
   ]
  },
  {
   "cell_type": "code",
   "execution_count": 2,
   "metadata": {},
   "outputs": [],
   "source": [
    "def summarize_letters(string):\n",
    "    letters = []\n",
    "    counts = []\n",
    "    \n",
    "    for letter in string.lower():\n",
    "        if letter in ALPHABET:\n",
    "            if letter in letters:\n",
    "                index = letters.index(letter)\n",
    "                counts[index] += 1\n",
    "            else:\n",
    "                letters.append(letter)\n",
    "                counts.append(1)\n",
    "           \n",
    "    tuples = list(zip(letters, counts))\n",
    "    tuples.sort()\n",
    "    return tuples"
   ]
  },
  {
   "cell_type": "code",
   "execution_count": 3,
   "metadata": {},
   "outputs": [
    {
     "name": "stdout",
     "output_type": "stream",
     "text": [
      "a: 1\n",
      "b: 1\n",
      "c: 1\n",
      "d: 1\n",
      "e: 3\n",
      "f: 1\n",
      "g: 1\n",
      "h: 2\n",
      "i: 1\n",
      "j: 1\n",
      "k: 1\n",
      "l: 1\n",
      "m: 1\n",
      "n: 1\n",
      "o: 4\n",
      "p: 1\n",
      "q: 1\n",
      "r: 2\n",
      "s: 1\n",
      "t: 2\n",
      "u: 2\n",
      "v: 1\n",
      "w: 1\n",
      "x: 1\n",
      "y: 1\n",
      "z: 1\n",
      "\"The Quick Brown Fox Jumps Over The Lazy Dog\" contains all the letters in the alphabet\n"
     ]
    }
   ],
   "source": [
    "panagram = 'The Quick Brown Fox Jumps Over The Lazy Dog'\n",
    "summary = summarize_letters(panagram)\n",
    "\n",
    "# display counts\n",
    "for char, count in summary:\n",
    "    print(f'{char}: {count}')\n",
    "\n",
    "# check if all letters of the alphabet were found in the string\n",
    "all_letters = True\n",
    "\n",
    "if len(summary) == len(ALPHABET):\n",
    "    for item in summary:\n",
    "        if item[0] not in ALPHABET:\n",
    "            all_letters = False\n",
    "            break  \n",
    "else:\n",
    "    all_letters = False\n",
    "\n",
    "if all_letters:\n",
    "    print(f'\"{panagram}\" contains all the letters in the alphabet')\n",
    "else:\n",
    "    print(f'\"{panagram}\" does not contain all the letters in the alphabet')"
   ]
  },
  {
   "cell_type": "code",
   "execution_count": 4,
   "metadata": {},
   "outputs": [],
   "source": [
    "##########################################################################\n",
    "# (C) Copyright 2019 by Deitel & Associates, Inc. and                    #\n",
    "# Pearson Education, Inc. All Rights Reserved.                           #\n",
    "#                                                                        #\n",
    "# DISCLAIMER: The authors and publisher of this book have used their     #\n",
    "# best efforts in preparing the book. These efforts include the          #\n",
    "# development, research, and testing of the theories and programs        #\n",
    "# to determine their effectiveness. The authors and publisher make       #\n",
    "# no warranty of any kind, expressed or implied, with regard to these    #\n",
    "# programs or to the documentation contained in these books. The authors #\n",
    "# and publisher shall not be liable in any event for incidental or       #\n",
    "# consequential damages in connection with, or arising out of, the       #\n",
    "# furnishing, performance, or use of these programs.                     #\n",
    "##########################################################################"
   ]
  }
 ],
 "metadata": {
  "kernelspec": {
   "display_name": "Python 3",
   "language": "python",
   "name": "python3"
  },
  "language_info": {
   "codemirror_mode": {
    "name": "ipython",
    "version": 3
   },
   "file_extension": ".py",
   "mimetype": "text/x-python",
   "name": "python",
   "nbconvert_exporter": "python",
   "pygments_lexer": "ipython3",
   "version": "3.7.3"
  }
 },
 "nbformat": 4,
 "nbformat_minor": 2
}
