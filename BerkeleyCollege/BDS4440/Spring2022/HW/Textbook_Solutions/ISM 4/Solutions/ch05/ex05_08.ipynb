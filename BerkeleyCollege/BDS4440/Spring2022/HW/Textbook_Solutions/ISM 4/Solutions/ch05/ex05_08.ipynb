{
 "cells": [
  {
   "cell_type": "markdown",
   "metadata": {},
   "source": [
    "# Exercise 5.8"
   ]
  },
  {
   "cell_type": "code",
   "execution_count": 1,
   "metadata": {},
   "outputs": [
    {
     "name": "stdout",
     "output_type": "stream",
     "text": [
      "   2    3    5    7   11   13   17   19   23   29 \n",
      "  31   37   41   43   47   53   59   61   67   71 \n",
      "  73   79   83   89   97  101  103  107  109  113 \n",
      " 127  131  137  139  149  151  157  163  167  173 \n",
      " 179  181  191  193  197  199  211  223  227  229 \n",
      " 233  239  241  251  257  263  269  271  277  281 \n",
      " 283  293  307  311  313  317  331  337  347  349 \n",
      " 353  359  367  373  379  383  389  397  401  409 \n",
      " 419  421  431  433  439  443  449  457  461  463 \n",
      " 467  479  487  491  499  503  509  521  523  541 \n",
      " 547  557  563  569  571  577  587  593  599  601 \n",
      " 607  613  617  619  631  641  643  647  653  659 \n",
      " 661  673  677  683  691  701  709  719  727  733 \n",
      " 739  743  751  757  761  769  773  787  797  809 \n",
      " 811  821  823  827  829  839  853  857  859  863 \n",
      " 877  881  883  887  907  911  919  929  937  941 \n",
      " 947  953  967  971  977  983  991  997 \n",
      "Found 168 primes\n"
     ]
    }
   ],
   "source": [
    "\"\"\"Sieve of Eratosthenes.\"\"\"\n",
    "primes = [True for i in range(1000)]\n",
    "\n",
    "# starting at index 2, cycle through the list and set all \n",
    "# multiples of the current index to False \n",
    "# as the value of any greater number that is a multiple\n",
    "for i in range(2, len(primes)):\n",
    "    if primes[i]:\n",
    "        for j in range(i + i, len(primes), i):\n",
    "            primes[j] = False\n",
    "            \n",
    "# cycle through the array one last time to print all primes\n",
    "primes_found = 0  \n",
    "\n",
    "for i in range(2, len(primes)):\n",
    "    if primes[i]:\n",
    "        print(f'{i:4d} ', end='')\n",
    "        primes_found += 1\n",
    "        \n",
    "        if primes_found % 10 == 0:\n",
    "            print()\n",
    "\n",
    "print(f'\\nFound {primes_found} primes')"
   ]
  },
  {
   "cell_type": "code",
   "execution_count": null,
   "metadata": {},
   "outputs": [],
   "source": [
    "##########################################################################\n",
    "# (C) Copyright 2019 by Deitel & Associates, Inc. and                    #\n",
    "# Pearson Education, Inc. All Rights Reserved.                           #\n",
    "#                                                                        #\n",
    "# DISCLAIMER: The authors and publisher of this book have used their     #\n",
    "# best efforts in preparing the book. These efforts include the          #\n",
    "# development, research, and testing of the theories and programs        #\n",
    "# to determine their effectiveness. The authors and publisher make       #\n",
    "# no warranty of any kind, expressed or implied, with regard to these    #\n",
    "# programs or to the documentation contained in these books. The authors #\n",
    "# and publisher shall not be liable in any event for incidental or       #\n",
    "# consequential damages in connection with, or arising out of, the       #\n",
    "# furnishing, performance, or use of these programs.                     #\n",
    "##########################################################################"
   ]
  }
 ],
 "metadata": {
  "kernelspec": {
   "display_name": "Python 3",
   "language": "python",
   "name": "python3"
  },
  "language_info": {
   "codemirror_mode": {
    "name": "ipython",
    "version": 3
   },
   "file_extension": ".py",
   "mimetype": "text/x-python",
   "name": "python",
   "nbconvert_exporter": "python",
   "pygments_lexer": "ipython3",
   "version": "3.7.3"
  }
 },
 "nbformat": 4,
 "nbformat_minor": 2
}
