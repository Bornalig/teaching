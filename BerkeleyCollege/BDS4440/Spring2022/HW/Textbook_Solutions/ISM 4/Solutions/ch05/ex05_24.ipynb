{
 "cells": [
  {
   "cell_type": "markdown",
   "metadata": {},
   "source": [
    "# Exercise 5.24"
   ]
  },
  {
   "cell_type": "code",
   "execution_count": 1,
   "metadata": {},
   "outputs": [],
   "source": [
    "import random\n",
    "\n",
    "FACES = ['Ace', 'Deuce', 'Three', 'Four', 'Five', 'Six', 'Seven', \n",
    "         'Eight', 'Nine', 'Ten', 'Jack', 'Queen', 'King']\n",
    "SUITS = ['Hearts', 'Diamonds', 'Clubs', 'Spades']\n",
    "\n",
    "def initialize_deck():\n",
    "    deck = [(FACES[i % 13], SUITS[i // 13]) for i in range(52)]\n",
    "    random.shuffle(deck)\n",
    "    return deck"
   ]
  },
  {
   "cell_type": "code",
   "execution_count": 2,
   "metadata": {},
   "outputs": [],
   "source": [
    "deck = initialize_deck()"
   ]
  },
  {
   "cell_type": "code",
   "execution_count": 3,
   "metadata": {},
   "outputs": [
    {
     "name": "stdout",
     "output_type": "stream",
     "text": [
      "King of Hearts     Five of Spades     Four of Diamonds   Three of Hearts    \n",
      "Jack of Clubs      Eight of Hearts    Six of Diamonds    Nine of Clubs      \n",
      "Five of Hearts     Ace of Clubs       Queen of Diamonds  Jack of Diamonds   \n",
      "Ace of Hearts      Three of Clubs     King of Spades     Ten of Clubs       \n",
      "Deuce of Hearts    Three of Diamonds  Three of Spades    Ace of Spades      \n",
      "King of Clubs      Queen of Clubs     Four of Spades     Eight of Spades    \n",
      "Six of Hearts      Eight of Clubs     Deuce of Spades    Four of Clubs      \n",
      "Queen of Spades    Ten of Diamonds    Jack of Spades     Six of Spades      \n",
      "Queen of Hearts    Four of Hearts     Seven of Diamonds  Five of Diamonds   \n",
      "Five of Clubs      Eight of Diamonds  Ace of Diamonds    King of Diamonds   \n",
      "Nine of Diamonds   Six of Clubs       Deuce of Diamonds  Seven of Hearts    \n",
      "Deuce of Clubs     Ten of Hearts      Ten of Spades      Nine of Spades     \n",
      "Jack of Hearts     Seven of Spades    Seven of Clubs     Nine of Hearts     \n"
     ]
    }
   ],
   "source": [
    "for i, (face, suit) in enumerate(deck):\n",
    "    card = face + ' of ' + suit\n",
    "    print(f'{card:19}', end='')\n",
    "    \n",
    "    if (i + 1) % 4 == 0:\n",
    "        print()"
   ]
  },
  {
   "cell_type": "code",
   "execution_count": null,
   "metadata": {},
   "outputs": [],
   "source": [
    "##########################################################################\n",
    "# (C) Copyright 2019 by Deitel & Associates, Inc. and                    #\n",
    "# Pearson Education, Inc. All Rights Reserved.                           #\n",
    "#                                                                        #\n",
    "# DISCLAIMER: The authors and publisher of this book have used their     #\n",
    "# best efforts in preparing the book. These efforts include the          #\n",
    "# development, research, and testing of the theories and programs        #\n",
    "# to determine their effectiveness. The authors and publisher make       #\n",
    "# no warranty of any kind, expressed or implied, with regard to these    #\n",
    "# programs or to the documentation contained in these books. The authors #\n",
    "# and publisher shall not be liable in any event for incidental or       #\n",
    "# consequential damages in connection with, or arising out of, the       #\n",
    "# furnishing, performance, or use of these programs.                     #\n",
    "##########################################################################"
   ]
  }
 ],
 "metadata": {
  "kernelspec": {
   "display_name": "Python 3",
   "language": "python",
   "name": "python3"
  },
  "language_info": {
   "codemirror_mode": {
    "name": "ipython",
    "version": 3
   },
   "file_extension": ".py",
   "mimetype": "text/x-python",
   "name": "python",
   "nbconvert_exporter": "python",
   "pygments_lexer": "ipython3",
   "version": "3.7.3"
  }
 },
 "nbformat": 4,
 "nbformat_minor": 2
}
