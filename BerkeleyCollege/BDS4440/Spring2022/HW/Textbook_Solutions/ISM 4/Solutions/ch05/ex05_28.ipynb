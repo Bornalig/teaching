{
 "cells": [
  {
   "cell_type": "markdown",
   "metadata": {},
   "source": [
    "# Exercise 5.28"
   ]
  },
  {
   "cell_type": "code",
   "execution_count": 1,
   "metadata": {},
   "outputs": [
    {
     "name": "stdout",
     "output_type": "stream",
     "text": [
      "Reponses and frequencies:\n",
      "1: 3\n",
      "2: 4\n",
      "3: 8\n",
      "4: 2\n",
      "5: 3\n",
      "Min response count: 4 occurred 2 time(s)\n",
      "Max response count: 3 occurred 8 time(s)\n",
      "Range of response counts: 2-8\n",
      "Mean response count: 4\n",
      "Median response count: 4\n",
      "Mode response count: 3\n",
      "Variance: 4\n",
      "Standard deviation: 2.0\n"
     ]
    }
   ],
   "source": [
    "import numpy as np\n",
    "import statistics as stats\n",
    "\n",
    "responses = [1, 2, 5, 4, 3, 5, 2, 1, 3, 3, 1, 4, 3, 3, 3, 2, 3, 3, 2, 5]\n",
    "values, counts = np.unique(responses, return_counts=True)\n",
    "values = list(values)\n",
    "counts = list(counts)\n",
    "\n",
    "print('Reponses and frequencies:')\n",
    "for value, count in zip(values, counts):\n",
    "    print(f'{value}: {count}')\n",
    "\n",
    "print(f'Min response count: {values[counts.index(min(counts))]} occurred {min(counts)} time(s)')\n",
    "print(f'Max response count: {values[counts.index(max(counts))]} occurred {max(counts)} time(s)')\n",
    "print(f'Range of response counts: {min(counts)}-{max(counts)}')\n",
    "print(f'Mean response count: {stats.mean(counts)}')\n",
    "print(f'Median response count: {stats.mean(counts)}')\n",
    "print(f'Mode response count: {stats.mode(counts)}')\n",
    "print(f'Variance: {stats.pvariance(counts)}')\n",
    "print(f'Standard deviation: {stats.pstdev(counts)}')"
   ]
  },
  {
   "cell_type": "code",
   "execution_count": null,
   "metadata": {},
   "outputs": [],
   "source": [
    "##########################################################################\n",
    "# (C) Copyright 2019 by Deitel & Associates, Inc. and                    #\n",
    "# Pearson Education, Inc. All Rights Reserved.                           #\n",
    "#                                                                        #\n",
    "# DISCLAIMER: The authors and publisher of this book have used their     #\n",
    "# best efforts in preparing the book. These efforts include the          #\n",
    "# development, research, and testing of the theories and programs        #\n",
    "# to determine their effectiveness. The authors and publisher make       #\n",
    "# no warranty of any kind, expressed or implied, with regard to these    #\n",
    "# programs or to the documentation contained in these books. The authors #\n",
    "# and publisher shall not be liable in any event for incidental or       #\n",
    "# consequential damages in connection with, or arising out of, the       #\n",
    "# furnishing, performance, or use of these programs.                     #\n",
    "##########################################################################"
   ]
  }
 ],
 "metadata": {
  "kernelspec": {
   "display_name": "Python 3",
   "language": "python",
   "name": "python3"
  },
  "language_info": {
   "codemirror_mode": {
    "name": "ipython",
    "version": 3
   },
   "file_extension": ".py",
   "mimetype": "text/x-python",
   "name": "python",
   "nbconvert_exporter": "python",
   "pygments_lexer": "ipython3",
   "version": "3.7.3"
  }
 },
 "nbformat": 4,
 "nbformat_minor": 2
}
