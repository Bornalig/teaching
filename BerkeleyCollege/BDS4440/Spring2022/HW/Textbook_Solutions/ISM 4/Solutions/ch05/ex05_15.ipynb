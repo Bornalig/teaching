{
 "cells": [
  {
   "cell_type": "markdown",
   "metadata": {},
   "source": [
    "# Exercise 5.15"
   ]
  },
  {
   "cell_type": "code",
   "execution_count": 1,
   "metadata": {},
   "outputs": [],
   "source": [
    "invoices = [(83, 'Electric sander', 7, 57.98), \n",
    "            (24, 'Power saw', 18, 99.99),\n",
    "            (7, 'Sledge hammer', 11, 21.50),\n",
    "            (77, 'Hammer', 76, 11.99),\n",
    "            (39, 'Jig saw', 3, 79.50)]"
   ]
  },
  {
   "cell_type": "code",
   "execution_count": 2,
   "metadata": {},
   "outputs": [],
   "source": [
    "from operator import itemgetter"
   ]
  },
  {
   "cell_type": "code",
   "execution_count": 3,
   "metadata": {},
   "outputs": [
    {
     "name": "stdout",
     "output_type": "stream",
     "text": [
      "83  Electric sander   7  57.98\n",
      "77  Hammer           76  11.99\n",
      "39  Jig saw           3  79.50\n",
      "24  Power saw        18  99.99\n",
      " 7  Sledge hammer    11  21.50\n"
     ]
    }
   ],
   "source": [
    "# sort the tuples by part description\n",
    "for part, desc, quant, price in sorted(invoices, key=itemgetter(1)):\n",
    "    print(f'{part:>2}  {desc:<16}{quant:>3}{price:7.2f}')"
   ]
  },
  {
   "cell_type": "code",
   "execution_count": 4,
   "metadata": {},
   "outputs": [
    {
     "name": "stdout",
     "output_type": "stream",
     "text": [
      "77  Hammer           76  11.99\n",
      " 7  Sledge hammer    11  21.50\n",
      "83  Electric sander   7  57.98\n",
      "39  Jig saw           3  79.50\n",
      "24  Power saw        18  99.99\n"
     ]
    }
   ],
   "source": [
    "# sort the tuples by price\n",
    "for part, desc, quant, price in sorted(invoices, key=itemgetter(3)):\n",
    "    print(f'{part:>2}  {desc:<16}{quant:>3}{price:7.2f}')"
   ]
  },
  {
   "cell_type": "code",
   "execution_count": 5,
   "metadata": {},
   "outputs": [
    {
     "name": "stdout",
     "output_type": "stream",
     "text": [
      "Jig saw           3\n",
      "Electric sander   7\n",
      "Sledge hammer    11\n",
      "Power saw        18\n",
      "Hammer           76\n"
     ]
    }
   ],
   "source": [
    "# Map each invoice tuple to a tuple containing the part description\n",
    "# and quantity, sort the results by quantity, then display the results.\n",
    "quantities = [(desc, quant) for part, desc, quant, price in invoices]\n",
    "\n",
    "for desc, quant in sorted(quantities, key=itemgetter(1)):\n",
    "    print(f'{desc:<16}{quant:>3}')"
   ]
  },
  {
   "cell_type": "code",
   "execution_count": 6,
   "metadata": {},
   "outputs": [
    {
     "name": "stdout",
     "output_type": "stream",
     "text": [
      "Sledge hammer      236.50\n",
      "Jig saw            238.50\n",
      "Electric sander    405.86\n",
      "Hammer             911.24\n",
      "Power saw         1799.82\n"
     ]
    }
   ],
   "source": [
    "# Map each invoice tuple to a tuple containing the part description and\n",
    "# the value of the invoice, sort the results by the invoice value\n",
    "prices = [(desc, quant * price) for part, desc, quant, price in invoices]\n",
    "\n",
    "for desc, total in sorted(prices, key=itemgetter(1)):\n",
    "    print(f'{desc:<16}{total:9.2f}')"
   ]
  },
  {
   "cell_type": "code",
   "execution_count": 7,
   "metadata": {},
   "outputs": [
    {
     "name": "stdout",
     "output_type": "stream",
     "text": [
      "Sledge hammer      236.50\n",
      "Jig saw            238.50\n",
      "Electric sander    405.86\n"
     ]
    }
   ],
   "source": [
    "# Modify Part (d) to filter the results to invoice values in the range $200 to $500.\n",
    "prices = [(desc, quant * price) for part, desc, quant, price in invoices\\\n",
    "          if 200 <= quant * price <= 500]\n",
    "\n",
    "for desc, total in sorted(prices, key=itemgetter(1)):\n",
    "    print(f'{desc:<16}{total:9.2f}')"
   ]
  },
  {
   "cell_type": "code",
   "execution_count": 8,
   "metadata": {},
   "outputs": [
    {
     "name": "stdout",
     "output_type": "stream",
     "text": [
      "Total for all invoices is: 3591.92\n"
     ]
    }
   ],
   "source": [
    "# Calculate the total of all the invoices. \n",
    "total = sum([(quant * price) for part, desc, quant, price in invoices])\n",
    "\n",
    "print(f'Total for all invoices is: {total:.2f}')"
   ]
  },
  {
   "cell_type": "code",
   "execution_count": 9,
   "metadata": {},
   "outputs": [],
   "source": [
    "##########################################################################\n",
    "# (C) Copyright 2019 by Deitel & Associates, Inc. and                    #\n",
    "# Pearson Education, Inc. All Rights Reserved.                           #\n",
    "#                                                                        #\n",
    "# DISCLAIMER: The authors and publisher of this book have used their     #\n",
    "# best efforts in preparing the book. These efforts include the          #\n",
    "# development, research, and testing of the theories and programs        #\n",
    "# to determine their effectiveness. The authors and publisher make       #\n",
    "# no warranty of any kind, expressed or implied, with regard to these    #\n",
    "# programs or to the documentation contained in these books. The authors #\n",
    "# and publisher shall not be liable in any event for incidental or       #\n",
    "# consequential damages in connection with, or arising out of, the       #\n",
    "# furnishing, performance, or use of these programs.                     #\n",
    "##########################################################################"
   ]
  }
 ],
 "metadata": {
  "kernelspec": {
   "display_name": "Python 3",
   "language": "python",
   "name": "python3"
  },
  "language_info": {
   "codemirror_mode": {
    "name": "ipython",
    "version": 3
   },
   "file_extension": ".py",
   "mimetype": "text/x-python",
   "name": "python",
   "nbconvert_exporter": "python",
   "pygments_lexer": "ipython3",
   "version": "3.7.3"
  }
 },
 "nbformat": 4,
 "nbformat_minor": 2
}
