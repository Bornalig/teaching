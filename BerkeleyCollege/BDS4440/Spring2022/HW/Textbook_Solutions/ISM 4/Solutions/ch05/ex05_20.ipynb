{
 "cells": [
  {
   "cell_type": "markdown",
   "metadata": {},
   "source": [
    "# Exercise 5.20"
   ]
  },
  {
   "cell_type": "code",
   "execution_count": 1,
   "metadata": {},
   "outputs": [],
   "source": [
    "def display_table(twoD_list, column_width):\n",
    "    # Note: you can use a variable for the field width by enclosing it in braces\n",
    "    \n",
    "    # indent headers by width of max row index \n",
    "    indent = len(str(len(twoD_list)))\n",
    "    print(f'{\"\":{indent}}', end='')\n",
    "\n",
    "    for col in range(len(twoD_list[0])):\n",
    "        print(f'{col:>{column_width}}', end='')\n",
    "\n",
    "    print()\n",
    "\n",
    "    for i, row in enumerate(twoD_list):\n",
    "        print(f'{i:>{indent}}', end='')\n",
    "\n",
    "        for value in row:\n",
    "            print(f'{value:>{column_width}}', end='')\n",
    "\n",
    "        print()"
   ]
  },
  {
   "cell_type": "code",
   "execution_count": 2,
   "metadata": {},
   "outputs": [],
   "source": [
    "values = [list(range(90, 100)), \n",
    "          list(range(100, 110)), \n",
    "          list(range(110, 120)), \n",
    "          list(range(120, 130)), \n",
    "          list(range(130, 140)), \n",
    "          list(range(140, 150)), \n",
    "          list(range(150, 160)), \n",
    "          list(range(160, 170)), \n",
    "          list(range(170, 180)), \n",
    "          list(range(180, 190)), \n",
    "          list(range(190, 200))]"
   ]
  },
  {
   "cell_type": "code",
   "execution_count": 3,
   "metadata": {},
   "outputs": [
    {
     "name": "stdout",
     "output_type": "stream",
     "text": [
      "      0    1    2    3    4    5    6    7    8    9\n",
      " 0   90   91   92   93   94   95   96   97   98   99\n",
      " 1  100  101  102  103  104  105  106  107  108  109\n",
      " 2  110  111  112  113  114  115  116  117  118  119\n",
      " 3  120  121  122  123  124  125  126  127  128  129\n",
      " 4  130  131  132  133  134  135  136  137  138  139\n",
      " 5  140  141  142  143  144  145  146  147  148  149\n",
      " 6  150  151  152  153  154  155  156  157  158  159\n",
      " 7  160  161  162  163  164  165  166  167  168  169\n",
      " 8  170  171  172  173  174  175  176  177  178  179\n",
      " 9  180  181  182  183  184  185  186  187  188  189\n",
      "10  190  191  192  193  194  195  196  197  198  199\n"
     ]
    }
   ],
   "source": [
    "display_table(values, 5)"
   ]
  },
  {
   "cell_type": "code",
   "execution_count": null,
   "metadata": {},
   "outputs": [],
   "source": [
    "##########################################################################\n",
    "# (C) Copyright 2019 by Deitel & Associates, Inc. and                    #\n",
    "# Pearson Education, Inc. All Rights Reserved.                           #\n",
    "#                                                                        #\n",
    "# DISCLAIMER: The authors and publisher of this book have used their     #\n",
    "# best efforts in preparing the book. These efforts include the          #\n",
    "# development, research, and testing of the theories and programs        #\n",
    "# to determine their effectiveness. The authors and publisher make       #\n",
    "# no warranty of any kind, expressed or implied, with regard to these    #\n",
    "# programs or to the documentation contained in these books. The authors #\n",
    "# and publisher shall not be liable in any event for incidental or       #\n",
    "# consequential damages in connection with, or arising out of, the       #\n",
    "# furnishing, performance, or use of these programs.                     #\n",
    "##########################################################################"
   ]
  }
 ],
 "metadata": {
  "kernelspec": {
   "display_name": "Python 3",
   "language": "python",
   "name": "python3"
  },
  "language_info": {
   "codemirror_mode": {
    "name": "ipython",
    "version": 3
   },
   "file_extension": ".py",
   "mimetype": "text/x-python",
   "name": "python",
   "nbconvert_exporter": "python",
   "pygments_lexer": "ipython3",
   "version": "3.7.3"
  }
 },
 "nbformat": 4,
 "nbformat_minor": 2
}
