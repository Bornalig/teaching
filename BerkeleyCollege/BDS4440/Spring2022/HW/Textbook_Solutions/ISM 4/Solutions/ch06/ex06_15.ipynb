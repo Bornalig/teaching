{
 "cells": [
  {
   "cell_type": "markdown",
   "metadata": {},
   "source": [
    "# Exercise 6.15\n",
    "Run this as a script from the command line using ex06_15.py\n",
    "\n",
    "```python\n",
    "# Exercise 6.15\n",
    "\"\"\"Graphing frequencies of two dice rolls with Seaborn.\"\"\"\n",
    "from matplotlib import animation\n",
    "import matplotlib.pyplot as plt\n",
    "import numpy as np\n",
    "import random \n",
    "import seaborn as sns\n",
    "import sys\n",
    "\n",
    "def update(frame_number, number_of_rolls, frequencies, faces):\n",
    "    # we subtract two from the sum of the dice to increment frequencies elements based on index 0\n",
    "    for i in range(number_of_rolls):\n",
    "        frequencies[random.randrange(1, 7) + random.randrange(1, 7) - 2] += 1\n",
    "        \n",
    "    plt.cla()\n",
    "    title = f'Rolling Dice {sum(frequencies):,} Times'\n",
    "    sns.set_style('whitegrid')  # white backround with gray grid lines\n",
    "    axes = sns.barplot(x=faces, y=frequencies, palette='bright')  # create bars\n",
    "    axes.set_title(title)  # set graph title\n",
    "    axes.set(xlabel='Face', ylabel='Frequency')  # label the axes\n",
    "\n",
    "    # scale y-axis by 10% to make room for text above bars\n",
    "    axes.set_ylim(top=max(frequencies) * 1.10)\n",
    "\n",
    "    # display frequency & percentage above each patch (bar)\n",
    "    for bar, frequency in zip(axes.patches, frequencies):\n",
    "        text_x = bar.get_x() + bar.get_width() / 2.0  \n",
    "        text_y = bar.get_height() \n",
    "        text = f'{frequency:,}\\n{frequency / sum(frequencies):.3%}'\n",
    "        axes.text(text_x, text_y, text, \n",
    "                  fontsize=11, ha='center', va='bottom')\n",
    "\n",
    "frequencies = [0] * 11\n",
    "faces = list(range(2, 13))\n",
    "number_of_frames = int(sys.argv[1])  \n",
    "rolls_per_frame = int(sys.argv[2])  \n",
    "figure = plt.figure('Rolling Two Dice')\n",
    "\n",
    "dice_animation = animation.FuncAnimation(figure, update, repeat=False, \n",
    "    interval=33, frames=number_of_frames, fargs=(rolls_per_frame, frequencies, faces))\n",
    "\n",
    "plt.show()  # display graph \n",
    "```"
   ]
  },
  {
   "cell_type": "code",
   "execution_count": 9,
   "metadata": {},
   "outputs": [],
   "source": [
    "##########################################################################\n",
    "# (C) Copyright 2019 by Deitel & Associates, Inc. and                    #\n",
    "# Pearson Education, Inc. All Rights Reserved.                           #\n",
    "#                                                                        #\n",
    "# DISCLAIMER: The authors and publisher of this book have used their     #\n",
    "# best efforts in preparing the book. These efforts include the          #\n",
    "# development, research, and testing of the theories and programs        #\n",
    "# to determine their effectiveness. The authors and publisher make       #\n",
    "# no warranty of any kind, expressed or implied, with regard to these    #\n",
    "# programs or to the documentation contained in these books. The authors #\n",
    "# and publisher shall not be liable in any event for incidental or       #\n",
    "# consequential damages in connection with, or arising out of, the       #\n",
    "# furnishing, performance, or use of these programs.                     #\n",
    "##########################################################################"
   ]
  }
 ],
 "metadata": {
  "kernelspec": {
   "display_name": "Python 3",
   "language": "python",
   "name": "python3"
  },
  "language_info": {
   "codemirror_mode": {
    "name": "ipython",
    "version": 3
   },
   "file_extension": ".py",
   "mimetype": "text/x-python",
   "name": "python",
   "nbconvert_exporter": "python",
   "pygments_lexer": "ipython3",
   "version": "3.7.3"
  }
 },
 "nbformat": 4,
 "nbformat_minor": 2
}
