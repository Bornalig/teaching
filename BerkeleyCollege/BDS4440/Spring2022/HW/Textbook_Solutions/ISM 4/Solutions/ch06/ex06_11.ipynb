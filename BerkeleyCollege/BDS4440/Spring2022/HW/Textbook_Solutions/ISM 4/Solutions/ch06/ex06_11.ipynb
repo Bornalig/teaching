{
 "cells": [
  {
   "cell_type": "markdown",
   "metadata": {},
   "source": [
    "# Exercise 6.11"
   ]
  },
  {
   "cell_type": "code",
   "execution_count": 1,
   "metadata": {},
   "outputs": [
    {
     "name": "stdout",
     "output_type": "stream",
     "text": [
      " 222144 games won and  111756 games lost on roll #1\n",
      "  77495 games won and  110701 games lost on roll #2\n",
      "  55043 games won and   79433 games lost on roll #3\n",
      "  39285 games won and   57424 games lost on roll #4\n",
      "  28048 games won and   41396 games lost on roll #5\n",
      "  20019 games won and   29528 games lost on roll #6\n",
      "  14337 games won and   21280 games lost on roll #7\n",
      "  10166 games won and   15601 games lost on roll #8\n",
      "   7232 games won and   11130 games lost on roll #9\n",
      "   5328 games won and    7950 games lost on roll #10\n",
      "   3884 games won and    5789 games lost on roll #11\n",
      "   2771 games won and    4133 games lost on roll #12\n",
      "   1938 games won and    3027 games lost on roll #13\n",
      "   1440 games won and    2136 games lost on roll #14\n",
      "   1024 games won and    1568 games lost on roll #15\n",
      "    760 games won and    1181 games lost on roll #16\n",
      "    573 games won and     806 games lost on roll #17\n",
      "    400 games won and     571 games lost on roll #18\n",
      "    297 games won and     433 games lost on roll #19\n",
      "    198 games won and     320 games lost on roll #20\n",
      "    534 games won and     921 games lost on after the 20th roll\n",
      "\n",
      "The chances of winning are 492916 / 1000000 = 49.29%\n",
      "The average game length is 3.37 rolls\n"
     ]
    }
   ],
   "source": [
    "# Exercise 6.11\n",
    "# ex06_11.py\n",
    "\"\"\"Simulating the dice game Craps.\"\"\"\n",
    "import random\n",
    "\n",
    "def roll_dice():\n",
    "    \"\"\"Roll two dice and return their face values as a tuple.\"\"\"\n",
    "    die1 = random.randrange(1, 7)\n",
    "    die2 = random.randrange(1, 7)\n",
    "    return (die1, die2)  # pack die face values into a tuple\n",
    "\n",
    "wins = {}\n",
    "losses = {}\n",
    "\n",
    "for i in range(1_000_000):\n",
    "    # determine game status and point, based on first roll\n",
    "    die_values = roll_dice()  # first roll\n",
    "    sum_of_dice = sum(die_values)\n",
    "    rolls = 1\n",
    "\n",
    "    if sum_of_dice in (7, 11):  # win\n",
    "        game_status = 'WON'\n",
    "    elif sum_of_dice in (2, 3, 12):  # lose\n",
    "        game_status = 'LOST'\n",
    "    else:  # remember point\n",
    "        game_status = 'CONTINUE'\n",
    "        my_point = sum_of_dice\n",
    "\n",
    "    # continue rolling until player wins or loses\n",
    "    while game_status == 'CONTINUE':\n",
    "        die_values = roll_dice()\n",
    "        rolls += 1\n",
    "        sum_of_dice = sum(die_values)\n",
    "\n",
    "        if sum_of_dice == my_point:  # win by making point\n",
    "            game_status = 'WON'\n",
    "        elif sum_of_dice == 7:  # lose by rolling 7\n",
    "            game_status = 'LOST'\n",
    "    \n",
    "    # display \"wins\" or \"loses\" message\n",
    "    if rolls > 21:\n",
    "        rolls = 21\n",
    "        \n",
    "    if game_status == 'WON':\n",
    "        wins[rolls] = wins[rolls] + 1 if rolls in wins else 1\n",
    "    else:\n",
    "        losses[rolls] = losses[rolls] + 1 if rolls in losses else 1\n",
    "                                       \n",
    "# display number of wins and losses on all rolls\n",
    "total_length = 0\n",
    "\n",
    "for i in range(1, 22):\n",
    "    print(f'{wins.get(i, 0):7d} games won and {losses.get(i, 0):7d} games lost on',\n",
    "         f'roll #{i}' if i in range(1, 21) else 'after the 20th roll')\n",
    "\n",
    "    # for calculating length of game\n",
    "    # number of wins/losses on that roll multiplied\n",
    "    # by the roll number, then add them to length\n",
    "    total_length += wins.get(i, 0) * i + losses.get(i, 0) * i;\n",
    "\n",
    "# calculate chances of winning\n",
    "total_games = sum(wins.values()) + sum(losses.values())\n",
    "total_wins = sum(wins.values())\n",
    "                                       \n",
    "print(f'\\nThe chances of winning are {total_wins} / {total_games} = {total_wins / total_games:.2%}')\n",
    "print(f'The average game length is {total_length / total_games:.2f} rolls')\n"
   ]
  },
  {
   "cell_type": "code",
   "execution_count": null,
   "metadata": {},
   "outputs": [],
   "source": [
    "##########################################################################\n",
    "# (C) Copyright 2019 by Deitel & Associates, Inc. and                    #\n",
    "# Pearson Education, Inc. All Rights Reserved.                           #\n",
    "#                                                                        #\n",
    "# DISCLAIMER: The authors and publisher of this book have used their     #\n",
    "# best efforts in preparing the book. These efforts include the          #\n",
    "# development, research, and testing of the theories and programs        #\n",
    "# to determine their effectiveness. The authors and publisher make       #\n",
    "# no warranty of any kind, expressed or implied, with regard to these    #\n",
    "# programs or to the documentation contained in these books. The authors #\n",
    "# and publisher shall not be liable in any event for incidental or       #\n",
    "# consequential damages in connection with, or arising out of, the       #\n",
    "# furnishing, performance, or use of these programs.                     #\n",
    "##########################################################################"
   ]
  }
 ],
 "metadata": {
  "kernelspec": {
   "display_name": "Python 3",
   "language": "python",
   "name": "python3"
  },
  "language_info": {
   "codemirror_mode": {
    "name": "ipython",
    "version": 3
   },
   "file_extension": ".py",
   "mimetype": "text/x-python",
   "name": "python",
   "nbconvert_exporter": "python",
   "pygments_lexer": "ipython3",
   "version": "3.7.3"
  }
 },
 "nbformat": 4,
 "nbformat_minor": 2
}
