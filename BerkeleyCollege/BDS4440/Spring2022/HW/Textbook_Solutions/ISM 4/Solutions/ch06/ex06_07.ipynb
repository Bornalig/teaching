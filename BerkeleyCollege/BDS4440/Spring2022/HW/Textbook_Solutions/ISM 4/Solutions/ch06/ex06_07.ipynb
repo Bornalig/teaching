{
 "cells": [
  {
   "cell_type": "markdown",
   "metadata": {},
   "source": [
    "# Exercise 6.7"
   ]
  },
  {
   "cell_type": "code",
   "execution_count": 1,
   "metadata": {},
   "outputs": [
    {
     "name": "stdout",
     "output_type": "stream",
     "text": [
      "CHARACTER   COUNT\n",
      "a           3\n",
      "d           3\n",
      "e           10\n",
      "f           2\n",
      "h           4\n",
      "i           7\n",
      "l           3\n",
      "m           4\n",
      "n           1\n",
      "o           4\n",
      "p           2\n",
      "r           5\n",
      "s           10\n",
      "t           9\n",
      "v           1\n",
      "w           4\n",
      "x           2\n",
      "\n",
      "letters not in original string\n",
      "['b', 'c', 'd', 'g', 'i', 'j', 'k', 'n', 'q', 'r', 's', 't', 'u', 'y', 'z']\n"
     ]
    }
   ],
   "source": [
    "# ex06_07.py\n",
    "\"\"\"Character counts.\"\"\"\n",
    "\n",
    "text = ('this is sample text with several words ' \n",
    "        'this is more sample text with some different words')\n",
    "\n",
    "characters = []\n",
    "for word in text.lower().split():\n",
    "    characters.extend(list(word))\n",
    "\n",
    "character_counts = {}\n",
    "\n",
    "# count occurrences of each unique word\n",
    "for character in characters:\n",
    "    if character in character_counts: \n",
    "        character_counts[character] += 1  # update existing key-value pair\n",
    "    else:\n",
    "        character_counts[character] = 1  # insert new key-value pair\n",
    "\n",
    "print(f'{\"CHARACTER\":<12}COUNT')\n",
    "\n",
    "for character, count in sorted(character_counts.items()):\n",
    "    print(f'{character:<12}{count}')\n",
    "\n",
    "# Note: We did not introduce string.ascii_lowercase or string.digits in the book,\n",
    "# but they contain the alphabet and digits respectively, so you can have your \n",
    "# students use these or simply define their own strings\n",
    "import string\n",
    "unique_letters = set(character_counts.keys()) - set('string.digits')\n",
    "alphabet = set(string.ascii_lowercase) \n",
    "print(f'\\nletters not in original string\\n{sorted(alphabet - unique_letters)}')"
   ]
  },
  {
   "cell_type": "code",
   "execution_count": null,
   "metadata": {},
   "outputs": [],
   "source": [
    "##########################################################################\n",
    "# (C) Copyright 2019 by Deitel & Associates, Inc. and                    #\n",
    "# Pearson Education, Inc. All Rights Reserved.                           #\n",
    "#                                                                        #\n",
    "# DISCLAIMER: The authors and publisher of this book have used their     #\n",
    "# best efforts in preparing the book. These efforts include the          #\n",
    "# development, research, and testing of the theories and programs        #\n",
    "# to determine their effectiveness. The authors and publisher make       #\n",
    "# no warranty of any kind, expressed or implied, with regard to these    #\n",
    "# programs or to the documentation contained in these books. The authors #\n",
    "# and publisher shall not be liable in any event for incidental or       #\n",
    "# consequential damages in connection with, or arising out of, the       #\n",
    "# furnishing, performance, or use of these programs.                     #\n",
    "##########################################################################"
   ]
  }
 ],
 "metadata": {
  "kernelspec": {
   "display_name": "Python 3",
   "language": "python",
   "name": "python3"
  },
  "language_info": {
   "codemirror_mode": {
    "name": "ipython",
    "version": 3
   },
   "file_extension": ".py",
   "mimetype": "text/x-python",
   "name": "python",
   "nbconvert_exporter": "python",
   "pygments_lexer": "ipython3",
   "version": "3.7.3"
  }
 },
 "nbformat": 4,
 "nbformat_minor": 2
}
