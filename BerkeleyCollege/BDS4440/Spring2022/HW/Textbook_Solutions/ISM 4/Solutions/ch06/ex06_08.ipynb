{
 "cells": [
  {
   "cell_type": "markdown",
   "metadata": {},
   "source": [
    "# Exercise 6.8"
   ]
  },
  {
   "cell_type": "code",
   "execution_count": 16,
   "metadata": {},
   "outputs": [
    {
     "name": "stdin",
     "output_type": "stream",
     "text": [
      "Enter a dollar amount less than 1000.00:  987.65\n"
     ]
    },
    {
     "name": "stdout",
     "output_type": "stream",
     "text": [
      "NINE HUNDRED EIGHTY SEVEN AND 65/100\n"
     ]
    }
   ],
   "source": [
    "# ex06_08.py\n",
    "number_to_word = {\n",
    "    0: 'ZERO', 1: 'ONE', 2: 'TWO', 3: 'THREE', 4: 'FOUR', \n",
    "    5: 'FIVE', 6: 'SIX', 7: 'SEVEN', 8: 'EIGHT', 9: 'NINE',\n",
    "    10: 'TEN', 11: 'ELEVEN', 12: 'TWELVE', 13: 'THIRTEEN', \n",
    "    14: 'FOURTEEN', 15: 'FIFTEEN', 16: 'SIXTEEN', 17: 'SEVENTEEN', \n",
    "    18: 'EIGHTEEN', 19: 'NINETEEN', 20: 'TWENTY', 30: 'THIRTY', \n",
    "    40: 'FORTY', 50: 'FIFTY', 60: 'SIXTY', 70: 'SEVENTY', \n",
    "    80: 'EIGHTY', 90: 'NINETY'\n",
    "}\n",
    "\n",
    "amount = input('Enter a dollar amount less than 1000.00: ')\n",
    "dollars, cents = amount.split('.')\n",
    "dollars = int(dollars)\n",
    "cents = int(cents)\n",
    "amount_in_words = []\n",
    "\n",
    "if dollars == 0:\n",
    "    amount_in_words.append(number_to_word[dollars])\n",
    "elif dollars >= 100:\n",
    "    amount_in_words.append(number_to_word[dollars // 100] + ' HUNDRED')\n",
    "\n",
    "dollars %= 100 \n",
    "\n",
    "if dollars in range(10, 20):\n",
    "    amount_in_words.append(number_to_word[dollars])\n",
    "elif dollars in range(20, 100):\n",
    "    amount_in_words.append(number_to_word[dollars // 10 * 10])\n",
    "    dollars %= 10 \n",
    "\n",
    "if dollars in range(1, 10):\n",
    "    amount_in_words.append(number_to_word[dollars])\n",
    "\n",
    "print(f'{\" \".join(amount_in_words)} AND {cents}/100')"
   ]
  },
  {
   "cell_type": "code",
   "execution_count": null,
   "metadata": {},
   "outputs": [],
   "source": [
    "##########################################################################\n",
    "# (C) Copyright 2019 by Deitel & Associates, Inc. and                    #\n",
    "# Pearson Education, Inc. All Rights Reserved.                           #\n",
    "#                                                                        #\n",
    "# DISCLAIMER: The authors and publisher of this book have used their     #\n",
    "# best efforts in preparing the book. These efforts include the          #\n",
    "# development, research, and testing of the theories and programs        #\n",
    "# to determine their effectiveness. The authors and publisher make       #\n",
    "# no warranty of any kind, expressed or implied, with regard to these    #\n",
    "# programs or to the documentation contained in these books. The authors #\n",
    "# and publisher shall not be liable in any event for incidental or       #\n",
    "# consequential damages in connection with, or arising out of, the       #\n",
    "# furnishing, performance, or use of these programs.                     #\n",
    "##########################################################################"
   ]
  }
 ],
 "metadata": {
  "kernelspec": {
   "display_name": "Python 3",
   "language": "python",
   "name": "python3"
  },
  "language_info": {
   "codemirror_mode": {
    "name": "ipython",
    "version": 3
   },
   "file_extension": ".py",
   "mimetype": "text/x-python",
   "name": "python",
   "nbconvert_exporter": "python",
   "pygments_lexer": "ipython3",
   "version": "3.7.3"
  }
 },
 "nbformat": 4,
 "nbformat_minor": 2
}
