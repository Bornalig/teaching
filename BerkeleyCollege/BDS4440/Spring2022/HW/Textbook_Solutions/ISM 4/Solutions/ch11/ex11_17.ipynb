{
 "cells": [
  {
   "cell_type": "markdown",
   "metadata": {},
   "source": [
    "# Exercise 11.17"
   ]
  },
  {
   "cell_type": "code",
   "execution_count": 16,
   "metadata": {},
   "outputs": [],
   "source": [
    "# Exercise 11.17\n",
    "import math\n",
    "\n",
    "def bucket_sort(data):\n",
    "    \"\"\"Sort an array's values into ascending order using bucket sort.\"\"\"\n",
    "\n",
    "    # Determine largest number of digits in numbers to sort\n",
    "    totalDigits = int(math.log10(max(data)) + 1)\n",
    "\n",
    "    # bucket array where numbers will be placed\n",
    "    pail = [[0] * len(data) for i in range(10)]\n",
    "\n",
    "    # go through all digit places and sort each number\n",
    "    # according to digit place value\n",
    "    for pass_number in range(1, totalDigits + 1): \n",
    "        distribute_elements(data, pail, pass_number)  # distribution pass\n",
    "        collect_elements(data, pail)  # gathering pass\n",
    "\n",
    "        if pass_number != totalDigits: \n",
    "            empty_bucket(pail)  # set size of buckets to 0\n",
    "    \n",
    "def distribute_elements(data, pail, digit):\n",
    "    \"\"\"Distribute elements into buckets based on specified digit\"\"\"\n",
    "    # determine the divisor used to get specific digit\n",
    "    divisor = 10 ** digit\n",
    "\n",
    "    for element in data:\n",
    "        # bucket_number example for hundreds digit:\n",
    "        # (1234 % 1000) // 100 --> 2\n",
    "        bucket_number = (element % divisor) // (divisor // 10)\n",
    "\n",
    "        # retrieve value in pail[bucket_number][0] to\n",
    "        # determine which element of the row to store c[i]\n",
    "        pail[bucket_number][0] += 1\n",
    "        element_number = pail[bucket_number][0]\n",
    "        pail[bucket_number][element_number] = element\n",
    "\n",
    "def collect_elements(data, pails):\n",
    "    \"\"\"Eeturn elements to original array\"\"\"\n",
    "    subscript = 0  # initialize location in data\n",
    "\n",
    "    for i in range(10):  # loop over buckets\n",
    "        for j in range(1, pails[i][0] + 1):  # loop over elements in each bucket\n",
    "            data[subscript] = pails[i][j]  # add element to array\n",
    "            subscript += 1\n",
    "\n",
    "def empty_bucket(pails):\n",
    "    \"\"\"Set size of all buckets to zero\"\"\"\n",
    "    for i in range(10): \n",
    "        pails[i][0] = 0 # set size of bucket to 0"
   ]
  },
  {
   "cell_type": "code",
   "execution_count": 17,
   "metadata": {},
   "outputs": [
    {
     "name": "stdout",
     "output_type": "stream",
     "text": [
      "Unsorted array: [36  5 82 94 63 54 20 15  9  9 23  4 31 67 73 81 66 72 64 88]\n",
      "Sorted array: [ 4  5  9  9 15 20 23 31 36 54 63 64 66 67 72 73 81 82 88 94]\n"
     ]
    }
   ],
   "source": [
    "import numpy as np    \n",
    "data = np.random.randint(100, size=20)\n",
    "print(f'Unsorted array: {data}')\n",
    "bucket_sort(data)  # sort array\n",
    "print(f'Sorted array: {data}')"
   ]
  },
  {
   "cell_type": "code",
   "execution_count": 3,
   "metadata": {},
   "outputs": [],
   "source": [
    "##########################################################################\n",
    "# (C) Copyright 2019 by Deitel & Associates, Inc. and                    #\n",
    "# Pearson Education, Inc. All Rights Reserved.                           #\n",
    "#                                                                        #\n",
    "# DISCLAIMER: The authors and publisher of this book have used their     #\n",
    "# best efforts in preparing the book. These efforts include the          #\n",
    "# development, research, and testing of the theories and programs        #\n",
    "# to determine their effectiveness. The authors and publisher make       #\n",
    "# no warranty of any kind, expressed or implied, with regard to these    #\n",
    "# programs or to the documentation contained in these books. The authors #\n",
    "# and publisher shall not be liable in any event for incidental or       #\n",
    "# consequential damages in connection with, or arising out of, the       #\n",
    "# furnishing, performance, or use of these programs.                     #\n",
    "##########################################################################"
   ]
  }
 ],
 "metadata": {
  "kernelspec": {
   "display_name": "Python 3",
   "language": "python",
   "name": "python3"
  },
  "language_info": {
   "codemirror_mode": {
    "name": "ipython",
    "version": 3
   },
   "file_extension": ".py",
   "mimetype": "text/x-python",
   "name": "python",
   "nbconvert_exporter": "python",
   "pygments_lexer": "ipython3",
   "version": "3.7.3"
  }
 },
 "nbformat": 4,
 "nbformat_minor": 2
}
