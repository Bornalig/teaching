{
 "cells": [
  {
   "cell_type": "markdown",
   "metadata": {},
   "source": [
    "# Exercise 11.19"
   ]
  },
  {
   "cell_type": "code",
   "execution_count": 4,
   "metadata": {},
   "outputs": [],
   "source": [
    "def quick_sort(data, left, right):\n",
    "    \"\"\"recursive method to sort array using quicksort\"\"\"\n",
    "    pivot = partition(data, left, right)\n",
    "\n",
    "    if left < pivot - 1:  # if more than one element on left\n",
    "        quick_sort(data, left, pivot - 1)  # sort left side\n",
    "\n",
    "    if pivot + 1 < right:  # if more than one element on right\n",
    "        quick_sort(data, pivot + 1, right)  # sort right side\n",
    "\n",
    "def partition(data, left, right):\n",
    "    \"\"\"partition the given range and return final index of pivot\"\"\"\n",
    "    pivot = left  # index of pivot element\n",
    "\n",
    "    # loop until two edges meet\n",
    "    while True: \n",
    "        # search for data to right of pivot greater than pivot\n",
    "        while data[right] >= data[pivot]: \n",
    "            if right == pivot:\n",
    "                return pivot  # partitioning completed\n",
    "            \n",
    "            right -= 1  # move left one element\n",
    "\n",
    "        # move right element into correct location\n",
    "        data[pivot], data[right] = data[right], data[pivot]\n",
    "\n",
    "        pivot = right  # update pivot location\n",
    "        right -= 1  # move right edge left\n",
    "\n",
    "        while data[left] <= data[pivot]:\n",
    "            if left == pivot:\n",
    "                return pivot  # partitioning completed\n",
    "            \n",
    "            left += 1  # move right one element\n",
    "\n",
    "        # move left element into correct location\n",
    "        data[pivot], data[left] = data[left], data[pivot]\n",
    "\n",
    "        pivot = left  # update pivot location \n",
    "        left += 1  # move left edge right"
   ]
  },
  {
   "cell_type": "code",
   "execution_count": 11,
   "metadata": {},
   "outputs": [
    {
     "name": "stdout",
     "output_type": "stream",
     "text": [
      "Unsorted array: [48 35 79 93 25 37 66 68 71 54 51 54 98 45 25  4 16 14 52 74]\n",
      "Unsorted array: [ 4 14 16 25 25 35 37 45 48 51 52 54 54 66 68 71 74 79 93 98]\n"
     ]
    }
   ],
   "source": [
    "import numpy as np\n",
    "data = np.random.randint(100, size=20)\n",
    "print(f'Unsorted array: {data}')\n",
    "quick_sort(data, 0, len(data) - 1)  # sort array\n",
    "print(f'Unsorted array: {data}')   "
   ]
  },
  {
   "cell_type": "code",
   "execution_count": 3,
   "metadata": {},
   "outputs": [],
   "source": [
    "##########################################################################\n",
    "# (C) Copyright 2019 by Deitel & Associates, Inc. and                    #\n",
    "# Pearson Education, Inc. All Rights Reserved.                           #\n",
    "#                                                                        #\n",
    "# DISCLAIMER: The authors and publisher of this book have used their     #\n",
    "# best efforts in preparing the book. These efforts include the          #\n",
    "# development, research, and testing of the theories and programs        #\n",
    "# to determine their effectiveness. The authors and publisher make       #\n",
    "# no warranty of any kind, expressed or implied, with regard to these    #\n",
    "# programs or to the documentation contained in these books. The authors #\n",
    "# and publisher shall not be liable in any event for incidental or       #\n",
    "# consequential damages in connection with, or arising out of, the       #\n",
    "# furnishing, performance, or use of these programs.                     #\n",
    "##########################################################################"
   ]
  }
 ],
 "metadata": {
  "kernelspec": {
   "display_name": "Python 3",
   "language": "python",
   "name": "python3"
  },
  "language_info": {
   "codemirror_mode": {
    "name": "ipython",
    "version": 3
   },
   "file_extension": ".py",
   "mimetype": "text/x-python",
   "name": "python",
   "nbconvert_exporter": "python",
   "pygments_lexer": "ipython3",
   "version": "3.7.3"
  }
 },
 "nbformat": 4,
 "nbformat_minor": 2
}
