{
 "cells": [
  {
   "cell_type": "markdown",
   "metadata": {},
   "source": [
    "# Exercise 11.12"
   ]
  },
  {
   "cell_type": "code",
   "execution_count": 1,
   "metadata": {},
   "outputs": [],
   "source": [
    "def solve_towers(disks, source_peg, destination_peg, temp_peg):\n",
    "    \"\"\"recursively move disks between towers\"\"\"\n",
    "    # base case -- only one disk to move\n",
    "    if disks == 1:\n",
    "        print(f'\\n{source_peg} --> {destination_peg}', end='')         \n",
    "        return\n",
    "\n",
    "    # recursion step -- move (disk - 1) disks from source_peg\n",
    "    # to temp_peg using destination_peg\n",
    "    solve_towers(disks - 1, source_peg, temp_peg, destination_peg)\n",
    "\n",
    "    # move last disk from source_peg to destination_peg\n",
    "    print(f'\\n{source_peg} --> {destination_peg}', end='')\n",
    "\n",
    "    # move (disks - 1) disks from temp_peg to destination_peg\n",
    "    solve_towers(disks - 1, temp_peg, destination_peg, source_peg)"
   ]
  },
  {
   "cell_type": "code",
   "execution_count": 2,
   "metadata": {},
   "outputs": [
    {
     "name": "stdout",
     "output_type": "stream",
     "text": [
      "\n",
      "1 --> 3\n",
      "1 --> 2\n",
      "3 --> 2\n",
      "1 --> 3\n",
      "2 --> 1\n",
      "2 --> 3\n",
      "1 --> 3"
     ]
    }
   ],
   "source": [
    "start_peg = 1  # value 1 used to indicate start_peg in output\n",
    "end_peg = 3  # value 3 used to indicate end_peg in output\n",
    "temp_peg = 2  # value 2 used to indicate temp_peg in output\n",
    "total_disks = 3  # number of disks\n",
    "\n",
    "# initial nonrecursive call: move all disks\n",
    "solve_towers(total_disks, start_peg, end_peg, temp_peg)"
   ]
  },
  {
   "cell_type": "code",
   "execution_count": 3,
   "metadata": {},
   "outputs": [],
   "source": [
    "##########################################################################\n",
    "# (C) Copyright 2019 by Deitel & Associates, Inc. and                    #\n",
    "# Pearson Education, Inc. All Rights Reserved.                           #\n",
    "#                                                                        #\n",
    "# DISCLAIMER: The authors and publisher of this book have used their     #\n",
    "# best efforts in preparing the book. These efforts include the          #\n",
    "# development, research, and testing of the theories and programs        #\n",
    "# to determine their effectiveness. The authors and publisher make       #\n",
    "# no warranty of any kind, expressed or implied, with regard to these    #\n",
    "# programs or to the documentation contained in these books. The authors #\n",
    "# and publisher shall not be liable in any event for incidental or       #\n",
    "# consequential damages in connection with, or arising out of, the       #\n",
    "# furnishing, performance, or use of these programs.                     #\n",
    "##########################################################################"
   ]
  }
 ],
 "metadata": {
  "kernelspec": {
   "display_name": "Python 3",
   "language": "python",
   "name": "python3"
  },
  "language_info": {
   "codemirror_mode": {
    "name": "ipython",
    "version": 3
   },
   "file_extension": ".py",
   "mimetype": "text/x-python",
   "name": "python",
   "nbconvert_exporter": "python",
   "pygments_lexer": "ipython3",
   "version": "3.7.3"
  }
 },
 "nbformat": 4,
 "nbformat_minor": 2
}
