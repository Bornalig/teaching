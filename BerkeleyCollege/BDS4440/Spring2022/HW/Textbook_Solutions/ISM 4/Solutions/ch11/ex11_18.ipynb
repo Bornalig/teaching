{
 "cells": [
  {
   "cell_type": "markdown",
   "metadata": {},
   "source": [
    "# Exercise 11.18"
   ]
  },
  {
   "cell_type": "code",
   "execution_count": 3,
   "metadata": {},
   "outputs": [
    {
     "name": "stdout",
     "output_type": "stream",
     "text": [
      "[11 16 18 32 52 57 60 61 62 67 70 72 75 81 86] \n",
      "\n"
     ]
    },
    {
     "name": "stdin",
     "output_type": "stream",
     "text": [
      "Enter an integer value (-1 to quit):  61\n"
     ]
    },
    {
     "name": "stdout",
     "output_type": "stream",
     "text": [
      "11 16 18 32 52 57 60 61 62 67 70 72 75 81 86\n",
      "                      * \n",
      "61 found in position 7\n",
      "\n"
     ]
    },
    {
     "name": "stdin",
     "output_type": "stream",
     "text": [
      "Enter an integer value (-1 to quit):  57\n"
     ]
    },
    {
     "name": "stdout",
     "output_type": "stream",
     "text": [
      "11 16 18 32 52 57 60 61 62 67 70 72 75 81 86\n",
      "                      * \n",
      "11 16 18 32 52 57 60\n",
      "          * \n",
      "            52 57 60\n",
      "                * \n",
      "57 found in position 5\n",
      "\n"
     ]
    },
    {
     "name": "stdin",
     "output_type": "stream",
     "text": [
      "Enter an integer value (-1 to quit):  56\n"
     ]
    },
    {
     "name": "stdout",
     "output_type": "stream",
     "text": [
      "11 16 18 32 52 57 60 61 62 67 70 72 75 81 86\n",
      "                      * \n",
      "11 16 18 32 52 57 60\n",
      "          * \n",
      "            52 57 60\n",
      "                * \n",
      "            52\n",
      "             * \n",
      "56 was not found\n",
      "\n"
     ]
    },
    {
     "name": "stdin",
     "output_type": "stream",
     "text": [
      "Enter an integer value (-1 to quit):  10\n"
     ]
    },
    {
     "name": "stdout",
     "output_type": "stream",
     "text": [
      "11 16 18 32 52 57 60 61 62 67 70 72 75 81 86\n",
      "                      * \n",
      "11 16 18 32 52 57 60\n",
      "          * \n",
      "11 16 18\n",
      "    * \n",
      "11\n",
      " * \n",
      "10 was not found\n",
      "\n"
     ]
    },
    {
     "name": "stdin",
     "output_type": "stream",
     "text": [
      "Enter an integer value (-1 to quit):  86\n"
     ]
    },
    {
     "name": "stdout",
     "output_type": "stream",
     "text": [
      "11 16 18 32 52 57 60 61 62 67 70 72 75 81 86\n",
      "                      * \n",
      "                        62 67 70 72 75 81 86\n",
      "                                  * \n",
      "                                    75 81 86\n",
      "                                        * \n",
      "                                          86\n",
      "                                           * \n",
      "86 found in position 14\n",
      "\n"
     ]
    },
    {
     "name": "stdin",
     "output_type": "stream",
     "text": [
      "Enter an integer value (-1 to quit):  87\n"
     ]
    },
    {
     "name": "stdout",
     "output_type": "stream",
     "text": [
      "11 16 18 32 52 57 60 61 62 67 70 72 75 81 86\n",
      "                      * \n",
      "                        62 67 70 72 75 81 86\n",
      "                                  * \n",
      "                                    75 81 86\n",
      "                                        * \n",
      "                                          86\n",
      "                                           * \n",
      "87 was not found\n",
      "\n"
     ]
    },
    {
     "name": "stdin",
     "output_type": "stream",
     "text": [
      "Enter an integer value (-1 to quit):  67\n"
     ]
    },
    {
     "name": "stdout",
     "output_type": "stream",
     "text": [
      "11 16 18 32 52 57 60 61 62 67 70 72 75 81 86\n",
      "                      * \n",
      "                        62 67 70 72 75 81 86\n",
      "                                  * \n",
      "                        62 67 70\n",
      "                            * \n",
      "67 found in position 9\n",
      "\n"
     ]
    },
    {
     "name": "stdin",
     "output_type": "stream",
     "text": [
      "Enter an integer value (-1 to quit):  -1\n"
     ]
    }
   ],
   "source": [
    "\"\"\"Use recursive binary search to locate an item in an array.\"\"\"\n",
    "import numpy as np\n",
    "\n",
    "def recursive_binary_search(data, key, low, high):\n",
    "    \"\"\"Perform binary search of data looking for key.\"\"\"\n",
    "    \n",
    "    if low > high:  # test base case; no element left to check\n",
    "        return -1\n",
    "    \n",
    "    middle = (low + high + 1) // 2  # middle element index\n",
    "    \n",
    "    # print remaining elements of array\n",
    "    print(remaining_elements(data, low, high))\n",
    "        \n",
    "    print('   ' * middle, end='')  # output spaces for alignment\n",
    "    print(' * ')  # indicate current middle\n",
    "    \n",
    "    location = -1  # return value -1 if not found\n",
    "    \n",
    "    # if the element is found at the middle                    \n",
    "    if key == data[middle]:                                   \n",
    "        location = middle  # location is the current middle     \n",
    "    elif key < data[middle]:  # middle element is too high\n",
    "        # eliminate the higher half    \n",
    "        location = recursive_binary_search(data, key, low, middle - 1)      \n",
    "    else:  # middle element is too low                         \n",
    "        low = middle + 1  \n",
    "        # eliminate the lower half   \n",
    "        location = recursive_binary_search(data, key, middle + 1, high)\n",
    "\n",
    "    return location  # return location of search key\n",
    "                            \n",
    "def remaining_elements(data, low, high):\n",
    "    \"\"\"Display remaining elements of the binary search.\"\"\"\n",
    "    return '   ' * low + ' '.join(str(s) for s in data[low:high + 1])\n",
    "\n",
    "def main():\n",
    "    # create and display array of random values\n",
    "    data = np.random.randint(10, 91, 15)\n",
    "    data.sort()\n",
    "    print(data, '\\n')\n",
    "\n",
    "    key = int(input('Enter an integer value (-1 to quit): ')) \n",
    "\n",
    "    # repeatedly input an integer; -1 terminates the program\n",
    "    while key != -1:\n",
    "        location = recursive_binary_search(data, key, 0, len(data) - 1) \n",
    "\n",
    "        if location == -1:  # not found\n",
    "            print(f'{key} was not found\\n') \n",
    "        else:\n",
    "            print(f'{key} found in position {location}\\n')\n",
    "\n",
    "        key = int(input('Enter an integer value (-1 to quit): '))\n",
    "\n",
    "# call main if this file is executed as a script\n",
    "if __name__ == '__main__':\n",
    "    main()"
   ]
  },
  {
   "cell_type": "code",
   "execution_count": 3,
   "metadata": {},
   "outputs": [],
   "source": [
    "##########################################################################\n",
    "# (C) Copyright 2019 by Deitel & Associates, Inc. and                    #\n",
    "# Pearson Education, Inc. All Rights Reserved.                           #\n",
    "#                                                                        #\n",
    "# DISCLAIMER: The authors and publisher of this book have used their     #\n",
    "# best efforts in preparing the book. These efforts include the          #\n",
    "# development, research, and testing of the theories and programs        #\n",
    "# to determine their effectiveness. The authors and publisher make       #\n",
    "# no warranty of any kind, expressed or implied, with regard to these    #\n",
    "# programs or to the documentation contained in these books. The authors #\n",
    "# and publisher shall not be liable in any event for incidental or       #\n",
    "# consequential damages in connection with, or arising out of, the       #\n",
    "# furnishing, performance, or use of these programs.                     #\n",
    "##########################################################################"
   ]
  }
 ],
 "metadata": {
  "kernelspec": {
   "display_name": "Python 3",
   "language": "python",
   "name": "python3"
  },
  "language_info": {
   "codemirror_mode": {
    "name": "ipython",
    "version": 3
   },
   "file_extension": ".py",
   "mimetype": "text/x-python",
   "name": "python",
   "nbconvert_exporter": "python",
   "pygments_lexer": "ipython3",
   "version": "3.7.3"
  }
 },
 "nbformat": 4,
 "nbformat_minor": 2
}
