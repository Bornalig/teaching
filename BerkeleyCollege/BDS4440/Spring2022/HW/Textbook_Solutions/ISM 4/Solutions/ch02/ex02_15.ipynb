{
 "cells": [
  {
   "cell_type": "markdown",
   "metadata": {},
   "source": [
    "# Exercise 2.15"
   ]
  },
  {
   "cell_type": "code",
   "execution_count": 21,
   "metadata": {},
   "outputs": [
    {
     "name": "stdin",
     "output_type": "stream",
     "text": [
      "Enter first number:  12.5\n",
      "Enter first number:  11.5\n",
      "Enter first number:  10.5\n"
     ]
    },
    {
     "name": "stdout",
     "output_type": "stream",
     "text": [
      "10.5 11.5 12.5\n"
     ]
    }
   ],
   "source": [
    "\"\"\"Script that inputs three different floating-point numbers \n",
    "from the user and displays the numbers in increasing order.\"\"\"\n",
    "\n",
    "number1 = float(input('Enter first number: '))\n",
    "number2 = float(input('Enter first number: '))\n",
    "number3 = float(input('Enter first number: '))\n",
    "\n",
    "if number1 < number2 < number3:\n",
    "    print(number1, number2, number3)\n",
    "\n",
    "if number1 < number3 < number2:\n",
    "    print(number1, number3, number2)\n",
    "\n",
    "if number2 < number1 < number3:\n",
    "    print(number2, number1, number3)\n",
    "\n",
    "if number2 < number3 < number1:\n",
    "    print(number2, number3, number1)\n",
    "    \n",
    "if number3 < number1 < number2:\n",
    "    print(number3, number1, number2)\n",
    "\n",
    "if number3 < number2 < number1: \n",
    "    print(number3, number2, number1)"
   ]
  },
  {
   "cell_type": "code",
   "execution_count": null,
   "metadata": {},
   "outputs": [],
   "source": [
    "##########################################################################\n",
    "# (C) Copyright 2019 by Deitel & Associates, Inc. and                    #\n",
    "# Pearson Education, Inc. All Rights Reserved.                           #\n",
    "#                                                                        #\n",
    "# DISCLAIMER: The authors and publisher of this book have used their     #\n",
    "# best efforts in preparing the book. These efforts include the          #\n",
    "# development, research, and testing of the theories and programs        #\n",
    "# to determine their effectiveness. The authors and publisher make       #\n",
    "# no warranty of any kind, expressed or implied, with regard to these    #\n",
    "# programs or to the documentation contained in these books. The authors #\n",
    "# and publisher shall not be liable in any event for incidental or       #\n",
    "# consequential damages in connection with, or arising out of, the       #\n",
    "# furnishing, performance, or use of these programs.                     #\n",
    "##########################################################################"
   ]
  }
 ],
 "metadata": {
  "kernelspec": {
   "display_name": "Python 3",
   "language": "python",
   "name": "python3"
  },
  "language_info": {
   "codemirror_mode": {
    "name": "ipython",
    "version": 3
   },
   "file_extension": ".py",
   "mimetype": "text/x-python",
   "name": "python",
   "nbconvert_exporter": "python",
   "pygments_lexer": "ipython3",
   "version": "3.7.3"
  }
 },
 "nbformat": 4,
 "nbformat_minor": 2
}
