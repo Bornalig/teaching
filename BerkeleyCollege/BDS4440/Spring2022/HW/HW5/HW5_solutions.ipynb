{
 "cells": [
  {
   "cell_type": "markdown",
   "metadata": {},
   "source": [
    "# Ch15 Probelm 8"
   ]
  },
  {
   "cell_type": "code",
   "execution_count": 20,
   "metadata": {},
   "outputs": [
    {
     "name": "stdout",
     "output_type": "stream",
     "text": [
      "Best k: 7\n",
      "Best score: 0.8266666666666667\n"
     ]
    }
   ],
   "source": [
    "from sklearn import datasets\n",
    "from sklearn.neighbors import KNeighborsClassifier\n",
    "from sklearn.metrics import accuracy_score\n",
    "from sklearn.model_selection import cross_val_score,KFold\n",
    "iris = datasets.load_iris()\n",
    "X = iris.data[:, :2]  # we only take the first two features.\n",
    "y = iris.target\n",
    "kfold = KFold(n_splits=3, random_state=None, shuffle=True)\n",
    "k_value_scores = {}\n",
    "for k in range(1,75):\n",
    "    knn = KNeighborsClassifier(n_neighbors=k)\n",
    "    scores = cross_val_score(estimator=knn,X=X,y=y,cv=kfold).mean()\n",
    "    k_value_scores[k]=scores\n",
    "best_k = [j for j in list(k_value_scores.keys()) if k_value_scores[j]==max(k_value_scores.values())][0]\n",
    "print('Best k: {}'.format(best_k))\n",
    "print('Best score: {}'.format(k_value_scores[best_k]))"
   ]
  },
  {
   "cell_type": "markdown",
   "metadata": {},
   "source": [
    "# Ch15 Problem 9"
   ]
  },
  {
   "cell_type": "code",
   "execution_count": 38,
   "metadata": {},
   "outputs": [
    {
     "name": "stdout",
     "output_type": "stream",
     "text": [
      "Best model: KNeighborsClassifier(algorithm='auto', leaf_size=30, metric='minkowski',\n",
      "                     metric_params=None, n_jobs=None, n_neighbors=33, p=2,\n",
      "                     weights='uniform'), \n",
      " best score: 0.8\n"
     ]
    }
   ],
   "source": [
    "from sklearn import datasets\n",
    "from sklearn.neighbors import KNeighborsClassifier\n",
    "from sklearn.tree import DecisionTreeClassifier\n",
    "from sklearn.metrics import accuracy_score\n",
    "from sklearn.model_selection import train_test_split,GridSearchCV\n",
    "iris = datasets.load_iris()\n",
    "X = iris.data[:, :2]  # we only take the first two features.\n",
    "y = iris.target\n",
    "X_train,X_test,y_train,y_test = train_test_split(X,y,test_size=0.2)\n",
    "\n",
    "dt = DecisionTreeClassifier()\n",
    "knn = KNeighborsClassifier()\n",
    "dt_parameters = {'criterion':['gini','entropy'],'max_depth':[None,20]}\n",
    "knn_parameters = {'n_neighbors':list(range(1,75)),'p':[1,2]}\n",
    "\n",
    "parameters = [dt_parameters,knn_parameters]\n",
    "models = [dt,knn]\n",
    "evaluations = list(zip(models,parameters))\n",
    "\n",
    "scores = {}\n",
    "for e in evaluations:\n",
    "    gs = GridSearchCV(e[0],e[1])\n",
    "    gs.fit(X_train,y_train)\n",
    "    scores[e[0]]=[gs.best_score_,gs.best_estimator_]\n",
    "    \n",
    "best_model = [j for j in scores.keys() if scores[j][0]==max([u[0] for u in scores.values()])][0]\n",
    "best_model1 = scores[best_model][1]\n",
    "best_score1 = scores[best_model][0]\n",
    "print('Best model: {}, \\n best score: {}'.format(best_model1,best_score1))"
   ]
  },
  {
   "cell_type": "markdown",
   "metadata": {},
   "source": [
    "# Ch 15 Problem 11"
   ]
  },
  {
   "cell_type": "code",
   "execution_count": 47,
   "metadata": {},
   "outputs": [
    {
     "name": "stdout",
     "output_type": "stream",
     "text": [
      "4.92 ms ± 30.8 µs per loop (mean ± std. dev. of 7 runs, 100 loops each)\n",
      "5.34 ms ± 249 µs per loop (mean ± std. dev. of 7 runs, 100 loops each)\n",
      "5.39 ms ± 284 µs per loop (mean ± std. dev. of 7 runs, 100 loops each)\n"
     ]
    }
   ],
   "source": [
    "from sklearn.datasets import load_digits\n",
    "from sklearn.model_selection import cross_val_score,KFold\n",
    "X,y = load_digits(return_X_y=True)\n",
    "\n",
    "\n",
    "knn = KNeighborsClassifier()\n",
    "kfold = KFold(n_splits=3, random_state=None, shuffle=True)\n",
    "k_value_scores = {}\n",
    "for k in [1,10,20]:\n",
    "    knn = KNeighborsClassifier(n_neighbors=k)\n",
    "    %timeit scores = cross_val_score(estimator=knn,X=X_train,y=y_train,cv=kfold).mean()\n",
    "    k_value_scores[k]=scores"
   ]
  },
  {
   "cell_type": "markdown",
   "metadata": {},
   "source": [
    "# Ch 15 Problem 12"
   ]
  },
  {
   "cell_type": "code",
   "execution_count": 54,
   "metadata": {},
   "outputs": [
    {
     "name": "stdout",
     "output_type": "stream",
     "text": [
      "k value:  1   {'fit_time': array([0.00222421, 0.00196624, 0.00209308]), 'score_time': array([0.06811118, 0.06507397, 0.06100893]), 'test_score': array([0.98497496, 0.99499165, 0.98163606])} \n",
      "\n",
      "k value:  10   {'fit_time': array([0.00241327, 0.00190997, 0.00186086]), 'score_time': array([0.0755918 , 0.06715798, 0.07040977]), 'test_score': array([0.97328881, 0.98163606, 0.97328881])} \n",
      "\n",
      "k value:  20   {'fit_time': array([0.00359011, 0.00193214, 0.00188303]), 'score_time': array([0.07425594, 0.06901288, 0.07207894]), 'test_score': array([0.95826377, 0.96327212, 0.96994992])} \n",
      "\n"
     ]
    }
   ],
   "source": [
    "from sklearn.datasets import load_digits\n",
    "from sklearn.model_selection import cross_validate,KFold\n",
    "X,y = load_digits(return_X_y=True)\n",
    "\n",
    "\n",
    "knn = KNeighborsClassifier()\n",
    "kfold = KFold(n_splits=3, random_state=None, shuffle=True)\n",
    "k_value_scores = {}\n",
    "for k in [1,10,20]:\n",
    "    knn = KNeighborsClassifier(n_neighbors=k)\n",
    "    cv_results = cross_validate(knn, X, y, cv=kfold)\n",
    "    print('k value: ',k,' ',cv_results,'\\n')\n",
    "    k_value_scores[k]=cv_results"
   ]
  },
  {
   "cell_type": "code",
   "execution_count": null,
   "metadata": {},
   "outputs": [],
   "source": []
  }
 ],
 "metadata": {
  "kernelspec": {
   "display_name": "Python 3 (ipykernel)",
   "language": "python",
   "name": "python3"
  },
  "language_info": {
   "codemirror_mode": {
    "name": "ipython",
    "version": 3
   },
   "file_extension": ".py",
   "mimetype": "text/x-python",
   "name": "python",
   "nbconvert_exporter": "python",
   "pygments_lexer": "ipython3",
   "version": "3.9.7"
  }
 },
 "nbformat": 4,
 "nbformat_minor": 2
}
