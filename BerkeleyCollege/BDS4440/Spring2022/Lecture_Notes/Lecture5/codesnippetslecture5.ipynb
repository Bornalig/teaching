{
 "cells": [
  {
   "cell_type": "code",
   "execution_count": 1,
   "metadata": {},
   "outputs": [],
   "source": [
    "def factorial(number):\n",
    "    \"\"\"Return factorial of a number.\"\"\"\n",
    "    if number<=1:\n",
    "        return 1\n",
    "    return number*factorial(number-1)"
   ]
  },
  {
   "cell_type": "code",
   "execution_count": 2,
   "metadata": {},
   "outputs": [
    {
     "name": "stdout",
     "output_type": "stream",
     "text": [
      "Factorial(0) = 1\n",
      "Factorial(1) = 1\n",
      "Factorial(2) = 2\n",
      "Factorial(3) = 6\n",
      "Factorial(4) = 24\n",
      "Factorial(5) = 120\n",
      "Factorial(6) = 720\n",
      "Factorial(7) = 5040\n"
     ]
    }
   ],
   "source": [
    "for n in range(8):\n",
    "    print(f'Factorial({n}) = {factorial(n)}')"
   ]
  },
  {
   "cell_type": "code",
   "execution_count": 3,
   "metadata": {},
   "outputs": [
    {
     "data": {
      "text/plain": [
       "3628800"
      ]
     },
     "execution_count": 3,
     "metadata": {},
     "output_type": "execute_result"
    }
   ],
   "source": [
    "factorial(10)"
   ]
  },
  {
   "cell_type": "code",
   "execution_count": 10,
   "metadata": {},
   "outputs": [],
   "source": [
    "def fibonacci(n):\n",
    "    if n in (0,1):\n",
    "        return n\n",
    "    else:\n",
    "        return fibonacci(n-1)+fibonacci(n-2)"
   ]
  },
  {
   "cell_type": "code",
   "execution_count": 12,
   "metadata": {},
   "outputs": [
    {
     "name": "stdout",
     "output_type": "stream",
     "text": [
      "Fibonacci(0) = 0\n",
      "Fibonacci(1) = 1\n",
      "Fibonacci(2) = 1\n",
      "Fibonacci(3) = 2\n",
      "Fibonacci(4) = 3\n",
      "Fibonacci(5) = 5\n",
      "Fibonacci(6) = 8\n",
      "Fibonacci(7) = 13\n"
     ]
    }
   ],
   "source": [
    "for n in range(8):\n",
    "    print(f'Fibonacci({n}) = {fibonacci(n)}')"
   ]
  },
  {
   "cell_type": "code",
   "execution_count": 14,
   "metadata": {},
   "outputs": [],
   "source": [
    "def linear_search(data,search_key):\n",
    "    \"\"\"If present, return the index, if not, return -1\"\"\"\n",
    "    for index,value in enumerate(data):\n",
    "        if value==search_key:\n",
    "            return index\n",
    "    return -1"
   ]
  },
  {
   "cell_type": "code",
   "execution_count": 15,
   "metadata": {},
   "outputs": [
    {
     "data": {
      "text/plain": [
       "3"
      ]
     },
     "execution_count": 15,
     "metadata": {},
     "output_type": "execute_result"
    }
   ],
   "source": [
    "data = [55,10,19,22,300,75]\n",
    "key_to_search_for = 22\n",
    "\n",
    "linear_search(data,key_to_search_for)"
   ]
  },
  {
   "cell_type": "code",
   "execution_count": 36,
   "metadata": {},
   "outputs": [],
   "source": [
    "import numpy as np\n",
    "\n",
    "def remaining_data(data,low,high):\n",
    "    return '  '*low+' '.join(str(s) for s in data[low:high+1])\n",
    "\n",
    "def binary_search(data,key):\n",
    "    \"\"\"Perform binary search of data by looking for key\"\"\"\n",
    "    low = 0 \n",
    "    high = len(data)-1\n",
    "    middle = (low+high+1)//2 \n",
    "    location = -1\n",
    "    steps=0\n",
    "    while low<=high and location==-1:\n",
    "        print(remaining_data(data,low,high))\n",
    "        if key == data[middle]:\n",
    "            location=middle\n",
    "        elif key<data[middle]:\n",
    "            high = middle-1 \n",
    "        else:\n",
    "            low = middle+1\n",
    "        middle = (low+high+1)//2\n",
    "        steps=steps+1\n",
    "    return location,steps"
   ]
  },
  {
   "cell_type": "code",
   "execution_count": 41,
   "metadata": {},
   "outputs": [],
   "source": [
    "def search_binary(data,search_key):\n",
    "    data.sort()\n",
    "    print('data: ',data,'\\n')\n",
    "    while search_key!=-1:\n",
    "        location,steps = binary_search(data,search_key)\n",
    "        if location==-1:\n",
    "            print(f'{search_key} was not found \\n')\n",
    "        else:\n",
    "            print(f'{search_key} found in position {location}  and found in {steps} steps')\n",
    "            search_key=-1"
   ]
  },
  {
   "cell_type": "code",
   "execution_count": 43,
   "metadata": {},
   "outputs": [
    {
     "name": "stdout",
     "output_type": "stream",
     "text": [
      "data:  [16, 23, 31, 35, 36, 46, 48, 52, 54, 57, 63, 76, 83, 89, 90] \n",
      "\n",
      "16 23 31 35 36 46 48 52 54 57 63 76 83 89 90\n",
      "                54 57 63 76 83 89 90\n",
      "                54 57 63\n",
      "57 found in position 9  and found in 3 steps\n"
     ]
    }
   ],
   "source": [
    "data = [16,23,31,35,36,46,48,52,54,57,63,76,83,89,90]\n",
    "search_key = 57\n",
    "\n",
    "search_binary(data,search_key)"
   ]
  },
  {
   "cell_type": "code",
   "execution_count": 45,
   "metadata": {},
   "outputs": [
    {
     "data": {
      "text/plain": [
       "9"
      ]
     },
     "execution_count": 45,
     "metadata": {},
     "output_type": "execute_result"
    }
   ],
   "source": [
    "def linear_search(data,search_key):\n",
    "    \"\"\"If present, return the index, if not, return -1\"\"\"\n",
    "    for index,value in enumerate(data):\n",
    "        if value==search_key:\n",
    "            return index\n",
    "    return -1\n",
    "\n",
    "linear_search(data,search_key)"
   ]
  },
  {
   "cell_type": "code",
   "execution_count": null,
   "metadata": {},
   "outputs": [],
   "source": []
  }
 ],
 "metadata": {
  "kernelspec": {
   "display_name": "Python 3",
   "language": "python",
   "name": "python3"
  },
  "language_info": {
   "codemirror_mode": {
    "name": "ipython",
    "version": 3
   },
   "file_extension": ".py",
   "mimetype": "text/x-python",
   "name": "python",
   "nbconvert_exporter": "python",
   "pygments_lexer": "ipython3",
   "version": "3.7.3"
  }
 },
 "nbformat": 4,
 "nbformat_minor": 2
}
