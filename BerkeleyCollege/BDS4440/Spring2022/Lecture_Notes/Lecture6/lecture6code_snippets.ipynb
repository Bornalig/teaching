{
 "cells": [
  {
   "cell_type": "code",
   "execution_count": null,
   "metadata": {},
   "outputs": [],
   "source": [
    "['x','b','r','q'] -> ['b','q','r','x']\n",
    "\n",
    "[7,2,4,8] -> [2,4,7,8]"
   ]
  },
  {
   "cell_type": "code",
   "execution_count": 1,
   "metadata": {},
   "outputs": [
    {
     "data": {
      "text/plain": [
       "[2, 4, 7, 8]"
      ]
     },
     "execution_count": 1,
     "metadata": {},
     "output_type": "execute_result"
    }
   ],
   "source": [
    "sorted([7,2,4,8])"
   ]
  },
  {
   "cell_type": "code",
   "execution_count": 3,
   "metadata": {},
   "outputs": [],
   "source": [
    "def print_pass(data,pass_number,index):\n",
    "    label = f'after pass {pass_number}: '\n",
    "    print(label,end='')\n",
    "    #output elements\n",
    "    print('  '.join(str(d) for d in data[:index]), end='  ' if index!=0 else '')\n",
    "    print(f'{data[index]}* ',end='')\n",
    "    print('  '.join(str(d) for d in data[index+1:len(data)]))\n",
    "    print(f'{\" \"*len(label)}{\"--  \"*pass_number}')"
   ]
  },
  {
   "cell_type": "code",
   "execution_count": 17,
   "metadata": {},
   "outputs": [],
   "source": [
    "def selection_sort(data):\n",
    "    for index1 in range(len(data)-1):\n",
    "        smallest = index1\n",
    "        for index2 in range(index1+1,len(data)):\n",
    "            if data[index2]<data[smallest]:\n",
    "                smallest = index2\n",
    "                #print('index1: ',index1,'index2: ',index2)\n",
    "                \n",
    "        #swap smallest element into position\n",
    "        data[smallest],data[index1] = data[index1],data[smallest]\n",
    "        print_pass(data,index1+1,smallest)\n",
    "    return data"
   ]
  },
  {
   "cell_type": "code",
   "execution_count": 18,
   "metadata": {},
   "outputs": [
    {
     "name": "stdout",
     "output_type": "stream",
     "text": [
      "after pass 1: 23  73  90  65  35* 86  43  81  34  58\n",
      "              --  \n",
      "after pass 2: 23  34  90  65  35  86  43  81  73* 58\n",
      "              --  --  \n",
      "after pass 3: 23  34  35  65  90* 86  43  81  73  58\n",
      "              --  --  --  \n",
      "after pass 4: 23  34  35  43  90  86  65* 81  73  58\n",
      "              --  --  --  --  \n",
      "after pass 5: 23  34  35  43  58  86  65  81  73  90* \n",
      "              --  --  --  --  --  \n",
      "after pass 6: 23  34  35  43  58  65  86* 81  73  90\n",
      "              --  --  --  --  --  --  \n",
      "after pass 7: 23  34  35  43  58  65  73  81  86* 90\n",
      "              --  --  --  --  --  --  --  \n",
      "after pass 8: 23  34  35  43  58  65  73  81* 86  90\n",
      "              --  --  --  --  --  --  --  --  \n",
      "after pass 9: 23  34  35  43  58  65  73  81  86* 90\n",
      "              --  --  --  --  --  --  --  --  --  \n"
     ]
    },
    {
     "data": {
      "text/plain": [
       "array([23, 34, 35, 43, 58, 65, 73, 81, 86, 90])"
      ]
     },
     "execution_count": 18,
     "metadata": {},
     "output_type": "execute_result"
    }
   ],
   "source": [
    "import numpy as np\n",
    "data = np.array([35,73,90,65,23,86,43,81,34,58])\n",
    "\n",
    "selection_sort(data)"
   ]
  },
  {
   "cell_type": "code",
   "execution_count": null,
   "metadata": {},
   "outputs": [],
   "source": [
    "def selection_sort(data):\n",
    "    for index1 in range(len(data)-1):\n",
    "        smallest = index1\n",
    "        for index2 in range(index1+1,len(data)):\n",
    "            if data[index2]<data[smallest]:\n",
    "                smallest = index2\n",
    "        data[smallest],data[index1] = data[index1],data[smallest]\n",
    "    return data"
   ]
  },
  {
   "cell_type": "code",
   "execution_count": 9,
   "metadata": {},
   "outputs": [],
   "source": [
    "def insertion_sort(data):\n",
    "    for Next in range(1,len(data)):\n",
    "        insert = data[Next]\n",
    "        move_item = Next\n",
    "        \n",
    "        while move_item>0 and data[move_item-1]>insert:\n",
    "            data[move_item] = data[move_item - 1]\n",
    "            move_item -=1\n",
    "            #print('index1: ',Next,' index2: ',move_item)\n",
    "        data[move_item] = insert\n",
    "        print_pass(data,Next,move_item)\n",
    "    return data"
   ]
  },
  {
   "cell_type": "code",
   "execution_count": 10,
   "metadata": {},
   "outputs": [
    {
     "name": "stdout",
     "output_type": "stream",
     "text": [
      "[35 73 90 65 23 86 43 81 34 58]\n",
      "after pass 1: 35  73* 90  65  23  86  43  81  34  58\n",
      "              --  \n",
      "after pass 2: 35  73  90* 65  23  86  43  81  34  58\n",
      "              --  --  \n",
      "after pass 3: 35  65* 73  90  23  86  43  81  34  58\n",
      "              --  --  --  \n",
      "after pass 4: 23* 35  65  73  90  86  43  81  34  58\n",
      "              --  --  --  --  \n",
      "after pass 5: 23  35  65  73  86* 90  43  81  34  58\n",
      "              --  --  --  --  --  \n",
      "after pass 6: 23  35  43* 65  73  86  90  81  34  58\n",
      "              --  --  --  --  --  --  \n",
      "after pass 7: 23  35  43  65  73  81* 86  90  34  58\n",
      "              --  --  --  --  --  --  --  \n",
      "after pass 8: 23  34* 35  43  65  73  81  86  90  58\n",
      "              --  --  --  --  --  --  --  --  \n",
      "after pass 9: 23  34  35  43  58* 65  73  81  86  90\n",
      "              --  --  --  --  --  --  --  --  --  \n"
     ]
    },
    {
     "data": {
      "text/plain": [
       "array([23, 34, 35, 43, 58, 65, 73, 81, 86, 90])"
      ]
     },
     "execution_count": 10,
     "metadata": {},
     "output_type": "execute_result"
    }
   ],
   "source": [
    "data = np.array([35,73,90,65,23,86,43,81,34,58])\n",
    "print(data)\n",
    "insertion_sort(data)"
   ]
  },
  {
   "cell_type": "code",
   "execution_count": 19,
   "metadata": {},
   "outputs": [
    {
     "ename": "TypeError",
     "evalue": "'tuple' object does not support item assignment",
     "output_type": "error",
     "traceback": [
      "\u001b[0;31m---------------------------------------------------------------------------\u001b[0m",
      "\u001b[0;31mTypeError\u001b[0m                                 Traceback (most recent call last)",
      "\u001b[0;32m<ipython-input-19-9c7d9c66cb51>\u001b[0m in \u001b[0;36m<module>\u001b[0;34m\u001b[0m\n\u001b[1;32m      1\u001b[0m \u001b[0mL\u001b[0m \u001b[0;34m=\u001b[0m \u001b[0;34m(\u001b[0m\u001b[0;36m4\u001b[0m\u001b[0;34m,\u001b[0m\u001b[0;36m5\u001b[0m\u001b[0;34m,\u001b[0m\u001b[0;36m2\u001b[0m\u001b[0;34m,\u001b[0m\u001b[0;36m1\u001b[0m\u001b[0;34m)\u001b[0m\u001b[0;34m\u001b[0m\u001b[0;34m\u001b[0m\u001b[0m\n\u001b[0;32m----> 2\u001b[0;31m \u001b[0minsertion_sort\u001b[0m\u001b[0;34m(\u001b[0m\u001b[0mL\u001b[0m\u001b[0;34m)\u001b[0m\u001b[0;34m\u001b[0m\u001b[0;34m\u001b[0m\u001b[0m\n\u001b[0m",
      "\u001b[0;32m<ipython-input-9-69260c09f0ad>\u001b[0m in \u001b[0;36minsertion_sort\u001b[0;34m(data)\u001b[0m\n\u001b[1;32m      8\u001b[0m             \u001b[0mmove_item\u001b[0m \u001b[0;34m-=\u001b[0m\u001b[0;36m1\u001b[0m\u001b[0;34m\u001b[0m\u001b[0;34m\u001b[0m\u001b[0m\n\u001b[1;32m      9\u001b[0m             \u001b[0;31m#print('index1: ',Next,' index2: ',move_item)\u001b[0m\u001b[0;34m\u001b[0m\u001b[0;34m\u001b[0m\u001b[0;34m\u001b[0m\u001b[0m\n\u001b[0;32m---> 10\u001b[0;31m         \u001b[0mdata\u001b[0m\u001b[0;34m[\u001b[0m\u001b[0mmove_item\u001b[0m\u001b[0;34m]\u001b[0m \u001b[0;34m=\u001b[0m \u001b[0minsert\u001b[0m\u001b[0;34m\u001b[0m\u001b[0;34m\u001b[0m\u001b[0m\n\u001b[0m\u001b[1;32m     11\u001b[0m         \u001b[0mprint_pass\u001b[0m\u001b[0;34m(\u001b[0m\u001b[0mdata\u001b[0m\u001b[0;34m,\u001b[0m\u001b[0mNext\u001b[0m\u001b[0;34m,\u001b[0m\u001b[0mmove_item\u001b[0m\u001b[0;34m)\u001b[0m\u001b[0;34m\u001b[0m\u001b[0;34m\u001b[0m\u001b[0m\n\u001b[1;32m     12\u001b[0m     \u001b[0;32mreturn\u001b[0m \u001b[0mdata\u001b[0m\u001b[0;34m\u001b[0m\u001b[0;34m\u001b[0m\u001b[0m\n",
      "\u001b[0;31mTypeError\u001b[0m: 'tuple' object does not support item assignment"
     ]
    }
   ],
   "source": [
    "L = [4,5,2,1]\n",
    "insertion_sort(L)"
   ]
  },
  {
   "cell_type": "code",
   "execution_count": 13,
   "metadata": {},
   "outputs": [],
   "source": [
    "def insertion_sort(data):\n",
    "    for Next in range(1,len(data)):\n",
    "        insert = data[Next]\n",
    "        move_item = Next\n",
    "        \n",
    "        while move_item>0 and data[move_item-1]>insert:\n",
    "            data[move_item] = data[move_item - 1]\n",
    "            move_item -=1\n",
    "            \n",
    "        data[move_item] = insert\n",
    "    return data"
   ]
  },
  {
   "cell_type": "code",
   "execution_count": 24,
   "metadata": {},
   "outputs": [],
   "source": [
    "import numpy as np\n",
    "\n",
    "\n",
    "def subarray_string(data,low,high):\n",
    "    temp = '  '*low\n",
    "    temp += ' '.join(str(item) for item in data[low:high+1])\n",
    "    return temp\n",
    "\n",
    "def sort_array_p(data,low,high):\n",
    "    \"\"\"Split data, sort subarrays and merge them into a sorted array.\"\"\"\n",
    "    #test base case size of array equals 1\n",
    "    if (high-low)>=1: #if not base case\n",
    "        middle1 = (low+high)//2 #calculate the middle of array\n",
    "        middle2 = middle1 + 1\n",
    "        \n",
    "        #output split step\n",
    "        print(f'split: {subarray_string(data,low,high)}')\n",
    "        print(f'       {subarray_string(data,low,middle1)}')\n",
    "        print(f'       {subarray_string(data,middle2,high)}\\n')\n",
    "        \n",
    "        #split array in half then sort each half (recursive calls)\n",
    "        sort_array_p(data,low,middle1)\n",
    "        sort_array_p(data,middle2,high)\n",
    "        return merge_p(data,low,middle1,middle2,high)\n",
    "        \n",
    "def merge_p(data,left,middle1,middle2,right):\n",
    "    left_index = left #index into left subarray\n",
    "    right_index = middle2 #index into right subarray\n",
    "    combined_index = left #index into temporary working array\n",
    "    merged = [0]*len(data) #working array\n",
    "    \n",
    "    #output two subarrays before merging\n",
    "    print(f'merge: {subarray_string(data,left,middle1)}')\n",
    "    print(f'       {subarray_string(data,middle2,right)}')\n",
    "    \n",
    "    #merge arrays until reaching end of either\n",
    "    while left_index <= middle1 and right_index <= right:#place smaller of two current elements into result and move to next space in arrays\n",
    "        if data[left_index]<=data[right_index]:\n",
    "            merged[combined_index] = data[left_index]\n",
    "            combined_index+=1\n",
    "            left_index+=1\n",
    "        else:\n",
    "            merged[combined_index]=data[right_index]\n",
    "            combined_index+=1\n",
    "            right_index+=1\n",
    "            \n",
    "    #if left array is empty\n",
    "    if left_index == middle2: #if true, copy in rest of right array\n",
    "        merged[combined_index:right+1] = data[right_index:right+1]\n",
    "    else: #right array is empty, copy in rest of left array\n",
    "        merged[combined_index:right+1] = data[left_index:middle1+1]\n",
    "        \n",
    "    data[left:right+1] = merged[left:right+1]\n",
    "    print(f'         {subarray_string(data,left,right)}\\n')\n",
    "    return data\n",
    "    \n",
    "def merge_sort_p(data):\n",
    "    return sort_array_p(data,0,len(data)-1)"
   ]
  },
  {
   "cell_type": "code",
   "execution_count": 26,
   "metadata": {},
   "outputs": [
    {
     "name": "stdout",
     "output_type": "stream",
     "text": [
      "[35 73 90 65 23 86 43 81 34 58]\n",
      "split: 35 73 90 65 23 86 43 81 34 58\n",
      "       35 73 90 65 23\n",
      "                 86 43 81 34 58\n",
      "\n",
      "split: 35 73 90 65 23\n",
      "       35 73 90\n",
      "             65 23\n",
      "\n",
      "split: 35 73 90\n",
      "       35 73\n",
      "           90\n",
      "\n",
      "split: 35 73\n",
      "       35\n",
      "         73\n",
      "\n",
      "merge: 35\n",
      "         73\n",
      "         35 73\n",
      "\n",
      "merge: 35 73\n",
      "           90\n",
      "         35 73 90\n",
      "\n",
      "split:       65 23\n",
      "             65\n",
      "               23\n",
      "\n",
      "merge:       65\n",
      "               23\n",
      "               23 65\n",
      "\n",
      "merge: 35 73 90\n",
      "             23 65\n",
      "         23 35 65 73 90\n",
      "\n",
      "split:           86 43 81 34 58\n",
      "                 86 43 81\n",
      "                       34 58\n",
      "\n",
      "split:           86 43 81\n",
      "                 86 43\n",
      "                     81\n",
      "\n",
      "split:           86 43\n",
      "                 86\n",
      "                   43\n",
      "\n",
      "merge:           86\n",
      "                   43\n",
      "                   43 86\n",
      "\n",
      "merge:           43 86\n",
      "                     81\n",
      "                   43 81 86\n",
      "\n",
      "split:                 34 58\n",
      "                       34\n",
      "                         58\n",
      "\n",
      "merge:                 34\n",
      "                         58\n",
      "                         34 58\n",
      "\n",
      "merge:           43 81 86\n",
      "                       34 58\n",
      "                   34 43 58 81 86\n",
      "\n",
      "merge: 23 35 65 73 90\n",
      "                 34 43 58 81 86\n",
      "         23 34 35 43 58 65 73 81 86 90\n",
      "\n",
      "[35 73 90 65 23 86 43 81 34 58]\n",
      "[23 34 35 43 58 65 73 81 86 90]\n"
     ]
    }
   ],
   "source": [
    "data = np.array( )\n",
    "data1 = data.copy()\n",
    "print(data)\n",
    "data2 = merge_sort_p(data)\n",
    "print(data1)\n",
    "print(data2)"
   ]
  },
  {
   "cell_type": "code",
   "execution_count": null,
   "metadata": {},
   "outputs": [],
   "source": [
    "import numpy as np\n",
    "\n",
    "\n",
    "def sort_array(data,low,high):\n",
    "    #test base case size of array equals 1\n",
    "    if (high-low)>=1: #if not base case\n",
    "        middle1 = (low+high)//2 #calculate the middle of array\n",
    "        middle2 = middle1 + 1  \n",
    "        #split array in half then sort each half (recursive calls)\n",
    "        sort_array(data,low,middle1)\n",
    "        sort_array(data,middle2,high)\n",
    "        return merge(data,low,middle1,middle2,high)\n",
    "        \n",
    "def merge(data,left,middle1,middle2,right):\n",
    "    left_index = left #index into left subarray\n",
    "    right_index = middle2 #index into right subarray\n",
    "    combined_index = left #index into temporary working array\n",
    "    merged = [0]*len(data) #working array\n",
    "    #merge arrays until reaching end of either\n",
    "    while left_index <= middle1 and right_index <= right:#place smaller of two current elements into result and move to next space in arrays\n",
    "        if data[left_index]<=data[right_index]:\n",
    "            merged[combined_index] = data[left_index]\n",
    "            combined_index+=1\n",
    "            left_index+=1\n",
    "        else:\n",
    "            merged[combined_index]=data[right_index]\n",
    "            combined_index+=1\n",
    "            right_index+=1\n",
    "    #if left array is empty\n",
    "    if left_index == middle2: #if true, copy in rest of right array\n",
    "        merged[combined_index:right+1] = data[right_index:right+1]\n",
    "    else: #right array is empty, copy in rest of left array\n",
    "        merged[combined_index:right+1] = data[left_index:middle1+1]\n",
    "        \n",
    "    data[left:right+1] = merged[left:right+1]\n",
    "    return data\n",
    "    \n",
    "def merge_sort(data):\n",
    "    return sort_array(data,0,len(data)-1)"
   ]
  },
  {
   "cell_type": "code",
   "execution_count": 27,
   "metadata": {},
   "outputs": [],
   "source": [
    "def print_statement(statement): \n",
    "    print('0')"
   ]
  },
  {
   "cell_type": "code",
   "execution_count": null,
   "metadata": {},
   "outputs": [],
   "source": [
    "def print_list_elements(L):\n",
    "    for j in L:\n",
    "        print(j)"
   ]
  },
  {
   "cell_type": "code",
   "execution_count": 28,
   "metadata": {},
   "outputs": [],
   "source": [
    "def print_list_twice(L1):\n",
    "    for i in L1:\n",
    "        for j in L1:\n",
    "            print(i,j)"
   ]
  },
  {
   "cell_type": "code",
   "execution_count": null,
   "metadata": {},
   "outputs": [],
   "source": [
    "def function1():\n",
    "    #step 1 - > O(a)\n",
    "    #step 2 - > O(b)"
   ]
  },
  {
   "cell_type": "code",
   "execution_count": null,
   "metadata": {},
   "outputs": [],
   "source": [
    "def two_list_prin(A,B):\n",
    "    for i in A:\n",
    "        for j in B:\n",
    "            print(i,j)"
   ]
  }
 ],
 "metadata": {
  "kernelspec": {
   "display_name": "Python 3 (ipykernel)",
   "language": "python",
   "name": "python3"
  },
  "language_info": {
   "codemirror_mode": {
    "name": "ipython",
    "version": 3
   },
   "file_extension": ".py",
   "mimetype": "text/x-python",
   "name": "python",
   "nbconvert_exporter": "python",
   "pygments_lexer": "ipython3",
   "version": "3.9.7"
  }
 },
 "nbformat": 4,
 "nbformat_minor": 2
}
