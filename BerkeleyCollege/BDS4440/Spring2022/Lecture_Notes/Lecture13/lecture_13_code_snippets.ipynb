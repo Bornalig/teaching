{
 "cells": [
  {
   "cell_type": "code",
   "execution_count": null,
   "metadata": {},
   "outputs": [],
   "source": [
    "#source1 https://www.analyticsvidhya.com/blog/2021/06/feature-selection-using-statistical-tests/"
   ]
  },
  {
   "cell_type": "code",
   "execution_count": 10,
   "metadata": {},
   "outputs": [
    {
     "name": "stdout",
     "output_type": "stream",
     "text": [
      "Test statistic is -1.243183\n",
      "p-value for one tailed test is 0.117877\n",
      "Conclusion n Since p-value(=0.117877) > alpha(=0.05) We do not reject the null hypothesis H0.\n"
     ]
    }
   ],
   "source": [
    "sys_bp=[183, 152, 178, 157, 194, 163, 144, 114, 178, 152, 118, 158, 172, 138]\n",
    "\n",
    "\n",
    "mu=165\n",
    "\n",
    "\n",
    "from scipy import stats\n",
    "\n",
    "t_value,p_value=stats.ttest_1samp(sys_bp,mu)\n",
    "\n",
    "one_tailed_p_value=float(\"{:.6f}\".format(p_value/2)) # Since alternative hypothesis is one tailed, We need to divide the p value by 2.\n",
    "\n",
    "print('Test statistic is %f'%float(\"{:.6f}\".format(t_value)))\n",
    "\n",
    "print('p-value for one tailed test is %f'%one_tailed_p_value)\n",
    "\n",
    "alpha = 0.05\n",
    "\n",
    "if one_tailed_p_value<=alpha:\n",
    "\n",
    "    print('Conclusion','n','Since p-value(=%f)'%p_value,'<','alpha(=%.2f)'%alpha,'''We reject the null hypothesis H0. \n",
    "\n",
    "So we conclude that there is no significant mean difference in systolic blood pressure. \n",
    "\n",
    "i.e., μ = 165 at %.2f level of significance'''%alpha)\n",
    "\n",
    "else:\n",
    "\n",
    "    print('Conclusion','n','Since p-value(=%f)'%one_tailed_p_value,'>','alpha(=%.2f)'%alpha,'We do not reject the null hypothesis H0.')"
   ]
  },
  {
   "cell_type": "code",
   "execution_count": null,
   "metadata": {},
   "outputs": [],
   "source": [
    "# Student t-distribution Percent Point Function\n",
    "from scipy.stats import t,ttest_1sampe\n",
    "# define probability\n",
    "p = 0.95\n",
    "df = 10\n",
    "# retrieve value <= probability\n",
    "value = t.ppf(p, df)\n",
    "print(value)\n",
    "# confirm with cdf\n",
    "p = t.cdf(value, df)\n",
    "print(p)"
   ]
  },
  {
   "cell_type": "code",
   "execution_count": 37,
   "metadata": {},
   "outputs": [],
   "source": [
    "from scipy.stats import t,ttest_1samp\n",
    "def one_sample_t_test(data,mu,alpha):\n",
    "    dof = len(data)-1 \n",
    "    t_critical = t.ppf(1-alpha,dof)\n",
    "    t_value,p_value=ttest_1samp(data,mu)\n",
    "    print('t_critical: {}, alpha: {}'.format(round(t_critical,4),round(alpha,4)))\n",
    "    if ((t_value>t_critical) and (p_value<alpha)) or ((t_value<-t_critical) and (p_value<alpha)):\n",
    "        return 'reject null hypothesis with t:{} & p:{}'.format(round(t_value,4),round(p_value,4))\n",
    "    else:\n",
    "        return 'fail to reject null hypothesis with t:{} & p:{}'.format(round(t_value,4),round(p_value,4))"
   ]
  },
  {
   "cell_type": "code",
   "execution_count": 38,
   "metadata": {},
   "outputs": [
    {
     "name": "stdout",
     "output_type": "stream",
     "text": [
      "t_critical: 1.7709, alpha: 0.05\n"
     ]
    },
    {
     "data": {
      "text/plain": [
       "'fail to reject null hypothesis with t:-1.2432 & p:0.2358'"
      ]
     },
     "execution_count": 38,
     "metadata": {},
     "output_type": "execute_result"
    }
   ],
   "source": [
    "sys_bp=[183, 152, 178, 157, 194, 163, 144, 114, 178, 152, 118, 158, 172, 138]\n",
    "mu=165\n",
    "one_sample_t_test(sys_bp,mu,alpha=0.05)"
   ]
  },
  {
   "cell_type": "code",
   "execution_count": 43,
   "metadata": {},
   "outputs": [],
   "source": [
    "from scipy.stats import t,ttest_ind\n",
    "def two_sample_t_test(dataA,dataB,alpha):\n",
    "    dof = len(dataA)+len(dataB)-2\n",
    "    t_critical = t.ppf(1-alpha,dof)\n",
    "    t_value,p_value=ttest_ind(dataA,dataB)\n",
    "    print('t_critical: {}, alpha: {}'.format(round(t_critical,4),round(alpha,4)))\n",
    "    if ((t_value>t_critical) and (p_value<alpha)) or ((t_value<-t_critical) and (p_value<alpha)):\n",
    "        return 'reject null hypothesis with t:{} & p:{}'.format(roudn(t_value,4),round(p_value,4))\n",
    "    else:\n",
    "        return 'fail to reject null hypothesis with t:{} & p:{}'.format(round(t_value,4),round(p_value,4))"
   ]
  },
  {
   "cell_type": "code",
   "execution_count": 44,
   "metadata": {},
   "outputs": [
    {
     "name": "stdout",
     "output_type": "stream",
     "text": [
      "t_critical: 2.5083, alpha: 0.01\n"
     ]
    },
    {
     "data": {
      "text/plain": [
       "'fail to reject null hypothesis with t:0.1846 & p:0.8552'"
      ]
     },
     "execution_count": 44,
     "metadata": {},
     "output_type": "execute_result"
    }
   ],
   "source": [
    "dataA=[13.4,10.9,11.2,11.8,14,15.3,14.2,12.6,17,16.2,16.5,15.7]\n",
    "dataB=[12,11.7,10.7,11.2,14.8,14.4,13.9,13.7,16.9,16,15.6,16]\n",
    "two_sample_t_test(dataA,dataB,alpha=0.01)"
   ]
  },
  {
   "cell_type": "code",
   "execution_count": 41,
   "metadata": {},
   "outputs": [],
   "source": [
    "from scipy.stats import t,ttest_ind\n",
    "def paired_t_test(FirstData,SecondData,alpha):\n",
    "    dof = min(len(dataA)-1,len(dataB)-1)\n",
    "    t_critical = t.ppf(1-alpha,dof)\n",
    "    t_value,p_value=ttest_ind(FirstData,SecondData)\n",
    "    print('t_critical: {}, alpha: {}'.format(round(t_critical,4),round(alpha,4)))\n",
    "    if ((t_value>t_critical) and (p_value<alpha)) or ((t_value<-t_critical) and (p_value<alpha)):\n",
    "        return 'reject null hypothesis with t:{} & p:{}'.format(roudn(t_value,4),round(p_value,4))\n",
    "    else:\n",
    "        return 'fail to reject null hypothesis with t:{} & p:{}'.format(round(t_value,4),round(p_value,4))"
   ]
  },
  {
   "cell_type": "code",
   "execution_count": 42,
   "metadata": {},
   "outputs": [
    {
     "name": "stdout",
     "output_type": "stream",
     "text": [
      "t_critical: 2.7181, alpha: 0.01\n"
     ]
    },
    {
     "data": {
      "text/plain": [
       "'fail to reject null hypothesis with t:-1.2097 & p:0.2405'"
      ]
     },
     "execution_count": 42,
     "metadata": {},
     "output_type": "execute_result"
    }
   ],
   "source": [
    "first_test =[23, 20, 19, 21, 18, 20, 18, 17, 23, 16, 19]\n",
    "second_test=[24, 19, 22, 18, 20, 22, 20, 20, 23, 20, 18]\n",
    "paired_t_test(first_test,second_test,alpha=0.01)"
   ]
  },
  {
   "cell_type": "code",
   "execution_count": 52,
   "metadata": {},
   "outputs": [],
   "source": [
    "from statsmodels.stats.weightstats import ztest\n",
    "from scipy.stats import norm\n",
    "def one_sample_z_test(data,mu,alpha):\n",
    "    z_value,p_value = ztest(data, value=mu)\n",
    "    z_critical = norm.ppf(1-alpha)\n",
    "    print('z_critical: {}, alpha: {}'.format(round(z_critical,4),round(alpha,4)))\n",
    "    stats_text = 'with z:{} & p:{}'.format(round(z_value,4),round(p_value,4))\n",
    "    if ((z_value>z_critical)&(p_value<alpha)) or ((z_value<-z_critical)&(p_value<alpha)):\n",
    "        return 'reject null hypothesis '+stats_text\n",
    "    else:\n",
    "        return 'fail to reject null hypothesis '+stats_text"
   ]
  },
  {
   "cell_type": "code",
   "execution_count": 53,
   "metadata": {},
   "outputs": [
    {
     "name": "stdout",
     "output_type": "stream",
     "text": [
      "z_critical: 1.6449, alpha: 0.05\n"
     ]
    },
    {
     "data": {
      "text/plain": [
       "'fail to reject null hypothesis with z:1.5976 & p:0.1101'"
      ]
     },
     "execution_count": 53,
     "metadata": {},
     "output_type": "execute_result"
    }
   ],
   "source": [
    "#enter IQ levels for 20 patients\n",
    "data = [88, 92, 94, 94, 96, 97, 97, 97, 99, 99, 105, 109, 109, 109, 110, 112, 112, 113, 114, 115]\n",
    "\n",
    "one_sample_z_test(data,100,alpha=0.05)"
   ]
  },
  {
   "cell_type": "code",
   "execution_count": 54,
   "metadata": {},
   "outputs": [],
   "source": [
    "from statsmodels.stats.weightstats import ztest\n",
    "from scipy.stats import norm\n",
    "def two_sample_z_test(data1,data2,alpha):\n",
    "    z_value,p_value = ztest(data1,data2)\n",
    "    z_critical = norm.ppf(1-alpha)\n",
    "    print('z_critical: {}, alpha: {}'.format(round(z_critical,4),round(alpha,4)))\n",
    "    stats_text = 'with z:{} & p:{}'.format(round(z_value,4),round(p_value,4))\n",
    "    if ((z_value>z_critical)&(p_value<alpha)) or ((z_value<-z_critical)&(p_value<alpha)):\n",
    "        return 'reject null hypothesis '+stats_text\n",
    "    else:\n",
    "        return 'fail to reject null hypothesis '+stats_text"
   ]
  },
  {
   "cell_type": "code",
   "execution_count": 55,
   "metadata": {},
   "outputs": [
    {
     "name": "stdout",
     "output_type": "stream",
     "text": [
      "z_critical: 2.3263, alpha: 0.01\n"
     ]
    },
    {
     "data": {
      "text/plain": [
       "'fail to reject null hypothesis with z:-1.9953 & p:0.046'"
      ]
     },
     "execution_count": 55,
     "metadata": {},
     "output_type": "execute_result"
    }
   ],
   "source": [
    "cityA = [82, 84, 85, 89, 91, 91, 92, 94, 99, 99,\n",
    "         105, 109, 109, 109, 110, 112, 112, 113, 114, 114]\n",
    "\n",
    "cityB = [90, 91, 91, 91, 95, 95, 99, 99, 108, 109,\n",
    "         109, 114, 115, 116, 117, 117, 128, 129, 130, 133]\n",
    "\n",
    "two_sample_z_test(cityA,cityB,alpha=0.01)"
   ]
  },
  {
   "cell_type": "code",
   "execution_count": 95,
   "metadata": {},
   "outputs": [],
   "source": [
    "import random\n",
    "import numpy as np\n",
    "def bootstrap_test(dataA,dataB,number_bootstraps,metric,alpha):\n",
    "    metrics = []\n",
    "    full_set = dataA+dataB\n",
    "    original = metric(dataA)-metric(dataB)\n",
    "    for i in range(number_bootstraps):\n",
    "        scamble_set = random.shuffle(full_set) \n",
    "        a_prime = metric(full_set[:len(dataA)])\n",
    "        b_prime = metric(full_set[len(dataA):])\n",
    "        metrics.append(a_prime-b_prime)\n",
    "    fraction_greater = len([j for j in metrics if j>original])/len(metrics)\n",
    "    fraction_smaller = len([j for j in metrics if j<original])/len(metrics)\n",
    "    #right tail\n",
    "    if fraction_greater<alpha and fraction_smaller>(1-alpha):\n",
    "        return 'Right tail test: Reject Null Hypothesis p-value {}'.format(fraction_greater)\n",
    "    #left tail\n",
    "    elif fraction_greater>(1-alpha) and fraction_smaller<alpha:\n",
    "        return 'Left tail test: Reject Null Hypothesis p-value {}'.format(fraction_smaller)\n",
    "    else:\n",
    "        return 'Fail to Reject Null Hypothesis p-value {}'.format(fraction_greater)"
   ]
  },
  {
   "cell_type": "code",
   "execution_count": 96,
   "metadata": {},
   "outputs": [
    {
     "data": {
      "text/plain": [
       "'Right tail test: Reject Null Hypothesis p-value 0.0'"
      ]
     },
     "execution_count": 96,
     "metadata": {},
     "output_type": "execute_result"
    }
   ],
   "source": [
    "setA=[17, 15, 15, 11, 17, 12, 14, 12, 11, 10]\n",
    "setB=[11, 9, 9, 5, 9, 10, 5, 5, 5, 5, 7, 10, 6, 7, 12]\n",
    "bootstrap_test(setA,setB,1000,np.mean,0.01)"
   ]
  },
  {
   "cell_type": "code",
   "execution_count": 90,
   "metadata": {},
   "outputs": [],
   "source": [
    "dataA = setA\n",
    "dataB = setB\n",
    "metrics = []\n",
    "metric = np.mean\n",
    "number_bootstraps=1000\n",
    "full_set = dataA+dataB\n",
    "original = metric(dataA)-metric(dataB)\n",
    "for i in range(number_bootstraps):\n",
    "    scamble_set = random.shuffle(full_set) \n",
    "    a_prime = metric(full_set[:len(dataA)])\n",
    "    b_prime = metric(full_set[len(dataA):])\n",
    "    metrics.append(a_prime-b_prime)"
   ]
  },
  {
   "cell_type": "code",
   "execution_count": 94,
   "metadata": {},
   "outputs": [
    {
     "data": {
      "image/png": "[encoded data removed]",
      "text/plain": [
       "<Figure size 432x288 with 1 Axes>"
      ]
     },
     "metadata": {
      "needs_background": "light"
     },
     "output_type": "display_data"
    }
   ],
   "source": [
    "import matplotlib.pyplot as plt\n",
    "plt.hist(metrics,bins=50)\n",
    "plt.axvline(original,color='red',linewidth=5,label='orginal observed \\n difference in mean')\n",
    "plt.title('Mean difference after 1000 bootstraps')\n",
    "plt.legend()\n",
    "plt.show()"
   ]
  },
  {
   "cell_type": "code",
   "execution_count": 98,
   "metadata": {},
   "outputs": [
    {
     "data": {
      "text/plain": [
       "'Fail to Reject Null Hypothesis p-value 0.442'"
      ]
     },
     "execution_count": 98,
     "metadata": {},
     "output_type": "execute_result"
    }
   ],
   "source": [
    "from random import randrange\n",
    "import numpy as np\n",
    "setA = [randrange(10, 19) for k in range(10)]\n",
    "setB = [randrange(20, 29) for k in range(15)]\n",
    "\n",
    "bootstrap_test(setA,setB,1000,np.var,0.05)"
   ]
  },
  {
   "cell_type": "code",
   "execution_count": 99,
   "metadata": {},
   "outputs": [
    {
     "data": {
      "image/png": "[encoded data removed]",
      "text/plain": [
       "<Figure size 432x288 with 1 Axes>"
      ]
     },
     "metadata": {
      "needs_background": "light"
     },
     "output_type": "display_data"
    }
   ],
   "source": [
    "dataA = setA\n",
    "dataB = setB\n",
    "metrics = []\n",
    "metric = np.var\n",
    "number_bootstraps=1000\n",
    "full_set = dataA+dataB\n",
    "original = metric(dataA)-metric(dataB)\n",
    "for i in range(number_bootstraps):\n",
    "    scamble_set = random.shuffle(full_set) \n",
    "    a_prime = metric(full_set[:len(dataA)])\n",
    "    b_prime = metric(full_set[len(dataA):])\n",
    "    metrics.append(a_prime-b_prime)\n",
    "    \n",
    "import matplotlib.pyplot as plt\n",
    "plt.hist(metrics,bins=50)\n",
    "plt.axvline(original,color='red',linewidth=5,label='orginal observed \\n difference in variance')\n",
    "plt.title('Variance difference after 1000 bootstraps')\n",
    "plt.legend()\n",
    "plt.show()"
   ]
  },
  {
   "cell_type": "code",
   "execution_count": null,
   "metadata": {},
   "outputs": [],
   "source": []
  }
 ],
 "metadata": {
  "kernelspec": {
   "display_name": "Python 3",
   "language": "python",
   "name": "python3"
  },
  "language_info": {
   "codemirror_mode": {
    "name": "ipython",
    "version": 3
   },
   "file_extension": ".py",
   "mimetype": "text/x-python",
   "name": "python",
   "nbconvert_exporter": "python",
   "pygments_lexer": "ipython3",
   "version": "3.7.3"
  }
 },
 "nbformat": 4,
 "nbformat_minor": 2
}
