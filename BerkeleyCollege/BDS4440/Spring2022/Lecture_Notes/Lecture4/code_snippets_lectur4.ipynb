{
 "cells": [
  {
   "cell_type": "code",
   "execution_count": 5,
   "metadata": {},
   "outputs": [],
   "source": [
    "class loan:\n",
    "    def statement(self):\n",
    "        print('I am bank loan')\n",
    "        \n",
    "\n",
    "class mortgage(loan):\n",
    "    def announcement(self):\n",
    "        print('my interest rate')"
   ]
  },
  {
   "cell_type": "code",
   "execution_count": 13,
   "metadata": {},
   "outputs": [
    {
     "name": "stdout",
     "output_type": "stream",
     "text": [
      "my interest rate\n"
     ]
    }
   ],
   "source": [
    "m = mortgage()\n",
    "m.announcement()"
   ]
  },
  {
   "cell_type": "code",
   "execution_count": 14,
   "metadata": {},
   "outputs": [
    {
     "name": "stdout",
     "output_type": "stream",
     "text": [
      "I am bank loan\n"
     ]
    }
   ],
   "source": [
    "m.statement()"
   ]
  },
  {
   "cell_type": "code",
   "execution_count": 15,
   "metadata": {},
   "outputs": [
    {
     "data": {
      "text/plain": [
       "18"
      ]
     },
     "execution_count": 15,
     "metadata": {},
     "output_type": "execute_result"
    }
   ],
   "source": [
    "class polygon:\n",
    "    def __init__(self,sides):\n",
    "        self.sides = sides # a list\n",
    "        \n",
    "    def info(self):\n",
    "        print(\"A polygon is a two dimensional shape with straight lines\")\n",
    "        \n",
    "    def perimeter(self):\n",
    "        perimeter = sum(self.sides)\n",
    "        return perimeter\n",
    "        \n",
    "class triangle(polygon):\n",
    "    def info(self):\n",
    "        print(\"A triangle is a polygon with 3 edges\")\n",
    "\n",
    "class quadrilateral(polygon):\n",
    "    def info(self):\n",
    "        print(\"A quadrilateral is a polygon with 4 edges\")\n",
    "\n",
    "        \n",
    "\n",
    "t = triangle([5,6,7])\n",
    "t.perimeter()"
   ]
  },
  {
   "cell_type": "code",
   "execution_count": 16,
   "metadata": {},
   "outputs": [
    {
     "name": "stdout",
     "output_type": "stream",
     "text": [
      "A triangle is a polygon with 3 edges\n"
     ]
    }
   ],
   "source": [
    "#method over riding - how to over ride parameters with the same name?\n",
    "\n",
    "t.info() #method of triangle was overrided from polygon's info method"
   ]
  },
  {
   "cell_type": "code",
   "execution_count": 18,
   "metadata": {},
   "outputs": [],
   "source": [
    "class animal:\n",
    "    def statement(self):\n",
    "        return 'animal class'\n",
    "        \n",
    "\n",
    "class fish(animal):\n",
    "    def statement(self):\n",
    "        if super().statement() is not None:\n",
    "            return super().statement()\n",
    "        else:\n",
    "            return 'fish class'"
   ]
  },
  {
   "cell_type": "code",
   "execution_count": 19,
   "metadata": {},
   "outputs": [
    {
     "data": {
      "text/plain": [
       "'animal class'"
      ]
     },
     "execution_count": 19,
     "metadata": {},
     "output_type": "execute_result"
    }
   ],
   "source": [
    "f = fish()\n",
    "f.statement()"
   ]
  },
  {
   "cell_type": "code",
   "execution_count": 3,
   "metadata": {},
   "outputs": [],
   "source": [
    "def add_N_to_number(x):\n",
    "    N=3\n",
    "    return N+x"
   ]
  },
  {
   "cell_type": "code",
   "execution_count": 4,
   "metadata": {},
   "outputs": [
    {
     "ename": "NameError",
     "evalue": "name 'N' is not defined",
     "output_type": "error",
     "traceback": [
      "\u001b[0;31m---------------------------------------------------------------------------\u001b[0m",
      "\u001b[0;31mNameError\u001b[0m                                 Traceback (most recent call last)",
      "\u001b[0;32m<ipython-input-4-57ac1ab969a6>\u001b[0m in \u001b[0;36m<module>\u001b[0;34m\u001b[0m\n\u001b[0;32m----> 1\u001b[0;31m \u001b[0mN\u001b[0m\u001b[0;34m\u001b[0m\u001b[0;34m\u001b[0m\u001b[0m\n\u001b[0m",
      "\u001b[0;31mNameError\u001b[0m: name 'N' is not defined"
     ]
    }
   ],
   "source": [
    "N"
   ]
  },
  {
   "cell_type": "code",
   "execution_count": 8,
   "metadata": {},
   "outputs": [],
   "source": [
    "def add_V_to_number(x):\n",
    "    global V\n",
    "    V=3\n",
    "    return V+x"
   ]
  },
  {
   "cell_type": "code",
   "execution_count": 10,
   "metadata": {},
   "outputs": [
    {
     "data": {
      "text/plain": [
       "8"
      ]
     },
     "execution_count": 10,
     "metadata": {},
     "output_type": "execute_result"
    }
   ],
   "source": [
    "add_V_to_number(5)"
   ]
  },
  {
   "cell_type": "code",
   "execution_count": 11,
   "metadata": {},
   "outputs": [
    {
     "data": {
      "text/plain": [
       "3"
      ]
     },
     "execution_count": 11,
     "metadata": {},
     "output_type": "execute_result"
    }
   ],
   "source": [
    "V"
   ]
  },
  {
   "cell_type": "code",
   "execution_count": 24,
   "metadata": {},
   "outputs": [],
   "source": [
    "class loan:\n",
    "    def __init__(self,rate):\n",
    "        self.rate = rate\n",
    "    def statement(self):\n",
    "        return 'the rate is {}%'.format(self.rate)\n",
    "    \n",
    "class mortgage(loan):\n",
    "    def __init__(self,rate,downpayment):\n",
    "        super().__init__(rate)\n",
    "        self.downpayment = downpayment\n",
    "    def statement(self):\n",
    "        return 'the rate is {0}% and downpayment is {1}'.format(self.rate,self.downpayment)"
   ]
  },
  {
   "cell_type": "code",
   "execution_count": 28,
   "metadata": {},
   "outputs": [
    {
     "data": {
      "text/plain": [
       "'the rate is 3% and downpayment is 10000'"
      ]
     },
     "execution_count": 28,
     "metadata": {},
     "output_type": "execute_result"
    }
   ],
   "source": [
    "l = loan(3)\n",
    "m = mortgage(l.rate,10000)\n",
    "m.statement()"
   ]
  },
  {
   "cell_type": "code",
   "execution_count": 27,
   "metadata": {},
   "outputs": [
    {
     "data": {
      "text/plain": [
       "'the rate is 3% and downpayment is 10000'"
      ]
     },
     "execution_count": 27,
     "metadata": {},
     "output_type": "execute_result"
    }
   ],
   "source": [
    "l = loan(3)\n",
    "mm = mortgage(l.rate,10000)\n",
    "mm.statement()"
   ]
  },
  {
   "cell_type": "code",
   "execution_count": 3,
   "metadata": {},
   "outputs": [
    {
     "name": "stdout",
     "output_type": "stream",
     "text": [
      "4\n",
      "5\n",
      "4\n"
     ]
    }
   ],
   "source": [
    "dictionary = {'a':10,'b':20,'c':30,'d':40}\n",
    "word = 'alpha'\n",
    "List = [0,1,2,3]\n",
    "\n",
    "print(len(dictionary))\n",
    "print(len(word))\n",
    "print(len(List))"
   ]
  },
  {
   "cell_type": "code",
   "execution_count": 17,
   "metadata": {},
   "outputs": [
    {
     "data": {
      "text/html": [
       "<div>\n",
       "<style scoped>\n",
       "    .dataframe tbody tr th:only-of-type {\n",
       "        vertical-align: middle;\n",
       "    }\n",
       "\n",
       "    .dataframe tbody tr th {\n",
       "        vertical-align: top;\n",
       "    }\n",
       "\n",
       "    .dataframe thead th {\n",
       "        text-align: right;\n",
       "    }\n",
       "</style>\n",
       "<table border=\"1\" class=\"dataframe\">\n",
       "  <thead>\n",
       "    <tr style=\"text-align: right;\">\n",
       "      <th></th>\n",
       "      <th>year</th>\n",
       "      <th>temp</th>\n",
       "    </tr>\n",
       "  </thead>\n",
       "  <tbody>\n",
       "    <tr>\n",
       "      <th>0</th>\n",
       "      <td>1895.0</td>\n",
       "      <td>-1.67</td>\n",
       "    </tr>\n",
       "    <tr>\n",
       "      <th>1</th>\n",
       "      <td>1896.0</td>\n",
       "      <td>-0.30</td>\n",
       "    </tr>\n",
       "    <tr>\n",
       "      <th>2</th>\n",
       "      <td>1897.0</td>\n",
       "      <td>-1.78</td>\n",
       "    </tr>\n",
       "    <tr>\n",
       "      <th>3</th>\n",
       "      <td>1898.0</td>\n",
       "      <td>-1.75</td>\n",
       "    </tr>\n",
       "    <tr>\n",
       "      <th>4</th>\n",
       "      <td>1899.0</td>\n",
       "      <td>-2.53</td>\n",
       "    </tr>\n",
       "  </tbody>\n",
       "</table>\n",
       "</div>"
      ],
      "text/plain": [
       "     year  temp\n",
       "0  1895.0 -1.67\n",
       "1  1896.0 -0.30\n",
       "2  1897.0 -1.78\n",
       "3  1898.0 -1.75\n",
       "4  1899.0 -2.53"
      ]
     },
     "execution_count": 17,
     "metadata": {},
     "output_type": "execute_result"
    }
   ],
   "source": [
    "csv_link = \"https://www.ncdc.noaa.gov/cag/global/time-series/40.7,74/land_ocean/12/1/1895-2018/data.csv\"\n",
    "import pandas as pd\n",
    "\n",
    "temps_df = pd.read_csv(csv_link).loc[4:]\n",
    "temps_df.drop(temps_df.columns[-1],axis=1,inplace=True)\n",
    "temps_df.columns = ['year','temp']\n",
    "temps_df = temps_df.loc[4:]\n",
    "temps_df.reset_index(inplace=True)\n",
    "temps_df.drop('index',axis=1,inplace=True)\n",
    "for j in ['year','temp']:\n",
    "    temps_df[j] = temps_df[j].astype('float')\n",
    "temps_df.head()"
   ]
  },
  {
   "cell_type": "code",
   "execution_count": 21,
   "metadata": {},
   "outputs": [
    {
     "data": {
      "text/html": [
       "<div>\n",
       "<style scoped>\n",
       "    .dataframe tbody tr th:only-of-type {\n",
       "        vertical-align: middle;\n",
       "    }\n",
       "\n",
       "    .dataframe tbody tr th {\n",
       "        vertical-align: top;\n",
       "    }\n",
       "\n",
       "    .dataframe thead th {\n",
       "        text-align: right;\n",
       "    }\n",
       "</style>\n",
       "<table border=\"1\" class=\"dataframe\">\n",
       "  <thead>\n",
       "    <tr style=\"text-align: right;\">\n",
       "      <th></th>\n",
       "      <th>year</th>\n",
       "      <th>temp</th>\n",
       "      <th>5yr_avg</th>\n",
       "    </tr>\n",
       "  </thead>\n",
       "  <tbody>\n",
       "    <tr>\n",
       "      <th>0</th>\n",
       "      <td>1895.0</td>\n",
       "      <td>-1.67</td>\n",
       "      <td>NaN</td>\n",
       "    </tr>\n",
       "    <tr>\n",
       "      <th>1</th>\n",
       "      <td>1896.0</td>\n",
       "      <td>-0.30</td>\n",
       "      <td>NaN</td>\n",
       "    </tr>\n",
       "    <tr>\n",
       "      <th>2</th>\n",
       "      <td>1897.0</td>\n",
       "      <td>-1.78</td>\n",
       "      <td>NaN</td>\n",
       "    </tr>\n",
       "    <tr>\n",
       "      <th>3</th>\n",
       "      <td>1898.0</td>\n",
       "      <td>-1.75</td>\n",
       "      <td>NaN</td>\n",
       "    </tr>\n",
       "    <tr>\n",
       "      <th>4</th>\n",
       "      <td>1899.0</td>\n",
       "      <td>-2.53</td>\n",
       "      <td>-1.606</td>\n",
       "    </tr>\n",
       "  </tbody>\n",
       "</table>\n",
       "</div>"
      ],
      "text/plain": [
       "     year  temp  5yr_avg\n",
       "0  1895.0 -1.67      NaN\n",
       "1  1896.0 -0.30      NaN\n",
       "2  1897.0 -1.78      NaN\n",
       "3  1898.0 -1.75      NaN\n",
       "4  1899.0 -2.53   -1.606"
      ]
     },
     "execution_count": 21,
     "metadata": {},
     "output_type": "execute_result"
    }
   ],
   "source": [
    "temps_df['5yr_avg'] = temps_df['temp'].rolling(5).mean()\n",
    "temps_df.head()"
   ]
  },
  {
   "cell_type": "code",
   "execution_count": 28,
   "metadata": {},
   "outputs": [
    {
     "data": {
      "image/png": "[encoded data removed]",
      "text/plain": [
       "<Figure size 432x288 with 1 Axes>"
      ]
     },
     "metadata": {
      "needs_background": "light"
     },
     "output_type": "display_data"
    }
   ],
   "source": [
    "import matplotlib.pyplot as plt\n",
    "plt.plot(temps_df['year'],temps_df['temp'],label='temp')\n",
    "plt.plot(temps_df['year'],temps_df['5yr_avg'],label='5yr avg')\n",
    "plt.ylabel('celcius')\n",
    "plt.legend()\n",
    "plt.show()"
   ]
  },
  {
   "cell_type": "code",
   "execution_count": null,
   "metadata": {},
   "outputs": [],
   "source": []
  }
 ],
 "metadata": {
  "kernelspec": {
   "display_name": "Python 3",
   "language": "python",
   "name": "python3"
  },
  "language_info": {
   "codemirror_mode": {
    "name": "ipython",
    "version": 3
   },
   "file_extension": ".py",
   "mimetype": "text/x-python",
   "name": "python",
   "nbconvert_exporter": "python",
   "pygments_lexer": "ipython3",
   "version": "3.7.3"
  }
 },
 "nbformat": 4,
 "nbformat_minor": 2
}
