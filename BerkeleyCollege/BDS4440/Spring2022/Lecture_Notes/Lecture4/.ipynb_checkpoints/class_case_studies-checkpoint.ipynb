{
 "cells": [
  {
   "cell_type": "code",
   "execution_count": 11,
   "metadata": {},
   "outputs": [],
   "source": [
    "\"\"\"Commission employee base class\"\"\"\n",
    "from decimal import Decimal\n",
    "\n",
    "class CommissionEmployee:\n",
    "    \"\"\"An employee who gets paid comission based upon gross sales.\"\"\"\n",
    "    def __init__(self,first_name,last_name,ssn,gross_sales,commission_rate):\n",
    "        \"\"\"Initialize comission employees attributes\"\"\"\n",
    "        self._first_name = first_name\n",
    "        self._last_name = last_name\n",
    "        self._ssn = ssn\n",
    "        self.gross_sales = gross_sales #validate via property\n",
    "        self.commission_rate = commission_rate #validate via property\n",
    "        \n",
    "    @property\n",
    "    def first_name(self):\n",
    "        return self._first_name\n",
    "    \n",
    "    @property\n",
    "    def last_name(self):\n",
    "        return self._last_name\n",
    "    \n",
    "    @property\n",
    "    def ssn(self):\n",
    "        return self._ssn\n",
    "    \n",
    "    @property\n",
    "    def gross_sales(self):\n",
    "        return self._gross_sales\n",
    "    \n",
    "    @gross_sales.setter\n",
    "    def gross_sales(self,sales):\n",
    "        \"\"\"set gross sales or raise value error if invalid\"\"\"\n",
    "        if sales<Decimal('0.00'):\n",
    "            raise ValueError('Gross sales must be >= to 0')\n",
    "        self._gross_sales = sales\n",
    "        \n",
    "    @property\n",
    "    def commission_rate(self):\n",
    "        return self._comission_rate\n",
    "    \n",
    "    @commission_rate.setter\n",
    "    def commission_rate(self,rate):\n",
    "        \"\"\"Set comission raite or raise Value error if invalid\"\"\"\n",
    "        if not (Decimal('0.0')<rate<Decimal('1.0')):\n",
    "            raise ValueError('Interest rate must be greater than 0 and less than 1')\n",
    "            \n",
    "        self._commission_rate = rate\n",
    "        \n",
    "    def earning(self):\n",
    "        \"\"\"Calculate earnings\"\"\"\n",
    "        return self.gross_sales*self.commission_rate"
   ]
  },
  {
   "cell_type": "markdown",
   "metadata": {},
   "source": [
    "The @property decorator allows use to designate specific functions as what returns the intialized values. the @property.getter function allows us to assign a specific value to a property."
   ]
  },
  {
   "cell_type": "code",
   "execution_count": 12,
   "metadata": {},
   "outputs": [],
   "source": [
    "\"\"\"SalariedCommissionEmployee derived from CommissionEmployee\"\"\"\n",
    "#from commissionemployee import CommissionEmployee\n",
    "from decimal import Decimal\n",
    "\n",
    "class SalariedCommissionEmployee(CommissionEmployee):\n",
    "    \"\"\"An employee who get paid a salary plus commission based on gross sales.\"\"\"\n",
    "    \n",
    "    def __init__(self,first_name,last_name,ssn,gross_sales,commission_rate,base_salary):\n",
    "        \"\"\"Initialize salariedcommissionemployees attributes.\"\"\"\n",
    "        super().__init__(first_name,last_name,ssn,gross_sales,commission_rate)\n",
    "        self.base_salary = base_salary #validate via property\n",
    "        \n",
    "        @property\n",
    "        def base_salary(self):\n",
    "            return self._base_salary\n",
    "        \n",
    "        @base_salary.setter\n",
    "        def base_salary(self,salary):\n",
    "            \"\"\"Set base salary or raise ValueError if invalid\"\"\"\n",
    "            if salary<Decimal('0.00'):\n",
    "                raise ValueError('Base salary must be >= to 0')\n",
    "                \n",
    "            self._base_salary = salary\n",
    "            \n",
    "        def earnings(self):\n",
    "            \"\"\"Calculate Earnings\"\"\"\n",
    "            return super().earnings()+self.base_salary\n",
    "        \n",
    "        def __repr__(self):\n",
    "            \"\"\"Return string representation for repr().\"\"\"\n",
    "            return ('Salaried' + super().__repr__()+f'\\nbase salary:{self.base_salary:.2f}')"
   ]
  },
  {
   "cell_type": "code",
   "execution_count": 14,
   "metadata": {},
   "outputs": [
    {
     "data": {
      "text/plain": [
       "<__main__.CommissionEmployee at 0x108efb7b8>"
      ]
     },
     "execution_count": 14,
     "metadata": {},
     "output_type": "execute_result"
    }
   ],
   "source": [
    "CommissionEmployee('J','G',123,1000,0.05)"
   ]
  },
  {
   "cell_type": "code",
   "execution_count": null,
   "metadata": {},
   "outputs": [],
   "source": []
  }
 ],
 "metadata": {
  "kernelspec": {
   "display_name": "Python 3",
   "language": "python",
   "name": "python3"
  },
  "language_info": {
   "codemirror_mode": {
    "name": "ipython",
    "version": 3
   },
   "file_extension": ".py",
   "mimetype": "text/x-python",
   "name": "python",
   "nbconvert_exporter": "python",
   "pygments_lexer": "ipython3",
   "version": "3.7.3"
  }
 },
 "nbformat": 4,
 "nbformat_minor": 2
}
