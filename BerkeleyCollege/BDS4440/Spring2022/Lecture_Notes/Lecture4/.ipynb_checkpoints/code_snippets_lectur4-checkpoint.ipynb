{
 "cells": [
  {
   "cell_type": "code",
   "execution_count": 5,
   "metadata": {},
   "outputs": [],
   "source": [
    "class loan:\n",
    "    def statement(self):\n",
    "        print('I am bank loan')\n",
    "        \n",
    "\n",
    "class mortgage(loan):\n",
    "    def announcement(self):\n",
    "        print('my interest rate')"
   ]
  },
  {
   "cell_type": "code",
   "execution_count": 13,
   "metadata": {},
   "outputs": [
    {
     "name": "stdout",
     "output_type": "stream",
     "text": [
      "my interest rate\n"
     ]
    }
   ],
   "source": [
    "m = mortgage()\n",
    "m.announcement()"
   ]
  },
  {
   "cell_type": "code",
   "execution_count": 14,
   "metadata": {},
   "outputs": [
    {
     "name": "stdout",
     "output_type": "stream",
     "text": [
      "I am bank loan\n"
     ]
    }
   ],
   "source": [
    "m.statement()"
   ]
  },
  {
   "cell_type": "code",
   "execution_count": 15,
   "metadata": {},
   "outputs": [
    {
     "data": {
      "text/plain": [
       "18"
      ]
     },
     "execution_count": 15,
     "metadata": {},
     "output_type": "execute_result"
    }
   ],
   "source": [
    "class polygon:\n",
    "    def __init__(self,sides):\n",
    "        self.sides = sides # a list\n",
    "        \n",
    "    def info(self):\n",
    "        print(\"A polygon is a two dimensional shape with straight lines\")\n",
    "        \n",
    "    def perimeter(self):\n",
    "        perimeter = sum(self.sides)\n",
    "        return perimeter\n",
    "        \n",
    "class triangle(polygon):\n",
    "    def info(self):\n",
    "        print(\"A triangle is a polygon with 3 edges\")\n",
    "\n",
    "class quadrilateral(polygon):\n",
    "    def info(self):\n",
    "        print(\"A quadrilateral is a polygon with 4 edges\")\n",
    "\n",
    "        \n",
    "\n",
    "t = triangle([5,6,7])\n",
    "t.perimeter()"
   ]
  },
  {
   "cell_type": "code",
   "execution_count": 16,
   "metadata": {},
   "outputs": [
    {
     "name": "stdout",
     "output_type": "stream",
     "text": [
      "A triangle is a polygon with 3 edges\n"
     ]
    }
   ],
   "source": [
    "#method over riding - how to over ride parameters with the same name?\n",
    "\n",
    "t.info() #method of triangle was overrided from polygon's info method"
   ]
  },
  {
   "cell_type": "code",
   "execution_count": null,
   "metadata": {},
   "outputs": [],
   "source": []
  }
 ],
 "metadata": {
  "kernelspec": {
   "display_name": "Python 3",
   "language": "python",
   "name": "python3"
  },
  "language_info": {
   "codemirror_mode": {
    "name": "ipython",
    "version": 3
   },
   "file_extension": ".py",
   "mimetype": "text/x-python",
   "name": "python",
   "nbconvert_exporter": "python",
   "pygments_lexer": "ipython3",
   "version": "3.7.3"
  }
 },
 "nbformat": 4,
 "nbformat_minor": 2
}
