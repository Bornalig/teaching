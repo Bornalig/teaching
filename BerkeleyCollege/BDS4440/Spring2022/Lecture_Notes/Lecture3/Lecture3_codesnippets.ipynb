{
 "cells": [
  {
   "cell_type": "code",
   "execution_count": 1,
   "metadata": {},
   "outputs": [
    {
     "data": {
      "text/plain": [
       "(7, 45, 30)"
      ]
     },
     "execution_count": 1,
     "metadata": {},
     "output_type": "execute_result"
    }
   ],
   "source": [
    "from timewithproperties import Time\n",
    "\n",
    "wake_up = Time(hour=7,minute=45,second=30)\n",
    "\n",
    "wake_up.time"
   ]
  },
  {
   "cell_type": "code",
   "execution_count": null,
   "metadata": {},
   "outputs": [],
   "source": [
    "from timewithproperties import Time\n",
    "\n",
    "wake_up = Time(hour=7,minute=45,second=30)\n",
    "\n",
    "wake_up.add_time(hour=4,minute=5,second=10)"
   ]
  },
  {
   "cell_type": "code",
   "execution_count": 4,
   "metadata": {},
   "outputs": [],
   "source": [
    "Time?"
   ]
  },
  {
   "cell_type": "code",
   "execution_count": 3,
   "metadata": {},
   "outputs": [],
   "source": [
    "Time.add_time?"
   ]
  },
  {
   "cell_type": "code",
   "execution_count": 2,
   "metadata": {},
   "outputs": [
    {
     "name": "stdout",
     "output_type": "stream",
     "text": [
      "Object `timewithproperties.Time` not found.\n"
     ]
    }
   ],
   "source": [
    "timewithproperties.Time?"
   ]
  },
  {
   "cell_type": "code",
   "execution_count": null,
   "metadata": {},
   "outputs": [],
   "source": [
    "def shout(text):\n",
    "    return text.upper()\n",
    "\n",
    "def whisper(text):\n",
    "    return list(text)"
   ]
  },
  {
   "cell_type": "code",
   "execution_count": null,
   "metadata": {},
   "outputs": [],
   "source": [
    "whisper('hello')"
   ]
  },
  {
   "cell_type": "code",
   "execution_count": null,
   "metadata": {},
   "outputs": [],
   "source": [
    "# importing libraries\n",
    "import time\n",
    "import math\n",
    " \n",
    "# decorator to calculate duration\n",
    "# taken by any function.\n",
    "def calculate_time(func):\n",
    "     \n",
    "    # added arguments inside the inner1,\n",
    "    # if function takes any arguments,\n",
    "    # can be added like this.\n",
    "    def inner1(*args, **kwargs):\n",
    " \n",
    "        # storing time before function execution\n",
    "        begin = time.time()\n",
    "         \n",
    "        func(*args, **kwargs)\n",
    " \n",
    "        # storing time after function execution\n",
    "        end = time.time()\n",
    "        print(\"Total time taken in : \", func.__name__, end - begin)\n",
    " \n",
    "    return inner1\n",
    " \n",
    " \n",
    " \n",
    "# this can be added to any function present,\n",
    "# in this case to calculate a factorial\n",
    "@calculate_time\n",
    "def factorial(num):\n",
    " \n",
    "    # sleep 2 seconds because it takes very less time\n",
    "    # so that you can see the actual difference\n",
    "    time.sleep(2)\n",
    "    print(math.factorial(num))\n",
    " \n",
    "# calling the function.\n",
    "factorial(10)"
   ]
  },
  {
   "cell_type": "code",
   "execution_count": null,
   "metadata": {},
   "outputs": [],
   "source": [
    "def multiply_by10(func):\n",
    "    def inner(*args,**kwargs):\n",
    "        return 10*func(*args,**kwargs)\n",
    "    return inner\n",
    "\n",
    "@multiply_by10\n",
    "def add_two_numbers(a,b):\n",
    "    return a+b\n",
    "\n",
    "add_two_numbers(3,5)"
   ]
  },
  {
   "cell_type": "code",
   "execution_count": null,
   "metadata": {},
   "outputs": [],
   "source": [
    "def multiply_by10(a,b):\n",
    "    def add_two_numbers(a,b):\n",
    "        return a+b\n",
    "    return 10*add_two_numbers(a,b)\n",
    "\n",
    "\n",
    "multiply_by10(3,5)"
   ]
  },
  {
   "cell_type": "code",
   "execution_count": null,
   "metadata": {},
   "outputs": [],
   "source": [
    "class PrivateClass:\n",
    "    def __init__(self):\n",
    "        self.public_data = \"public\"\n",
    "        self.__private_data = \"private\""
   ]
  },
  {
   "cell_type": "code",
   "execution_count": null,
   "metadata": {},
   "outputs": [],
   "source": [
    "p = PrivateClass()\n",
    "p.public_data"
   ]
  },
  {
   "cell_type": "code",
   "execution_count": null,
   "metadata": {},
   "outputs": [],
   "source": [
    "p.__private_data"
   ]
  },
  {
   "cell_type": "code",
   "execution_count": 8,
   "metadata": {},
   "outputs": [],
   "source": [
    "class property_setter:\n",
    "    def __init__(self,alpha):\n",
    "        self._a = alpha\n",
    "        \n",
    "    @property\n",
    "    def a(self):\n",
    "        return self._a\n",
    "    \n",
    "    @a.setter\n",
    "    def a(self, alpha):\n",
    "        self._a = alpha"
   ]
  },
  {
   "cell_type": "code",
   "execution_count": 9,
   "metadata": {},
   "outputs": [],
   "source": [
    "ps = property_setter('alpha')\n",
    "\n",
    "ps._a = 'beta'"
   ]
  },
  {
   "cell_type": "code",
   "execution_count": 10,
   "metadata": {},
   "outputs": [
    {
     "data": {
      "text/plain": [
       "'beta'"
      ]
     },
     "execution_count": 10,
     "metadata": {},
     "output_type": "execute_result"
    }
   ],
   "source": [
    "ps._a"
   ]
  },
  {
   "cell_type": "code",
   "execution_count": 11,
   "metadata": {},
   "outputs": [],
   "source": [
    "class demo_repr_method:\n",
    "    def __init__(self,alpha):\n",
    "        self.alpha = alpha\n",
    "        \n",
    "    def __repr__(self):\n",
    "        \"\"\"Return initialization string for the class\"\"\"\n",
    "        return (f'demo_repr_method(alpha={self.alpha})')"
   ]
  },
  {
   "cell_type": "code",
   "execution_count": 14,
   "metadata": {},
   "outputs": [
    {
     "data": {
      "text/plain": [
       "'demo_repr_method(alpha=19)'"
      ]
     },
     "execution_count": 14,
     "metadata": {},
     "output_type": "execute_result"
    }
   ],
   "source": [
    "demo_repr_method('19').__repr__()"
   ]
  },
  {
   "cell_type": "code",
   "execution_count": null,
   "metadata": {},
   "outputs": [],
   "source": []
  }
 ],
 "metadata": {
  "kernelspec": {
   "display_name": "Python 3 (ipykernel)",
   "language": "python",
   "name": "python3"
  },
  "language_info": {
   "codemirror_mode": {
    "name": "ipython",
    "version": 3
   },
   "file_extension": ".py",
   "mimetype": "text/x-python",
   "name": "python",
   "nbconvert_exporter": "python",
   "pygments_lexer": "ipython3",
   "version": "3.9.7"
  }
 },
 "nbformat": 4,
 "nbformat_minor": 2
}
