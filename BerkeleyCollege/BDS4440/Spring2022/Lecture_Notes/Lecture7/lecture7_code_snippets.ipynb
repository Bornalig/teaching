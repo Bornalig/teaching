{
 "cells": [
  {
   "cell_type": "code",
   "execution_count": 1,
   "metadata": {},
   "outputs": [
    {
     "name": "stdout",
     "output_type": "stream",
     "text": [
      "Collecting package metadata (current_repodata.json): done\n",
      "Solving environment: | \n",
      "The environment is inconsistent, please check the package plan carefully\n",
      "The following packages are causing the inconsistency:\n",
      "\n",
      "  - defaults/noarch::ipywidgets==7.5.0=py_0\n",
      "  - defaults/osx-64::pyopenssl==19.0.0=py37_0\n",
      "  - defaults/osx-64::pytest-astropy==0.5.0=py37_0\n",
      "  - defaults/osx-64::jupyter==1.0.0=py37_7\n",
      "  - defaults/osx-64::astroid==2.2.5=py37_0\n",
      "  - defaults/osx-64::pytables==3.5.2=py37h5bccee9_1\n",
      "  - defaults/osx-64::scikit-image==0.15.0=py37h0a44026_0\n",
      "  - defaults/osx-64::mock==3.0.5=py37_0\n",
      "  - defaults/osx-64::ipython==7.6.1=py37h39e3cac_0\n",
      "  - defaults/osx-64::imageio==2.5.0=py37_0\n",
      "  - defaults/noarch::numpydoc==0.9.1=py_0\n",
      "  - conda-forge/osx-64::conda==4.8.5=py37h2987424_2\n",
      "  - defaults/osx-64::cycler==0.10.0=py37_0\n",
      "  - conda-forge/osx-64::cftime==1.2.1=py37h5be27a9_0\n",
      "  - defaults/noarch::nbconvert==5.5.0=py_0\n",
      "  - defaults/noarch::anaconda-project==0.8.3=py_0\n",
      "  - defaults/osx-64::traitlets==4.3.2=py37_0\n",
      "  - defaults/osx-64::bottleneck==1.2.1=py37h1d22016_1\n",
      "  - defaults/osx-64::matplotlib==3.1.0=py37h54f8f79_0\n",
      "  - defaults/osx-64::pytest-arraydiff==0.3=py37h39e3cac_0\n",
      "  - conda-forge/osx-64::pandas==0.24.2=py37h0a44026_0\n",
      "  - defaults/osx-64::packaging==19.0=py37_0\n",
      "  - defaults/osx-64::pywavelets==1.0.3=py37h1d22016_1\n",
      "  - defaults/osx-64::nltk==3.4.4=py37_0\n",
      "  - conda-forge/osx-64::matplotlib-base==3.1.1=py37h3a684a6_1\n",
      "  - defaults/noarch::jupyterlab_server==1.0.0=py_0\n",
      "  - defaults/osx-64::anaconda==2019.07=py37_0\n",
      "  - defaults/osx-64::scikit-learn==0.21.2=py37h27c97d8_0\n",
      "  - defaults/noarch::jupyter_core==4.5.0=py_0\n",
      "  - defaults/osx-64::bkcharts==0.2=py37_0\n",
      "  - defaults/osx-64::pytest-doctestplus==0.3.0=py37_0\n",
      "  - defaults/osx-64::numba==0.44.1=py37h6440ff4_0\n",
      "  - defaults/osx-64::jupyterlab==1.0.2=py37hf63ae98_0\n",
      "  - defaults/osx-64::requests==2.22.0=py37_0\n",
      "  - defaults/osx-64::h5py==2.9.0=py37h3134771_0\n",
      "  - defaults/osx-64::notebook==6.0.0=py37_0\n",
      "  - conda-forge/noarch::arviz==0.10.0=py_0\n",
      "  - defaults/osx-64::netcdf4==1.4.2=py37h13743db_0\n",
      "  - conda-forge/osx-64::fbprophet==0.5=py37h6de7cb9_0\n",
      "  - defaults/osx-64::pyrsistent==0.14.11=py37h1de35cc_0\n",
      "  - defaults/osx-64::python-dateutil==2.8.0=py37_0\n",
      "  - conda-forge/noarch::holidays==0.10.3=pyh9f0ad1d_0\n",
      "  - defaults/osx-64::pathlib2==2.3.4=py37_0\n",
      "  - defaults/osx-64::singledispatch==3.4.0.3=py37_0\n",
      "  - defaults/osx-64::anaconda-navigator==1.9.7=py37_0\n",
      "  - defaults/noarch::conda-verify==3.4.2=py_1\n",
      "  - defaults/noarch::sphinx==2.1.2=py_0\n",
      "  - defaults/osx-64::widgetsnbextension==3.5.0=py37_0\n",
      "  - defaults/osx-64::jupyter_console==6.0.0=py37_0\n",
      "  - defaults/osx-64::mkl_fft==1.0.12=py37h5e564d8_0\n",
      "  - defaults/osx-64::conda-build==3.18.8=py37_0\n",
      "  - defaults/osx-64::numexpr==2.6.9=py37h7413580_0\n",
      "  - defaults/osx-64::mkl-service==2.0.2=py37h1de35cc_0\n",
      "  - defaults/osx-64::cryptography==2.7=py37ha12b0ac_0\n",
      "  - defaults/osx-64::urllib3==1.24.2=py37_0\n",
      "  - defaults/osx-64::qtawesome==0.5.7=py37_1\n",
      "  - defaults/osx-64::mkl_random==1.0.2=py37h27c97d8_0\n",
      "  - defaults/osx-64::bleach==3.1.0=py37_0\n",
      "  - defaults/osx-64::html5lib==1.0.1=py37_0\n",
      "  - defaults/osx-64::seaborn==0.9.0=py37_0\n",
      "  - defaults/osx-64::pytest-openfiles==0.3.2=py37_0\n",
      "  - defaults/osx-64::numpy==1.16.4=py37hacdab7b_0\n",
      "  - defaults/osx-64::pytest-remotedata==0.3.1=py37_0\n",
      "  - defaults/osx-64::anaconda-client==1.7.2=py37_0\n",
      "  - defaults/osx-64::astropy==3.2.1=py37h1de35cc_0\n",
      "  - defaults/osx-64::ipykernel==5.1.1=py37h39e3cac_0\n",
      "  - defaults/osx-64::pylint==2.3.1=py37_0\n",
      "  - defaults/osx-64::patsy==0.5.1=py37_0\n",
      "  - defaults/osx-64::multipledispatch==0.6.0=py37_0\n",
      "  - defaults/osx-64::prompt_toolkit==2.0.9=py37_0\n",
      "  - defaults/noarch::distributed==2.1.0=py_0\n",
      "  - defaults/osx-64::_ipyw_jlab_nb_ext_conf==0.1.0=py37_0\n",
      "  - conda-forge/osx-64::pystan==2.19.0.0=py37h86efe34_0\n",
      "  - defaults/osx-64::scipy==1.3.0=py37h1410ff5_0\n",
      "  - defaults/osx-64::bokeh==1.2.0=py37_0\n",
      "  - defaults/noarch::qtconsole==4.5.1=py_0\n",
      "  - defaults/osx-64::jsonschema==3.0.1=py37_0\n",
      "  - defaults/osx-64::spyder==3.3.6=py37_0\n",
      "  - defaults/noarch::jupyter_client==5.3.1=py_0\n",
      "  - defaults/osx-64::pytest==5.0.1=py37_0\n",
      "  - defaults/osx-64::nbformat==4.4.0=py37_0\n",
      "  - defaults/noarch::dask==2.1.0=py_0\n",
      "  - anaconda/osx-64::_anaconda_depends==2019.10=py37_0\n",
      "  - defaults/osx-64::spyder-kernels==0.5.1=py37_0\n",
      "  - defaults/osx-64::conda-package-handling==1.3.11=py37_0\n",
      "failed with initial frozen solve. Retrying with flexible solve.\n",
      "Solving environment: failed with repodata from current_repodata.json, will retry with next repodata source.\n",
      "Collecting package metadata (repodata.json): done\n",
      "Solving environment: / \n",
      "The environment is inconsistent, please check the package plan carefully\n",
      "The following packages are causing the inconsistency:\n",
      "\n",
      "  - defaults/noarch::ipywidgets==7.5.0=py_0\n",
      "  - defaults/osx-64::pyopenssl==19.0.0=py37_0\n",
      "  - defaults/osx-64::pytest-astropy==0.5.0=py37_0\n",
      "  - defaults/osx-64::jupyter==1.0.0=py37_7\n",
      "  - defaults/osx-64::astroid==2.2.5=py37_0\n",
      "  - defaults/osx-64::pytables==3.5.2=py37h5bccee9_1\n",
      "  - defaults/osx-64::scikit-image==0.15.0=py37h0a44026_0\n",
      "  - defaults/osx-64::mock==3.0.5=py37_0\n",
      "  - defaults/osx-64::ipython==7.6.1=py37h39e3cac_0\n",
      "  - defaults/osx-64::imageio==2.5.0=py37_0\n",
      "  - defaults/noarch::numpydoc==0.9.1=py_0\n",
      "  - conda-forge/osx-64::conda==4.8.5=py37h2987424_2\n",
      "  - defaults/osx-64::cycler==0.10.0=py37_0\n",
      "  - conda-forge/osx-64::cftime==1.2.1=py37h5be27a9_0\n",
      "  - defaults/noarch::nbconvert==5.5.0=py_0\n",
      "  - defaults/noarch::anaconda-project==0.8.3=py_0\n",
      "  - defaults/osx-64::traitlets==4.3.2=py37_0\n",
      "  - defaults/osx-64::bottleneck==1.2.1=py37h1d22016_1\n",
      "  - defaults/osx-64::matplotlib==3.1.0=py37h54f8f79_0\n",
      "  - defaults/osx-64::pytest-arraydiff==0.3=py37h39e3cac_0\n",
      "  - conda-forge/osx-64::pandas==0.24.2=py37h0a44026_0\n",
      "  - defaults/osx-64::packaging==19.0=py37_0\n",
      "  - defaults/osx-64::pywavelets==1.0.3=py37h1d22016_1\n",
      "  - defaults/osx-64::nltk==3.4.4=py37_0\n",
      "  - conda-forge/osx-64::matplotlib-base==3.1.1=py37h3a684a6_1\n",
      "  - defaults/noarch::jupyterlab_server==1.0.0=py_0\n",
      "  - defaults/osx-64::anaconda==2019.07=py37_0\n",
      "  - defaults/osx-64::scikit-learn==0.21.2=py37h27c97d8_0\n",
      "  - defaults/noarch::jupyter_core==4.5.0=py_0\n",
      "  - defaults/osx-64::bkcharts==0.2=py37_0\n",
      "  - defaults/osx-64::pytest-doctestplus==0.3.0=py37_0\n",
      "  - defaults/osx-64::numba==0.44.1=py37h6440ff4_0\n",
      "  - defaults/osx-64::jupyterlab==1.0.2=py37hf63ae98_0\n",
      "  - defaults/osx-64::requests==2.22.0=py37_0\n",
      "  - defaults/osx-64::h5py==2.9.0=py37h3134771_0\n",
      "  - defaults/osx-64::notebook==6.0.0=py37_0\n",
      "  - conda-forge/noarch::arviz==0.10.0=py_0\n",
      "  - defaults/osx-64::netcdf4==1.4.2=py37h13743db_0\n",
      "  - conda-forge/osx-64::fbprophet==0.5=py37h6de7cb9_0\n",
      "  - defaults/osx-64::pyrsistent==0.14.11=py37h1de35cc_0\n",
      "  - defaults/osx-64::python-dateutil==2.8.0=py37_0\n",
      "  - conda-forge/noarch::holidays==0.10.3=pyh9f0ad1d_0\n",
      "  - defaults/osx-64::pathlib2==2.3.4=py37_0\n",
      "  - defaults/osx-64::singledispatch==3.4.0.3=py37_0\n",
      "  - defaults/osx-64::anaconda-navigator==1.9.7=py37_0\n",
      "  - defaults/noarch::conda-verify==3.4.2=py_1\n",
      "  - defaults/noarch::sphinx==2.1.2=py_0\n",
      "  - defaults/osx-64::widgetsnbextension==3.5.0=py37_0\n",
      "  - defaults/osx-64::jupyter_console==6.0.0=py37_0\n",
      "  - defaults/osx-64::mkl_fft==1.0.12=py37h5e564d8_0\n",
      "  - defaults/osx-64::conda-build==3.18.8=py37_0\n",
      "  - defaults/osx-64::numexpr==2.6.9=py37h7413580_0\n",
      "  - defaults/osx-64::mkl-service==2.0.2=py37h1de35cc_0\n",
      "  - defaults/osx-64::cryptography==2.7=py37ha12b0ac_0\n",
      "  - defaults/osx-64::urllib3==1.24.2=py37_0\n",
      "  - defaults/osx-64::qtawesome==0.5.7=py37_1\n",
      "  - defaults/osx-64::mkl_random==1.0.2=py37h27c97d8_0\n",
      "  - defaults/osx-64::bleach==3.1.0=py37_0\n",
      "  - defaults/osx-64::html5lib==1.0.1=py37_0\n",
      "  - defaults/osx-64::seaborn==0.9.0=py37_0\n",
      "  - defaults/osx-64::pytest-openfiles==0.3.2=py37_0\n",
      "  - defaults/osx-64::numpy==1.16.4=py37hacdab7b_0\n",
      "  - defaults/osx-64::pytest-remotedata==0.3.1=py37_0\n",
      "  - defaults/osx-64::anaconda-client==1.7.2=py37_0\n",
      "  - defaults/osx-64::astropy==3.2.1=py37h1de35cc_0\n",
      "  - defaults/osx-64::ipykernel==5.1.1=py37h39e3cac_0\n",
      "  - defaults/osx-64::pylint==2.3.1=py37_0\n",
      "  - defaults/osx-64::patsy==0.5.1=py37_0\n",
      "  - defaults/osx-64::multipledispatch==0.6.0=py37_0\n",
      "  - defaults/osx-64::prompt_toolkit==2.0.9=py37_0\n",
      "  - defaults/noarch::distributed==2.1.0=py_0\n",
      "  - defaults/osx-64::_ipyw_jlab_nb_ext_conf==0.1.0=py37_0\n",
      "  - conda-forge/osx-64::pystan==2.19.0.0=py37h86efe34_0\n",
      "  - defaults/osx-64::scipy==1.3.0=py37h1410ff5_0\n",
      "  - defaults/osx-64::bokeh==1.2.0=py37_0\n",
      "  - defaults/noarch::qtconsole==4.5.1=py_0\n",
      "  - defaults/osx-64::jsonschema==3.0.1=py37_0\n",
      "  - defaults/osx-64::spyder==3.3.6=py37_0\n",
      "  - defaults/noarch::jupyter_client==5.3.1=py_0\n",
      "  - defaults/osx-64::pytest==5.0.1=py37_0\n",
      "  - defaults/osx-64::nbformat==4.4.0=py37_0\n",
      "  - defaults/noarch::dask==2.1.0=py_0\n",
      "  - anaconda/osx-64::_anaconda_depends==2019.10=py37_0\n",
      "  - defaults/osx-64::spyder-kernels==0.5.1=py37_0\n",
      "  - defaults/osx-64::conda-package-handling==1.3.11=py37_0\n"
     ]
    },
    {
     "name": "stdout",
     "output_type": "stream",
     "text": [
      "done\n",
      "\n",
      "\n",
      "==> WARNING: A newer version of conda exists. <==\n",
      "  current version: 4.8.5\n",
      "  latest version: 4.11.0\n",
      "\n",
      "Please update conda by running\n",
      "\n",
      "    $ conda update -n base conda\n",
      "\n",
      "\n",
      "\n",
      "## Package Plan ##\n",
      "\n",
      "  environment location: /Users/joseph.ganser/anaconda3\n",
      "\n",
      "  added / updated specs:\n",
      "    - textblob\n",
      "\n",
      "\n",
      "The following packages will be downloaded:\n",
      "\n",
      "    package                    |            build\n",
      "    ---------------------------|-----------------\n",
      "    anaconda-custom            |           py37_1           3 KB\n",
      "    ca-certificates-2021.10.8  |       h033912b_0         139 KB  conda-forge\n",
      "    certifi-2021.10.8          |   py37hf985489_1         145 KB  conda-forge\n",
      "    importlib-metadata-4.10.1  |   py37hf985489_0          32 KB  conda-forge\n",
      "    openssl-1.1.1l             |       h0d85af4_0         1.9 MB  conda-forge\n",
      "    six-1.16.0                 |     pyh6c4a22f_0          14 KB  conda-forge\n",
      "    sqlalchemy-1.4.29          |   py37h271585c_0         2.3 MB  conda-forge\n",
      "    statsmodels-0.12.0         |   py37h60d8a13_0        10.4 MB  conda-forge\n",
      "    textblob-0.15.3            |             py_0         595 KB  conda-forge\n",
      "    typing_extensions-4.0.1    |     pyha770c72_0          26 KB  conda-forge\n",
      "    ------------------------------------------------------------\n",
      "                                           Total:        15.5 MB\n",
      "\n",
      "The following NEW packages will be INSTALLED:\n",
      "\n",
      "  importlib-metadata conda-forge/osx-64::importlib-metadata-4.10.1-py37hf985489_0\n",
      "  numpy-base         pkgs/main/osx-64::numpy-base-1.16.4-py37h6575580_0\n",
      "  six                conda-forge/noarch::six-1.16.0-pyh6c4a22f_0\n",
      "  sqlalchemy         conda-forge/osx-64::sqlalchemy-1.4.29-py37h271585c_0\n",
      "  statsmodels        conda-forge/osx-64::statsmodels-0.12.0-py37h60d8a13_0\n",
      "  textblob           conda-forge/noarch::textblob-0.15.3-py_0\n",
      "  typing_extensions  conda-forge/noarch::typing_extensions-4.0.1-pyha770c72_0\n",
      "  xarray             conda-forge/noarch::xarray-0.14.1-py_1\n",
      "\n",
      "The following packages will be UPDATED:\n",
      "\n",
      "  ca-certificates    pkgs/main::ca-certificates-2019.5.15-0 --> conda-forge::ca-certificates-2021.10.8-h033912b_0\n",
      "  certifi                                  2019.6.16-py37_0 --> 2021.10.8-py37hf985489_1\n",
      "  openssl              pkgs/main::openssl-1.1.1c-h1de35cc_1 --> conda-forge::openssl-1.1.1l-h0d85af4_0\n",
      "\n",
      "The following packages will be DOWNGRADED:\n",
      "\n",
      "  anaconda                                   2019.07-py37_0 --> custom-py37_1\n",
      "\n",
      "\n",
      "\n",
      "Downloading and Extracting Packages\n",
      "sqlalchemy-1.4.29    | 2.3 MB    | ##################################### | 100% \n",
      "six-1.16.0           | 14 KB     | ##################################### | 100% \n",
      "certifi-2021.10.8    | 145 KB    | ##################################### | 100% \n",
      "textblob-0.15.3      | 595 KB    | ##################################### | 100% \n",
      "anaconda-custom      | 3 KB      | ##################################### | 100% \n",
      "importlib-metadata-4 | 32 KB     | ##################################### | 100% \n",
      "openssl-1.1.1l       | 1.9 MB    | ##################################### | 100% \n",
      "typing_extensions-4. | 26 KB     | ##################################### | 100% \n",
      "ca-certificates-2021 | 139 KB    | ##################################### | 100% \n",
      "statsmodels-0.12.0   | 10.4 MB   | ##################################### | 100% \n",
      "Preparing transaction: done\n",
      "Verifying transaction: done\n",
      "Executing transaction: done\n",
      "\n",
      "Note: you may need to restart the kernel to use updated packages.\n"
     ]
    }
   ],
   "source": [
    "conda install -c conda-forge textblob"
   ]
  },
  {
   "cell_type": "code",
   "execution_count": 3,
   "metadata": {},
   "outputs": [
    {
     "name": "stdout",
     "output_type": "stream",
     "text": [
      "[nltk_data] Downloading package brown to\n",
      "[nltk_data]     /Users/joseph.ganser/nltk_data...\n",
      "[nltk_data]   Unzipping corpora/brown.zip.\n",
      "[nltk_data] Downloading package punkt to\n",
      "[nltk_data]     /Users/joseph.ganser/nltk_data...\n",
      "[nltk_data]   Unzipping tokenizers/punkt.zip.\n",
      "[nltk_data] Downloading package wordnet to\n",
      "[nltk_data]     /Users/joseph.ganser/nltk_data...\n",
      "[nltk_data]   Unzipping corpora/wordnet.zip.\n",
      "[nltk_data] Downloading package averaged_perceptron_tagger to\n",
      "[nltk_data]     /Users/joseph.ganser/nltk_data...\n",
      "[nltk_data]   Unzipping taggers/averaged_perceptron_tagger.zip.\n",
      "[nltk_data] Downloading package conll2000 to\n",
      "[nltk_data]     /Users/joseph.ganser/nltk_data...\n",
      "[nltk_data]   Unzipping corpora/conll2000.zip.\n",
      "[nltk_data] Downloading package movie_reviews to\n",
      "[nltk_data]     /Users/joseph.ganser/nltk_data...\n",
      "[nltk_data]   Unzipping corpora/movie_reviews.zip.\n",
      "\u001b]0;IPython: Lectures/Lecture7\u0007Finished.\n"
     ]
    }
   ],
   "source": [
    "!ipython -m textblob.download_corpora"
   ]
  },
  {
   "cell_type": "markdown",
   "metadata": {},
   "source": [
    "# Example 1: Create a text blob"
   ]
  },
  {
   "cell_type": "code",
   "execution_count": 9,
   "metadata": {},
   "outputs": [],
   "source": [
    "from textblob import TextBlob\n",
    "\n",
    "text = 'Today is a beauyiful day. Tomorrow looks like bad weather.'\n",
    "\n",
    "blob = TextBlob(text)"
   ]
  },
  {
   "cell_type": "markdown",
   "metadata": {},
   "source": [
    "# Example 2: Tokenization into sentences/words"
   ]
  },
  {
   "cell_type": "code",
   "execution_count": 15,
   "metadata": {},
   "outputs": [
    {
     "data": {
      "text/plain": [
       "[Sentence(\"Today is a beautiful day.\"),\n",
       " Sentence(\"Tomorrow looks like bad weather.\")]"
      ]
     },
     "execution_count": 15,
     "metadata": {},
     "output_type": "execute_result"
    }
   ],
   "source": [
    "blob.sentences"
   ]
  },
  {
   "cell_type": "code",
   "execution_count": 4,
   "metadata": {},
   "outputs": [
    {
     "data": {
      "text/plain": [
       "WordList(['Today', 'is', 'a', 'beauyiful', 'day', 'Tomorrow', 'looks', 'like', 'bad', 'weather'])"
      ]
     },
     "execution_count": 4,
     "metadata": {},
     "output_type": "execute_result"
    }
   ],
   "source": [
    "blob.words"
   ]
  },
  {
   "cell_type": "markdown",
   "metadata": {},
   "source": [
    "# Example 3: Parts of Speech Tagging"
   ]
  },
  {
   "cell_type": "code",
   "execution_count": 5,
   "metadata": {},
   "outputs": [
    {
     "data": {
      "text/plain": [
       "[('Today', 'NN'),\n",
       " ('is', 'VBZ'),\n",
       " ('a', 'DT'),\n",
       " ('beauyiful', 'JJ'),\n",
       " ('day', 'NN'),\n",
       " ('Tomorrow', 'NNP'),\n",
       " ('looks', 'VBZ'),\n",
       " ('like', 'IN'),\n",
       " ('bad', 'JJ'),\n",
       " ('weather', 'NN')]"
      ]
     },
     "execution_count": 5,
     "metadata": {},
     "output_type": "execute_result"
    }
   ],
   "source": [
    "blob.tags"
   ]
  },
  {
   "cell_type": "markdown",
   "metadata": {},
   "source": [
    "# Example 4: noun phrases"
   ]
  },
  {
   "cell_type": "code",
   "execution_count": 6,
   "metadata": {},
   "outputs": [
    {
     "data": {
      "text/plain": [
       "WordList(['beauyiful day', 'tomorrow', 'bad weather'])"
      ]
     },
     "execution_count": 6,
     "metadata": {},
     "output_type": "execute_result"
    }
   ],
   "source": [
    "blob.noun_phrases"
   ]
  },
  {
   "cell_type": "markdown",
   "metadata": {},
   "source": [
    "# Example 5: Sentiment analysis"
   ]
  },
  {
   "cell_type": "code",
   "execution_count": 7,
   "metadata": {},
   "outputs": [
    {
     "data": {
      "text/plain": [
       "Sentiment(polarity=0.07500000000000007, subjectivity=0.8333333333333333)"
      ]
     },
     "execution_count": 7,
     "metadata": {},
     "output_type": "execute_result"
    }
   ],
   "source": [
    "text = \"Today is a beautiful day. Tomorrow looks like bad weather.\"\n",
    "\n",
    "blob = TextBlob(text)\n",
    "blob.sentiment"
   ]
  },
  {
   "cell_type": "code",
   "execution_count": 8,
   "metadata": {},
   "outputs": [
    {
     "name": "stdout",
     "output_type": "stream",
     "text": [
      "Sentiment(polarity=0.85, subjectivity=1.0)\n",
      "Sentiment(polarity=-0.6999999999999998, subjectivity=0.6666666666666666)\n"
     ]
    }
   ],
   "source": [
    "for sentence in blob.sentences:\n",
    "    print(sentence.sentiment)"
   ]
  },
  {
   "cell_type": "markdown",
   "metadata": {},
   "source": [
    "# Example 6: Sentiment analysis with NaiveBayesAnalyzer"
   ]
  },
  {
   "cell_type": "code",
   "execution_count": 12,
   "metadata": {},
   "outputs": [
    {
     "data": {
      "text/plain": [
       "Sentiment(classification='neg', p_pos=0.47662917962091056, p_neg=0.5233708203790892)"
      ]
     },
     "execution_count": 12,
     "metadata": {},
     "output_type": "execute_result"
    }
   ],
   "source": [
    "from textblob.sentiments import NaiveBayesAnalyzer\n",
    "\n",
    "text = \"Today is a beautiful day. Tomorrow looks like bad weather.\"\n",
    "blob = TextBlob(text,analyzer=NaiveBayesAnalyzer())\n",
    "\n",
    "blob.sentiment"
   ]
  },
  {
   "cell_type": "code",
   "execution_count": 18,
   "metadata": {},
   "outputs": [
    {
     "name": "stdout",
     "output_type": "stream",
     "text": [
      "Today is a beautiful day.\n",
      "Sentiment(classification='pos', p_pos=0.8117563121751951, p_neg=0.18824368782480477)\n",
      "\n",
      "\n",
      "Tomorrow looks like bad weather.\n",
      "Sentiment(classification='neg', p_pos=0.174363226578349, p_neg=0.8256367734216521)\n",
      "\n",
      "\n"
     ]
    }
   ],
   "source": [
    "for sentence in blob.sentences:\n",
    "    print(sentence)\n",
    "    print(sentence.sentiment)\n",
    "    print('\\n')"
   ]
  },
  {
   "cell_type": "code",
   "execution_count": null,
   "metadata": {},
   "outputs": [],
   "source": []
  }
 ],
 "metadata": {
  "kernelspec": {
   "display_name": "Python 3",
   "language": "python",
   "name": "python3"
  },
  "language_info": {
   "codemirror_mode": {
    "name": "ipython",
    "version": 3
   },
   "file_extension": ".py",
   "mimetype": "text/x-python",
   "name": "python",
   "nbconvert_exporter": "python",
   "pygments_lexer": "ipython3",
   "version": "3.7.3"
  }
 },
 "nbformat": 4,
 "nbformat_minor": 2
}
