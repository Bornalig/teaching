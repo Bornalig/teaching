{
 "cells": [
  {
   "cell_type": "code",
   "execution_count": 1,
   "id": "bf486534",
   "metadata": {},
   "outputs": [
    {
     "data": {
      "text/html": [
       "<div>\n",
       "<style scoped>\n",
       "    .dataframe tbody tr th:only-of-type {\n",
       "        vertical-align: middle;\n",
       "    }\n",
       "\n",
       "    .dataframe tbody tr th {\n",
       "        vertical-align: top;\n",
       "    }\n",
       "\n",
       "    .dataframe thead th {\n",
       "        text-align: right;\n",
       "    }\n",
       "</style>\n",
       "<table border=\"1\" class=\"dataframe\">\n",
       "  <thead>\n",
       "    <tr style=\"text-align: right;\">\n",
       "      <th></th>\n",
       "      <th>country</th>\n",
       "      <th>finnish</th>\n",
       "      <th>swedish</th>\n",
       "      <th>danish</th>\n",
       "      <th>norwegian</th>\n",
       "      <th>english</th>\n",
       "      <th>german</th>\n",
       "      <th>dutch</th>\n",
       "      <th>flemish</th>\n",
       "      <th>french</th>\n",
       "      <th>italian</th>\n",
       "      <th>spanish</th>\n",
       "      <th>portuguese</th>\n",
       "    </tr>\n",
       "  </thead>\n",
       "  <tbody>\n",
       "    <tr>\n",
       "      <th>austria</th>\n",
       "      <td>1</td>\n",
       "      <td>0</td>\n",
       "      <td>0</td>\n",
       "      <td>0</td>\n",
       "      <td>0</td>\n",
       "      <td>21</td>\n",
       "      <td>100</td>\n",
       "      <td>2</td>\n",
       "      <td>1</td>\n",
       "      <td>10</td>\n",
       "      <td>2</td>\n",
       "      <td>1</td>\n",
       "      <td>0</td>\n",
       "    </tr>\n",
       "    <tr>\n",
       "      <th>italy</th>\n",
       "      <td>2</td>\n",
       "      <td>0</td>\n",
       "      <td>0</td>\n",
       "      <td>0</td>\n",
       "      <td>0</td>\n",
       "      <td>5</td>\n",
       "      <td>3</td>\n",
       "      <td>0</td>\n",
       "      <td>0</td>\n",
       "      <td>11</td>\n",
       "      <td>100</td>\n",
       "      <td>1</td>\n",
       "      <td>0</td>\n",
       "    </tr>\n",
       "    <tr>\n",
       "      <th>france</th>\n",
       "      <td>3</td>\n",
       "      <td>0</td>\n",
       "      <td>2</td>\n",
       "      <td>3</td>\n",
       "      <td>0</td>\n",
       "      <td>10</td>\n",
       "      <td>7</td>\n",
       "      <td>1</td>\n",
       "      <td>1</td>\n",
       "      <td>100</td>\n",
       "      <td>12</td>\n",
       "      <td>7</td>\n",
       "      <td>1</td>\n",
       "    </tr>\n",
       "    <tr>\n",
       "      <th>netherlands</th>\n",
       "      <td>4</td>\n",
       "      <td>0</td>\n",
       "      <td>0</td>\n",
       "      <td>0</td>\n",
       "      <td>0</td>\n",
       "      <td>41</td>\n",
       "      <td>47</td>\n",
       "      <td>100</td>\n",
       "      <td>100</td>\n",
       "      <td>16</td>\n",
       "      <td>2</td>\n",
       "      <td>2</td>\n",
       "      <td>0</td>\n",
       "    </tr>\n",
       "    <tr>\n",
       "      <th>belgium</th>\n",
       "      <td>5</td>\n",
       "      <td>0</td>\n",
       "      <td>0</td>\n",
       "      <td>0</td>\n",
       "      <td>0</td>\n",
       "      <td>14</td>\n",
       "      <td>15</td>\n",
       "      <td>0</td>\n",
       "      <td>59</td>\n",
       "      <td>44</td>\n",
       "      <td>2</td>\n",
       "      <td>1</td>\n",
       "      <td>0</td>\n",
       "    </tr>\n",
       "  </tbody>\n",
       "</table>\n",
       "</div>"
      ],
      "text/plain": [
       "             country  finnish  swedish  danish  norwegian  english  german  \\\n",
       "austria            1        0        0       0          0       21     100   \n",
       "italy              2        0        0       0          0        5       3   \n",
       "france             3        0        2       3          0       10       7   \n",
       "netherlands        4        0        0       0          0       41      47   \n",
       "belgium            5        0        0       0          0       14      15   \n",
       "\n",
       "             dutch  flemish  french  italian  spanish  portuguese  \n",
       "austria          2        1      10        2        1           0  \n",
       "italy            0        0      11      100        1           0  \n",
       "france           1        1     100       12        7           1  \n",
       "netherlands    100      100      16        2        2           0  \n",
       "belgium          0       59      44        2        1           0  "
      ]
     },
     "execution_count": 1,
     "metadata": {},
     "output_type": "execute_result"
    }
   ],
   "source": [
    "import pandas as pd\n",
    "\n",
    "data = pd.read_csv(\"datasets/lang.csv\", index_col=0)\n",
    "data.head()"
   ]
  },
  {
   "cell_type": "code",
   "execution_count": 24,
   "id": "bb72ed3a",
   "metadata": {},
   "outputs": [
    {
     "name": "stdout",
     "output_type": "stream",
     "text": [
      "Connection: single, Cophenetic correlation: 0.8724338366197254\n",
      "Connection: complete, Cophenetic correlation: 0.8802106444290279\n",
      "Connection: average, Cophenetic correlation: 0.9287795664798996\n",
      "Connection: ward, Cophenetic correlation: 0.7680423931564108\n"
     ]
    }
   ],
   "source": [
    "from scipy.cluster.hierarchy import dendrogram, linkage, cophenet, fcluster\n",
    "from scipy.spatial.distance import pdist\n",
    "from sklearn.preprocessing import StandardScaler\n",
    "\n",
    "X = data.iloc[:,1:]\n",
    "\n",
    "X = StandardScaler().fit_transform(X)\n",
    "\n",
    "for i in ['single','complete','average','ward']:\n",
    "    Z = linkage(X,i)\n",
    "    c, coph_dists = cophenet(Z, pdist(X))\n",
    "    print('Connection: {}, Cophenetic correlation: {}'.format(i,c))"
   ]
  },
  {
   "cell_type": "code",
   "execution_count": 25,
   "id": "649e93a7",
   "metadata": {},
   "outputs": [
    {
     "data": {
      "image/png": "[encoded data removed]",
      "text/plain": [
       "<Figure size 576x432 with 1 Axes>"
      ]
     },
     "metadata": {
      "needs_background": "light"
     },
     "output_type": "display_data"
    }
   ],
   "source": [
    "import matplotlib.pyplot as plt\n",
    "fig, ax = plt.subplots(figsize=(8,6))\n",
    "Z = linkage(X,'average')\n",
    "dn = dendrogram(Z,labels=data.index,orientation='left')"
   ]
  },
  {
   "cell_type": "markdown",
   "id": "e20b8c4c",
   "metadata": {},
   "source": [
    "### Determining the clusters\n",
    "\n",
    "We can find the clusters that have a distace above a specified threshhold using the `fclusters` function.\n",
    "Here, we can see that no links exist above a distance of 7 - use the ```fclusters``` function from ```scipy.cluster.hierarchy``` with this max distance to return our cluster IDs."
   ]
  },
  {
   "cell_type": "code",
   "execution_count": 36,
   "id": "4b3012b0",
   "metadata": {},
   "outputs": [
    {
     "data": {
      "text/plain": [
       "{1, 2, 3, 4, 5, 6}"
      ]
     },
     "execution_count": 36,
     "metadata": {},
     "output_type": "execute_result"
    }
   ],
   "source": [
    "max_dist = 5 # pairwise distance\n",
    "clusters = fcluster(Z, max_dist, criterion='distance')\n",
    "set(clusters)"
   ]
  },
  {
   "cell_type": "markdown",
   "id": "eaeaffb1",
   "metadata": {},
   "source": [
    "scipy.cluster.hierarchy.fcluster can be used to flatten the dendrogram, obtaining as a result an assignation of the original data points to single clusters.\n",
    "\n",
    "This assignation mostly depends on a distance threshold t - the maximum inter-cluster distance allowed:"
   ]
  },
  {
   "cell_type": "code",
   "execution_count": 33,
   "id": "7744e80a",
   "metadata": {},
   "outputs": [
    {
     "name": "stdout",
     "output_type": "stream",
     "text": [
      "{1, 2}\n"
     ]
    },
    {
     "data": {
      "image/png": "[encoded data removed]",
      "text/plain": [
       "<Figure size 1080x432 with 2 Axes>"
      ]
     },
     "metadata": {
      "needs_background": "light"
     },
     "output_type": "display_data"
    }
   ],
   "source": [
    "import matplotlib.cm as cm\n",
    "def dend_clusters(dist, x='english', y='german'):\n",
    "    fig, ax = plt.subplots(1,2, figsize=(15,6))\n",
    "    clusters = fcluster(Z, dist, criterion='distance')\n",
    "    ax[0].scatter(data[x], data[y], c=clusters, cmap=cm.rainbow, s=40)\n",
    "    for country in data.index:\n",
    "        ax[0].annotate(country, (data.loc[country,x]+0.5,\\\n",
    "                                 data.loc[country,y]+0.5))\n",
    "    ax[0].set_xlabel(x)\n",
    "    ax[0].set_ylabel(y)\n",
    "    \n",
    "    dendrogram(Z, orientation='left', labels=data.index)\n",
    "    ax[1].plot([dist,dist], [0,2000], c='k')\n",
    "    print(set(clusters))\n",
    "    \n",
    "dend_clusters(6, 'french', 'english')"
   ]
  },
  {
   "cell_type": "code",
   "execution_count": 34,
   "id": "825b9da9",
   "metadata": {},
   "outputs": [
    {
     "name": "stdout",
     "output_type": "stream",
     "text": [
      "[1 1 1 0 0 0]\n"
     ]
    }
   ],
   "source": [
    "from sklearn.cluster import AgglomerativeClustering\n",
    "import numpy as np\n",
    " \n",
    "# randomly chosen dataset\n",
    "X = np.array([[1, 2], [1, 4], [1, 0],\n",
    "              [4, 2], [4, 4], [4, 0]])\n",
    " \n",
    "# here we need to mention the number of clusters\n",
    "# otherwise the result will be a single cluster\n",
    "# containing all the data\n",
    "clustering = AgglomerativeClustering(n_clusters = 2).fit(X)\n",
    " \n",
    "# print the class labels\n",
    "print(clustering.labels_)"
   ]
  },
  {
   "cell_type": "code",
   "execution_count": null,
   "id": "11cce1b3",
   "metadata": {},
   "outputs": [],
   "source": []
  }
 ],
 "metadata": {
  "kernelspec": {
   "display_name": "Python 3 (ipykernel)",
   "language": "python",
   "name": "python3"
  },
  "language_info": {
   "codemirror_mode": {
    "name": "ipython",
    "version": 3
   },
   "file_extension": ".py",
   "mimetype": "text/x-python",
   "name": "python",
   "nbconvert_exporter": "python",
   "pygments_lexer": "ipython3",
   "version": "3.9.7"
  }
 },
 "nbformat": 4,
 "nbformat_minor": 5
}
