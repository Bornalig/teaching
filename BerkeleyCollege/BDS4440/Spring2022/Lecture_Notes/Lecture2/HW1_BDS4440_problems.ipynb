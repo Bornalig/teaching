{
 "cells": [
  {
   "cell_type": "markdown",
   "metadata": {},
   "source": [
    "HW1 BDS4440"
   ]
  },
  {
   "cell_type": "markdown",
   "metadata": {},
   "source": [
    "Problem 1\n",
    "\n",
    "Write code that enables you to store any number of grades in the format of 'name  grade \\n' into a grades.txt text file."
   ]
  },
  {
   "cell_type": "markdown",
   "metadata": {},
   "source": [
    "Problem 2\n",
    "\n",
    "Write code that reads from the grades.txt from problem 1. Print the individiual grades and their total, count and average."
   ]
  },
  {
   "cell_type": "markdown",
   "metadata": {},
   "source": [
    "Problem 3\n",
    "\n",
    "Write code that enables you to store information in a `csv` file named `grades.csv`. Write code that enables you to enter each student's first name, last name as strings and three exam grades as integers - saving them as an entry into the csv file.\n",
    "\n",
    "The format will be\n",
    "\n",
    "`last name, first name, grade1::int, grade2::int, grade3::int` "
   ]
  },
  {
   "cell_type": "markdown",
   "metadata": {},
   "source": [
    "Problem 4\n",
    "\n",
    "Use csv module to read the `grades.csv` file from the previous exercise. Display the data in a table format."
   ]
  },
  {
   "cell_type": "markdown",
   "metadata": {},
   "source": [
    "Problem 5:\n",
    "\n",
    "Modify your solution to the preceding exercise to create a grade report that displays each students average to the right of that student's row and the class average for each exam below that exam's column.\n"
   ]
  },
  {
   "cell_type": "markdown",
   "metadata": {},
   "source": [
    "Problem 6:\n",
    "    \n",
    "Do problem 9.3 but instead save it in JSON format;\n",
    "\n",
    "i.e. `gradebook_dict = {'students':[{student_name:'john',grade1:'100'},{student_name:'Mike':grade1:'90'}]}`"
   ]
  },
  {
   "cell_type": "code",
   "execution_count": null,
   "metadata": {},
   "outputs": [],
   "source": []
  }
 ],
 "metadata": {
  "kernelspec": {
   "display_name": "Python 3 (ipykernel)",
   "language": "python",
   "name": "python3"
  },
  "language_info": {
   "codemirror_mode": {
    "name": "ipython",
    "version": 3
   },
   "file_extension": ".py",
   "mimetype": "text/x-python",
   "name": "python",
   "nbconvert_exporter": "python",
   "pygments_lexer": "ipython3",
   "version": "3.9.7"
  }
 },
 "nbformat": 4,
 "nbformat_minor": 2
}
