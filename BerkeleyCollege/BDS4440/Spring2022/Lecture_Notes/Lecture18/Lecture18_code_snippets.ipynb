{
 "cells": [
  {
   "cell_type": "code",
   "execution_count": 33,
   "metadata": {},
   "outputs": [],
   "source": [
    "#https://www.tutorialspoint.com/machine_learning_with_python/machine_learning_with_python_clustering_algorithms_hierarchical.htm"
   ]
  },
  {
   "cell_type": "code",
   "execution_count": 3,
   "metadata": {},
   "outputs": [
    {
     "ename": "SyntaxError",
     "evalue": "unexpected character after line continuation character (<ipython-input-3-538575dd3b34>, line 34)",
     "output_type": "error",
     "traceback": [
      "\u001b[0;36m  File \u001b[0;32m\"<ipython-input-3-538575dd3b34>\"\u001b[0;36m, line \u001b[0;32m34\u001b[0m\n\u001b[0;31m    ith_cluster_silhouette_values=\\sample_silhouette_values[cluster_labels==i]\u001b[0m\n\u001b[0m                                                                              ^\u001b[0m\n\u001b[0;31mSyntaxError\u001b[0m\u001b[0;31m:\u001b[0m unexpected character after line continuation character\n"
     ]
    }
   ],
   "source": [
    "import numpy as np\n",
    "import pandas as pd\n",
    "import matplotlib.pyplot as plt\n",
    "from sklearn.cluster import KMeans\n",
    "from sklearn.metrics import accuracy_score,silhouette_samples, silhouette_score\n",
    "\n",
    "file_link = 'https://github.com/vincentarelbundock/Rdatasets/blob/master/csv/cluster/chorSub.csv'\n",
    "df = pd.read_csv(file_link).iloc[:,1:]\n",
    "\n",
    "X = df[['Ti','K']].values\n",
    "range_n_clusters = [2,3,4,5,6]\n",
    "\n",
    "for n_clusters in range_n_clusters:\n",
    "    #create a subplot with 1 row and 2 columns\n",
    "    fig,(ax1,ax2) = plt.subplots(1,2)\n",
    "    fig.set_size_inches(18,7)\n",
    "    \n",
    "    #the first subplot is the silhouette plot\n",
    "    #the silhouette coefficient can range from -1 to 1\n",
    "    ax1.set_xlim([-0.1,1])\n",
    "    ax1.set_ylim([0,len(x)+(n_clusters+1)*10])\n",
    "    \n",
    "    \n",
    "    clusterer = Kmeans(n_clusters=n_clusters, random_state=10)\n",
    "    cluster_labels = clusterer.fit_predict(X)\n",
    "    \n",
    "    silhouette_avg = silhouette_score(X,cluster_labels)\n",
    "    \n",
    "    sample_silhouette_values = silhouette_samples(X,cluster_labels)\n",
    "    \n",
    "    y_lower=10\n",
    "    for i in range(n_clusters):\n",
    "        #aggregate the silhouette scores for samples belonging to cluster i and sort them\n",
    "        ith_cluster_silhouette_values=\\sample_silhouette_values[cluster_labels==i]\n",
    "        \n",
    "        ith_cluster_silhouette_values[cluster_labels==i]\n",
    "        \n",
    "        ith_cluster_silhouette_values.sort()\n",
    "        \n",
    "        size_cluster_i=ith_cluster_silhouette_values.shape[0]\n",
    "        y_upper = y_lower+size_cluster_i\n",
    "        \n",
    "        color = cm.spectral(float(i)/n_clusters)\n",
    "        ax.fill_betweenx(np.arange(y_lower,y_upper),0,ith_cluster_silhouette_values,facecolor=coor,edgecolor=color,alpha=0.7)\n",
    "    \n",
    "        #Label the silhouette plots with their cluster numbers\n",
    "        ax1.test(-0.05,y_lower+0.5*size_cluster_i,str(i))\n",
    "    \n",
    "        #compute the new y_lower for next plot\n",
    "        y_lower = y_upper+10\n",
    "    ax1.set_title(\"The silhouette plot for various clusters.\")\n",
    "    ax1.set_xlabel(\"The silhouette coefficient values\")\n",
    "    ax1.set_ylabel(\"Cluster label\")\n",
    "    \n",
    "    ax1.axvline(x=silhouette_avg,color=\"red\",linestyle=\"--\")\n",
    "    \n",
    "    ax1.set_yticks([])\n",
    "    ax1.set_xticks([-0.1,0,0.2,0.4,0.6,0.8,1])\n",
    "    \n",
    "    colors = cm.spectal(cluster_labels.astype(float)/n_clusters)\n",
    "    ax2.scatter(X[:,0],X[:,1],marker=\".\",s=30,lw=0,alpha=0.7,c=colors)\n",
    "    \n",
    "    #Labeling the clusters\n",
    "    centers = clusterer.cluster_centers_\n",
    "    \n",
    "    #draw white circles at the cluster centers\n",
    "    ax2.scatter(centers[:,0],centers[:,1],marker=\"o\",c=\"white\",alpha=1,s=200)\n",
    "    \n",
    "    for i,c in enumerate(centers):\n",
    "        ax2.scatter(c[0],c[1],marker='$%d$'%i,alpha=1,s=50)\n",
    "        \n",
    "    ax2.set_title(\"The visualization of the clustered data.\")\n",
    "    ax2.set_xlabel(\"Feature space for the 1st feature\")\n",
    "    ax2.set_ylabel(\"Feature space for the 2nd feature\")\n",
    "    \n",
    "    plt.suptitle(\"silhouette analysis for Kmeans clustering on samples with n_clusters = %d\"%n_clusters)\n",
    "    plt.show()                "
   ]
  },
  {
   "cell_type": "code",
   "execution_count": 5,
   "metadata": {},
   "outputs": [
    {
     "name": "stderr",
     "output_type": "stream",
     "text": [
      "/Users/joseph.ganser/anaconda3/lib/python3.7/importlib/_bootstrap.py:219: RuntimeWarning: numpy.ufunc size changed, may indicate binary incompatibility. Expected 216, got 192\n",
      "  return f(*args, **kwds)\n",
      "/Users/joseph.ganser/anaconda3/lib/python3.7/importlib/_bootstrap.py:219: RuntimeWarning: numpy.ufunc size changed, may indicate binary incompatibility. Expected 216, got 192\n",
      "  return f(*args, **kwds)\n"
     ]
    }
   ],
   "source": [
    "import pandas as pd\n",
    "base = 'https://archive.ics.uci.edu/ml/machine-learning-databases/wine-quality/'\n",
    "wine1= base+'winequality-red.csv'\n",
    "wine2 = base+'winequality-white.csv'\n",
    "wine1 = pd.read_csv(wine1)\n",
    "wine2 = pd.read_csv(wine2)"
   ]
  },
  {
   "cell_type": "code",
   "execution_count": 14,
   "metadata": {},
   "outputs": [
    {
     "data": {
      "text/plain": [
       "pandas.core.series.Series"
      ]
     },
     "execution_count": 14,
     "metadata": {},
     "output_type": "execute_result"
    }
   ],
   "source": [
    "type(wine1.loc[0])"
   ]
  },
  {
   "cell_type": "code",
   "execution_count": 20,
   "metadata": {},
   "outputs": [
    {
     "data": {
      "text/plain": [
       "<matplotlib.axes._subplots.AxesSubplot at 0x7fa422f6bb38>"
      ]
     },
     "execution_count": 20,
     "metadata": {},
     "output_type": "execute_result"
    },
    {
     "data": {
      "image/png": "[encoded data removed]",
      "text/plain": [
       "<Figure size 432x288 with 1 Axes>"
      ]
     },
     "metadata": {
      "needs_background": "light"
     },
     "output_type": "display_data"
    }
   ],
   "source": [
    "from sklearn.cluster import KMeans, k_means\n",
    "from sklearn.metrics import silhouette_score\n",
    "from sklearn.datasets.samples_generator import make_blobs\n",
    "import numpy as np\n",
    "import pandas as pd\n",
    "\n",
    "import seaborn as sns\n",
    "import matplotlib.pyplot as plt\n",
    "\n",
    "X,y = make_blobs(n_samples=200,centers=3,n_features=2,random_state=0)\n",
    "\n",
    "df = pd.DataFrame(X,columns=['x','y'])\n",
    "df.plot(kind='scatter',x='x',y='y')"
   ]
  },
  {
   "cell_type": "code",
   "execution_count": 21,
   "metadata": {},
   "outputs": [],
   "source": [
    "model = KMeans(n_clusters=3,random_state=0).fit(df)\n",
    "predicted = model.labels_\n",
    "centroids = model.cluster_centers_"
   ]
  },
  {
   "cell_type": "code",
   "execution_count": 22,
   "metadata": {},
   "outputs": [
    {
     "data": {
      "text/html": [
       "<div>\n",
       "<style scoped>\n",
       "    .dataframe tbody tr th:only-of-type {\n",
       "        vertical-align: middle;\n",
       "    }\n",
       "\n",
       "    .dataframe tbody tr th {\n",
       "        vertical-align: top;\n",
       "    }\n",
       "\n",
       "    .dataframe thead th {\n",
       "        text-align: right;\n",
       "    }\n",
       "</style>\n",
       "<table border=\"1\" class=\"dataframe\">\n",
       "  <thead>\n",
       "    <tr style=\"text-align: right;\">\n",
       "      <th></th>\n",
       "      <th>x</th>\n",
       "      <th>y</th>\n",
       "      <th>predicted</th>\n",
       "    </tr>\n",
       "  </thead>\n",
       "  <tbody>\n",
       "    <tr>\n",
       "      <th>0</th>\n",
       "      <td>-1.733808</td>\n",
       "      <td>3.798061</td>\n",
       "      <td>2</td>\n",
       "    </tr>\n",
       "    <tr>\n",
       "      <th>1</th>\n",
       "      <td>0.628358</td>\n",
       "      <td>4.460136</td>\n",
       "      <td>0</td>\n",
       "    </tr>\n",
       "    <tr>\n",
       "      <th>2</th>\n",
       "      <td>1.131218</td>\n",
       "      <td>4.681950</td>\n",
       "      <td>0</td>\n",
       "    </tr>\n",
       "    <tr>\n",
       "      <th>3</th>\n",
       "      <td>-1.429179</td>\n",
       "      <td>3.500836</td>\n",
       "      <td>2</td>\n",
       "    </tr>\n",
       "    <tr>\n",
       "      <th>4</th>\n",
       "      <td>1.274508</td>\n",
       "      <td>5.630173</td>\n",
       "      <td>0</td>\n",
       "    </tr>\n",
       "  </tbody>\n",
       "</table>\n",
       "</div>"
      ],
      "text/plain": [
       "          x         y  predicted\n",
       "0 -1.733808  3.798061          2\n",
       "1  0.628358  4.460136          0\n",
       "2  1.131218  4.681950          0\n",
       "3 -1.429179  3.500836          2\n",
       "4  1.274508  5.630173          0"
      ]
     },
     "execution_count": 22,
     "metadata": {},
     "output_type": "execute_result"
    }
   ],
   "source": [
    "df['predicted']=predicted\n",
    "df.head()"
   ]
  },
  {
   "cell_type": "code",
   "execution_count": 23,
   "metadata": {},
   "outputs": [
    {
     "data": {
      "image/png": "[encoded data removed]",
      "text/plain": [
       "<Figure size 432x288 with 1 Axes>"
      ]
     },
     "metadata": {
      "needs_background": "light"
     },
     "output_type": "display_data"
    }
   ],
   "source": [
    "df.plot(x=\"x\",y=\"y\",kind=\"scatter\",color=df['predicted'])\n",
    "plt.show()"
   ]
  },
  {
   "cell_type": "code",
   "execution_count": null,
   "metadata": {},
   "outputs": [],
   "source": [
    "model = KMeans(n_clusters=3,random_state=0).fit(df)\n",
    "predicted = model.labels_\n",
    "centroids = model.cluster_centers_"
   ]
  },
  {
   "cell_type": "code",
   "execution_count": 8,
   "metadata": {},
   "outputs": [
    {
     "data": {
      "text/plain": [
       "<matplotlib.axes._subplots.AxesSubplot at 0x7fa421181438>"
      ]
     },
     "execution_count": 8,
     "metadata": {},
     "output_type": "execute_result"
    },
    {
     "data": {
      "image/png": "[encoded data removed]",
      "text/plain": [
       "<Figure size 432x288 with 1 Axes>"
      ]
     },
     "metadata": {
      "needs_background": "light"
     },
     "output_type": "display_data"
    }
   ],
   "source": [
    "file_link = 'https://raw.githubusercontent.com/vincentarelbundock/Rdatasets/master/csv/cluster/pluton.csv'\n",
    "df=pd.read_csv(file_link,index_col=0)\n",
    "features=['Pu239','Pu240']\n",
    "df[features].plot(kind='scatter',x=features[0],y=features[1])"
   ]
  },
  {
   "cell_type": "code",
   "execution_count": 9,
   "metadata": {},
   "outputs": [
    {
     "data": {
      "text/html": [
       "<div>\n",
       "<style scoped>\n",
       "    .dataframe tbody tr th:only-of-type {\n",
       "        vertical-align: middle;\n",
       "    }\n",
       "\n",
       "    .dataframe tbody tr th {\n",
       "        vertical-align: top;\n",
       "    }\n",
       "\n",
       "    .dataframe thead th {\n",
       "        text-align: right;\n",
       "    }\n",
       "</style>\n",
       "<table border=\"1\" class=\"dataframe\">\n",
       "  <thead>\n",
       "    <tr style=\"text-align: right;\">\n",
       "      <th></th>\n",
       "      <th>Pu238</th>\n",
       "      <th>Pu239</th>\n",
       "      <th>Pu240</th>\n",
       "      <th>Pu241</th>\n",
       "    </tr>\n",
       "  </thead>\n",
       "  <tbody>\n",
       "    <tr>\n",
       "      <th>1</th>\n",
       "      <td>0.126</td>\n",
       "      <td>75.804</td>\n",
       "      <td>21.204</td>\n",
       "      <td>2.180</td>\n",
       "    </tr>\n",
       "    <tr>\n",
       "      <th>2</th>\n",
       "      <td>0.133</td>\n",
       "      <td>75.515</td>\n",
       "      <td>21.408</td>\n",
       "      <td>2.240</td>\n",
       "    </tr>\n",
       "    <tr>\n",
       "      <th>3</th>\n",
       "      <td>0.127</td>\n",
       "      <td>75.175</td>\n",
       "      <td>21.668</td>\n",
       "      <td>2.305</td>\n",
       "    </tr>\n",
       "    <tr>\n",
       "      <th>4</th>\n",
       "      <td>0.156</td>\n",
       "      <td>78.872</td>\n",
       "      <td>18.428</td>\n",
       "      <td>1.906</td>\n",
       "    </tr>\n",
       "    <tr>\n",
       "      <th>5</th>\n",
       "      <td>0.503</td>\n",
       "      <td>73.317</td>\n",
       "      <td>20.223</td>\n",
       "      <td>4.128</td>\n",
       "    </tr>\n",
       "  </tbody>\n",
       "</table>\n",
       "</div>"
      ],
      "text/plain": [
       "   Pu238   Pu239   Pu240  Pu241\n",
       "1  0.126  75.804  21.204  2.180\n",
       "2  0.133  75.515  21.408  2.240\n",
       "3  0.127  75.175  21.668  2.305\n",
       "4  0.156  78.872  18.428  1.906\n",
       "5  0.503  73.317  20.223  4.128"
      ]
     },
     "execution_count": 9,
     "metadata": {},
     "output_type": "execute_result"
    }
   ],
   "source": [
    "df.head()"
   ]
  },
  {
   "cell_type": "code",
   "execution_count": 19,
   "metadata": {},
   "outputs": [
    {
     "name": "stdout",
     "output_type": "stream",
     "text": [
      "Silhouette Score:  0.5950619279181214\n"
     ]
    },
    {
     "data": {
      "image/png": "[encoded data removed]",
      "text/plain": [
       "<Figure size 432x288 with 1 Axes>"
      ]
     },
     "metadata": {
      "needs_background": "light"
     },
     "output_type": "display_data"
    }
   ],
   "source": [
    "k=3\n",
    "model = KMeans(n_clusters=3,max_iter=1)\n",
    "model.fit(df[features].values)\n",
    "\n",
    "#check our results\n",
    "#assign clusters back to our data frame\n",
    "df['cluster'] = model.labels_\n",
    "\n",
    "#get our centroids = model.cluster_centers\n",
    "centroids = model.cluster_centers_\n",
    "cc = pd.DataFrame(centroids)\n",
    "\n",
    "base_colors = ['r','g','b']\n",
    "colors = [base_colors[centroid] for centroid in model.labels_]\n",
    "\n",
    "#fig,ax = plt.subplots(figsize=(7,6))\n",
    "plt.scatter(df[features[0]],df[features[1]],c=colors,label=features)\n",
    "plt.scatter(cc[0],cc[1],c=base_colors,s=100)\n",
    "plt.legend()\n",
    "\n",
    "print('Silhouette Score: ',silhouette_score(df[features],df['cluster'],metric='euclidean'))"
   ]
  },
  {
   "cell_type": "code",
   "execution_count": 24,
   "metadata": {},
   "outputs": [],
   "source": [
    "def get_bill(n):\n",
    "    if n%100==0:\n",
    "        return 100\n",
    "    elif n%50==0:\n",
    "        return 50\n",
    "    elif n%20==0:\n",
    "        return 20\n",
    "    elif n%10==0:\n",
    "        return 10\n",
    "    elif n%5==0:\n",
    "        return 5\n",
    "    else:\n",
    "        return 1"
   ]
  },
  {
   "cell_type": "code",
   "execution_count": 32,
   "metadata": {},
   "outputs": [
    {
     "name": "stdout",
     "output_type": "stream",
     "text": [
      "30 :  169\n",
      "60 :  288\n",
      "90 :  377\n",
      "180 :  744\n",
      "365 :  1512\n",
      "730 :  2969\n"
     ]
    }
   ],
   "source": [
    "for j in [30,60,90,180,365,2*365]:\n",
    "    s = 0\n",
    "    for i in range(j):\n",
    "        s = s+get_bill(i)\n",
    "    print(j,': ',s)"
   ]
  },
  {
   "cell_type": "code",
   "execution_count": null,
   "metadata": {},
   "outputs": [],
   "source": []
  }
 ],
 "metadata": {
  "kernelspec": {
   "display_name": "Python 3",
   "language": "python",
   "name": "python3"
  },
  "language_info": {
   "codemirror_mode": {
    "name": "ipython",
    "version": 3
   },
   "file_extension": ".py",
   "mimetype": "text/x-python",
   "name": "python",
   "nbconvert_exporter": "python",
   "pygments_lexer": "ipython3",
   "version": "3.7.3"
  }
 },
 "nbformat": 4,
 "nbformat_minor": 2
}
