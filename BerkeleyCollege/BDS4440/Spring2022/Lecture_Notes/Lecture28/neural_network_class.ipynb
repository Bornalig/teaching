{
 "cells": [
  {
   "cell_type": "code",
   "execution_count": null,
   "id": "0272dda9",
   "metadata": {},
   "outputs": [],
   "source": [
    "from tensorflow.keras.datasets import mnist\n",
    "import matplotlib.pyplot as plt\n",
    "import numpy as np\n",
    "\n",
    "class model:\n",
    "    \"\"\"Model class should define archiecture and compile the model with appropriate metrics and optimizer\"\"\"\n",
    "    def __init__(self,l1,l2,l3):\n",
    "        self.l1 = l1 #256\n",
    "        self.l2 = l2 #128\n",
    "        self.l3 = l3 #10\n",
    "        self.learning_rate = 0.01\n",
    "\n",
    "    def architecture(self):\n",
    "        m = Sequential() #instantiate the model\n",
    "        m.add(Dense(self.l1,input_shape=(28*28,),activation=\"sigmoid\")) #add first intermediate layer, define input\n",
    "        m.add(Dense(self.l2,activation=\"sigmoid\")) # add second layer\n",
    "        m.add(Dense(self.l3,activation=\"softmax\"))\n",
    "        m.compile(loss=\"categorical_crossentropy\",optimizer=SGD(self.learning_rate),metrics=[\"accuracy\"])\n",
    "        return m"
   ]
  },
  {
   "cell_type": "code",
   "execution_count": null,
   "id": "8c69aee4",
   "metadata": {},
   "outputs": [],
   "source": [
    "from sklearn.preprocessing import LabelBinarizer\n",
    "import random\n",
    "class neural_network(keras_model):\n",
    "    \"\"\"this class should\n",
    "    * inherit a keras model\n",
    "    * preprocess data\n",
    "    * split data into train and validation sets\n",
    "    * fit the model\n",
    "    * graphically/verbally demonstrate model performance\n",
    "    * save the model\n",
    "    * use the model to make predictions on the test set\n",
    "    \"\"\"\n",
    "\n",
    "    def __init__(self,data,target,indices,batch_size,learning_rate):\n",
    "        super().init(256,128,10)\n",
    "        self.model = super().architecture()\n",
    "        self.data = data\n",
    "        self.target = target\n",
    "        self.indices = indices\n",
    "        self.batch_size = batch_size\n",
    "        self.learning_rate = learning_rate\n",
    "        self.epochs = epochs\n",
    "    \n",
    "    def split_data(self):\n",
    "        self.eval_size = 0.2\n",
    "        random.shuffle(self.indices)\n",
    "        train_indices = self.indices[:int(len(data)*self.eval_size)]\n",
    "        eval_indices = self.indices[int(len(data)*self.eval_size):]\n",
    "        return train_indices, eval_indices\n",
    "        \n",
    "    def preprocess_data(self):\n",
    "        self.data = self.data.reshape((self.data[0],28*28))\n",
    "        self.data = self.data.astype(\"float32\")/256\n",
    "        self.target = LabelBinarizer().fit_transform(self.target)\n",
    "        return self.data,self.target\n",
    "    \n",
    "    def plot_training(self):\n",
    "        H = self.fitted_model\n",
    "        plt.figure()\n",
    "        loss = \"loss\"\n",
    "        metric = \"accuracy\"\n",
    "        plt.plot(np.arange(0,self.epochs),H.history[loss],label=\"train_loss\")\n",
    "        plt.plot(np.arange(0,self.epochs),H.history[\"val_{}\".format(loss)],label=\"val_loss\")\n",
    "        plt.plot(np.arange(0,self.epochs),H.history[metric],label=\"train_acc\")\n",
    "        plt.plot(np.arange(0,self.epochs),H.history[\"val_{}\".format(metric)],label=\"val_acc\")\n",
    "        plt.title(\"Training Loss and accuracy\")\n",
    "        plt.xlabel(\"Epoch #\")\n",
    "        plt.ylabel(\"Loss/Accuracy\")\n",
    "        plt.legend()\n",
    "        plt.show()    \n",
    "        "
   ]
  },
  {
   "cell_type": "code",
   "execution_count": 2,
   "id": "a8464921",
   "metadata": {},
   "outputs": [],
   "source": [
    "import random\n",
    "data = list(range(10))\n",
    "random.shuffle(data)\n",
    "\n",
    "train_data = data[:int(len(data)*0.8)]\n",
    "test_data = data[int(len(data)*0.8):]"
   ]
  },
  {
   "cell_type": "code",
   "execution_count": 3,
   "id": "e2154d20",
   "metadata": {},
   "outputs": [
    {
     "data": {
      "text/plain": [
       "[6, 4, 7, 1, 2, 5, 8, 0]"
      ]
     },
     "execution_count": 3,
     "metadata": {},
     "output_type": "execute_result"
    }
   ],
   "source": [
    "train_data"
   ]
  },
  {
   "cell_type": "code",
   "execution_count": 4,
   "id": "a551e15c",
   "metadata": {},
   "outputs": [
    {
     "data": {
      "text/plain": [
       "[9, 3]"
      ]
     },
     "execution_count": 4,
     "metadata": {},
     "output_type": "execute_result"
    }
   ],
   "source": [
    "test_data"
   ]
  },
  {
   "cell_type": "code",
   "execution_count": null,
   "id": "d5879091",
   "metadata": {},
   "outputs": [],
   "source": []
  }
 ],
 "metadata": {
  "kernelspec": {
   "display_name": "Python 3 (ipykernel)",
   "language": "python",
   "name": "python3"
  },
  "language_info": {
   "codemirror_mode": {
    "name": "ipython",
    "version": 3
   },
   "file_extension": ".py",
   "mimetype": "text/x-python",
   "name": "python",
   "nbconvert_exporter": "python",
   "pygments_lexer": "ipython3",
   "version": "3.9.7"
  }
 },
 "nbformat": 4,
 "nbformat_minor": 5
}
