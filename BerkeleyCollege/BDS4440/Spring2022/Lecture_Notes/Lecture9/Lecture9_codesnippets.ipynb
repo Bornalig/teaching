{
 "cells": [
  {
   "cell_type": "code",
   "execution_count": 28,
   "metadata": {},
   "outputs": [
    {
     "data": {
      "image/png": "[encoded data removed]",
      "text/plain": [
       "<Figure size 432x288 with 1 Axes>"
      ]
     },
     "metadata": {
      "needs_background": "light"
     },
     "output_type": "display_data"
    }
   ],
   "source": [
    "from sklearn import datasets\n",
    "import numpy as np\n",
    "import matplotlib.pyplot as plt\n",
    "from sklearn.linear_model import LogisticRegression\n",
    "iris = datasets.load_iris()\n",
    "X = iris[\"data\"][:,3:]\n",
    "y = (iris[\"target\"]==2).astype(int)\n",
    "log_reg = LogisticRegression()\n",
    "log_reg.fit(X,y)\n",
    "X_new = np.linspace(0,3,1000).reshape(-1,1)\n",
    "y_proba = log_reg.predict_proba(X_new)\n",
    "plt.plot(X_new,y_proba[:,1],\"g-\",label=\"Iris-Virginica\")\n",
    "plt.plot(X_new,y_proba[:,0],\"b--\",label=\"Not Iris-Virginica\")\n",
    "plt.legend()\n",
    "plt.show()"
   ]
  },
  {
   "cell_type": "code",
   "execution_count": 2,
   "metadata": {},
   "outputs": [
    {
     "name": "stdout",
     "output_type": "stream",
     "text": [
      "Best validation score:  0.7333333333333333\n",
      "Best C value:  0.01\n",
      "              precision    recall  f1-score   support\n",
      "\n",
      "           0       0.76      0.81      0.79        52\n",
      "           1       0.73      0.68      0.71        44\n",
      "           2       0.78      0.78      0.78        54\n",
      "\n",
      "    accuracy                           0.76       150\n",
      "   macro avg       0.76      0.76      0.76       150\n",
      "weighted avg       0.76      0.76      0.76       150\n",
      "\n"
     ]
    },
    {
     "name": "stderr",
     "output_type": "stream",
     "text": [
      "/Users/joseph.ganser/anaconda3/lib/python3.7/site-packages/sklearn/utils/fixes.py:223: DeprecationWarning: distutils Version classes are deprecated. Use packaging.version instead.\n",
      "  if _joblib.__version__ >= LooseVersion('0.12'):\n",
      "/Users/joseph.ganser/anaconda3/lib/python3.7/site-packages/sklearn/utils/fixes.py:223: DeprecationWarning: distutils Version classes are deprecated. Use packaging.version instead.\n",
      "  if _joblib.__version__ >= LooseVersion('0.12'):\n",
      "/Users/joseph.ganser/anaconda3/lib/python3.7/site-packages/sklearn/utils/fixes.py:223: DeprecationWarning: distutils Version classes are deprecated. Use packaging.version instead.\n",
      "  if _joblib.__version__ >= LooseVersion('0.12'):\n",
      "/Users/joseph.ganser/anaconda3/lib/python3.7/site-packages/sklearn/utils/fixes.py:223: DeprecationWarning: distutils Version classes are deprecated. Use packaging.version instead.\n",
      "  if _joblib.__version__ >= LooseVersion('0.12'):\n",
      "/Users/joseph.ganser/anaconda3/lib/python3.7/site-packages/sklearn/utils/fixes.py:223: DeprecationWarning: distutils Version classes are deprecated. Use packaging.version instead.\n",
      "  if _joblib.__version__ >= LooseVersion('0.12'):\n",
      "/Users/joseph.ganser/anaconda3/lib/python3.7/site-packages/sklearn/utils/fixes.py:223: DeprecationWarning: distutils Version classes are deprecated. Use packaging.version instead.\n",
      "  if _joblib.__version__ >= LooseVersion('0.12'):\n",
      "/Users/joseph.ganser/anaconda3/lib/python3.7/site-packages/sklearn/utils/fixes.py:223: DeprecationWarning: distutils Version classes are deprecated. Use packaging.version instead.\n",
      "  if _joblib.__version__ >= LooseVersion('0.12'):\n"
     ]
    }
   ],
   "source": [
    "from sklearn.datasets import make_classification\n",
    "from sklearn.model_selection import train_test_split\n",
    "from sklearn.linear_model import LogisticRegression\n",
    "from sklearn.metrics import classification_report, accuracy_score\n",
    "\n",
    "X,y = make_classification(n_samples=1000, n_features=20, n_informative=18, n_redundant=2, n_repeated=0, \n",
    "                          n_classes=3)\n",
    "X_train,X_test,y_train,y_test = train_test_split(X,y,test_size=0.3)\n",
    "X_test,X_val,y_test,y_val = train_test_split(X_test,y_test,test_size=0.5)\n",
    "scores = {}\n",
    "score_reports = {}\n",
    "max_score = 0\n",
    "min_diff = 100\n",
    "for c in [0.0001,0.001,0.01,0.1,1,10]:\n",
    "    log_reg = LogisticRegression(multi_class=\"multinomial\",solver=\"lbfgs\",C=c)\n",
    "    log_reg.fit(X_train,y_train)\n",
    "    y_pred = log_reg.predict(X_val)\n",
    "    y_pred_train = log_reg.predict(X_train)\n",
    "    train_score = accuracy_score(y_pred_train,y_train)\n",
    "    val_score = accuracy_score(y_pred,y_val)\n",
    "    score_reports[c] = classification_report(y_pred,y_val)\n",
    "    scores[c] = (val_score,train_score)\n",
    "    if val_score>max_score:\n",
    "        max_score = val_score\n",
    "    if val_score-train_score<min_diff:\n",
    "        min_diff = val_score-train_score\n",
    "print(\"Best validation score: \",max_score)\n",
    "c_best = [j for j in scores.keys() if scores[j][0]==max_score][0]\n",
    "log_reg_best = LogisticRegression(multi_class=\"multinomial\",solver=\"lbfgs\",C=c_best)\n",
    "log_reg_best.fit(X_train,y_train)\n",
    "y_pred_test = log_reg.predict(X_test)\n",
    "print(\"Best C value: \",c_best)\n",
    "print(classification_report(y_pred_test,y_test))"
   ]
  },
  {
   "cell_type": "code",
   "execution_count": null,
   "metadata": {},
   "outputs": [],
   "source": [
    "from sklearn.model_selection import train_test_split\n",
    "X_train,X_test,y_train,y_test = train_test_split(X,y,test_size=0.3)\n",
    "X_test,X_val,y_test,y_val = train_test_split(X_test,y_test,test_size=0.5)"
   ]
  }
 ],
 "metadata": {
  "kernelspec": {
   "display_name": "Python 3 (ipykernel)",
   "language": "python",
   "name": "python3"
  },
  "language_info": {
   "codemirror_mode": {
    "name": "ipython",
    "version": 3
   },
   "file_extension": ".py",
   "mimetype": "text/x-python",
   "name": "python",
   "nbconvert_exporter": "python",
   "pygments_lexer": "ipython3",
   "version": "3.9.7"
  }
 },
 "nbformat": 4,
 "nbformat_minor": 2
}
