{
 "cells": [
  {
   "cell_type": "markdown",
   "id": "244f6c62",
   "metadata": {},
   "source": [
    "# HW2 Advanced Programming for AI\n",
    "\n"
   ]
  },
  {
   "cell_type": "markdown",
   "id": "d7740b31",
   "metadata": {},
   "source": [
    "# Problem 1\n",
    "\n",
    "Re-type out the entire `timewithproperties.py` python script in a jupyter notebook cell"
   ]
  },
  {
   "cell_type": "code",
   "execution_count": 1,
   "id": "ac9864f4",
   "metadata": {},
   "outputs": [],
   "source": [
    "#type your solution"
   ]
  },
  {
   "cell_type": "markdown",
   "id": "c6bdd531",
   "metadata": {},
   "source": [
    "# Problem 2 \n",
    "\n",
    "From the `timewithproperties.py` python script used in the lecture notes, instantiate the time time class with the time of\n",
    "\n",
    "* hour = 13\n",
    "* minute = 45\n",
    "* second = 33\n",
    "\n",
    "Using the `.time` property, print the time."
   ]
  },
  {
   "cell_type": "code",
   "execution_count": 4,
   "id": "ad23c670",
   "metadata": {},
   "outputs": [
    {
     "name": "stdout",
     "output_type": "stream",
     "text": [
      "(13, 45, 33)\n"
     ]
    }
   ],
   "source": [
    "#type your solution"
   ]
  },
  {
   "cell_type": "markdown",
   "id": "5a1f0e7b",
   "metadata": {},
   "source": [
    "# Problem 3\n",
    "\n",
    "Using the script from problem 1, make the hour, minute and seconds properties as unchangeable. \n",
    "Label this class `Time2`.\n",
    "\n",
    "Demonstrate that the time initially set is immutable and returns an error when attempting to change it from its intialized values."
   ]
  },
  {
   "cell_type": "code",
   "execution_count": null,
   "id": "6abd2edc",
   "metadata": {},
   "outputs": [],
   "source": [
    "#type your solution"
   ]
  },
  {
   "cell_type": "markdown",
   "id": "efb09dac",
   "metadata": {},
   "source": [
    "# Problem 4:\n",
    "\n",
    "Make a `__rep__()` function to demonstrate a string representation of the `Time` Class from problem 1."
   ]
  },
  {
   "cell_type": "code",
   "execution_count": 50,
   "id": "71158816",
   "metadata": {},
   "outputs": [],
   "source": [
    "#type your solution"
   ]
  }
 ],
 "metadata": {
  "kernelspec": {
   "display_name": "Python 3 (ipykernel)",
   "language": "python",
   "name": "python3"
  },
  "language_info": {
   "codemirror_mode": {
    "name": "ipython",
    "version": 3
   },
   "file_extension": ".py",
   "mimetype": "text/x-python",
   "name": "python",
   "nbconvert_exporter": "python",
   "pygments_lexer": "ipython3",
   "version": "3.9.7"
  }
 },
 "nbformat": 4,
 "nbformat_minor": 5
}
