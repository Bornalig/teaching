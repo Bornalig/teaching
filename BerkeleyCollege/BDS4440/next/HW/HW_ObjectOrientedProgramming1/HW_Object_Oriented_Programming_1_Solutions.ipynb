{
 "cells": [
  {
   "cell_type": "markdown",
   "id": "244f6c62",
   "metadata": {},
   "source": [
    "# HW Object Oriented Programming 1: Advanced Programming for AI\n",
    "\n",
    "## Solutions"
   ]
  },
  {
   "cell_type": "markdown",
   "id": "d7740b31",
   "metadata": {},
   "source": [
    "# Problem 1\n",
    "\n",
    "Re-type out the entire `timewithproperties.py` python script in a jupyter notebook cell"
   ]
  },
  {
   "cell_type": "code",
   "execution_count": 1,
   "id": "ac9864f4",
   "metadata": {},
   "outputs": [],
   "source": [
    "\"\"\"Class with time read-write properties\"\"\"\n",
    "from datetime import datetime,timedelta\n",
    "\n",
    "class Time:\n",
    "\t\"\"\"Class time with read-write properties\"\"\"\n",
    "\tdef __init__(self,hour = 0,minute = 0,second = 0):\n",
    "\t\t\"\"\"Initialize each attrbiute\"\"\"\n",
    "\t\tself.hour = int(hour)\n",
    "\t\tself.minute = int(minute)\n",
    "\t\tself.second = int(second)\n",
    "\t\tself.time = (self.hour,self.minute,self.second)\n",
    "\n",
    "\t@property\n",
    "\tdef hour(self):\n",
    "\t\t\"\"\"Return the hour\"\"\"\n",
    "\t\treturn self._hour\n",
    "\n",
    "\t@hour.setter\n",
    "\tdef hour(self,hour):\n",
    "\t\t\"\"\"Set the hour.\"\"\"\n",
    "\t\tif not (0<=hour<24):\n",
    "\t\t\traise ValueError(f'Hour ({hour}) must be 0-23')\n",
    "\t\tself._hour = hour\n",
    "\n",
    "\t@property\n",
    "\tdef minute(self):\n",
    "\t\t\"\"\"Return the minute\"\"\"\n",
    "\t\treturn self._minute\n",
    "\n",
    "\t@minute.setter\n",
    "\tdef minute(self,minute):\n",
    "\t\t\"\"\"Set minute\"\"\"\n",
    "\t\tif not (0<=minute<60):\n",
    "\t\t\traise ValueError(f'Minute({minute}) must be 0-59')\n",
    "\t\tself._minute = minute\n",
    "\n",
    "\t@property\n",
    "\tdef second(self):\n",
    "\t\t\"\"\"Return the second\"\"\"\n",
    "\t\treturn self._second\n",
    "\n",
    "\n",
    "\t@second.setter\n",
    "\tdef second(self,second):\n",
    "\t\t\"\"\" Set the second\"\"\"\n",
    "\t\tif not (0<=second<60):\n",
    "\t\t\traise ValueError(f'Second ({second}) must be 0-59')\n",
    "\t\tself._second = second\n",
    "\n",
    "\n",
    "\tdef set_time(self,hour=0,minute=0,second=0):\n",
    "\t\t\"\"\"set values of hour, minute and second\"\"\"\n",
    "\t\tself.hour = hour\n",
    "\t\tself.minute = minute\n",
    "\t\tself.second = second\n",
    "\t\tself._time  = (hour,minute,second)\n",
    "\n",
    "\n",
    "\t@property\n",
    "\tdef time(self):\n",
    "\t\t\"\"\"Return hour, minute and second as a tuple\"\"\"\n",
    "\t\treturn self._time\n",
    "\n",
    "\t@time.setter\n",
    "\tdef time(self,time_tuple):\n",
    "\t\t\"\"\"Set time form a tuple comntianing hour,minute and second\"\"\"\n",
    "\t\tself.set_time(time_tuple[0],time_tuple[1],time_tuple[2])\n",
    "\t\n",
    "\n",
    "\tdef add_time(self,hour,minute,second):\n",
    "\t\tcurrent_time = datetime.strptime('{0}:{1}:{2}'.format(self.hour,self.minute,self.second), '%H:%M:%S')\n",
    "\t\tnew_time = current_time + timedelta(days=0,hours=hour,minutes=minute,seconds=second)\n",
    "\t\tnew_time_print = new_time.strftime('%H:%M:%S')\n",
    "\t\tprint('new time: ',new_time_print)\n",
    "\t\thour,minute,second = [int(j) for j in new_time_print.split(':')]\n",
    "\t\tself.set_time(hour,minute,second)"
   ]
  },
  {
   "cell_type": "markdown",
   "id": "c6bdd531",
   "metadata": {},
   "source": [
    "# Problem 2 \n",
    "\n",
    "From the `timewithproperties.py` python script used in the lecture notes, instantiate the time time class with the time of\n",
    "\n",
    "* hour = 13\n",
    "* minute = 45\n",
    "* second = 33\n",
    "\n",
    "Using the `.time` property, print the time."
   ]
  },
  {
   "cell_type": "code",
   "execution_count": 4,
   "id": "ad23c670",
   "metadata": {},
   "outputs": [
    {
     "name": "stdout",
     "output_type": "stream",
     "text": [
      "(13, 45, 33)\n"
     ]
    }
   ],
   "source": [
    "#from timewithproperties import Time\n",
    "\n",
    "t = Time(hour=13,minute=45,second=33)\n",
    "print(t.time)"
   ]
  },
  {
   "cell_type": "markdown",
   "id": "5a1f0e7b",
   "metadata": {},
   "source": [
    "# Problem 3\n",
    "\n",
    "Using the script from problem 1, make the hour, minute and seconds properties as unchangeable. \n",
    "Label this class `Time2`.\n",
    "\n",
    "Demonstrate that the time initially set is immutable and returns an error when attempting to change it from its intialized values."
   ]
  },
  {
   "cell_type": "markdown",
   "id": "695a9c50",
   "metadata": {},
   "source": [
    "### Solution: For convenvience, only the hour variable is used and the rest of the code is skipped."
   ]
  },
  {
   "cell_type": "code",
   "execution_count": null,
   "id": "6abd2edc",
   "metadata": {},
   "outputs": [],
   "source": [
    "\"\"\"Class with time read-write properties\"\"\"\n",
    "from datetime import datetime,timedelta\n",
    "\n",
    "class Time2:\n",
    "    \"\"\"Class time with read-write properties\"\"\"\n",
    "    def __init__(self,hour = 0):\n",
    "        \"\"\"Initialize each attrbiute\"\"\"\n",
    "        self._hour = int(hour)\n",
    "\n",
    "    @property\n",
    "    def hour(self):\n",
    "        \"\"\"Return the hour\"\"\"\n",
    "        return self._hour"
   ]
  },
  {
   "cell_type": "code",
   "execution_count": 37,
   "id": "d520210d",
   "metadata": {},
   "outputs": [
    {
     "ename": "AttributeError",
     "evalue": "can't set attribute",
     "output_type": "error",
     "traceback": [
      "\u001b[0;31m---------------------------------------------------------------------------\u001b[0m",
      "\u001b[0;31mAttributeError\u001b[0m                            Traceback (most recent call last)",
      "\u001b[0;32m/var/folders/jl/97zzvf352gg0qn93kb33f4th0000gn/T/ipykernel_6726/915420257.py\u001b[0m in \u001b[0;36m<module>\u001b[0;34m\u001b[0m\n\u001b[1;32m      1\u001b[0m \u001b[0mt2\u001b[0m \u001b[0;34m=\u001b[0m \u001b[0mTime2\u001b[0m\u001b[0;34m(\u001b[0m\u001b[0;36m13\u001b[0m\u001b[0;34m)\u001b[0m\u001b[0;34m\u001b[0m\u001b[0;34m\u001b[0m\u001b[0m\n\u001b[0;32m----> 2\u001b[0;31m \u001b[0mt2\u001b[0m\u001b[0;34m.\u001b[0m\u001b[0mhour\u001b[0m\u001b[0;34m=\u001b[0m\u001b[0;36m21\u001b[0m\u001b[0;34m\u001b[0m\u001b[0;34m\u001b[0m\u001b[0m\n\u001b[0m",
      "\u001b[0;31mAttributeError\u001b[0m: can't set attribute"
     ]
    }
   ],
   "source": [
    "t2 = Time2(13)\n",
    "t2.hour=21"
   ]
  },
  {
   "cell_type": "markdown",
   "id": "efb09dac",
   "metadata": {},
   "source": [
    "# Problem 4:\n",
    "\n",
    "Make a `__rep__()` function to demonstrate a string representation of the `Time` Class from problem 1."
   ]
  },
  {
   "cell_type": "code",
   "execution_count": 50,
   "id": "71158816",
   "metadata": {},
   "outputs": [],
   "source": [
    "# for convenvience, the code without the rest\n",
    "\tdef __repr__(self):\n",
    "\t\treturn f'Time(hour={self._hour},minute={self._minute},second={self._second})'"
   ]
  },
  {
   "cell_type": "code",
   "execution_count": 51,
   "id": "f8a25db6",
   "metadata": {},
   "outputs": [],
   "source": [
    "t3 = Time3(12,15,22)"
   ]
  },
  {
   "cell_type": "code",
   "execution_count": 52,
   "id": "313b0575",
   "metadata": {},
   "outputs": [
    {
     "data": {
      "text/plain": [
       "'Time(hour=12,minute=15,second=22)'"
      ]
     },
     "execution_count": 52,
     "metadata": {},
     "output_type": "execute_result"
    }
   ],
   "source": [
    "t3.__repr__()"
   ]
  },
  {
   "cell_type": "code",
   "execution_count": null,
   "id": "2255e7a4",
   "metadata": {},
   "outputs": [],
   "source": []
  }
 ],
 "metadata": {
  "kernelspec": {
   "display_name": "Python 3 (ipykernel)",
   "language": "python",
   "name": "python3"
  },
  "language_info": {
   "codemirror_mode": {
    "name": "ipython",
    "version": 3
   },
   "file_extension": ".py",
   "mimetype": "text/x-python",
   "name": "python",
   "nbconvert_exporter": "python",
   "pygments_lexer": "ipython3",
   "version": "3.9.7"
  }
 },
 "nbformat": 4,
 "nbformat_minor": 5
}
