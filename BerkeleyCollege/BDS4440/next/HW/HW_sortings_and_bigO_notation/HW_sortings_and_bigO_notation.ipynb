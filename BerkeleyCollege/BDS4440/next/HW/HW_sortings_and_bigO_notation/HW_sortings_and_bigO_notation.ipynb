{
 "cells": [
  {
   "cell_type": "markdown",
   "id": "f75e12da",
   "metadata": {},
   "source": [
    "# Advanced programming for AI\n",
    "\n",
    "# Homework sortings and bigO notation\n",
    "\n",
    "### Solutions"
   ]
  },
  {
   "cell_type": "markdown",
   "id": "05c7a0fc",
   "metadata": {},
   "source": [
    "## Problems\n",
    "\n",
    "Modify each of the sorting algorithms in the lecture notes such that it counts every step it goes through.\n",
    "* Print the total number of steps `n` when the algorithm completes using the following list\n",
    "* Print the ratio between the number of steps and the length of the data set; `n/len(data)`\n",
    "* Look up the algorithm efficiency (both run time and memory use) for each of these algorithms\n",
    "\n",
    "\n",
    "Use the following list as the input data set to sort;\n",
    "\n",
    "`rand = ['N','V','U','O','h','l','h','P','Q','a','F','W','j','J','e','u','C','m','x','w']`"
   ]
  },
  {
   "cell_type": "markdown",
   "id": "ff6aef89",
   "metadata": {},
   "source": [
    "# Problem 1: Selection sort"
   ]
  },
  {
   "cell_type": "code",
   "execution_count": 1,
   "id": "f7cc92a9",
   "metadata": {},
   "outputs": [],
   "source": [
    "#Type your solution"
   ]
  },
  {
   "cell_type": "code",
   "execution_count": 2,
   "id": "2a910d59",
   "metadata": {},
   "outputs": [],
   "source": [
    "rand = ['N','V','U','O','h','l','h','P','Q','a','F','W','j','J','e','u','C','m','x','w']\n",
    "#selection_sort(rand)"
   ]
  },
  {
   "cell_type": "markdown",
   "id": "ddb8f1e7",
   "metadata": {},
   "source": [
    "# Problem 2 Insertion Sort"
   ]
  },
  {
   "cell_type": "code",
   "execution_count": 56,
   "id": "a75871e9",
   "metadata": {},
   "outputs": [],
   "source": [
    "#Type your solution"
   ]
  },
  {
   "cell_type": "code",
   "execution_count": 3,
   "id": "70d1c35d",
   "metadata": {},
   "outputs": [],
   "source": [
    "rand = ['N','V','U','O','h','l','h','P','Q','a','F','W','j','J','e','u','C','m','x','w']\n",
    "#insertion_sort(rand)"
   ]
  }
 ],
 "metadata": {
  "kernelspec": {
   "display_name": "Python 3 (ipykernel)",
   "language": "python",
   "name": "python3"
  },
  "language_info": {
   "codemirror_mode": {
    "name": "ipython",
    "version": 3
   },
   "file_extension": ".py",
   "mimetype": "text/x-python",
   "name": "python",
   "nbconvert_exporter": "python",
   "pygments_lexer": "ipython3",
   "version": "3.9.7"
  }
 },
 "nbformat": 4,
 "nbformat_minor": 5
}
