{
 "cells": [
  {
   "cell_type": "markdown",
   "id": "f75e12da",
   "metadata": {},
   "source": [
    "# Advanced programming for AI\n",
    "\n",
    "# Homework 5\n",
    "\n",
    "### Solutions"
   ]
  },
  {
   "cell_type": "markdown",
   "id": "05c7a0fc",
   "metadata": {},
   "source": [
    "## Problems\n",
    "\n",
    "Modify each of the sorting algorithms in the lecture notes such that it counts every step it goes through.\n",
    "* Print the total number of steps `n` when the algorithm completes using the following list\n",
    "* Print the ratio between the number of steps and the length of the data set; `n/len(data)`\n",
    "* Look up the algorithm efficiency (both run time and memory use) for each of these algorithms\n",
    "\n",
    "\n",
    "Use the following list as the input data set to sort;\n",
    "\n",
    "`rand = ['N','V','U','O','h','l','h','P','Q','a','F','W','j','J','e','u','C','m','x','w']`\n",
    "\n",
    "# Problem 1: Selection sort\n",
    "# Problem 2: Insertion sort"
   ]
  },
  {
   "cell_type": "markdown",
   "id": "ff6aef89",
   "metadata": {},
   "source": [
    "# Problem 1: Selection sort"
   ]
  },
  {
   "cell_type": "code",
   "execution_count": 59,
   "id": "f7cc92a9",
   "metadata": {},
   "outputs": [
    {
     "name": "stdout",
     "output_type": "stream",
     "text": [
      "Selection sort Run time:  O(N^2)\n",
      "Selection sort Memory Complexity: O(1)\n"
     ]
    }
   ],
   "source": [
    "def selection_sort(data):\n",
    "    n=0\n",
    "    for index1 in range(len(data)-1):\n",
    "        smallest = index1\n",
    "        for index2 in range(index1+1,len(data)):\n",
    "            if data[index2]<data[smallest]:\n",
    "                smallest = index2\n",
    "            n=n+1 #add the step here\n",
    "        data[smallest],data[index1] = data[index1],data[smallest]\n",
    "    print('number of steps: ',n) #print here\n",
    "    print('length of data')\n",
    "    print('ratio: ',n/len(data)) #print ratio here\n",
    "    return data\n",
    "\n",
    "print('Selection sort Run time:  O(N^2)')\n",
    "print('Selection sort Memory Complexity: O(1)')"
   ]
  },
  {
   "cell_type": "code",
   "execution_count": 37,
   "id": "2a910d59",
   "metadata": {},
   "outputs": [
    {
     "name": "stdout",
     "output_type": "stream",
     "text": [
      "number of steps:  190\n",
      "length of data\n",
      "ratio:  9.5\n"
     ]
    },
    {
     "data": {
      "text/plain": [
       "['C',\n",
       " 'F',\n",
       " 'J',\n",
       " 'N',\n",
       " 'O',\n",
       " 'P',\n",
       " 'Q',\n",
       " 'U',\n",
       " 'V',\n",
       " 'W',\n",
       " 'a',\n",
       " 'e',\n",
       " 'h',\n",
       " 'h',\n",
       " 'j',\n",
       " 'l',\n",
       " 'm',\n",
       " 'u',\n",
       " 'w',\n",
       " 'x']"
      ]
     },
     "execution_count": 37,
     "metadata": {},
     "output_type": "execute_result"
    }
   ],
   "source": [
    "rand = ['N','V','U','O','h','l','h','P','Q','a','F','W','j','J','e','u','C','m','x','w']\n",
    "selection_sort(rand)"
   ]
  },
  {
   "cell_type": "markdown",
   "id": "ddb8f1e7",
   "metadata": {},
   "source": [
    "# Problem 2 Insertion Sort"
   ]
  },
  {
   "cell_type": "code",
   "execution_count": 56,
   "id": "a75871e9",
   "metadata": {},
   "outputs": [],
   "source": [
    "def insertion_sort(data):\n",
    "    n=0\n",
    "    for Next in range(1,len(data)):\n",
    "        insert = data[Next]\n",
    "        move_item = Next\n",
    "        while move_item>0 and data[move_item-1]>insert:\n",
    "            data[move_item] = data[move_item - 1]\n",
    "            move_item -=1\n",
    "            n=n+1 #insert counting steps here\n",
    "        data[move_item] = insert\n",
    "    print('number of steps: ',n)\n",
    "    print('length of data: ',len(data))\n",
    "    print('ratio',n/len(data))\n",
    "    return data\n"
   ]
  },
  {
   "cell_type": "code",
   "execution_count": 61,
   "id": "70d1c35d",
   "metadata": {},
   "outputs": [
    {
     "name": "stdout",
     "output_type": "stream",
     "text": [
      "Selection sort Run time:  worst: O(N^2), best: O(N)\n",
      "Selection sort Memory Complexity: O(1)\n",
      "number of steps:  66\n",
      "length of data:  20\n",
      "ratio 3.3\n"
     ]
    },
    {
     "data": {
      "text/plain": [
       "['C',\n",
       " 'F',\n",
       " 'J',\n",
       " 'N',\n",
       " 'O',\n",
       " 'P',\n",
       " 'Q',\n",
       " 'U',\n",
       " 'V',\n",
       " 'W',\n",
       " 'a',\n",
       " 'e',\n",
       " 'h',\n",
       " 'h',\n",
       " 'j',\n",
       " 'l',\n",
       " 'm',\n",
       " 'u',\n",
       " 'w',\n",
       " 'x']"
      ]
     },
     "execution_count": 61,
     "metadata": {},
     "output_type": "execute_result"
    }
   ],
   "source": [
    "rand = ['N','V','U','O','h','l','h','P','Q','a','F','W','j','J','e','u','C','m','x','w']\n",
    "\n",
    "print('Selection sort Run time:  worst: O(N^2), best: O(N)')\n",
    "print('Selection sort Memory Complexity: O(1)')\n",
    "\n",
    "insertion_sort(rand)"
   ]
  },
  {
   "cell_type": "code",
   "execution_count": null,
   "id": "16289e8a",
   "metadata": {},
   "outputs": [],
   "source": []
  }
 ],
 "metadata": {
  "kernelspec": {
   "display_name": "Python 3 (ipykernel)",
   "language": "python",
   "name": "python3"
  },
  "language_info": {
   "codemirror_mode": {
    "name": "ipython",
    "version": 3
   },
   "file_extension": ".py",
   "mimetype": "text/x-python",
   "name": "python",
   "nbconvert_exporter": "python",
   "pygments_lexer": "ipython3",
   "version": "3.9.7"
  }
 },
 "nbformat": 4,
 "nbformat_minor": 5
}
