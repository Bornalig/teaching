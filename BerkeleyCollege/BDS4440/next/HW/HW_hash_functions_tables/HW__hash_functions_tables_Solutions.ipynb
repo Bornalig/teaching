{
 "cells": [
  {
   "cell_type": "markdown",
   "id": "c247b959",
   "metadata": {},
   "source": [
    "# Advanced Programming for AI\n",
    "# HW: Hash functions & Tables"
   ]
  },
  {
   "cell_type": "markdown",
   "id": "8be21dc7",
   "metadata": {},
   "source": [
    "# Solutions"
   ]
  },
  {
   "cell_type": "markdown",
   "id": "24329e85",
   "metadata": {},
   "source": [
    "### For the following problems, using this as your hash function;\n",
    "\n",
    "`class hash_function:\n",
    "    def function(self,key,N):\n",
    "        h = 1\n",
    "        for char in key:\n",
    "            h*=ord(char.lower())\n",
    "        return h%N`\n",
    "        \n",
    "### Use this as your dictionary\n",
    "\n",
    "`d = {'mike':10,'jon':22,'kelly':2,'sarah':19,'victor':23}`\n",
    "\n",
    "\n"
   ]
  },
  {
   "cell_type": "markdown",
   "id": "73d07878",
   "metadata": {},
   "source": [
    "# Problem 1:\n",
    "\n",
    "Build the class from **example 5 from the lecture note**, and fit the dictionary to it using the hash function above.\n",
    "\n",
    "Once the class it built from the dictionary,\n",
    "\n",
    "* select the key value pair for `mike`\n",
    "* delete the key value paird for `victor`\n",
    "* print the array after these two steps"
   ]
  },
  {
   "cell_type": "code",
   "execution_count": 15,
   "id": "0452fc0c",
   "metadata": {},
   "outputs": [],
   "source": [
    "#define hash function class\n",
    "class hash_function:\n",
    "    def function(self,key,N):\n",
    "        h = 1\n",
    "        for char in key:\n",
    "            h*=ord(char.lower())\n",
    "        return h%N\n",
    "\n",
    "\n",
    "class HashTable1(hash_function):\n",
    "    def __init__(self,N=None):\n",
    "        self.N = N\n",
    "        if self.N is not None:\n",
    "            self.array = [[] for i in range(self.N)]\n",
    "        \n",
    "    def add(self,key,value):\n",
    "        if self.N is None:\n",
    "            self.N=1\n",
    "        h = self.function(key,self.N) #this is the hash function\n",
    "        found = False\n",
    "        for idx,element in enumerate(self.array[h]):\n",
    "            if len(element)==2 and element[0]==key:\n",
    "                self.array[h][idx]=(key,value)\n",
    "                found=True\n",
    "                break\n",
    "        if not found:\n",
    "            self.array[h].append((key,value))\n",
    "            \n",
    "    def add_dictionary(self,d):\n",
    "        if self.N is None:\n",
    "            self.N=len(d)\n",
    "            self.array = [[] for i in range(self.N)]\n",
    "        for key,value in d.items():\n",
    "            print('Key: {}, Hash function of key: {}'.format(key,self.function(key,self.N)))\n",
    "            self.add(key,value)\n",
    "        print(self.array)\n",
    "        return\n",
    "            \n",
    "    def select(self,key,value):\n",
    "        h= self.function(key,self.N)\n",
    "        for element in self.array[h]:\n",
    "            if element[0]==key:\n",
    "                return element[1]\n",
    "    \n",
    "    def delete(self, key):\n",
    "        arr_index = self.function(key,self.N)\n",
    "        for index, kv in enumerate(self.array[arr_index]):\n",
    "            if kv[0] == key:\n",
    "                print(\"del\",index)\n",
    "                self.array[arr_index][index]=None"
   ]
  },
  {
   "cell_type": "code",
   "execution_count": 18,
   "id": "61039ba8",
   "metadata": {},
   "outputs": [
    {
     "name": "stdout",
     "output_type": "stream",
     "text": [
      "Key: mike, Hash function of key: 0\n",
      "Key: jon, Hash function of key: 0\n",
      "Key: kelly, Hash function of key: 3\n",
      "Key: sarah, Hash function of key: 0\n",
      "Key: victor, Hash function of key: 0\n",
      "[[('mike', 10), ('jon', 22), ('sarah', 19), ('victor', 23)], [], [], [('kelly', 2)], []]\n",
      "del 3\n",
      "[[('mike', 10), ('jon', 22), ('sarah', 19), None], [], [], [('kelly', 2)], []]\n"
     ]
    }
   ],
   "source": [
    "h1 = HashTable1()\n",
    "d = {'mike':10,'jon':22,'kelly':2,'sarah':19,'victor':23}\n",
    "h1.add_dictionary(d)\n",
    "\n",
    "h1.select('mike',10)\n",
    "h1.delete('victor')\n",
    "print(h1.array)"
   ]
  },
  {
   "cell_type": "markdown",
   "id": "053d2c59",
   "metadata": {},
   "source": [
    "# Problem 2:\n",
    "\n",
    "\n",
    "Build the class from **example 6 from the lecture notes**, and fit the dictionary to it using the hash function above.\n",
    "\n",
    "\n",
    "* add the first dictionary from above\n",
    "* add a second dictionary; `d2 = {'donald':0,'trevor':25,'simon':1}`"
   ]
  },
  {
   "cell_type": "code",
   "execution_count": 26,
   "id": "6bba5057",
   "metadata": {},
   "outputs": [],
   "source": [
    "class HashTable2(hash_function):  \n",
    "    def __init__(self,N=None):\n",
    "        self.N = N #number of elements\n",
    "        if self.N is not None:\n",
    "            self.array = [None for i in range(self.N)]\n",
    "    \n",
    "    def add(self, key, val):\n",
    "        if self.N is None:\n",
    "            self.N=1\n",
    "        h = self.function(key,self.N)\n",
    "        if h>len(self.array):\n",
    "            self.array=self.array+[None for i in range(h-len(self.array))]\n",
    "        if self.array[h] is None:\n",
    "            self.array[h] = (key,val)\n",
    "        else:\n",
    "            new_h = self.find_slot_insert(h)\n",
    "            self.array[new_h] = (key,val) \n",
    "    \n",
    "    def select(self, key):\n",
    "        h = self.function(key,self.N)\n",
    "        if self.array[h] is None:\n",
    "            return\n",
    "        else:\n",
    "            if key==self.array[h][0]:\n",
    "                return self.array[h]\n",
    "            else:\n",
    "                print(key,h)\n",
    "                h = self.find_slot_select(key,h)\n",
    "                return self.array[h]\n",
    "                \n",
    "            \n",
    "    def find_slot_insert(self,h):\n",
    "        while self.array[h] is not None:\n",
    "            if h+1>len(self.array):\n",
    "                h=self.array[0]\n",
    "            else:\n",
    "                h=h+1\n",
    "        return h\n",
    "    \n",
    "    def find_slot_select(self,key,h):\n",
    "        while self.array[h][0]!=key:\n",
    "            if h+1>len(self.array):\n",
    "                h = self.array[0]\n",
    "            else:\n",
    "                h=h+1\n",
    "        return h\n",
    "    \n",
    "    def add_dictionary(self,d):\n",
    "        if self.N is None:\n",
    "            self.N=len(d)\n",
    "            self.array = [None for i in range(self.N)]\n",
    "        else:\n",
    "            self.N=self.N+len(d)\n",
    "            self.array = self.array+[None for i in range(len(d))]\n",
    "        for key,value in d.items():\n",
    "            print('Key: {}, Hash function of key: {}'.format(key,self.function(key,self.N)))\n",
    "            self.add(key,value)\n",
    "        print(self.array)\n",
    "        return\n",
    "    \n",
    "    \n",
    "    def delete(self, key):\n",
    "        h = self.get_hash(key)\n",
    "        h = self.find_slot_select(key,h)\n",
    "        self.array[h]=None"
   ]
  },
  {
   "cell_type": "code",
   "execution_count": 28,
   "id": "d6db50ee",
   "metadata": {},
   "outputs": [
    {
     "name": "stdout",
     "output_type": "stream",
     "text": [
      "Key: mike, Hash function of key: 0\n",
      "Key: jon, Hash function of key: 0\n",
      "Key: kelly, Hash function of key: 3\n",
      "Key: sarah, Hash function of key: 0\n",
      "Key: victor, Hash function of key: 0\n",
      "[('mike', 10), ('jon', 22), ('sarah', 19), ('kelly', 2), ('victor', 23)]\n",
      "Key: donald, Hash function of key: 0\n",
      "Key: trevor, Hash function of key: 0\n",
      "Key: simon, Hash function of key: 6\n",
      "[('mike', 10), ('jon', 22), ('sarah', 19), ('kelly', 2), ('victor', 23), ('donald', 0), ('trevor', 25), ('simon', 1)]\n",
      "[('mike', 10), ('jon', 22), ('sarah', 19), ('kelly', 2), ('victor', 23), ('donald', 0), ('trevor', 25), ('simon', 1)]\n"
     ]
    }
   ],
   "source": [
    "h2 = HashTable2()\n",
    "d = {'mike':10,'jon':22,'kelly':2,'sarah':19,'victor':23}\n",
    "h2.add_dictionary(d)\n",
    "\n",
    "d2 = {'donald':0,'trevor':25,'simon':1}\n",
    "h2.add_dictionary(d2)\n",
    "\n",
    "print(h2.array)"
   ]
  },
  {
   "cell_type": "code",
   "execution_count": null,
   "id": "e45640d0",
   "metadata": {},
   "outputs": [],
   "source": []
  }
 ],
 "metadata": {
  "kernelspec": {
   "display_name": "Python 3 (ipykernel)",
   "language": "python",
   "name": "python3"
  },
  "language_info": {
   "codemirror_mode": {
    "name": "ipython",
    "version": 3
   },
   "file_extension": ".py",
   "mimetype": "text/x-python",
   "name": "python",
   "nbconvert_exporter": "python",
   "pygments_lexer": "ipython3",
   "version": "3.9.7"
  }
 },
 "nbformat": 4,
 "nbformat_minor": 5
}
