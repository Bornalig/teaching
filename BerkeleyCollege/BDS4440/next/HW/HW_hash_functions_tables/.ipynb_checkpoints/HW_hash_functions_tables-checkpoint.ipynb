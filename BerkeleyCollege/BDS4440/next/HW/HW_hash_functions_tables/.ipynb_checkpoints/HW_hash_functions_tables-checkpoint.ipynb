{
 "cells": [
  {
   "cell_type": "markdown",
   "id": "7c3a4813",
   "metadata": {},
   "source": [
    "# Advanced Programming for AI\n",
    "# HW6: Hash functions & Tables"
   ]
  },
  {
   "cell_type": "markdown",
   "id": "6254a2b1",
   "metadata": {},
   "source": [
    "### For the following problems, using this as your hash function;\n",
    "\n",
    "`class hash_function:\n",
    "    def function(self,key,N):\n",
    "        h = 1\n",
    "        for char in key:\n",
    "            h*=ord(char.lower())\n",
    "        return h%N`\n",
    "        \n",
    "### Use this as your dictionary\n",
    "\n",
    "`d = {'mike':10,'jon':22,'kelly':2,'sarah':19,'victor':23}`\n",
    "\n",
    "\n"
   ]
  },
  {
   "cell_type": "markdown",
   "id": "d00f13f5",
   "metadata": {},
   "source": [
    "# Problem 1:\n",
    "\n",
    "Type in (dont copy) and Build the class from **example 5 from the lecture note**, and fit the dictionary to it using the hash function above.\n",
    "\n",
    "Once the class it built from the dictionary,\n",
    "\n",
    "* select the key value pair for `mike`\n",
    "* delete the key value paird for `victor`\n",
    "* print the array after these two steps"
   ]
  },
  {
   "cell_type": "code",
   "execution_count": 15,
   "id": "26d3e7f1",
   "metadata": {},
   "outputs": [],
   "source": [
    "#type your solution"
   ]
  },
  {
   "cell_type": "code",
   "execution_count": 18,
   "id": "9f13643b",
   "metadata": {},
   "outputs": [
    {
     "name": "stdout",
     "output_type": "stream",
     "text": [
      "Key: mike, Hash function of key: 0\n",
      "Key: jon, Hash function of key: 0\n",
      "Key: kelly, Hash function of key: 3\n",
      "Key: sarah, Hash function of key: 0\n",
      "Key: victor, Hash function of key: 0\n",
      "[[('mike', 10), ('jon', 22), ('sarah', 19), ('victor', 23)], [], [], [('kelly', 2)], []]\n",
      "del 3\n",
      "[[('mike', 10), ('jon', 22), ('sarah', 19), None], [], [], [('kelly', 2)], []]\n"
     ]
    }
   ],
   "source": [
    "#type your solution"
   ]
  },
  {
   "cell_type": "markdown",
   "id": "1629f475",
   "metadata": {},
   "source": [
    "# Problem 2:\n",
    "\n",
    "\n",
    "TYPE IN (dont copy and paste!) and Build the class from **example 6 from the lecture notes**, and fit the dictionary to it using the hash function above.\n",
    "\n",
    "\n",
    "* add the first dictionary from above\n",
    "* add a second dictionary; `d2 = {'donald':0,'trevor':25,'simon':1}`"
   ]
  },
  {
   "cell_type": "code",
   "execution_count": 26,
   "id": "9df546c1",
   "metadata": {},
   "outputs": [],
   "source": [
    "#type your solution"
   ]
  },
  {
   "cell_type": "code",
   "execution_count": 28,
   "id": "bef0ddd6",
   "metadata": {},
   "outputs": [
    {
     "name": "stdout",
     "output_type": "stream",
     "text": [
      "Key: mike, Hash function of key: 0\n",
      "Key: jon, Hash function of key: 0\n",
      "Key: kelly, Hash function of key: 3\n",
      "Key: sarah, Hash function of key: 0\n",
      "Key: victor, Hash function of key: 0\n",
      "[('mike', 10), ('jon', 22), ('sarah', 19), ('kelly', 2), ('victor', 23)]\n",
      "Key: donald, Hash function of key: 0\n",
      "Key: trevor, Hash function of key: 0\n",
      "Key: simon, Hash function of key: 6\n",
      "[('mike', 10), ('jon', 22), ('sarah', 19), ('kelly', 2), ('victor', 23), ('donald', 0), ('trevor', 25), ('simon', 1)]\n",
      "[('mike', 10), ('jon', 22), ('sarah', 19), ('kelly', 2), ('victor', 23), ('donald', 0), ('trevor', 25), ('simon', 1)]\n"
     ]
    }
   ],
   "source": [
    "#type your solution"
   ]
  },
  {
   "cell_type": "code",
   "execution_count": null,
   "id": "40f5b56f",
   "metadata": {},
   "outputs": [],
   "source": []
  }
 ],
 "metadata": {
  "kernelspec": {
   "display_name": "Python 3 (ipykernel)",
   "language": "python",
   "name": "python3"
  },
  "language_info": {
   "codemirror_mode": {
    "name": "ipython",
    "version": 3
   },
   "file_extension": ".py",
   "mimetype": "text/x-python",
   "name": "python",
   "nbconvert_exporter": "python",
   "pygments_lexer": "ipython3",
   "version": "3.9.7"
  }
 },
 "nbformat": 4,
 "nbformat_minor": 5
}
