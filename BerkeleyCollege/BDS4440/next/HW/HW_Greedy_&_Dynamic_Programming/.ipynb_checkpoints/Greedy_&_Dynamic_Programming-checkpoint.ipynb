{
 "cells": [
  {
   "cell_type": "markdown",
   "id": "bf23a3f2",
   "metadata": {},
   "source": [
    "# Problem 1 Dynamic Programming:\n",
    " Solve the factorial function using dynamic programming.\n",
    "Create a factorial function doing:\n",
    "\n",
    "   * The original way\n",
    "   * With top down dynamic programming\n",
    "   * With bottom up dynamic programming\n",
    "   * Compare the run times for n in `[1,5,10,25,50]` for each case\n",
    "   * Which approach is the fastest for `n=50`?"
   ]
  },
  {
   "cell_type": "code",
   "execution_count": 22,
   "id": "f4c41c20",
   "metadata": {},
   "outputs": [],
   "source": [
    "def factorial(n):\n",
    "    if n in [0,1]:\n",
    "        return 1\n",
    "    else:\n",
    "        return n*factorial(n-1)\n",
    "\n",
    "def factorial_memoization(n,memo):\n",
    "    if memo[n] is not None:\n",
    "        return memo[n]\n",
    "    if n in [0,1]:\n",
    "        result=1\n",
    "    else:\n",
    "        result=factorial_memoization(n-1,memo)*n\n",
    "    memo[n]=result\n",
    "    return result\n",
    "\n",
    "def fact_top_down(n):\n",
    "    memo = [None]*(n+1)\n",
    "    return factorial_memoization(n,memo)\n",
    "\n",
    "def fact_bottom_up(n):\n",
    "    if n in [0,1]:\n",
    "        return 1\n",
    "    bottom_up = [None]*(n+1)\n",
    "    bottom_up[0]=1\n",
    "    bottom_up[1]=1\n",
    "    for i in range(2,n+1):\n",
    "        bottom_up[i] = i*bottom_up[i-1]\n",
    "    return bottom_up[n]"
   ]
  },
  {
   "cell_type": "code",
   "execution_count": 25,
   "id": "048d9b58",
   "metadata": {},
   "outputs": [
    {
     "name": "stdout",
     "output_type": "stream",
     "text": [
      "CPU times: user 4 µs, sys: 1e+03 ns, total: 5 µs\n",
      "Wall time: 6.91 µs\n",
      "j=1, factorial(1)= 1\n",
      "\n",
      "\n",
      "CPU times: user 6 µs, sys: 0 ns, total: 6 µs\n",
      "Wall time: 8.11 µs\n",
      "j=5, factorial(5)= 120\n",
      "\n",
      "\n",
      "CPU times: user 11 µs, sys: 1 µs, total: 12 µs\n",
      "Wall time: 15.3 µs\n",
      "j=10, factorial(10)= 3628800\n",
      "\n",
      "\n",
      "CPU times: user 16 µs, sys: 1 µs, total: 17 µs\n",
      "Wall time: 19.8 µs\n",
      "j=25, factorial(25)= 15511210043330985984000000\n",
      "\n",
      "\n",
      "CPU times: user 28 µs, sys: 1 µs, total: 29 µs\n",
      "Wall time: 33.1 µs\n",
      "j=50, factorial(50)= 30414093201713378043612608166064768844377641568960512000000000000\n",
      "\n",
      "\n"
     ]
    }
   ],
   "source": [
    "for j in [1,5,10,25,50]:\n",
    "    string = 'j={}, factorial({})='.format(j,j)\n",
    "    %time calculation = factorial(j)\n",
    "    print(string,calculation)\n",
    "    print('\\n')"
   ]
  },
  {
   "cell_type": "code",
   "execution_count": 26,
   "id": "29c77b59",
   "metadata": {},
   "outputs": [
    {
     "name": "stdout",
     "output_type": "stream",
     "text": [
      "CPU times: user 4 µs, sys: 1e+03 ns, total: 5 µs\n",
      "Wall time: 5.72 µs\n",
      "j=1, fact_bottom_up(1)= 1\n",
      "\n",
      "\n",
      "CPU times: user 6 µs, sys: 0 ns, total: 6 µs\n",
      "Wall time: 8.82 µs\n",
      "j=5, fact_bottom_up(5)= 120\n",
      "\n",
      "\n",
      "CPU times: user 9 µs, sys: 1 µs, total: 10 µs\n",
      "Wall time: 12.6 µs\n",
      "j=10, fact_bottom_up(10)= 3628800\n",
      "\n",
      "\n",
      "CPU times: user 9 µs, sys: 0 ns, total: 9 µs\n",
      "Wall time: 13.1 µs\n",
      "j=25, fact_bottom_up(25)= 15511210043330985984000000\n",
      "\n",
      "\n",
      "CPU times: user 13 µs, sys: 1 µs, total: 14 µs\n",
      "Wall time: 15 µs\n",
      "j=50, fact_bottom_up(50)= 30414093201713378043612608166064768844377641568960512000000000000\n",
      "\n",
      "\n"
     ]
    }
   ],
   "source": [
    "for j in [1,5,10,25,50]:\n",
    "    string = 'j={}, fact_bottom_up({})='.format(j,j)\n",
    "    %time calculation = fact_bottom_up(j)\n",
    "    print(string,calculation)\n",
    "    print('\\n')"
   ]
  },
  {
   "cell_type": "code",
   "execution_count": 27,
   "id": "9a42dfa1",
   "metadata": {},
   "outputs": [
    {
     "name": "stdout",
     "output_type": "stream",
     "text": [
      "CPU times: user 5 µs, sys: 1 µs, total: 6 µs\n",
      "Wall time: 7.87 µs\n",
      "j=1, fact_top_down(1)= 1\n",
      "\n",
      "\n",
      "CPU times: user 7 µs, sys: 0 ns, total: 7 µs\n",
      "Wall time: 9.78 µs\n",
      "j=5, fact_top_down(5)= 120\n",
      "\n",
      "\n",
      "CPU times: user 11 µs, sys: 1 µs, total: 12 µs\n",
      "Wall time: 14.1 µs\n",
      "j=10, fact_top_down(10)= 3628800\n",
      "\n",
      "\n",
      "CPU times: user 15 µs, sys: 1e+03 ns, total: 16 µs\n",
      "Wall time: 18.8 µs\n",
      "j=25, fact_top_down(25)= 15511210043330985984000000\n",
      "\n",
      "\n",
      "CPU times: user 27 µs, sys: 1 µs, total: 28 µs\n",
      "Wall time: 29.8 µs\n",
      "j=50, fact_top_down(50)= 30414093201713378043612608166064768844377641568960512000000000000\n",
      "\n",
      "\n"
     ]
    }
   ],
   "source": [
    "for j in [1,5,10,25,50]:\n",
    "    string = 'j={}, fact_top_down({})='.format(j,j)\n",
    "    %time calculation = fact_top_down(j)\n",
    "    print(string,calculation)\n",
    "    print('\\n')"
   ]
  },
  {
   "cell_type": "code",
   "execution_count": null,
   "id": "e7166c13",
   "metadata": {},
   "outputs": [],
   "source": []
  }
 ],
 "metadata": {
  "kernelspec": {
   "display_name": "Python 3 (ipykernel)",
   "language": "python",
   "name": "python3"
  },
  "language_info": {
   "codemirror_mode": {
    "name": "ipython",
    "version": 3
   },
   "file_extension": ".py",
   "mimetype": "text/x-python",
   "name": "python",
   "nbconvert_exporter": "python",
   "pygments_lexer": "ipython3",
   "version": "3.9.7"
  }
 },
 "nbformat": 4,
 "nbformat_minor": 5
}
