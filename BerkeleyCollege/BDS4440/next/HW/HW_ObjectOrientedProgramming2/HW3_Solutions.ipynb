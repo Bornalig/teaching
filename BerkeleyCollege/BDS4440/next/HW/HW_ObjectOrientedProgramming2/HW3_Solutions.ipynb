{
 "cells": [
  {
   "cell_type": "markdown",
   "id": "28a624d4",
   "metadata": {},
   "source": [
    "# HW3 Advanced Programming for AI"
   ]
  },
  {
   "cell_type": "markdown",
   "id": "9dfcc8d4",
   "metadata": {},
   "source": [
    "# Solutions"
   ]
  },
  {
   "cell_type": "markdown",
   "id": "831cd9be",
   "metadata": {},
   "source": [
    "# Problem 1:\n",
    "\n",
    "* Make a parent class called cells\n",
    "    * Give it a parameter `name`\n",
    "    * Give it a method called `describe` which returns a string describing the cell type with the parameter.\n",
    "        * `'These types of cells are from the species (name)'`\n",
    "* Make a child class: `cell_type`\n",
    "    * For each of the children, instaniate it with variable a called `Type` indicating the type of cell `animal` or `plant`, as well as a variable `name` inherited from the parent class\n",
    "    * Give it a method called `describe`. Use the `super()` method to concatenate the inherited method of `describe` from the parent class, such that it concatenates it to the string `' and are of type (Type)'`(see example 4 from lecture notes)\n",
    "    \n",
    "    \n",
    "If you did it correctly, and put in `name='red blood'` and `type='Animal'` the output should be;\n",
    "\n",
    "`'These types of cells from the species red blood and are of type animal'`"
   ]
  },
  {
   "cell_type": "code",
   "execution_count": 8,
   "id": "870f69e9",
   "metadata": {},
   "outputs": [
    {
     "data": {
      "text/plain": [
       "'These types of cells from the species red blood and are of type animal'"
      ]
     },
     "execution_count": 8,
     "metadata": {},
     "output_type": "execute_result"
    }
   ],
   "source": [
    "class cells:\n",
    "    def __init__(self,name):\n",
    "        self.name = name\n",
    "    def describe(self):\n",
    "        return 'These types of cells from the species {}'.format(self.name)\n",
    "    \n",
    "\n",
    "class cell_type(cells):\n",
    "    def __init__(self,name,Type):\n",
    "        super().__init__(name)\n",
    "        self.Type = Type     \n",
    "    def describe(self):\n",
    "        return super().describe()+' and are of type {}'.format(self.Type)\n",
    "\n",
    "cell_type('red blood','animal').describe()"
   ]
  },
  {
   "cell_type": "markdown",
   "id": "86c24c05",
   "metadata": {},
   "source": [
    "# Problem 2:\n",
    "\n",
    "Re type example 5 from Lecture 3 notebook."
   ]
  },
  {
   "cell_type": "markdown",
   "id": "f7a23be0",
   "metadata": {},
   "source": [
    "# Problem 3:\n",
    "\n",
    "Re type example 6 and 7 from Lecture 3 notebook."
   ]
  },
  {
   "cell_type": "markdown",
   "id": "d6b31009",
   "metadata": {},
   "source": [
    "# Problem 4:\n",
    "\n",
    "* Make two classes each with an attribute `size`:\n",
    "    * `grapes`\n",
    "        * `size=1cm`\n",
    "    * `apples`\n",
    "        * `size=10cm`\n",
    "        \n",
    "Perform a polymorphism and loop through these classes and print the size attribute."
   ]
  },
  {
   "cell_type": "code",
   "execution_count": 16,
   "id": "f6fe0d0a",
   "metadata": {},
   "outputs": [
    {
     "name": "stdout",
     "output_type": "stream",
     "text": [
      "1cm\n",
      "20cm\n"
     ]
    }
   ],
   "source": [
    "class grapes:\n",
    "    def __init__(self):\n",
    "        self.size = '1cm'\n",
    "\n",
    "class apples:\n",
    "    def __init__(self):\n",
    "        self.size = '20cm'\n",
    "        \n",
    "for i in [grapes(),apples()]:\n",
    "    print(i.size)"
   ]
  },
  {
   "cell_type": "code",
   "execution_count": null,
   "id": "f6b5b92b",
   "metadata": {},
   "outputs": [],
   "source": []
  }
 ],
 "metadata": {
  "kernelspec": {
   "display_name": "Python 3 (ipykernel)",
   "language": "python",
   "name": "python3"
  },
  "language_info": {
   "codemirror_mode": {
    "name": "ipython",
    "version": 3
   },
   "file_extension": ".py",
   "mimetype": "text/x-python",
   "name": "python",
   "nbconvert_exporter": "python",
   "pygments_lexer": "ipython3",
   "version": "3.9.7"
  }
 },
 "nbformat": 4,
 "nbformat_minor": 5
}
