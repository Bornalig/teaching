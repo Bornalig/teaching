{
 "cells": [
  {
   "cell_type": "markdown",
   "id": "28a624d4",
   "metadata": {},
   "source": [
    "# HW3 Advanced Programming for AI"
   ]
  },
  {
   "cell_type": "markdown",
   "id": "831cd9be",
   "metadata": {},
   "source": [
    "# Problem 1:\n",
    "\n",
    "* Make a parent class called cells\n",
    "    * Give it a parameter `name`\n",
    "    * Give it a method called `describe` which returns a string describing the cell type with the parameter.\n",
    "        * `'These types of cells are from the species (name)'`\n",
    "* Make a child class: `cell_type`\n",
    "    * For each of the children, instaniate it with variable a called `Type` indicating the type of cell `animal` or `plant`, as well as a variable `name` inherited from the parent class\n",
    "    * Give it a method called `describe`. Use the `super()` method to concatenate the inherited method of `describe` from the parent class, such that it concatenates it to the string `' and are of type (Type)'`(see example 4 from lecture notes)\n",
    "    \n",
    "    \n",
    "If you did it correctly, and put in `name='red blood'` and `type='Animal'` the output should be;\n",
    "\n",
    "`'These types of cells from the species red blood and are of type animal'`"
   ]
  },
  {
   "cell_type": "code",
   "execution_count": 1,
   "id": "870f69e9",
   "metadata": {},
   "outputs": [],
   "source": [
    "#Type your solution"
   ]
  },
  {
   "cell_type": "markdown",
   "id": "11afc485",
   "metadata": {},
   "source": [
    "# Problem 2:\n",
    "\n",
    "Re type example 5 from Lecture 3 notebook. Dont copy and paste!"
   ]
  },
  {
   "cell_type": "code",
   "execution_count": null,
   "id": "4c8e1e28",
   "metadata": {},
   "outputs": [],
   "source": [
    "# Type your solution"
   ]
  },
  {
   "cell_type": "markdown",
   "id": "ee43ee23",
   "metadata": {},
   "source": [
    "# Problem 3:\n",
    "\n",
    "Re type example 6 and 7 from Lecture 3 notebook."
   ]
  },
  {
   "cell_type": "code",
   "execution_count": 2,
   "id": "3ff61ae5",
   "metadata": {},
   "outputs": [],
   "source": [
    "# Type your solution"
   ]
  },
  {
   "cell_type": "markdown",
   "id": "b8c294e8",
   "metadata": {},
   "source": [
    "# Problem 4:\n",
    "\n",
    "* Make two classes each with an attribute `size`:\n",
    "    * `grapes`\n",
    "        * `size=1cm`\n",
    "    * `apples`\n",
    "        * `size=10cm`\n",
    "        \n",
    "Perform a polymorphism and loop through these classes and print the size attribute."
   ]
  },
  {
   "cell_type": "code",
   "execution_count": 3,
   "id": "dd494eb5",
   "metadata": {},
   "outputs": [],
   "source": [
    "# Type your solution"
   ]
  }
 ],
 "metadata": {
  "kernelspec": {
   "display_name": "Python 3 (ipykernel)",
   "language": "python",
   "name": "python3"
  },
  "language_info": {
   "codemirror_mode": {
    "name": "ipython",
    "version": 3
   },
   "file_extension": ".py",
   "mimetype": "text/x-python",
   "name": "python",
   "nbconvert_exporter": "python",
   "pygments_lexer": "ipython3",
   "version": "3.9.7"
  }
 },
 "nbformat": 4,
 "nbformat_minor": 5
}
