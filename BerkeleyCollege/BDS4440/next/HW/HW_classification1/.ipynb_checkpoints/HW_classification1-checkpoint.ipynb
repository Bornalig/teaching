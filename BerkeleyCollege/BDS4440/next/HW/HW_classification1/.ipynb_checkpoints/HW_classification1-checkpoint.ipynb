{
 "cells": [
  {
   "cell_type": "markdown",
   "id": "ad75e064",
   "metadata": {},
   "source": [
    "# Advanced Programming for AI\n",
    "\n",
    "# HW8 Classification1"
   ]
  },
  {
   "cell_type": "markdown",
   "id": "5e4c0862",
   "metadata": {},
   "source": [
    "### Use the following data set for the problems"
   ]
  },
  {
   "cell_type": "code",
   "execution_count": 117,
   "id": "e687302c",
   "metadata": {},
   "outputs": [],
   "source": [
    "from sklearn.datasets import make_classification\n",
    "X,y = make_classification(n_samples=1000, n_features=20, n_informative=18, n_redundant=2,\n",
    "                          n_repeated=0, n_classes=3)\n",
    "                          \n",
    "import pandas as pd\n",
    "data = pd.concat([pd.DataFrame(X),pd.DataFrame(y,columns=['class'])],axis=1)"
   ]
  },
  {
   "cell_type": "markdown",
   "id": "a9b46d65",
   "metadata": {},
   "source": [
    "# Problem 1: Make a python class that returns a train test validation split, call it `splitter`.\n",
    "\n",
    "* Let the arguments be `splitter(data,target)`\n",
    "    * `data` is the data set\n",
    "    * `target` is the target column of interest\n",
    "* Let there be *optional* arguments of `train_split`, `test_split`, `val_split` to describe the fractional distributions of the whole dataset\n",
    "    * If those arguments *arent* specified, then let the train split be 70%, test_split be 15% and val split be 15%\n",
    "    * Raise a `ValueError('splits must add to 1')` **if** the splits dont add to 1\n",
    "* Create a method called `split()` that returns `X_train,y_train,X_test,y_test,X_val,y_val` in that order\n",
    "    * Instantiating it would look like `X_train,y_train,X_test,y_test,X_val,y_val = splitter(data,'class').split()`"
   ]
  },
  {
   "cell_type": "code",
   "execution_count": 87,
   "id": "44b51310",
   "metadata": {},
   "outputs": [],
   "source": [
    "#type your solution "
   ]
  },
  {
   "cell_type": "markdown",
   "id": "7e2aca54",
   "metadata": {},
   "source": [
    "# Problem 2: Make a class that fits the model just like example 8 in the lecture 8 notebook. That class should inherit the `splitter` class and return a fitted model\n",
    "\n",
    "\n",
    "* The class should be instantiated using\n",
    "    * `model(LogisticRegression,[0.0001,0.001,0.01,0.1,1,10],data,'class')`\n",
    "* Include a `fit()` method that runs through all the possible hyper parameters, finding the best one\n",
    "* Include a `best_model()` method that find the best model just like example 6\n",
    "* Include a `report(y_pred,y_obs)` method that returns an `accuracy_score` and `classification_report`\n",
    "\n",
    "\n",
    "\n",
    "### Hint: The beginning of the class should look like this (with a few more things to add to it in the constructor)\n",
    "\n",
    "`from sklearn.linear_model import LogisticRegression\n",
    "from sklearn.metrics import classification_report, accuracy_score\n",
    "import numpy as np`\n",
    "\n",
    "`class model(splitter):\n",
    "    def __init__(self,model,parameters,data,target):\n",
    "        self.model = model\n",
    "        self.model_best = model\n",
    "        self.parameters = parameters\n",
    "        self.score_reports = {}\n",
    "        self.scores = {}\n",
    "        self.max_score = 0\n",
    "        self.min_diff = np.inf\n",
    "        super().__init__(data,target)\n",
    "        self.X_train,self.y_train,self.X_test,self.y_test,self.X_val,self.y_val = super().split()`"
   ]
  },
  {
   "cell_type": "code",
   "execution_count": 136,
   "id": "4bb97000",
   "metadata": {},
   "outputs": [],
   "source": [
    "#type your solution"
   ]
  }
 ],
 "metadata": {
  "kernelspec": {
   "display_name": "Python 3 (ipykernel)",
   "language": "python",
   "name": "python3"
  },
  "language_info": {
   "codemirror_mode": {
    "name": "ipython",
    "version": 3
   },
   "file_extension": ".py",
   "mimetype": "text/x-python",
   "name": "python",
   "nbconvert_exporter": "python",
   "pygments_lexer": "ipython3",
   "version": "3.9.7"
  }
 },
 "nbformat": 4,
 "nbformat_minor": 5
}
