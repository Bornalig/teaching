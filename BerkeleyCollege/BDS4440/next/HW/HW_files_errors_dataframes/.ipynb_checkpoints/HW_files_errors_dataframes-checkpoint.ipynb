{
 "cells": [
  {
   "cell_type": "markdown",
   "id": "7735c729",
   "metadata": {},
   "source": [
    "# HW1 Advanced Programming for AI"
   ]
  },
  {
   "cell_type": "markdown",
   "id": "b70155b0",
   "metadata": {},
   "source": [
    "### Problem 1\n",
    "\n",
    "Create and open a text document, use a **for loop** to save the following strings, each on seperate lines (use a line break `\\n`);\n",
    "\n",
    "* `This is advanced coding for AI`\n",
    "* `If I ace this course, I will be prepared for a data science interview.`\n",
    "* `I'd better study hard!`"
   ]
  },
  {
   "cell_type": "markdown",
   "id": "6561e911",
   "metadata": {},
   "source": [
    "### Solution"
   ]
  },
  {
   "cell_type": "code",
   "execution_count": 1,
   "id": "7789a081",
   "metadata": {},
   "outputs": [],
   "source": [
    "#enter your solution"
   ]
  },
  {
   "cell_type": "markdown",
   "id": "99efebae",
   "metadata": {},
   "source": [
    "### Problem 2\n",
    "\n",
    "Save the following python dictionary using both JSON and a pickle file. Do it WITHOUT using the `with` statement.\n",
    "\n",
    "\n",
    "`d={'class':'BDS4440','credits':3,'term':'Spring','length':15,'lectures':30}`\n",
    "\n",
    "* the mode for json will be `mode='w'` for write\n",
    "* the mode for pickle will be `mode='wb'` for write binary"
   ]
  },
  {
   "cell_type": "code",
   "execution_count": 6,
   "id": "8455538a",
   "metadata": {},
   "outputs": [],
   "source": [
    "#enter your solution"
   ]
  },
  {
   "cell_type": "code",
   "execution_count": 7,
   "id": "57f7de11",
   "metadata": {},
   "outputs": [],
   "source": [
    "#enter your solution"
   ]
  },
  {
   "cell_type": "markdown",
   "id": "82c3b21b",
   "metadata": {},
   "source": [
    "### Problem 3\n",
    "\n",
    "Using the `with` statement, print and load the name of the class from both the pickle file and the json file in problem 2. Verify the the values are equal to each other using a boolean relation.\n",
    "\n",
    "* Make sure that the mode is `'r'` for json and `'rb'` for pickle when opening."
   ]
  },
  {
   "cell_type": "code",
   "execution_count": 2,
   "id": "86edbda7",
   "metadata": {},
   "outputs": [],
   "source": [
    "#enter your solution"
   ]
  },
  {
   "cell_type": "markdown",
   "id": "6e9eb19a",
   "metadata": {},
   "source": [
    "### Problem 4\n",
    "\n",
    "Using `try` and `except` clauses inconjunction to `with` statements, attempt to load the `question2.json` file using pickle. In the case of an `UnpicklingError`, use the appropriate way of loading the `json` file with the `except` clause. After loading, print and load the value of the `credits` key from the dictionary in the json file.\n",
    "\n",
    "* Hint: When writing the `except` clause the type of error we will be excepting will be `pickle.UnpicklingError`.\n",
    "\n",
    "**Hint your code will look like this**\n",
    "\n",
    "`\n",
    "document = 'question2.json'\n",
    "try:\n",
    "    open using pickle...\n",
    "except (specific type of error)\n",
    "    open using json...`"
   ]
  },
  {
   "cell_type": "code",
   "execution_count": 1,
   "id": "744ec267",
   "metadata": {},
   "outputs": [],
   "source": [
    "#enter your solution"
   ]
  },
  {
   "cell_type": "markdown",
   "id": "d334913f",
   "metadata": {},
   "source": [
    "# Problem 5\n",
    "\n",
    "Using the following data set, and using group by order relations, see if the average age and average fare was different amongst those who survived the titanic sinking versus those who sank. By examining the average fare alone, can we suggest those who paid higher prices for titanic tickets were more likely to survive?"
   ]
  },
  {
   "cell_type": "code",
   "execution_count": 20,
   "id": "10122934",
   "metadata": {},
   "outputs": [],
   "source": [
    "link = 'https://raw.githubusercontent.com/JoeGanser/datasets/master/titanic.csv'\n",
    "import pandas as pd\n",
    "data = pd.read_csv(link)"
   ]
  },
  {
   "cell_type": "code",
   "execution_count": 3,
   "id": "fcc940aa",
   "metadata": {},
   "outputs": [],
   "source": [
    "#enter your solution"
   ]
  },
  {
   "cell_type": "code",
   "execution_count": null,
   "id": "26771ad3",
   "metadata": {},
   "outputs": [],
   "source": []
  }
 ],
 "metadata": {
  "kernelspec": {
   "display_name": "Python 3 (ipykernel)",
   "language": "python",
   "name": "python3"
  },
  "language_info": {
   "codemirror_mode": {
    "name": "ipython",
    "version": 3
   },
   "file_extension": ".py",
   "mimetype": "text/x-python",
   "name": "python",
   "nbconvert_exporter": "python",
   "pygments_lexer": "ipython3",
   "version": "3.9.7"
  }
 },
 "nbformat": 4,
 "nbformat_minor": 5
}
