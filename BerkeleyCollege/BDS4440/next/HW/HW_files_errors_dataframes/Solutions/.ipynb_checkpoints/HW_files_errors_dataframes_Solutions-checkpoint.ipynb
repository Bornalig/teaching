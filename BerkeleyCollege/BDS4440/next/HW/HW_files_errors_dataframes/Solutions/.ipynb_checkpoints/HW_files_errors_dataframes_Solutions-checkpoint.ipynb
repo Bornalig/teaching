{
 "cells": [
  {
   "cell_type": "markdown",
   "id": "bf0e6b78",
   "metadata": {},
   "source": [
    "# HW Solutions: files_errors_dataframes Advanced Programming for AI"
   ]
  },
  {
   "cell_type": "markdown",
   "id": "dc062e9b",
   "metadata": {},
   "source": [
    "### Problem 1\n",
    "\n",
    "Create and open a text document, use a **for loop** to save the following strings, each on seperate lines (use a line break `\\n`);\n",
    "\n",
    "* `This is advanced coding for AI`\n",
    "* `If I ace this course, I will be prepared for a data science interview.`\n",
    "* `I'd better study hard!`"
   ]
  },
  {
   "cell_type": "markdown",
   "id": "db438647",
   "metadata": {},
   "source": [
    "### Solution"
   ]
  },
  {
   "cell_type": "code",
   "execution_count": 1,
   "id": "8e11d800",
   "metadata": {},
   "outputs": [],
   "source": [
    "strings = ['This is advanced coding for AI',\n",
    "           'If I ace this course, I will be prepared for a data science interview.',\n",
    "           \"I'd better study hard!\"]\n",
    "\n",
    "with open('question1.txt',mode='w') as text_document:\n",
    "    for s in strings:\n",
    "        text_document.write(s+'\\n')"
   ]
  },
  {
   "cell_type": "markdown",
   "id": "e8f8f42f",
   "metadata": {},
   "source": [
    "### Problem 2\n",
    "\n",
    "Save the following python dictionary using both JSON and a pickle file. Do it WITHOUT using the `with` statement.\n",
    "\n",
    "\n",
    "`d={'class':'BDS4440','credits':3,'term':'Spring','length':15,'lectures':30}`\n",
    "\n",
    "* the mode for json will be `mode='w'` for write\n",
    "* the mode for pickle will be `mode='wb'` for write binary"
   ]
  },
  {
   "cell_type": "markdown",
   "id": "7f740fbb",
   "metadata": {},
   "source": [
    "### Solution"
   ]
  },
  {
   "cell_type": "code",
   "execution_count": 6,
   "id": "310efbc1",
   "metadata": {},
   "outputs": [],
   "source": [
    "import json\n",
    "d={'class':'BDS4440','credits':3,'term':'Spring','length':15,'lectures':30}\n",
    "dictionary_json = open('question2.json',mode='w')\n",
    "json.dump(d,dictionary_json)\n",
    "dictionary_json.close()"
   ]
  },
  {
   "cell_type": "code",
   "execution_count": 7,
   "id": "b9ca90bd",
   "metadata": {},
   "outputs": [],
   "source": [
    "import pickle\n",
    "d={'class':'BDS4440','credits':3,'term':'Spring','length':15,'lectures':30}\n",
    "dictionary_pickle = open('question2.pickle',mode='wb')\n",
    "pickle.dump(d,dictionary_pickle)\n",
    "dictionary_pickle.close()"
   ]
  },
  {
   "cell_type": "markdown",
   "id": "33bf074e",
   "metadata": {},
   "source": [
    "### Problem 3\n",
    "\n",
    "Using the `with` statement, print and load the name of the class from both the pickle file and the json file in problem 2. Verify the the values are equal to each other using a boolean relation.\n",
    "\n",
    "* Make sure that the mode is `'r'` for json and `'rb'` for pickle when opening."
   ]
  },
  {
   "cell_type": "markdown",
   "id": "5b6683f7",
   "metadata": {},
   "source": [
    "### Solution"
   ]
  },
  {
   "cell_type": "code",
   "execution_count": 9,
   "id": "67983951",
   "metadata": {},
   "outputs": [
    {
     "name": "stdout",
     "output_type": "stream",
     "text": [
      "BDS4440\n"
     ]
    },
    {
     "data": {
      "text/plain": [
       "True"
      ]
     },
     "execution_count": 9,
     "metadata": {},
     "output_type": "execute_result"
    }
   ],
   "source": [
    "import json\n",
    "\n",
    "with open('question2.json',mode='r') as djson:\n",
    "    d3_json = json.load(djson)\n",
    "    \n",
    "import pickle\n",
    "with open('question2.pickle',mode='rb') as dpickle:\n",
    "    d3_pickle = pickle.load(dpickle)\n",
    "    \n",
    "print(d3_json['class'])\n",
    "d3_json['class']==d3_pickle['class']"
   ]
  },
  {
   "cell_type": "markdown",
   "id": "0235dcf0",
   "metadata": {},
   "source": [
    "### Problem 4\n",
    "\n",
    "Using `try` and `except` clauses inconjunction to `with` statements, attempt to load the `question2.json` file using pickle. In the case of an `UnpicklingError`, use the appropriate way of loading the `json` file with the `except` clause. After loading, print and load the value of the `credits` key from the dictionary in the json file.\n",
    "\n",
    "* Hint: When writing the `except` clause the type of error we will be excepting will be `pickle.UnpicklingError`.\n",
    "\n",
    "**Hint your code will look like this**\n",
    "\n",
    "`\n",
    "document = 'question2.json'\n",
    "try:\n",
    "    open using pickle...\n",
    "except (specific type of error)\n",
    "    open using json...`\n",
    "    \n",
    "### Solution"
   ]
  },
  {
   "cell_type": "code",
   "execution_count": 14,
   "id": "1eab7a40",
   "metadata": {},
   "outputs": [
    {
     "name": "stdout",
     "output_type": "stream",
     "text": [
      "3\n"
     ]
    }
   ],
   "source": [
    "document = 'question2.json'\n",
    "try:\n",
    "    with open(document,mode='rb') as file:\n",
    "        f = pickle.load(file)\n",
    "except pickle.UnpicklingError:\n",
    "    with open(document,mode='r') as file:\n",
    "        f = json.load(file)\n",
    "print(f['credits'])"
   ]
  },
  {
   "cell_type": "markdown",
   "id": "bf796a70",
   "metadata": {},
   "source": [
    "# Problem 5\n",
    "\n",
    "Using the following data set, and using group by order relations, see if the average age and average fare was different amongst those who survived the titanic sinking versus those who sank. By examining the average fare alone, can we suggest those who paid higher prices for titanic tickets were more likely to survive?"
   ]
  },
  {
   "cell_type": "code",
   "execution_count": 20,
   "id": "1877039b",
   "metadata": {},
   "outputs": [],
   "source": [
    "link = 'https://raw.githubusercontent.com/JoeGanser/datasets/master/titanic.csv'\n",
    "import pandas as pd\n",
    "data = pd.read_csv(link)"
   ]
  },
  {
   "cell_type": "markdown",
   "id": "2a0baaca",
   "metadata": {},
   "source": [
    "### Solution"
   ]
  },
  {
   "cell_type": "code",
   "execution_count": 19,
   "id": "e62e787f",
   "metadata": {},
   "outputs": [
    {
     "name": "stderr",
     "output_type": "stream",
     "text": [
      "/var/folders/jl/97zzvf352gg0qn93kb33f4th0000gn/T/ipykernel_4967/1840102633.py:1: FutureWarning: Indexing with multiple keys (implicitly converted to a tuple of keys) will be deprecated, use a list instead.\n",
      "  data.groupby(['Survived','Sex'])['Age','Fare'].mean()\n"
     ]
    },
    {
     "data": {
      "text/html": [
       "<div>\n",
       "<style scoped>\n",
       "    .dataframe tbody tr th:only-of-type {\n",
       "        vertical-align: middle;\n",
       "    }\n",
       "\n",
       "    .dataframe tbody tr th {\n",
       "        vertical-align: top;\n",
       "    }\n",
       "\n",
       "    .dataframe thead th {\n",
       "        text-align: right;\n",
       "    }\n",
       "</style>\n",
       "<table border=\"1\" class=\"dataframe\">\n",
       "  <thead>\n",
       "    <tr style=\"text-align: right;\">\n",
       "      <th></th>\n",
       "      <th></th>\n",
       "      <th>Age</th>\n",
       "      <th>Fare</th>\n",
       "    </tr>\n",
       "    <tr>\n",
       "      <th>Survived</th>\n",
       "      <th>Sex</th>\n",
       "      <th></th>\n",
       "      <th></th>\n",
       "    </tr>\n",
       "  </thead>\n",
       "  <tbody>\n",
       "    <tr>\n",
       "      <th rowspan=\"2\" valign=\"top\">0</th>\n",
       "      <th>female</th>\n",
       "      <td>25.046875</td>\n",
       "      <td>23.024385</td>\n",
       "    </tr>\n",
       "    <tr>\n",
       "      <th>male</th>\n",
       "      <td>31.618056</td>\n",
       "      <td>21.960993</td>\n",
       "    </tr>\n",
       "    <tr>\n",
       "      <th rowspan=\"2\" valign=\"top\">1</th>\n",
       "      <th>female</th>\n",
       "      <td>28.847716</td>\n",
       "      <td>51.938573</td>\n",
       "    </tr>\n",
       "    <tr>\n",
       "      <th>male</th>\n",
       "      <td>27.276022</td>\n",
       "      <td>40.821484</td>\n",
       "    </tr>\n",
       "  </tbody>\n",
       "</table>\n",
       "</div>"
      ],
      "text/plain": [
       "                       Age       Fare\n",
       "Survived Sex                         \n",
       "0        female  25.046875  23.024385\n",
       "         male    31.618056  21.960993\n",
       "1        female  28.847716  51.938573\n",
       "         male    27.276022  40.821484"
      ]
     },
     "execution_count": 19,
     "metadata": {},
     "output_type": "execute_result"
    }
   ],
   "source": [
    "data.groupby(['Survived','Sex'])['Age','Fare'].mean()"
   ]
  },
  {
   "cell_type": "markdown",
   "id": "64fa6381",
   "metadata": {},
   "source": [
    "# the average fare of those who survived was nearly twice that as those who perished in the titanic."
   ]
  },
  {
   "cell_type": "code",
   "execution_count": null,
   "id": "3693567a",
   "metadata": {},
   "outputs": [],
   "source": []
  }
 ],
 "metadata": {
  "kernelspec": {
   "display_name": "Python 3 (ipykernel)",
   "language": "python",
   "name": "python3"
  },
  "language_info": {
   "codemirror_mode": {
    "name": "ipython",
    "version": 3
   },
   "file_extension": ".py",
   "mimetype": "text/x-python",
   "name": "python",
   "nbconvert_exporter": "python",
   "pygments_lexer": "ipython3",
   "version": "3.9.7"
  }
 },
 "nbformat": 4,
 "nbformat_minor": 5
}
