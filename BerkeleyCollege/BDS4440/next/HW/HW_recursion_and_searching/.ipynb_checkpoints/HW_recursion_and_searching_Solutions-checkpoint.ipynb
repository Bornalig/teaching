{
 "cells": [
  {
   "cell_type": "markdown",
   "id": "f118645b",
   "metadata": {},
   "source": [
    "# Advanced Programming for AI \n",
    "\n",
    "# HW:_recursion_and_searching"
   ]
  },
  {
   "cell_type": "markdown",
   "id": "57f1a9be",
   "metadata": {},
   "source": [
    "# Solutions"
   ]
  },
  {
   "cell_type": "markdown",
   "id": "b7d7ff8d",
   "metadata": {},
   "source": [
    "# Problem 1\n",
    "\n",
    "* Write a python program to calculate the value of `x` to the power of `y` using recursion.\n",
    "* Write another program doing the same thing without recursion\n",
    "* show that both functions yield the same value using 3^5 = 243"
   ]
  },
  {
   "cell_type": "code",
   "execution_count": 6,
   "id": "bbaedd64",
   "metadata": {},
   "outputs": [
    {
     "name": "stdout",
     "output_type": "stream",
     "text": [
      "True\n",
      "243\n"
     ]
    }
   ],
   "source": [
    "def power(x,y):\n",
    "    if y==0:\n",
    "        return 1\n",
    "    elif y==1:\n",
    "        return x\n",
    "    else:\n",
    "        return x*power(x,y-1)\n",
    "    \n",
    "def power2(x,y):\n",
    "    return x**y\n",
    "\n",
    "print(power(3,5)==power2(3,5))\n",
    "print(power(3,5))"
   ]
  },
  {
   "cell_type": "markdown",
   "id": "121a77d3",
   "metadata": {},
   "source": [
    "# Problem 2: Write a python function to calculate the harmonic sum, using recursion.\n",
    "\n",
    "![harmonic_sum](harmonic_sum.png)\n",
    "\n",
    "* Calculate hamonic_sum(4) and display the result"
   ]
  },
  {
   "cell_type": "code",
   "execution_count": 9,
   "id": "8f80ed3a",
   "metadata": {},
   "outputs": [
    {
     "data": {
      "text/plain": [
       "2.083333333333333"
      ]
     },
     "execution_count": 9,
     "metadata": {},
     "output_type": "execute_result"
    }
   ],
   "source": [
    "def harmonic_sum(n):\n",
    "    if n==1:\n",
    "        return 1\n",
    "    else:\n",
    "        return (1/n)+harmonic_sum(n-1)\n",
    "    \n",
    "harmonic_sum(4)"
   ]
  },
  {
   "cell_type": "markdown",
   "id": "9ab096c1",
   "metadata": {},
   "source": [
    "# Problem 3: Write a python function to calculate the sum of a geometric series, and calculate its value for r=(1/2) when n=10\n",
    "\n",
    "![geometric_series](geometric_series.png)\n",
    "\n",
    "Verify it's output equals the formula above."
   ]
  },
  {
   "cell_type": "code",
   "execution_count": 17,
   "id": "8a77e9e4",
   "metadata": {},
   "outputs": [
    {
     "name": "stdout",
     "output_type": "stream",
     "text": [
      "True\n",
      "1.9990234375\n"
     ]
    }
   ],
   "source": [
    "def geometric_series(n,r):\n",
    "    if n==1:\n",
    "        return 1+r\n",
    "    else:\n",
    "        return (r**n)+geometric_series(n-1,r)\n",
    "    \n",
    "formula = lambda n,r: (1-((r)**(n+1)))/(r)\n",
    "print(geometric_series(10,0.5)==formula(10,0.5))\n",
    "print(geometric_series(10,0.5))"
   ]
  },
  {
   "cell_type": "markdown",
   "id": "ca5c8763",
   "metadata": {},
   "source": [
    "# Problem 4: Look up the following search algorithms\n",
    "\n",
    "* Jump search\n",
    "* Exponential search\n",
    "\n",
    "Compare the search time for the data set\n",
    "\n",
    "`data = list(np.arange(0,1000,0.5))` to find the value \n",
    "`v=785.5`\n",
    "\n",
    "using each of the following search functions\n",
    "\n",
    "* Jump Search\n",
    "* Exponential Search\n",
    "* Linear Search\n",
    "* Binary Search\n",
    "* Binary recursive search\n",
    "\n",
    "And for each search function, print the number of steps used to find the element."
   ]
  },
  {
   "cell_type": "code",
   "execution_count": 26,
   "id": "45c767b6",
   "metadata": {},
   "outputs": [],
   "source": [
    "import math\n",
    "def jumpSearch(data,value):\n",
    "    print('jumpSearch')\n",
    "    n = len(data)\n",
    "    step = math.sqrt(n)\n",
    "    prev = 0\n",
    "    while data[int(min(step, n)-1)] < value:\n",
    "        prev = step\n",
    "        step += math.sqrt(n)\n",
    "        if prev >= n:\n",
    "            return -1\n",
    "    while data[int(prev)] < value:\n",
    "        prev += 1\n",
    "        if prev == min(step, n):\n",
    "            return -1\n",
    "    if data[int(prev)] == value:\n",
    "        return prev\n",
    "    return -1\n",
    "\n",
    "def binary_search_recur(arr, low, high, key):\n",
    "    if high >= low:\n",
    "        mid = (high + low) // 2\n",
    "        if arr[mid] == key:\n",
    "            print(f'Value {key} is present at index {mid}')\n",
    "            return mid\n",
    "        elif arr[mid] > key:\n",
    "            #recursion relation\n",
    "            return binary_search_recur(arr, low, mid - 1, key)\n",
    "        else:\n",
    "            return binary_search_recur(arr, mid + 1, high, key)\n",
    "    else:\n",
    "        print(f'Value {key} is NOT present in data')\n",
    "        return -1\n",
    "    \n",
    "def binary_search_recursion(data,key):\n",
    "    print('Binary search recursion')\n",
    "    high=len(data)-1\n",
    "    low=0\n",
    "    return binary_search_recur(data,low,high,key)\n",
    "\n",
    "\n",
    "def binary_search(data,key):\n",
    "    print('Binary Search')\n",
    "    low=0\n",
    "    high=len(data)-1\n",
    "    middle = (low+high+1)//2\n",
    "    location=-1\n",
    "    while low<=high and location==-1:\n",
    "        if key == data[middle]:\n",
    "            location=middle\n",
    "        elif key<data[middle]:\n",
    "            high = middle-1\n",
    "        else:\n",
    "            low = middle+1\n",
    "        middle = (low+high+1)//2\n",
    "    print(f'value {key} is at index: {location}')\n",
    "    return location\n",
    "\n",
    "def exponentialSearch(arr, x):\n",
    "    print('Exponential Search')\n",
    "    n = len(arr)\n",
    "    if arr[0] == x:\n",
    "        return 0\n",
    "    i = 1\n",
    "    while i < n and arr[i] <= x:\n",
    "        i = i * 2\n",
    "    return binary_search_recur( arr, i // 2,min(i, n-1), x)\n",
    "\n",
    "\n",
    "def linear_search(data,search_key):\n",
    "    print('Linear Search')\n",
    "    for index,value in enumerate(data):\n",
    "        if value==search_key:\n",
    "            print(f'value is at index :{index}')\n",
    "            return index\n",
    "    return -1"
   ]
  },
  {
   "cell_type": "code",
   "execution_count": 28,
   "id": "eeadccea",
   "metadata": {},
   "outputs": [
    {
     "name": "stdout",
     "output_type": "stream",
     "text": [
      "Linear Search\n",
      "value is at index :1571\n",
      "CPU times: user 491 µs, sys: 124 µs, total: 615 µs\n",
      "Wall time: 568 µs\n",
      "\n",
      "\n",
      "Exponential Search\n",
      "Value 785.5 is present at index 1571\n",
      "CPU times: user 205 µs, sys: 92 µs, total: 297 µs\n",
      "Wall time: 236 µs\n",
      "\n",
      "\n",
      "jumpSearch\n",
      "CPU times: user 70 µs, sys: 16 µs, total: 86 µs\n",
      "Wall time: 74.9 µs\n",
      "\n",
      "\n",
      "Binary Search\n",
      "value 785.5 is at index: 1571\n",
      "CPU times: user 63 µs, sys: 24 µs, total: 87 µs\n",
      "Wall time: 67.9 µs\n",
      "\n",
      "\n",
      "Binary search recursion\n",
      "Value 785.5 is present at index 1571\n",
      "CPU times: user 112 µs, sys: 27 µs, total: 139 µs\n",
      "Wall time: 121 µs\n",
      "\n",
      "\n"
     ]
    }
   ],
   "source": [
    "functions = [linear_search,exponentialSearch,jumpSearch,binary_search,binary_search_recursion]\n",
    "data = list(np.arange(0,1000,0.5))\n",
    "v=785.5\n",
    "\n",
    "for f in functions:\n",
    "    %time f(data,v)\n",
    "    print('\\n')"
   ]
  },
  {
   "cell_type": "code",
   "execution_count": null,
   "id": "d44ba97e",
   "metadata": {},
   "outputs": [],
   "source": []
  }
 ],
 "metadata": {
  "kernelspec": {
   "display_name": "Python 3 (ipykernel)",
   "language": "python",
   "name": "python3"
  },
  "language_info": {
   "codemirror_mode": {
    "name": "ipython",
    "version": 3
   },
   "file_extension": ".py",
   "mimetype": "text/x-python",
   "name": "python",
   "nbconvert_exporter": "python",
   "pygments_lexer": "ipython3",
   "version": "3.9.7"
  }
 },
 "nbformat": 4,
 "nbformat_minor": 5
}
