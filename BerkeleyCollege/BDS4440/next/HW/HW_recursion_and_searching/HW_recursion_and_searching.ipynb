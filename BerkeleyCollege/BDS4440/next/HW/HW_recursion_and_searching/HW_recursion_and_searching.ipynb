{
 "cells": [
  {
   "cell_type": "markdown",
   "id": "f118645b",
   "metadata": {},
   "source": [
    "# Advanced Programming for AI \n",
    "\n",
    "# HW 4"
   ]
  },
  {
   "cell_type": "markdown",
   "id": "b7d7ff8d",
   "metadata": {},
   "source": [
    "# Problem 1\n",
    "\n",
    "* Write a python program to calculate the value of `x` to the power of `y` using recursion.\n",
    "* Write another program doing the same thing without recursion\n",
    "* show that both functions yield the same value using 3^5 = 243"
   ]
  },
  {
   "cell_type": "code",
   "execution_count": 1,
   "id": "bbaedd64",
   "metadata": {},
   "outputs": [],
   "source": [
    "#Type your solution"
   ]
  },
  {
   "cell_type": "markdown",
   "id": "121a77d3",
   "metadata": {},
   "source": [
    "# Problem 2: Write a python function to calculate the harmonic sum, using recursion.\n",
    "\n",
    "![harmonic_sum](harmonic_sum.png)\n",
    "\n",
    "* Calculate hamonic_sum(4) and display the result"
   ]
  },
  {
   "cell_type": "code",
   "execution_count": 2,
   "id": "8f80ed3a",
   "metadata": {},
   "outputs": [],
   "source": [
    "#Type your solution"
   ]
  },
  {
   "cell_type": "markdown",
   "id": "9ab096c1",
   "metadata": {},
   "source": [
    "# Problem 3: Write a python function to calculate the sum of a geometric series, and calculate its value for r=(1/2) when n=10\n",
    "\n",
    "![geometric_series](geometric_series.png)\n",
    "\n",
    "Verify it's output equals the formula above."
   ]
  },
  {
   "cell_type": "code",
   "execution_count": 3,
   "id": "8a77e9e4",
   "metadata": {},
   "outputs": [],
   "source": [
    "#Type your solution"
   ]
  },
  {
   "cell_type": "markdown",
   "id": "ca5c8763",
   "metadata": {},
   "source": [
    "# Problem 4: Look up the following search algorithms\n",
    "\n",
    "* Jump search\n",
    "* Exponential search\n",
    "\n",
    "Compare the search time for the data set\n",
    "\n",
    "`data = list(np.arange(0,1000,0.5))` to find the value \n",
    "`v=785.5`\n",
    "\n",
    "using each of the following search functions\n",
    "\n",
    "* Jump Search\n",
    "* Exponential Search\n",
    "* Linear Search\n",
    "* Binary Search\n",
    "* Binary recursive search\n",
    "\n",
    "And for each search function, print the number of steps used to find the element."
   ]
  },
  {
   "cell_type": "code",
   "execution_count": 4,
   "id": "45c767b6",
   "metadata": {},
   "outputs": [],
   "source": [
    "#Type your solution"
   ]
  }
 ],
 "metadata": {
  "kernelspec": {
   "display_name": "Python 3 (ipykernel)",
   "language": "python",
   "name": "python3"
  },
  "language_info": {
   "codemirror_mode": {
    "name": "ipython",
    "version": 3
   },
   "file_extension": ".py",
   "mimetype": "text/x-python",
   "name": "python",
   "nbconvert_exporter": "python",
   "pygments_lexer": "ipython3",
   "version": "3.9.7"
  }
 },
 "nbformat": 4,
 "nbformat_minor": 5
}
