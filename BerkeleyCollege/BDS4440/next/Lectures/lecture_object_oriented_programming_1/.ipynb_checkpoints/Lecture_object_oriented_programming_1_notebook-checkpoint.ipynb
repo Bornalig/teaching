{
 "cells": [
  {
   "cell_type": "markdown",
   "id": "ab3528e6",
   "metadata": {},
   "source": [
    "# Advanced Programing for AI\n",
    "# Lecture 2\n",
    "\n",
    "# Example 1: Importing & Instantiating a class"
   ]
  },
  {
   "cell_type": "code",
   "execution_count": 3,
   "id": "5787294c",
   "metadata": {},
   "outputs": [
    {
     "name": "stdout",
     "output_type": "stream",
     "text": [
      "(7, 45, 30)\n"
     ]
    }
   ],
   "source": [
    "from timewithproperties import Time\n",
    "\n",
    "wake_up = Time(hour=7,minute=45,second=30)\n",
    "\n",
    "print(wake_up.time)"
   ]
  },
  {
   "cell_type": "markdown",
   "id": "7870ebb7",
   "metadata": {},
   "source": [
    "# Example 2: Using a function within a class"
   ]
  },
  {
   "cell_type": "code",
   "execution_count": 4,
   "id": "c337215b",
   "metadata": {},
   "outputs": [
    {
     "name": "stdout",
     "output_type": "stream",
     "text": [
      "new time:  11:50:40\n",
      "(11, 50, 40)\n"
     ]
    }
   ],
   "source": [
    "from timewithproperties import Time\n",
    "\n",
    "wake_up2 = Time(hour=7,minute=45,second=30)\n",
    "\n",
    "wake_up2.add_time(hour=4,minute=5,second=10)\n",
    "\n",
    "print(wake_up2.time)"
   ]
  },
  {
   "cell_type": "markdown",
   "id": "1786bef2",
   "metadata": {},
   "source": [
    "# Example 3: Using doc strings from a class\n",
    "\n",
    "Show the doc strings associated with;\n",
    "* Time class\n",
    "* the `add_time` function in the time class"
   ]
  },
  {
   "cell_type": "code",
   "execution_count": 8,
   "id": "8a25b41e",
   "metadata": {},
   "outputs": [],
   "source": [
    "Time?"
   ]
  },
  {
   "cell_type": "code",
   "execution_count": 9,
   "id": "56376a1d",
   "metadata": {},
   "outputs": [],
   "source": [
    "Time.add_time?"
   ]
  },
  {
   "cell_type": "markdown",
   "id": "cde14d77",
   "metadata": {},
   "source": [
    "# Example 4: Building a simple class with a doc string"
   ]
  },
  {
   "cell_type": "code",
   "execution_count": 12,
   "id": "f6404a82",
   "metadata": {},
   "outputs": [
    {
     "name": "stdout",
     "output_type": "stream",
     "text": [
      "hello\n"
     ]
    }
   ],
   "source": [
    "class demo:\n",
    "    \"\"\"This is the class doc string.\"\"\"\n",
    "    def __init__(self,variable1):\n",
    "        self.variable1 =variable1\n",
    "    \n",
    "    def print_variables(self):\n",
    "        \"\"\"This is the doc string for this function in this class\"\"\"\n",
    "        print(self.variable1)\n",
    "        \n",
    "        \n",
    "d = demo('hello')\n",
    "d.print_variables()"
   ]
  },
  {
   "cell_type": "markdown",
   "id": "95aa0644",
   "metadata": {},
   "source": [
    "# Example 5: Building a class with Public vs Private Attributes\n",
    "\n",
    "* The `__` underscore at the beginning of the class is what defines the private vs public property; e.g. `self.__private_data`"
   ]
  },
  {
   "cell_type": "code",
   "execution_count": 14,
   "id": "d1013fef",
   "metadata": {},
   "outputs": [
    {
     "name": "stdout",
     "output_type": "stream",
     "text": [
      "public\n"
     ]
    },
    {
     "ename": "AttributeError",
     "evalue": "'Private' object has no attribute '__private_data'",
     "output_type": "error",
     "traceback": [
      "\u001b[0;31m---------------------------------------------------------------------------\u001b[0m",
      "\u001b[0;31mAttributeError\u001b[0m                            Traceback (most recent call last)",
      "\u001b[0;32m/var/folders/jl/97zzvf352gg0qn93kb33f4th0000gn/T/ipykernel_5813/896558573.py\u001b[0m in \u001b[0;36m<module>\u001b[0;34m\u001b[0m\n\u001b[1;32m      6\u001b[0m \u001b[0mp\u001b[0m \u001b[0;34m=\u001b[0m \u001b[0mPrivate\u001b[0m\u001b[0;34m(\u001b[0m\u001b[0;34m)\u001b[0m\u001b[0;34m\u001b[0m\u001b[0;34m\u001b[0m\u001b[0m\n\u001b[1;32m      7\u001b[0m \u001b[0mprint\u001b[0m\u001b[0;34m(\u001b[0m\u001b[0mp\u001b[0m\u001b[0;34m.\u001b[0m\u001b[0mpublic_data\u001b[0m\u001b[0;34m)\u001b[0m\u001b[0;34m\u001b[0m\u001b[0;34m\u001b[0m\u001b[0m\n\u001b[0;32m----> 8\u001b[0;31m \u001b[0mprint\u001b[0m\u001b[0;34m(\u001b[0m\u001b[0mp\u001b[0m\u001b[0;34m.\u001b[0m\u001b[0m__private_data\u001b[0m\u001b[0;34m)\u001b[0m\u001b[0;34m\u001b[0m\u001b[0;34m\u001b[0m\u001b[0m\n\u001b[0m",
      "\u001b[0;31mAttributeError\u001b[0m: 'Private' object has no attribute '__private_data'"
     ]
    }
   ],
   "source": [
    "class Private:\n",
    "    def __init__(self):\n",
    "        self.public_data=\"public\"\n",
    "        self.__private_data=\"private\"\n",
    "        \n",
    "p = Private()\n",
    "print(p.public_data)\n",
    "print(p.__private_data)"
   ]
  },
  {
   "cell_type": "markdown",
   "id": "f8597ae1",
   "metadata": {},
   "source": [
    "# Example 6: Working with basic decorators in Python\n",
    "\n",
    "In this example we create a decorator function that takes an arbitrary python function and multiplies it's output by a factor of 10."
   ]
  },
  {
   "cell_type": "code",
   "execution_count": 15,
   "id": "1316b021",
   "metadata": {},
   "outputs": [
    {
     "data": {
      "text/plain": [
       "80"
      ]
     },
     "execution_count": 15,
     "metadata": {},
     "output_type": "execute_result"
    }
   ],
   "source": [
    "def multiply_by10(func):\n",
    "    def inner(*args,**kwargs):\n",
    "        return 10*func(*args,**kwargs)\n",
    "    return inner\n",
    "\n",
    "@multiply_by10\n",
    "def add_two_numbers(a,b):\n",
    "    return a+b\n",
    "\n",
    "add_two_numbers(3,5)"
   ]
  },
  {
   "cell_type": "markdown",
   "id": "5de70f64",
   "metadata": {},
   "source": [
    "# Example 7: Demonstrating a read only property with a class versus a changable property class.\n",
    "\n",
    "* Class with a property setter"
   ]
  },
  {
   "cell_type": "code",
   "execution_count": 26,
   "id": "d71c6215",
   "metadata": {},
   "outputs": [
    {
     "name": "stdout",
     "output_type": "stream",
     "text": [
      "hello\n",
      "good bye\n"
     ]
    }
   ],
   "source": [
    "class property_setter:\n",
    "    def __init__(self,alpha):\n",
    "        self._a = alpha\n",
    "        \n",
    "    @property\n",
    "    def a(self):\n",
    "        return self._a\n",
    "    \n",
    "    @a.setter\n",
    "    def a(self,alpha):\n",
    "        self._a = alpha\n",
    "        \n",
    "p7 = property_setter('hello')\n",
    "print(p7._a)\n",
    "\n",
    "p7._a='good bye'\n",
    "print(p7._a)"
   ]
  },
  {
   "cell_type": "markdown",
   "id": "9d44bed4",
   "metadata": {},
   "source": [
    "* Class **without** a property setter, for mutability"
   ]
  },
  {
   "cell_type": "code",
   "execution_count": 31,
   "id": "2845a942",
   "metadata": {},
   "outputs": [
    {
     "name": "stdout",
     "output_type": "stream",
     "text": [
      "hello\n"
     ]
    },
    {
     "ename": "AttributeError",
     "evalue": "can't set attribute",
     "output_type": "error",
     "traceback": [
      "\u001b[0;31m---------------------------------------------------------------------------\u001b[0m",
      "\u001b[0;31mAttributeError\u001b[0m                            Traceback (most recent call last)",
      "\u001b[0;32m/var/folders/jl/97zzvf352gg0qn93kb33f4th0000gn/T/ipykernel_5813/3949587846.py\u001b[0m in \u001b[0;36m<module>\u001b[0;34m\u001b[0m\n\u001b[1;32m     11\u001b[0m \u001b[0mprint\u001b[0m\u001b[0;34m(\u001b[0m\u001b[0mp71\u001b[0m\u001b[0;34m.\u001b[0m\u001b[0ma\u001b[0m\u001b[0;34m)\u001b[0m\u001b[0;34m\u001b[0m\u001b[0;34m\u001b[0m\u001b[0m\n\u001b[1;32m     12\u001b[0m \u001b[0;34m\u001b[0m\u001b[0m\n\u001b[0;32m---> 13\u001b[0;31m \u001b[0mp71\u001b[0m\u001b[0;34m.\u001b[0m\u001b[0ma\u001b[0m\u001b[0;34m=\u001b[0m\u001b[0;34m'good bye'\u001b[0m\u001b[0;34m\u001b[0m\u001b[0;34m\u001b[0m\u001b[0m\n\u001b[0m\u001b[1;32m     14\u001b[0m \u001b[0mprint\u001b[0m\u001b[0;34m(\u001b[0m\u001b[0mp71\u001b[0m\u001b[0;34m.\u001b[0m\u001b[0ma\u001b[0m\u001b[0;34m)\u001b[0m\u001b[0;34m\u001b[0m\u001b[0;34m\u001b[0m\u001b[0m\n",
      "\u001b[0;31mAttributeError\u001b[0m: can't set attribute"
     ]
    }
   ],
   "source": [
    "class property_no_setter:\n",
    "    def __init__(self,alpha):\n",
    "        self._a = alpha\n",
    "        \n",
    "    @property\n",
    "    def a(self):\n",
    "        return self._a\n",
    "\n",
    "        \n",
    "p71 = property_no_setter('hello')\n",
    "print(p71.a)\n",
    "\n",
    "p71.a='good bye'\n",
    "print(p71.a)"
   ]
  },
  {
   "cell_type": "markdown",
   "id": "a1c6bdd4",
   "metadata": {},
   "source": [
    "# Example 8: Using the `repr` method of classes to represent how a class has been instantiated."
   ]
  },
  {
   "cell_type": "code",
   "execution_count": 27,
   "id": "6f25fec5",
   "metadata": {},
   "outputs": [],
   "source": [
    "class demo_repr_method:\n",
    "    def __init__(self,alpha):\n",
    "        self.alpha = alpha\n",
    "        \n",
    "    def __repr__(self):\n",
    "        \"\"\"Return initialization strin for the class\"\"\"\n",
    "        return (f'demo_repr_method(alpha={self.alpha})')"
   ]
  },
  {
   "cell_type": "code",
   "execution_count": 29,
   "id": "1794c3fd",
   "metadata": {},
   "outputs": [
    {
     "name": "stdout",
     "output_type": "stream",
     "text": [
      "demo_repr_method(alpha=45)\n"
     ]
    }
   ],
   "source": [
    "d = demo_repr_method(45)\n",
    "\n",
    "print(d.__repr__())"
   ]
  },
  {
   "cell_type": "markdown",
   "id": "11339bb0",
   "metadata": {},
   "source": [
    "### What happens if we change the parameters?"
   ]
  },
  {
   "cell_type": "code",
   "execution_count": 30,
   "id": "2a41e5c6",
   "metadata": {},
   "outputs": [
    {
     "name": "stdout",
     "output_type": "stream",
     "text": [
      "demo_repr_method(alpha=19)\n"
     ]
    }
   ],
   "source": [
    "d.alpha = 19\n",
    "\n",
    "print(d.__repr__())"
   ]
  },
  {
   "cell_type": "code",
   "execution_count": null,
   "id": "14d1213f",
   "metadata": {},
   "outputs": [],
   "source": []
  }
 ],
 "metadata": {
  "kernelspec": {
   "display_name": "Python 3 (ipykernel)",
   "language": "python",
   "name": "python3"
  },
  "language_info": {
   "codemirror_mode": {
    "name": "ipython",
    "version": 3
   },
   "file_extension": ".py",
   "mimetype": "text/x-python",
   "name": "python",
   "nbconvert_exporter": "python",
   "pygments_lexer": "ipython3",
   "version": "3.9.7"
  }
 },
 "nbformat": 4,
 "nbformat_minor": 5
}
