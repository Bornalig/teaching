{
 "cells": [
  {
   "cell_type": "markdown",
   "id": "d1fed6d3",
   "metadata": {},
   "source": [
    "# Advanced Programming for AI\n",
    "# Lecture Notebook: Hash functions & Tables\n",
    "\n",
    "### Example 1: A Basic hash table with a hash function"
   ]
  },
  {
   "cell_type": "code",
   "execution_count": 4,
   "id": "c10528a1",
   "metadata": {},
   "outputs": [
    {
     "data": {
      "text/plain": [
       "{12: ('Mike', 20), 18: ('Sam', 15), 19: ('Terry', 33), 11: ('Lester', 55)}"
      ]
     },
     "execution_count": 4,
     "metadata": {},
     "output_type": "execute_result"
    }
   ],
   "source": [
    "d = {'Mike':20,'Sam':15,'Terry':33,'Lester':55}\n",
    "\n",
    "def hash_function(letter):\n",
    "    #this returns the index of a letter\n",
    "    return ord(letter.lower())-97\n",
    "\n",
    "def hash_table(d):\n",
    "    #make a new dictionary\n",
    "    D = {}\n",
    "    for key,value in d.items():\n",
    "        index = hash_function(key[0])\n",
    "        D[index] = (key,value)\n",
    "    return D\n",
    "\n",
    "hash_table(d)"
   ]
  },
  {
   "cell_type": "markdown",
   "id": "0ab5955d",
   "metadata": {},
   "source": [
    "### Example 2: Dealing with Hash table collisions via chaining"
   ]
  },
  {
   "cell_type": "code",
   "execution_count": 6,
   "id": "62884a76",
   "metadata": {},
   "outputs": [
    {
     "data": {
      "text/plain": [
       "{12: ['Mike', 20, 'Mark', 55],\n",
       " 18: ['Sam', 15],\n",
       " 19: ['Terry', 33],\n",
       " 11: ['Lester', 55]}"
      ]
     },
     "execution_count": 6,
     "metadata": {},
     "output_type": "execute_result"
    }
   ],
   "source": [
    "d2 = {'Mike':20,'Sam':15,'Terry':33,'Lester':55,'Mark':55}\n",
    "\n",
    "def hash_table2(d):\n",
    "    #make a new dictionary\n",
    "    D = {}\n",
    "    for key,value in d.items():\n",
    "        index = hash_function(key[0])\n",
    "        if index not in list(D.keys()):\n",
    "            D[index] = [key,value]\n",
    "        else:\n",
    "            D[index] = D[index]+[key,value]\n",
    "    return D\n",
    "\n",
    "D2 = hash_table2(d2)\n",
    "D2"
   ]
  },
  {
   "cell_type": "markdown",
   "id": "1ffb8498",
   "metadata": {},
   "source": [
    "## Example 3: Dealing with Hash table collisions via searching\n",
    "\n",
    "* Note the range `(5,27)` values and `[11:23]` are just for proof of concept."
   ]
  },
  {
   "cell_type": "code",
   "execution_count": 7,
   "id": "9d3d0ecc",
   "metadata": {},
   "outputs": [
    {
     "data": {
      "text/plain": [
       "[['Lester', 55],\n",
       " ['Mike', 20],\n",
       " ['Mark', 55],\n",
       " None,\n",
       " None,\n",
       " None,\n",
       " None,\n",
       " ['Sam', 15],\n",
       " ['Terry', 33],\n",
       " None,\n",
       " None]"
      ]
     },
     "execution_count": 7,
     "metadata": {},
     "output_type": "execute_result"
    }
   ],
   "source": [
    "d2 = {'Mike':20,'Sam':15,'Terry':33,'Lester':55,'Mark':55}\n",
    "\n",
    "def hash_table3(d):\n",
    "    #make an empty list filled with Nones' for values\n",
    "    D = [None for i in range(5,27)]\n",
    "    for key,value in d.items():\n",
    "        index = hash_function(key[0])\n",
    "        if D[index] is None:\n",
    "            D[index] = [key,value]\n",
    "        else:\n",
    "            while D[index] is not None:\n",
    "                index=index+1\n",
    "            D[index] = [key,value]\n",
    "    return D\n",
    "\n",
    "D3 = hash_table3(d2)[11:23]\n",
    "D3"
   ]
  },
  {
   "cell_type": "markdown",
   "id": "516206a7",
   "metadata": {},
   "source": [
    "# Example 4: Hash table Class without collision handling\n",
    "\n",
    "* This example uses class inheritence to define how to build an hash table from an abitrary hash function.\n",
    "* The keys in this example cause collisions"
   ]
  },
  {
   "cell_type": "code",
   "execution_count": 22,
   "id": "5b517ad1",
   "metadata": {},
   "outputs": [
    {
     "name": "stdout",
     "output_type": "stream",
     "text": [
      "Key: Mike, Hash function of key: 3\n",
      "Key: Sam, Hash function of key: 3\n",
      "Key: Terry, Hash function of key: 0\n",
      "Key: Lester, Hash function of key: 0\n",
      "[('Lester', 55), None, None, ('Sam', 15)]\n"
     ]
    }
   ],
   "source": [
    "#define hash function class\n",
    "class hash_function:\n",
    "    def function(self,key,N):\n",
    "        h = 1\n",
    "        for char in key:\n",
    "            h*=ord(char.lower())\n",
    "        return h%N\n",
    "\n",
    "#define hash table architecture\n",
    "class HashTable(hash_function):\n",
    "    def __init__(self,N=None):\n",
    "        self.N = N #number of elements\n",
    "        if self.N is not None:\n",
    "            self.array = [None for i in range(N)]\n",
    "        \n",
    "    def add(self,key,value):\n",
    "        if self.N is None:\n",
    "            self.N=1\n",
    "        h=self.function(key,self.N)\n",
    "        if h>self.N:\n",
    "            self.N=h\n",
    "            self.array = self.array +[None for j in range(h-len(self.array))]\n",
    "        self.array[h]=(key,value)\n",
    "        return\n",
    "    \n",
    "    def add_dictionary(self,d):\n",
    "        if self.N is None:\n",
    "            self.N=len(d)\n",
    "            self.array = [None for i in range(self.N)]\n",
    "        for key,value in d.items():\n",
    "            print('Key: {}, Hash function of key: {}'.format(key,self.function(key,self.N)))\n",
    "            self.add(key,value)\n",
    "        print(self.array)\n",
    "        return\n",
    "    \n",
    "    def select(self,key):\n",
    "        h = self.function(key,self.N)\n",
    "        return self.array[h]\n",
    "    \n",
    "    def delete(self,key):\n",
    "        h = self.function(key,self.N)\n",
    "        self.arr[h] = None\n",
    "        return\n",
    "    \n",
    "t = HashTable()\n",
    "d2 = {'Mike':20,'Sam':15,'Terry':33,'Lester':55,'Mark':55}\n",
    "t.add_dictionary(d)"
   ]
  },
  {
   "cell_type": "markdown",
   "id": "59b05bba",
   "metadata": {},
   "source": [
    "# Example 5: Hash table with collision handling using linked lists"
   ]
  },
  {
   "cell_type": "code",
   "execution_count": 39,
   "id": "104975bb",
   "metadata": {},
   "outputs": [],
   "source": [
    "#define hash function class\n",
    "class hash_function:\n",
    "    def function(self,key,N):\n",
    "        h = 1\n",
    "        for char in key:\n",
    "            h*=ord(char.lower())\n",
    "        return h%N\n",
    "\n",
    "\n",
    "class HashTable2(hash_function):\n",
    "    def __init__(self,N=None):\n",
    "        self.N = N\n",
    "        if self.N is not None:\n",
    "            self.array = [[] for i in range(self.N)]\n",
    "        \n",
    "    def add(self,key,value):\n",
    "        if self.N is None:\n",
    "            self.N=1\n",
    "        h = self.function(key,self.N) #this is the hash function\n",
    "        found = False\n",
    "        for idx,element in enumerate(self.array[h]):\n",
    "            if len(element)==2 and element[0]==key:\n",
    "                self.array[h][idx]=(key,value)\n",
    "                found=True\n",
    "                break\n",
    "        if not found:\n",
    "            self.array[h].append((key,value))\n",
    "            \n",
    "    def add_dictionary(self,d):\n",
    "        if self.N is None:\n",
    "            self.N=len(d)\n",
    "            self.array = [[] for i in range(self.N)]\n",
    "        for key,value in d.items():\n",
    "            print('Key: {}, Hash function of key: {}'.format(key,self.function(key,self.N)))\n",
    "            self.add(key,value)\n",
    "        print(self.array)\n",
    "        return\n",
    "            \n",
    "    def select(self,key,value):\n",
    "        h= self.function(key,self.N)\n",
    "        for element in self.arr[h]:\n",
    "            if element[0]==key:\n",
    "                return element[1]\n",
    "    \n",
    "    def delete(self, key):\n",
    "        arr_index = self.function(key,self.N)\n",
    "        for index, kv in enumerate(self.array[arr_index]):\n",
    "            if kv[0] == key:\n",
    "                print(\"del\",index)\n",
    "                self.array[arr_index][index]=None"
   ]
  },
  {
   "cell_type": "code",
   "execution_count": 40,
   "id": "b33f687f",
   "metadata": {},
   "outputs": [
    {
     "name": "stdout",
     "output_type": "stream",
     "text": [
      "Key: Mike, Hash function of key: 0\n",
      "Key: Sam, Hash function of key: 0\n",
      "Key: Terry, Hash function of key: 1\n",
      "Key: Lester, Hash function of key: 0\n",
      "Key: Mark, Hash function of key: 4\n",
      "[[('Mike', 20), ('Sam', 15), ('Lester', 55)], [('Terry', 33)], [], [], [('Mark', 55)]]\n"
     ]
    }
   ],
   "source": [
    "h = HashTable2()\n",
    "d2 = {'Mike':20,'Sam':15,'Terry':33,'Lester':55,'Mark':55}\n",
    "h.add_dictionary(d2)"
   ]
  },
  {
   "cell_type": "markdown",
   "id": "cc642b19",
   "metadata": {},
   "source": [
    "# Example 6: Hash table with collision handling using linear probing (linear searching)"
   ]
  },
  {
   "cell_type": "code",
   "execution_count": 70,
   "id": "df7bef26",
   "metadata": {},
   "outputs": [],
   "source": [
    "class HashTable3(hash_function):  \n",
    "    def __init__(self,N=None):\n",
    "        self.N = N #number of elements\n",
    "        if self.N is not None:\n",
    "            self.array = [None for i in range(self.N)]\n",
    "    \n",
    "    def add(self, key, val):\n",
    "        if self.N is None:\n",
    "            self.N=1\n",
    "        h = self.function(key,self.N)\n",
    "        if h>len(self.array):\n",
    "            self.array=self.array+[None for i in range(h-len(self.array))]\n",
    "        if self.array[h] is None:\n",
    "            self.array[h] = (key,val)\n",
    "        else:\n",
    "            new_h = self.find_slot_insert(h)\n",
    "            self.array[new_h] = (key,val) \n",
    "    \n",
    "    def select(self, key):\n",
    "        h = self.function(key,self.N)\n",
    "        if self.array[h] is None:\n",
    "            return\n",
    "        else:\n",
    "            if key==self.array[h][0]:\n",
    "                return self.array[h]\n",
    "            else:\n",
    "                print(key,h)\n",
    "                h = self.find_slot_select(key,h)\n",
    "                return self.array[h]\n",
    "                \n",
    "            \n",
    "    def find_slot_insert(self,h):\n",
    "        while self.array[h] is not None:\n",
    "            if h+1>len(self.array):\n",
    "                h=self.array[0]\n",
    "            else:\n",
    "                h=h+1\n",
    "        return h\n",
    "    \n",
    "    def find_slot_select(self,key,h):\n",
    "        while self.array[h][0]!=key:\n",
    "            if h+1>len(self.array):\n",
    "                h = self.array[0]\n",
    "            else:\n",
    "                h=h+1\n",
    "        return h\n",
    "    \n",
    "    def add_dictionary(self,d):\n",
    "        if self.N is None:\n",
    "            self.N=len(d)\n",
    "            self.array = [None for i in range(self.N)]\n",
    "        else:\n",
    "            self.N=self.N+len(d)\n",
    "            self.array = self.array+[None for i in range(len(d))]\n",
    "        for key,value in d.items():\n",
    "            print('Key: {}, Hash function of key: {}'.format(key,self.function(key,self.N)))\n",
    "            self.add(key,value)\n",
    "        print(self.array)\n",
    "        return\n",
    "    \n",
    "    \n",
    "    def delete(self, key):\n",
    "        h = self.get_hash(key)\n",
    "        h = self.find_slot_select(key,h)\n",
    "        self.array[h]=None"
   ]
  },
  {
   "cell_type": "code",
   "execution_count": 71,
   "id": "e0507064",
   "metadata": {},
   "outputs": [
    {
     "name": "stdout",
     "output_type": "stream",
     "text": [
      "Key: Mike, Hash function of key: 0\n",
      "Key: Sam, Hash function of key: 0\n",
      "Key: Terry, Hash function of key: 1\n",
      "Key: Lester, Hash function of key: 0\n",
      "Key: Mark, Hash function of key: 4\n",
      "[('Mike', 20), ('Sam', 15), ('Terry', 33), ('Lester', 55), ('Mark', 55)]\n"
     ]
    }
   ],
   "source": [
    "h = HashTable3()\n",
    "d2 = {'Mike':20,'Sam':15,'Terry':33,'Lester':55,'Mark':55}\n",
    "h.add_dictionary(d2)"
   ]
  }
 ],
 "metadata": {
  "kernelspec": {
   "display_name": "Python 3 (ipykernel)",
   "language": "python",
   "name": "python3"
  },
  "language_info": {
   "codemirror_mode": {
    "name": "ipython",
    "version": 3
   },
   "file_extension": ".py",
   "mimetype": "text/x-python",
   "name": "python",
   "nbconvert_exporter": "python",
   "pygments_lexer": "ipython3",
   "version": "3.9.7"
  }
 },
 "nbformat": 4,
 "nbformat_minor": 5
}
