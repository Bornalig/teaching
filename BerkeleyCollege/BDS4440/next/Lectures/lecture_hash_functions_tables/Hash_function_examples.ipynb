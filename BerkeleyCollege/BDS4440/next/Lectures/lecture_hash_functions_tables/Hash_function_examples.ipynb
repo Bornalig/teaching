{
 "cells": [
  {
   "cell_type": "markdown",
   "id": "ddedf4cc",
   "metadata": {},
   "source": [
    "# Example 1:  Find four elements a, b, c and d in an array such that a+b = c+d\n",
    "\n",
    "Given an array of distinct integers, find if there are two pairs (a, b) and (c, d) such that a+b = c+d, and a, b, c and d are distinct elements. If there are multiple answers, then print any of them.\n",
    " \n",
    " \n",
    " Input:   {3, 4, 7, 1, 2, 9, 8}\n",
    "Output:  (3, 8) and (4, 7)\n",
    "Explanation: 3+8 = 4+7\n",
    "\n",
    "Input:   {3, 4, 7, 1, 12, 9};\n",
    "Output:  (4, 12) and (7, 9)\n",
    "Explanation: 4+12 = 7+9\n",
    "\n",
    "Input:  {65, 30, 7, 90, 1, 9, 8};\n",
    "Output:  No pairs found"
   ]
  },
  {
   "cell_type": "markdown",
   "id": "0f2edd9d",
   "metadata": {},
   "source": [
    "A Simple Solution is to run four loops to generate all possible quadruples of the array elements. For every quadruple (a, b, c, d), check if (a+b) = (c+d). \n",
    "\n",
    "The time complexity of this solution is O(n^4). An Efficient Solution can solve this problem in O(n^2) time. The idea is to use hashing. We use sum as key and pair as the value in the hash table. \n",
    "\n",
    "\n",
    "`Loop i = 0 to n-1 :\n",
    "    Loop j = i + 1 to n-1 :\n",
    "        calculate sum\n",
    "        If in hash table any index already exist\n",
    "            Then print (i, j) and previous pair from hash table  \n",
    "        Else update hash table\n",
    "    EndLoop;\n",
    "EndLoop;`"
   ]
  },
  {
   "cell_type": "code",
   "execution_count": 2,
   "id": "37f6f7d2",
   "metadata": {},
   "outputs": [
    {
     "name": "stdout",
     "output_type": "stream",
     "text": [
      "(3, 8) and (4, 7)\n"
     ]
    }
   ],
   "source": [
    "def find_pair_of_sum(arr: list, n: int):\n",
    "    map = {}\n",
    "    for i in range(n):\n",
    "        for j in range(i+1, n):\n",
    "            sum = arr[i] + arr[j]\n",
    " \n",
    "            if sum in map:\n",
    "                print(f\"{map[sum]} and ({arr[i]}, {arr[j]})\")\n",
    "                return\n",
    "            else:\n",
    "                map[sum] = (arr[i], arr[j])\n",
    " \n",
    " \n",
    "# Driver code\n",
    "if __name__ == \"__main__\":\n",
    "    arr = [3, 4, 7, 1, 2, 9, 8]\n",
    "    n = len(arr)\n",
    "    find_pair_of_sum(arr, n)"
   ]
  },
  {
   "cell_type": "markdown",
   "id": "2990bec9",
   "metadata": {},
   "source": [
    "# Example 2: Find whether an array is subset of another array\n",
    "\n",
    "Given two arrays: arr1[0..m-1] and arr2[0..n-1]. Find whether arr2[] is a subset of arr1[] or not. Both the arrays are not in sorted order. It may be assumed that elements in both array are distinct\n",
    "\n",
    "\n",
    "Input: \n",
    "* arr1[] = {11, 1, 13, 21, 3, 7}, \n",
    "* arr2[] = {11, 3, 7, 1} \n",
    "\n",
    "    * Output: arr2[] is a subset of arr1[]\n",
    "\n",
    "Input: \n",
    "* arr1[] = {1, 2, 3, 4, 5, 6}, \n",
    "* arr2[] = {1, 2, 4} \n",
    "    * Output: arr2[] is a subset of arr1[]\n",
    "\n",
    "Input: \n",
    "* arr1[] = {10, 5, 2, 23, 19}, \n",
    "* arr2[] = {19, 5, 3} \n",
    "    * Output: arr2[] is not a subset of arr1[] \n",
    "    \n",
    "    \n",
    "**Solution Method:**\n",
    "\n",
    "* Create a Hash Table for all the elements of arr1[].\n",
    "* Traverse arr2[] and search for each element of arr2[] in the Hash Table. If element is not found then return 0.\n",
    "* If all elements are found then return 1."
   ]
  },
  {
   "cell_type": "code",
   "execution_count": 3,
   "id": "f305792b",
   "metadata": {},
   "outputs": [
    {
     "name": "stdout",
     "output_type": "stream",
     "text": [
      "arr2[] is subset of arr1[] \n"
     ]
    }
   ],
   "source": [
    "def isSubset(arr1, m, arr2, n): \n",
    "    # Using STL set for hashing\n",
    "    hashset = set()\n",
    "    # hset stores all the values of arr1\n",
    "    for i in range(0, m):\n",
    "        hashset.add(arr1[i])\n",
    "    # Loop to check if all elements\n",
    "    # of arr2 also lies in arr1\n",
    "    for i in range(0, n):\n",
    "        if arr2[i] in hashset:\n",
    "            continue\n",
    "        else:\n",
    "            return False\n",
    " \n",
    "    return True\n",
    " \n",
    "# Driver Code\n",
    "if __name__ == '__main__':\n",
    "     \n",
    "    arr1 = [ 11, 1, 13, 21, 3, 7 ]\n",
    "    arr2 = [ 11, 3, 7, 1 ]\n",
    "     \n",
    "    m = len(arr1)\n",
    "    n = len(arr2)\n",
    "     \n",
    "    if (isSubset(arr1, m, arr2, n)):\n",
    "        print(\"arr2[] is subset of arr1[] \")\n",
    "    else:\n",
    "        print(\"arr2[] is not a subset of arr1[] \")"
   ]
  },
  {
   "cell_type": "markdown",
   "id": "a184b2a2",
   "metadata": {},
   "source": [
    "# Sources\n",
    "* Example 1: https://www.geeksforgeeks.org/find-four-elements-a-b-c-and-d-in-an-array-such-that-ab-cd/\n",
    "* Example 2: https://www.geeksforgeeks.org/find-whether-an-array-is-subset-of-another-array-set-1/"
   ]
  },
  {
   "cell_type": "code",
   "execution_count": null,
   "id": "f5c5ac0b",
   "metadata": {},
   "outputs": [],
   "source": []
  }
 ],
 "metadata": {
  "kernelspec": {
   "display_name": "Python 3 (ipykernel)",
   "language": "python",
   "name": "python3"
  },
  "language_info": {
   "codemirror_mode": {
    "name": "ipython",
    "version": 3
   },
   "file_extension": ".py",
   "mimetype": "text/x-python",
   "name": "python",
   "nbconvert_exporter": "python",
   "pygments_lexer": "ipython3",
   "version": "3.9.7"
  }
 },
 "nbformat": 4,
 "nbformat_minor": 5
}
