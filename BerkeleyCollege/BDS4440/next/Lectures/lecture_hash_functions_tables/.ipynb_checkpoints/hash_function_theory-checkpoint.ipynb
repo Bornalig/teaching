{
 "cells": [
  {
   "cell_type": "markdown",
   "id": "516206a7",
   "metadata": {},
   "source": [
    "# Hash table without collision handling\n"
   ]
  },
  {
   "cell_type": "code",
   "execution_count": 3,
   "id": "afe5bfa3",
   "metadata": {},
   "outputs": [],
   "source": [
    "class HashTable:\n",
    "    def __init__(self,N):\n",
    "        self.MAX = N\n",
    "        self.arr = [None for i in range(self.MAX)]\n",
    "        \n",
    "    def hash_function(self,key):\n",
    "        h =0\n",
    "        for char in key:\n",
    "            h+=ord(char)\n",
    "        return h%self.MAX\n",
    "    \n",
    "    def add(self,key,value):\n",
    "        '''add key value pair to hash map, could also\n",
    "        call this function __setitem__() to use brackets operations instead t[]'''\n",
    "        h=self.hash_function(key)\n",
    "        self.arr[h]=value\n",
    "        return\n",
    "        \n",
    "    def get(self,key):\n",
    "        '''access key value pair in the hash table,\n",
    "        could also call this function __getitem__() to use bracket operations instead t[]'''\n",
    "        h = self.hash_function(key)\n",
    "        return self.arr[h]\n",
    "    \n",
    "    def delete(self,key):\n",
    "        '''delete a key value pair in the hash table,\n",
    "        could also call this function __delitem__() to use bracket operations instead'''\n",
    "        h = self.hash_function(key)\n",
    "        self.arr[h] = None\n",
    "        return"
   ]
  },
  {
   "cell_type": "code",
   "execution_count": 16,
   "id": "51246ddf",
   "metadata": {},
   "outputs": [
    {
     "name": "stdout",
     "output_type": "stream",
     "text": [
      "Key: John, Hash function of key: 9\n",
      "Key: Mike, Hash function of key: 0\n",
      "Key: Donnie, Hash function of key: 5\n"
     ]
    },
    {
     "data": {
      "text/plain": [
       "['Sims', None, None, None, None, 'Darko', None, None, None, 'Doe']"
      ]
     },
     "execution_count": 16,
     "metadata": {},
     "output_type": "execute_result"
    }
   ],
   "source": [
    "t = HashTable(10)\n",
    "d = {'John':'Doe','Mike':'Sims','Donnie':'Darko'}\n",
    "for key,value in d.items():\n",
    "    print('Key: {}, Hash function of key: {}'.format(key,t.hash_function(key)))\n",
    "    t.add(key,value)\n",
    "t.arr"
   ]
  },
  {
   "cell_type": "markdown",
   "id": "59b05bba",
   "metadata": {},
   "source": [
    "# Hash table with collision handling using linked lists"
   ]
  },
  {
   "cell_type": "code",
   "execution_count": 32,
   "id": "104975bb",
   "metadata": {},
   "outputs": [],
   "source": [
    "class HashTable2:\n",
    "    def __init__(self,N):\n",
    "        self.MAX = N\n",
    "        self.arr = [[] for i in range(self.MAX)]\n",
    "        \n",
    "    def hash_function(self,key):\n",
    "        hash =0\n",
    "        for char in key:\n",
    "            hash+=ord(char)\n",
    "        return hash%self.MAX\n",
    "            \n",
    "    def get(self,key,value):\n",
    "        '''add key value pair to hash map, could also\n",
    "        call this function __setitem__() to use brackets operations instead t[]'''\n",
    "        h= self.hash_function(key)\n",
    "        for element in self.arr[h]:\n",
    "            if element[0]==key:\n",
    "                return element[1]\n",
    "\n",
    "        \n",
    "    def add(self,key,value):\n",
    "        '''access key value pair in the hash table,\n",
    "        could also call this function __getitem__() to use bracket operations instead t[]'''\n",
    "        h = self.hash_function(key)\n",
    "        found = False\n",
    "        for idx,element in enumerate(self.arr[h]):\n",
    "            if len(element)==2 and element[0]==key:\n",
    "                self.arr[h][idx]=(key,value)\n",
    "                found=True\n",
    "                break\n",
    "        if not found:\n",
    "            self.arr[h].append((key,value))\n",
    "    \n",
    "    def delete(self, key):\n",
    "        '''delete a key value pair in the hash table,\n",
    "        could also call this function __delitem__() to use bracket operations instead'''\n",
    "        arr_index = self.get_hash(key)\n",
    "        for index, kv in enumerate(self.arr[arr_index]):\n",
    "            if kv[0] == key:\n",
    "                print(\"del\",index)\n",
    "                del self.arr[arr_index][index]"
   ]
  },
  {
   "cell_type": "code",
   "execution_count": 33,
   "id": "b33f687f",
   "metadata": {},
   "outputs": [
    {
     "name": "stdout",
     "output_type": "stream",
     "text": [
      "Key: march 6, Hash function of key: 4\n",
      "Key: march 8, Hash function of key: 1\n",
      "Key: march 17, Hash function of key: 4\n",
      "Key: march 11, Hash function of key: 3\n"
     ]
    },
    {
     "data": {
      "text/plain": [
       "[[],\n",
       " [('march 8', 67)],\n",
       " [],\n",
       " [('march 11', 45)],\n",
       " [('march 6', 120), ('march 17', 459)]]"
      ]
     },
     "execution_count": 33,
     "metadata": {},
     "output_type": "execute_result"
    }
   ],
   "source": [
    "d = {'march 6':120,'march 8':67,'march 17':459,'march 11':45}\n",
    "h = HashTable2(5)\n",
    "for key,value in d.items():\n",
    "    print('Key: {}, Hash function of key: {}'.format(key,h.hash_function(key)))\n",
    "    h.add(key,value)\n",
    "h.arr"
   ]
  },
  {
   "cell_type": "markdown",
   "id": "cc642b19",
   "metadata": {},
   "source": [
    "# Hash table with collision handling using linear probing (linear searching)"
   ]
  },
  {
   "cell_type": "code",
   "execution_count": 44,
   "id": "f7843ffb",
   "metadata": {},
   "outputs": [],
   "source": [
    "class HashTable3:  \n",
    "    def __init__(self,N):\n",
    "        self.MAX = N # I am keeping size very low to demonstrate linear probing easily but usually the size should be high\n",
    "        self.arr = [None for i in range(self.MAX)]\n",
    "        \n",
    "    def get_hash(self, key):\n",
    "        hash = 0\n",
    "        for char in key:\n",
    "            hash += ord(char)\n",
    "        return hash % self.MAX\n",
    "    \n",
    "    def get(self, key):\n",
    "        h = self.get_hash(key)\n",
    "        if self.arr[h] is None:\n",
    "            return\n",
    "        prob_range = self.get_prob_range(h)\n",
    "        for prob_index in prob_range:\n",
    "            element = self.arr[prob_index]\n",
    "            if element is None:\n",
    "                return\n",
    "            if element[0] == key:\n",
    "                return element[1]\n",
    "           \n",
    "    def add(self, key, val):\n",
    "        h = self.get_hash(key)\n",
    "        if self.arr[h] is None:\n",
    "            self.arr[h] = (key,val)\n",
    "        else:\n",
    "            new_h = self.find_slot(key, h)\n",
    "            self.arr[new_h] = (key,val)\n",
    "        print(self.arr)\n",
    "        \n",
    "    def get_prob_range(self, index):\n",
    "        return [*range(index, len(self.arr))] + [*range(0,index)]\n",
    "    \n",
    "    def find_slot(self, key, index):\n",
    "        prob_range = self.get_prob_range(index)\n",
    "        for prob_index in prob_range:\n",
    "            if self.arr[prob_index] is None:\n",
    "                return prob_index\n",
    "            if self.arr[prob_index][0] == key:\n",
    "                return prob_index\n",
    "        raise Exception(\"Hashmap full\")\n",
    "        \n",
    "    def delete(self, key):\n",
    "        h = self.get_hash(key)\n",
    "        prob_range = self.get_prob_range(h)\n",
    "        for prob_index in prob_range:\n",
    "            if self.arr[prob_index] is None:\n",
    "                return # item not found so return. You can also throw exception\n",
    "            if self.arr[prob_index][0] == key:\n",
    "                self.arr[prob_index]=None\n",
    "        print(self.arr)"
   ]
  },
  {
   "cell_type": "code",
   "execution_count": 46,
   "id": "e0507064",
   "metadata": {},
   "outputs": [
    {
     "name": "stdout",
     "output_type": "stream",
     "text": [
      "[None, None, None, None, ('march 6', 120)]\n",
      "[None, ('march 8', 67), None, None, ('march 6', 120)]\n",
      "[('march 17', 459), ('march 8', 67), None, None, ('march 6', 120)]\n",
      "[('march 17', 459), ('march 8', 67), None, ('march 11', 45), ('march 6', 120)]\n"
     ]
    },
    {
     "data": {
      "text/plain": [
       "[('march 17', 459), ('march 8', 67), None, ('march 11', 45), ('march 6', 120)]"
      ]
     },
     "execution_count": 46,
     "metadata": {},
     "output_type": "execute_result"
    }
   ],
   "source": [
    "d = {'march 6':120,'march 8':67,'march 17':459,'march 11':45}\n",
    "h = HashTable3(5)\n",
    "for key,value in d.items():\n",
    "   # print('Key: {}, Hash function of key: {}'.format(key,h.get_hash(key)))\n",
    "    h.add(key,value)\n",
    "h.arr"
   ]
  },
  {
   "cell_type": "markdown",
   "id": "9410a334",
   "metadata": {},
   "source": [
    "# Sources\n",
    "\n",
    "* https://www.youtube.com/watch?v=54iv1si4YCM\n",
    "* https://www.youtube.com/watch?v=ea8BRGxGmlA"
   ]
  }
 ],
 "metadata": {
  "kernelspec": {
   "display_name": "Python 3 (ipykernel)",
   "language": "python",
   "name": "python3"
  },
  "language_info": {
   "codemirror_mode": {
    "name": "ipython",
    "version": 3
   },
   "file_extension": ".py",
   "mimetype": "text/x-python",
   "name": "python",
   "nbconvert_exporter": "python",
   "pygments_lexer": "ipython3",
   "version": "3.9.7"
  }
 },
 "nbformat": 4,
 "nbformat_minor": 5
}
