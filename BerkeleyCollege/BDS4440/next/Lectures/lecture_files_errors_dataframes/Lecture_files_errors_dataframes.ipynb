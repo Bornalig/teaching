{
 "cells": [
  {
   "cell_type": "markdown",
   "id": "a8e2b3cf",
   "metadata": {},
   "source": [
    "# Lecture 1: Advanced Programming for AI"
   ]
  },
  {
   "cell_type": "markdown",
   "id": "04a45ff5",
   "metadata": {},
   "source": [
    "# Example 1: Using the `with` statement to open and save string data to a `txt` file.\n",
    "\n",
    "* Note the `mode='w'` argument on the open clause;\n",
    "    * `'r'` means read the file\n",
    "    * `'w'` means write to the file\n",
    "    * `'a'` means append to the end of the file\n",
    "    * `'r+'` means read and write\n",
    "    * `'w+'` means read and write, pre-existing contents deleted\n",
    "    * `a+` means append to the end of a file, create if it doesn't exist already."
   ]
  },
  {
   "cell_type": "code",
   "execution_count": 1,
   "id": "c1ac02aa",
   "metadata": {},
   "outputs": [],
   "source": [
    "with open('string_lines.txt',mode='w') as text_document:\n",
    "    text_document.write('99 Jimmy 55.8\\n')\n",
    "    text_document.write('100 Dianna 345.67\\n')\n",
    "    text_document.write('101 Wilber 456\\n')\n",
    "    text_document.write('102 Steven -234\\n')\n",
    "    text_document.write('103 Rober 224.62\\n')"
   ]
  },
  {
   "cell_type": "markdown",
   "id": "c9976352",
   "metadata": {},
   "source": [
    "# Example 2: opening files without the `with` statement\n",
    "* Need the `.close()` method at the end"
   ]
  },
  {
   "cell_type": "code",
   "execution_count": null,
   "id": "f969e241",
   "metadata": {},
   "outputs": [],
   "source": [
    "text_document = open('string_lines.txt','w')\n",
    "text_document.write('Line 1\\n')\n",
    "text_document.write('Line 2\\n')\n",
    "text_document.close()"
   ]
  },
  {
   "cell_type": "markdown",
   "id": "60ceec81",
   "metadata": {},
   "source": [
    "# Example 3: Saving a python dictionary to a `json` file"
   ]
  },
  {
   "cell_type": "code",
   "execution_count": 2,
   "id": "de42b751",
   "metadata": {},
   "outputs": [],
   "source": [
    "import json\n",
    "\n",
    "credentials = {'user':'johndoe',\n",
    "               'password':'qwert123',\n",
    "               'account':'google.cloud.usa123.com',\n",
    "               'database':'GCP'}\n",
    "\n",
    "with open('credentials.json','w') as creds:\n",
    "    json.dump(credentials,creds)"
   ]
  },
  {
   "cell_type": "markdown",
   "id": "bc8351ea",
   "metadata": {},
   "source": [
    "# Example 4: Loading a dictionary from a json file"
   ]
  },
  {
   "cell_type": "code",
   "execution_count": 5,
   "id": "4016d145",
   "metadata": {},
   "outputs": [
    {
     "name": "stdout",
     "output_type": "stream",
     "text": [
      "johndoe\n"
     ]
    }
   ],
   "source": [
    "import json\n",
    "with open('credentials.json','r') as creds:\n",
    "    credential = json.load(creds)\n",
    "    \n",
    "print(credential['user'])"
   ]
  },
  {
   "cell_type": "markdown",
   "id": "96892834",
   "metadata": {},
   "source": [
    "# Example 5: Saving a pickle File\n",
    "\n",
    "* Use `wb` as the write mode for read binary."
   ]
  },
  {
   "cell_type": "code",
   "execution_count": 2,
   "id": "0451bd51",
   "metadata": {},
   "outputs": [],
   "source": [
    "string = 'This is a text document that will be saved to a pickle file.'\n",
    "import pickle\n",
    "\n",
    "with open('document.pickle','wb') as pickle_file:\n",
    "    pickle.dump(string,pickle_file)"
   ]
  },
  {
   "cell_type": "markdown",
   "id": "d967bb80",
   "metadata": {},
   "source": [
    "# Example 6: Loading a pickle File\n",
    "\n",
    "* Use `rb` as the read mode (read binary)"
   ]
  },
  {
   "cell_type": "code",
   "execution_count": 3,
   "id": "978f46ef",
   "metadata": {},
   "outputs": [
    {
     "name": "stdout",
     "output_type": "stream",
     "text": [
      "This is a text document that will be saved to a pickle file.\n"
     ]
    }
   ],
   "source": [
    "with open('document.pickle','rb') as pickle_file:\n",
    "    string_file = pickle.load(pickle_file)\n",
    "print(string_file)"
   ]
  },
  {
   "cell_type": "markdown",
   "id": "18c1f358",
   "metadata": {},
   "source": [
    "# Example 7: Deleting and renaming a file"
   ]
  },
  {
   "cell_type": "code",
   "execution_count": 6,
   "id": "f55bfbaa",
   "metadata": {},
   "outputs": [],
   "source": [
    "import os\n",
    "\n",
    "#rename the file\n",
    "os.rename('string_lines.txt','other_name.txt')\n",
    "\n",
    "#delete the file\n",
    "os.remove('other_name.txt')"
   ]
  },
  {
   "cell_type": "markdown",
   "id": "e09a343a",
   "metadata": {},
   "source": [
    "# Example 8: Error handling via `try except else`: Working with data input errors"
   ]
  },
  {
   "cell_type": "code",
   "execution_count": 10,
   "id": "c26233ac",
   "metadata": {},
   "outputs": [
    {
     "name": "stdout",
     "output_type": "stream",
     "text": [
      "Enter a string and see what happens: g\n",
      "Error Caught\n"
     ]
    }
   ],
   "source": [
    "try:\n",
    "    number1 = int(input(\"Enter a string and see what happens: \"))\n",
    "except ValueError:\n",
    "    print('Error Caught')\n",
    "else:\n",
    "    print('The code obviously worked because you input a number {}'.format(number1))"
   ]
  },
  {
   "cell_type": "markdown",
   "id": "73c4bf46",
   "metadata": {},
   "source": [
    "# Example 9: Error handling: Working with the `finally` clause "
   ]
  },
  {
   "cell_type": "code",
   "execution_count": 11,
   "id": "2c2ee5de",
   "metadata": {},
   "outputs": [
    {
     "name": "stdout",
     "output_type": "stream",
     "text": [
      "Enter a string and see what happens: h\n",
      "Error Caught\n",
      "This code executes regardless of error\n"
     ]
    }
   ],
   "source": [
    "try:\n",
    "    number1 = int(input(\"Enter a string and see what happens: \"))\n",
    "except ValueError:\n",
    "    print('Error Caught')\n",
    "else:\n",
    "    print('The code obviously worked because you input a number {}'.format(number1))\n",
    "finally:\n",
    "    print('This code executes regardless of error')"
   ]
  },
  {
   "cell_type": "markdown",
   "id": "d6088967",
   "metadata": {},
   "source": [
    "#  Example 10: Stack unwinding: When an error isn't caught, it causes stack unwinding\n",
    "\n",
    "   * In the following example, the `except` clause catches a `TypeError`, where are previously we were catching `ValueError`. A `TypeError` wont replace a `ValueError`, thus"
   ]
  },
  {
   "cell_type": "code",
   "execution_count": 14,
   "id": "8516fcb8",
   "metadata": {},
   "outputs": [
    {
     "name": "stdout",
     "output_type": "stream",
     "text": [
      "Enter a string and see what happens: h\n",
      "This code executes regardless of error\n"
     ]
    },
    {
     "ename": "ValueError",
     "evalue": "invalid literal for int() with base 10: 'h'",
     "output_type": "error",
     "traceback": [
      "\u001b[0;31m---------------------------------------------------------------------------\u001b[0m",
      "\u001b[0;31mValueError\u001b[0m                                Traceback (most recent call last)",
      "\u001b[0;32m/var/folders/jl/97zzvf352gg0qn93kb33f4th0000gn/T/ipykernel_3382/1296357660.py\u001b[0m in \u001b[0;36m<module>\u001b[0;34m\u001b[0m\n\u001b[1;32m      1\u001b[0m \u001b[0;32mtry\u001b[0m\u001b[0;34m:\u001b[0m\u001b[0;34m\u001b[0m\u001b[0;34m\u001b[0m\u001b[0m\n\u001b[0;32m----> 2\u001b[0;31m     \u001b[0mnumber1\u001b[0m \u001b[0;34m=\u001b[0m \u001b[0mint\u001b[0m\u001b[0;34m(\u001b[0m\u001b[0minput\u001b[0m\u001b[0;34m(\u001b[0m\u001b[0;34m\"Enter a string and see what happens: \"\u001b[0m\u001b[0;34m)\u001b[0m\u001b[0;34m)\u001b[0m\u001b[0;34m\u001b[0m\u001b[0;34m\u001b[0m\u001b[0m\n\u001b[0m\u001b[1;32m      3\u001b[0m \u001b[0;32mexcept\u001b[0m \u001b[0mTypeError\u001b[0m\u001b[0;34m:\u001b[0m\u001b[0;34m\u001b[0m\u001b[0;34m\u001b[0m\u001b[0m\n\u001b[1;32m      4\u001b[0m     \u001b[0mprint\u001b[0m\u001b[0;34m(\u001b[0m\u001b[0;34m'Error Caught'\u001b[0m\u001b[0;34m)\u001b[0m\u001b[0;34m\u001b[0m\u001b[0;34m\u001b[0m\u001b[0m\n\u001b[1;32m      5\u001b[0m \u001b[0;32melse\u001b[0m\u001b[0;34m:\u001b[0m\u001b[0;34m\u001b[0m\u001b[0;34m\u001b[0m\u001b[0m\n",
      "\u001b[0;31mValueError\u001b[0m: invalid literal for int() with base 10: 'h'"
     ]
    }
   ],
   "source": [
    "try:\n",
    "    number1 = int(input(\"Enter a string and see what happens: \"))\n",
    "except TypeError:\n",
    "    print('Error Caught')\n",
    "else:\n",
    "    print('The code obviously worked because you input a number {}'.format(number1))\n",
    "finally:\n",
    "    print('This code executes regardless of error')"
   ]
  },
  {
   "cell_type": "markdown",
   "id": "1ed8b649",
   "metadata": {},
   "source": [
    "# Example 11: CSV Files: Lets create a csv and write a few lines\n",
    "\n",
    "### When writing rows to a data frame\n",
    "* All rows must have the same number of columns\n",
    "    * If an entry is missing put a null value.\n",
    "* All columns should have matching data types"
   ]
  },
  {
   "cell_type": "code",
   "execution_count": 19,
   "id": "82e5851b",
   "metadata": {},
   "outputs": [],
   "source": [
    "import csv\n",
    "\n",
    "with open('statements.csv',mode='w',newline='') as statements:\n",
    "    csv_input = csv.writer(statements)\n",
    "    csv_input.writerow([25,'Mike',13.5])\n",
    "    csv_input.writerow([50,'Jon',22.8])"
   ]
  },
  {
   "cell_type": "markdown",
   "id": "a2fa4ab9",
   "metadata": {},
   "source": [
    "# Example 12: Opening and reading a CSV file\n",
    "\n",
    "* `f'{index:<8}{ID:<9}{value:>15}'` the `<` and `>` relations in this line of code indicate how spaced out the text will be relative to each other."
   ]
  },
  {
   "cell_type": "code",
   "execution_count": 24,
   "id": "053194e9",
   "metadata": {},
   "outputs": [
    {
     "name": "stdout",
     "output_type": "stream",
     "text": [
      "index   ID                 Value\n",
      "25      Mike                13.5\n",
      "50      Jon                 22.8\n"
     ]
    }
   ],
   "source": [
    "with open('statements.csv',mode='r',newline='') as statements:\n",
    "    print(f'{\"index\":<8}{\"ID\":<9}{\"Value\":>15}')\n",
    "    csv_data = csv.reader(statements)\n",
    "    for row in csv_data:\n",
    "        index,ID,value = row\n",
    "        print(f'{index:<8}{ID:<9}{value:>15}')"
   ]
  },
  {
   "cell_type": "markdown",
   "id": "5d79b725",
   "metadata": {},
   "source": [
    "# Example 13: Using Pandas to read a CSV"
   ]
  },
  {
   "cell_type": "code",
   "execution_count": 25,
   "id": "85060eaa",
   "metadata": {},
   "outputs": [
    {
     "data": {
      "text/html": [
       "<div>\n",
       "<style scoped>\n",
       "    .dataframe tbody tr th:only-of-type {\n",
       "        vertical-align: middle;\n",
       "    }\n",
       "\n",
       "    .dataframe tbody tr th {\n",
       "        vertical-align: top;\n",
       "    }\n",
       "\n",
       "    .dataframe thead th {\n",
       "        text-align: right;\n",
       "    }\n",
       "</style>\n",
       "<table border=\"1\" class=\"dataframe\">\n",
       "  <thead>\n",
       "    <tr style=\"text-align: right;\">\n",
       "      <th></th>\n",
       "      <th>index</th>\n",
       "      <th>ID</th>\n",
       "      <th>Value</th>\n",
       "    </tr>\n",
       "  </thead>\n",
       "  <tbody>\n",
       "    <tr>\n",
       "      <th>0</th>\n",
       "      <td>25</td>\n",
       "      <td>Mike</td>\n",
       "      <td>13.5</td>\n",
       "    </tr>\n",
       "    <tr>\n",
       "      <th>1</th>\n",
       "      <td>50</td>\n",
       "      <td>Jon</td>\n",
       "      <td>22.8</td>\n",
       "    </tr>\n",
       "  </tbody>\n",
       "</table>\n",
       "</div>"
      ],
      "text/plain": [
       "   index    ID  Value\n",
       "0     25  Mike   13.5\n",
       "1     50   Jon   22.8"
      ]
     },
     "execution_count": 25,
     "metadata": {},
     "output_type": "execute_result"
    }
   ],
   "source": [
    "import pandas as pd\n",
    "\n",
    "df = pd.read_csv('statements.csv',names=['index','ID','Value'])\n",
    "df.head()"
   ]
  },
  {
   "cell_type": "markdown",
   "id": "0cc732a7",
   "metadata": {},
   "source": [
    "# Example 14: Using pandas to explore a CSV file"
   ]
  },
  {
   "cell_type": "code",
   "execution_count": 4,
   "id": "99b67a81",
   "metadata": {},
   "outputs": [
    {
     "data": {
      "text/html": [
       "<div>\n",
       "<style scoped>\n",
       "    .dataframe tbody tr th:only-of-type {\n",
       "        vertical-align: middle;\n",
       "    }\n",
       "\n",
       "    .dataframe tbody tr th {\n",
       "        vertical-align: top;\n",
       "    }\n",
       "\n",
       "    .dataframe thead th {\n",
       "        text-align: right;\n",
       "    }\n",
       "</style>\n",
       "<table border=\"1\" class=\"dataframe\">\n",
       "  <thead>\n",
       "    <tr style=\"text-align: right;\">\n",
       "      <th></th>\n",
       "      <th>PassengerId</th>\n",
       "      <th>Survived</th>\n",
       "      <th>Pclass</th>\n",
       "      <th>Name</th>\n",
       "      <th>Sex</th>\n",
       "      <th>Age</th>\n",
       "      <th>SibSp</th>\n",
       "      <th>Parch</th>\n",
       "      <th>Ticket</th>\n",
       "      <th>Fare</th>\n",
       "      <th>Cabin</th>\n",
       "      <th>Embarked</th>\n",
       "    </tr>\n",
       "  </thead>\n",
       "  <tbody>\n",
       "    <tr>\n",
       "      <th>0</th>\n",
       "      <td>1</td>\n",
       "      <td>0</td>\n",
       "      <td>3</td>\n",
       "      <td>Braund, Mr. Owen Harris</td>\n",
       "      <td>male</td>\n",
       "      <td>22.0</td>\n",
       "      <td>1</td>\n",
       "      <td>0</td>\n",
       "      <td>A/5 21171</td>\n",
       "      <td>7.2500</td>\n",
       "      <td>NaN</td>\n",
       "      <td>S</td>\n",
       "    </tr>\n",
       "    <tr>\n",
       "      <th>1</th>\n",
       "      <td>2</td>\n",
       "      <td>1</td>\n",
       "      <td>1</td>\n",
       "      <td>Cumings, Mrs. John Bradley (Florence Briggs Th...</td>\n",
       "      <td>female</td>\n",
       "      <td>38.0</td>\n",
       "      <td>1</td>\n",
       "      <td>0</td>\n",
       "      <td>PC 17599</td>\n",
       "      <td>71.2833</td>\n",
       "      <td>C85</td>\n",
       "      <td>C</td>\n",
       "    </tr>\n",
       "    <tr>\n",
       "      <th>2</th>\n",
       "      <td>3</td>\n",
       "      <td>1</td>\n",
       "      <td>3</td>\n",
       "      <td>Heikkinen, Miss. Laina</td>\n",
       "      <td>female</td>\n",
       "      <td>26.0</td>\n",
       "      <td>0</td>\n",
       "      <td>0</td>\n",
       "      <td>STON/O2. 3101282</td>\n",
       "      <td>7.9250</td>\n",
       "      <td>NaN</td>\n",
       "      <td>S</td>\n",
       "    </tr>\n",
       "    <tr>\n",
       "      <th>3</th>\n",
       "      <td>4</td>\n",
       "      <td>1</td>\n",
       "      <td>1</td>\n",
       "      <td>Futrelle, Mrs. Jacques Heath (Lily May Peel)</td>\n",
       "      <td>female</td>\n",
       "      <td>35.0</td>\n",
       "      <td>1</td>\n",
       "      <td>0</td>\n",
       "      <td>113803</td>\n",
       "      <td>53.1000</td>\n",
       "      <td>C123</td>\n",
       "      <td>S</td>\n",
       "    </tr>\n",
       "    <tr>\n",
       "      <th>4</th>\n",
       "      <td>5</td>\n",
       "      <td>0</td>\n",
       "      <td>3</td>\n",
       "      <td>Allen, Mr. William Henry</td>\n",
       "      <td>male</td>\n",
       "      <td>35.0</td>\n",
       "      <td>0</td>\n",
       "      <td>0</td>\n",
       "      <td>373450</td>\n",
       "      <td>8.0500</td>\n",
       "      <td>NaN</td>\n",
       "      <td>S</td>\n",
       "    </tr>\n",
       "  </tbody>\n",
       "</table>\n",
       "</div>"
      ],
      "text/plain": [
       "   PassengerId  Survived  Pclass  \\\n",
       "0            1         0       3   \n",
       "1            2         1       1   \n",
       "2            3         1       3   \n",
       "3            4         1       1   \n",
       "4            5         0       3   \n",
       "\n",
       "                                                Name     Sex   Age  SibSp  \\\n",
       "0                            Braund, Mr. Owen Harris    male  22.0      1   \n",
       "1  Cumings, Mrs. John Bradley (Florence Briggs Th...  female  38.0      1   \n",
       "2                             Heikkinen, Miss. Laina  female  26.0      0   \n",
       "3       Futrelle, Mrs. Jacques Heath (Lily May Peel)  female  35.0      1   \n",
       "4                           Allen, Mr. William Henry    male  35.0      0   \n",
       "\n",
       "   Parch            Ticket     Fare Cabin Embarked  \n",
       "0      0         A/5 21171   7.2500   NaN        S  \n",
       "1      0          PC 17599  71.2833   C85        C  \n",
       "2      0  STON/O2. 3101282   7.9250   NaN        S  \n",
       "3      0            113803  53.1000  C123        S  \n",
       "4      0            373450   8.0500   NaN        S  "
      ]
     },
     "execution_count": 4,
     "metadata": {},
     "output_type": "execute_result"
    }
   ],
   "source": [
    "link = 'https://raw.githubusercontent.com/JoeGanser/datasets/master/titanic.csv'\n",
    "import pandas as pd\n",
    "data = pd.read_csv(link)\n",
    "data.head()"
   ]
  },
  {
   "cell_type": "code",
   "execution_count": 37,
   "id": "91294cbd",
   "metadata": {},
   "outputs": [
    {
     "data": {
      "text/plain": [
       "count    714.000000\n",
       "mean      29.699118\n",
       "std       14.526497\n",
       "min        0.420000\n",
       "25%       20.125000\n",
       "50%       28.000000\n",
       "75%       38.000000\n",
       "max       80.000000\n",
       "Name: Age, dtype: float64"
      ]
     },
     "execution_count": 37,
     "metadata": {},
     "output_type": "execute_result"
    }
   ],
   "source": [
    "data['Age'].describe()"
   ]
  },
  {
   "cell_type": "code",
   "execution_count": 38,
   "id": "9ad63a8a",
   "metadata": {},
   "outputs": [
    {
     "data": {
      "text/plain": [
       "count    453.000000\n",
       "mean      30.726645\n",
       "std       14.678201\n",
       "min        0.420000\n",
       "25%       21.000000\n",
       "50%       29.000000\n",
       "75%       39.000000\n",
       "max       80.000000\n",
       "Name: Age, dtype: float64"
      ]
     },
     "execution_count": 38,
     "metadata": {},
     "output_type": "execute_result"
    }
   ],
   "source": [
    "data[data['Sex']=='male']['Age'].describe()"
   ]
  },
  {
   "cell_type": "code",
   "execution_count": 41,
   "id": "98dd401a",
   "metadata": {},
   "outputs": [
    {
     "data": {
      "image/png": "[encoded data removed]",
      "text/plain": [
       "<Figure size 432x288 with 1 Axes>"
      ]
     },
     "metadata": {
      "needs_background": "light"
     },
     "output_type": "display_data"
    }
   ],
   "source": [
    "import matplotlib.pyplot as plt\n",
    "data[data['Sex']=='male']['Age'].hist()\n",
    "plt.xlabel('age')\n",
    "plt.ylabel('count')\n",
    "plt.title('Histogram of male ages on the titanic')\n",
    "plt.show()"
   ]
  },
  {
   "cell_type": "code",
   "execution_count": null,
   "id": "06f5d54d",
   "metadata": {},
   "outputs": [],
   "source": []
  }
 ],
 "metadata": {
  "kernelspec": {
   "display_name": "Python 3 (ipykernel)",
   "language": "python",
   "name": "python3"
  },
  "language_info": {
   "codemirror_mode": {
    "name": "ipython",
    "version": 3
   },
   "file_extension": ".py",
   "mimetype": "text/x-python",
   "name": "python",
   "nbconvert_exporter": "python",
   "pygments_lexer": "ipython3",
   "version": "3.9.7"
  }
 },
 "nbformat": 4,
 "nbformat_minor": 5
}
