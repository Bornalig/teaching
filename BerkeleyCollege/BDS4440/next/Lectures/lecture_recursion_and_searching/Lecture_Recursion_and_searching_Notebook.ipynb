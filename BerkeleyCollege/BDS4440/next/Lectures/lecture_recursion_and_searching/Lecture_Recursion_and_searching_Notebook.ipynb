{
 "cells": [
  {
   "cell_type": "markdown",
   "id": "f7028a17",
   "metadata": {},
   "source": [
    "# Advanced programming for AI\n",
    "\n",
    "# Lecture Notebook: Recursion and searching functions"
   ]
  },
  {
   "cell_type": "markdown",
   "id": "54e42c4a",
   "metadata": {},
   "source": [
    "# Example 1: The factorial function"
   ]
  },
  {
   "cell_type": "code",
   "execution_count": 4,
   "id": "ee4f3039",
   "metadata": {},
   "outputs": [
    {
     "name": "stdout",
     "output_type": "stream",
     "text": [
      "Factorial(0)=1\n",
      "Factorial(1)=1\n",
      "Factorial(2)=2\n",
      "Factorial(3)=6\n",
      "Factorial(4)=24\n",
      "Factorial(5)=120\n",
      "Factorial(6)=720\n",
      "Factorial(7)=5040\n"
     ]
    }
   ],
   "source": [
    "def Factorial(n):\n",
    "    if n<=1:\n",
    "        return 1\n",
    "    return n*Factorial(n-1)\n",
    "\n",
    "for n in range(8):\n",
    "    print(f'Factorial({n})={Factorial(n)}')"
   ]
  },
  {
   "cell_type": "markdown",
   "id": "20f16b10",
   "metadata": {},
   "source": [
    "# Example 2: The fibonacci function"
   ]
  },
  {
   "cell_type": "code",
   "execution_count": 2,
   "id": "f26f6e9d",
   "metadata": {},
   "outputs": [
    {
     "name": "stdout",
     "output_type": "stream",
     "text": [
      "Fibonacci(0)=0\n",
      "Fibonacci(1)=1\n",
      "Fibonacci(2)=1\n",
      "Fibonacci(3)=2\n",
      "Fibonacci(4)=3\n",
      "Fibonacci(5)=5\n",
      "Fibonacci(6)=8\n",
      "Fibonacci(7)=13\n"
     ]
    }
   ],
   "source": [
    "def Fibonacci(n):\n",
    "    if n in [0,1]:\n",
    "        return n\n",
    "    else: \n",
    "        return Fibonacci(n-1)+Fibonacci(n-2)\n",
    "    \n",
    "for n in range(8):\n",
    "    print(f'Fibonacci({n})={Fibonacci(n)}')"
   ]
  },
  {
   "cell_type": "markdown",
   "id": "25f78627",
   "metadata": {},
   "source": [
    "# Example 3: Counting down numbers with recursion"
   ]
  },
  {
   "cell_type": "code",
   "execution_count": 6,
   "id": "06f730ed",
   "metadata": {},
   "outputs": [
    {
     "name": "stdout",
     "output_type": "stream",
     "text": [
      "5\n",
      "4\n",
      "3\n",
      "2\n",
      "1\n",
      "0\n"
     ]
    }
   ],
   "source": [
    "def countdown(n):\n",
    "    print(n)\n",
    "    if n == 0:\n",
    "        return\n",
    "    else:\n",
    "        countdown(n - 1)\n",
    "        \n",
    "countdown(5)"
   ]
  },
  {
   "cell_type": "markdown",
   "id": "6e468806",
   "metadata": {},
   "source": [
    "# Example 4: Linear Search"
   ]
  },
  {
   "cell_type": "code",
   "execution_count": 10,
   "id": "ce13e073",
   "metadata": {},
   "outputs": [],
   "source": [
    "def linear_search(data,search_key):\n",
    "    for index,value in enumerate(data):\n",
    "        if value==search_key:\n",
    "            print(f'value is at index :{index}')\n",
    "            return index\n",
    "    return -1"
   ]
  },
  {
   "cell_type": "code",
   "execution_count": 15,
   "id": "27f5d8fc",
   "metadata": {},
   "outputs": [
    {
     "name": "stdout",
     "output_type": "stream",
     "text": [
      "[10, 19, 22, 55, 75, 300]\n",
      "value is at index :2\n"
     ]
    },
    {
     "data": {
      "text/plain": [
       "2"
      ]
     },
     "execution_count": 15,
     "metadata": {},
     "output_type": "execute_result"
    }
   ],
   "source": [
    "data=[10, 19, 22, 55, 75, 300]\n",
    "print(data)\n",
    "key_to_search_for = 22\n",
    "\n",
    "linear_search(data,key_to_search_for)"
   ]
  },
  {
   "cell_type": "markdown",
   "id": "82fe1464",
   "metadata": {},
   "source": [
    "# Example 5: Binary Search \n",
    "* Assume that the data is sorted to begin with"
   ]
  },
  {
   "cell_type": "code",
   "execution_count": 1,
   "id": "edcf740f",
   "metadata": {},
   "outputs": [
    {
     "name": "stdout",
     "output_type": "stream",
     "text": [
      "[10, 19, 22, 55, 75, 300]\n",
      "[10, 19, 22]\n",
      "[22]\n",
      "value 22 is at index: 2\n"
     ]
    },
    {
     "data": {
      "text/plain": [
       "2"
      ]
     },
     "execution_count": 1,
     "metadata": {},
     "output_type": "execute_result"
    }
   ],
   "source": [
    "def binary_search(data,key,printing):\n",
    "    low=0\n",
    "    high=len(data)-1\n",
    "    middle = (low+high+1)//2\n",
    "    location=-1\n",
    "    while low<=high and location==-1:\n",
    "        if printing:\n",
    "            print(data[low:high+1])\n",
    "        if key == data[middle]:\n",
    "            location=middle\n",
    "        elif key<data[middle]:\n",
    "            high = middle-1\n",
    "        else:\n",
    "            low = middle+1\n",
    "        middle = (low+high+1)//2\n",
    "    print(f'value {key} is at index: {location}')\n",
    "    return location\n",
    "\n",
    "data=[10, 19, 22, 55, 75, 300]\n",
    "key_to_search_for = 22\n",
    "binary_search(data,key_to_search_for,printing=True)"
   ]
  },
  {
   "cell_type": "code",
   "execution_count": 3,
   "id": "fbaff961",
   "metadata": {},
   "outputs": [
    {
     "name": "stdout",
     "output_type": "stream",
     "text": [
      "[4, 5, 6, 7, 0, 1, 2]\n",
      "[4, 5, 6]\n",
      "[4]\n",
      "value 0 is at index: -1\n"
     ]
    },
    {
     "data": {
      "text/plain": [
       "-1"
      ]
     },
     "execution_count": 3,
     "metadata": {},
     "output_type": "execute_result"
    }
   ],
   "source": [
    "L = [4,5,6,7,0,1,2]\n",
    "key=0\n",
    "binary_search(L,key,printing=True)"
   ]
  },
  {
   "cell_type": "markdown",
   "id": "12a15a89",
   "metadata": {},
   "source": [
    "# Example 6: Binary Search versus Linear Search processing times\n",
    "\n",
    "Depending upon the size of the data set, binary search is faster. For a tiny data set, linear search might be faster."
   ]
  },
  {
   "cell_type": "code",
   "execution_count": 48,
   "id": "15181d2a",
   "metadata": {},
   "outputs": [
    {
     "name": "stdout",
     "output_type": "stream",
     "text": [
      "Binary Search without recursion\n",
      "value is at index: 550\n",
      "CPU times: user 60 µs, sys: 18 µs, total: 78 µs\n",
      "Wall time: 68.9 µs\n",
      "\n",
      "\n",
      "Linear Search\n",
      "value is at index :550\n",
      "CPU times: user 467 µs, sys: 496 µs, total: 963 µs\n",
      "Wall time: 577 µs\n"
     ]
    },
    {
     "data": {
      "text/plain": [
       "550"
      ]
     },
     "execution_count": 48,
     "metadata": {},
     "output_type": "execute_result"
    }
   ],
   "source": [
    "data = list(np.arange(0,100,0.1))\n",
    "key_to_search_for = 55\n",
    " \n",
    "# Function call\n",
    "print('Binary Search without recursion')\n",
    "%time binary_search(data,key_to_search_for,printing=False)\n",
    "print('\\n')\n",
    "print('Linear Search')\n",
    "%time linear_search(data,key_to_search_for)"
   ]
  },
  {
   "cell_type": "markdown",
   "id": "78ff5c9b",
   "metadata": {},
   "source": [
    "# Example 7: Binary Search via Recursion VERSUS Binary Search without Recursion\n",
    "\n",
    "* The binary search function can be created in a recursive format. In some circumstances this can be faster."
   ]
  },
  {
   "cell_type": "code",
   "execution_count": 52,
   "id": "942c6750",
   "metadata": {},
   "outputs": [
    {
     "name": "stdout",
     "output_type": "stream",
     "text": [
      "Binary Search without recursion\n",
      "value 55 is at index: 550\n",
      "CPU times: user 71 µs, sys: 19 µs, total: 90 µs\n",
      "Wall time: 79.2 µs\n",
      "\n",
      "\n",
      "Binary Search with recursion\n",
      "Value 55 is present at index 550\n",
      "CPU times: user 216 µs, sys: 164 µs, total: 380 µs\n",
      "Wall time: 271 µs\n"
     ]
    },
    {
     "data": {
      "text/plain": [
       "550"
      ]
     },
     "execution_count": 52,
     "metadata": {},
     "output_type": "execute_result"
    }
   ],
   "source": [
    "def binary_search_recursion(data,key):\n",
    "    def binary_search_recur(arr, low, high, key):\n",
    "        if high >= low:\n",
    "            mid = (high + low) // 2\n",
    "            if arr[mid] == key:\n",
    "                print(f'Value {key} is present at index {mid}')\n",
    "                return mid\n",
    "            elif arr[mid] > key:\n",
    "                #recursion relation\n",
    "                return binary_search_recur(arr, low, mid - 1, key)\n",
    "            else:\n",
    "                return binary_search_recur(arr, mid + 1, high, key)\n",
    "        else:\n",
    "            print(f'Value {key} is NOT present in data')\n",
    "            return -1\n",
    "    high=len(data)-1\n",
    "    low=0\n",
    "    return binary_search_recur(data,low,high,key)\n",
    "    \n",
    "# Test array\n",
    "data = list(np.arange(0,100,0.1))\n",
    "key_to_search_for = 55\n",
    " \n",
    "# Function call\n",
    "print('Binary Search without recursion')\n",
    "%time binary_search(data,key_to_search_for,printing=False)\n",
    "print('\\n')\n",
    "print('Binary Search with recursion')\n",
    "%time binary_search_recursion(data,key_to_search_for)"
   ]
  },
  {
   "cell_type": "code",
   "execution_count": null,
   "id": "3776c7b3",
   "metadata": {},
   "outputs": [],
   "source": []
  }
 ],
 "metadata": {
  "kernelspec": {
   "display_name": "Python 3 (ipykernel)",
   "language": "python",
   "name": "python3"
  },
  "language_info": {
   "codemirror_mode": {
    "name": "ipython",
    "version": 3
   },
   "file_extension": ".py",
   "mimetype": "text/x-python",
   "name": "python",
   "nbconvert_exporter": "python",
   "pygments_lexer": "ipython3",
   "version": "3.9.7"
  }
 },
 "nbformat": 4,
 "nbformat_minor": 5
}
