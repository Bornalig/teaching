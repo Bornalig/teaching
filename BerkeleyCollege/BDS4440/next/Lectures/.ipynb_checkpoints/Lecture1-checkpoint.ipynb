{
 "cells": [
  {
   "cell_type": "markdown",
   "id": "04a45ff5",
   "metadata": {},
   "source": [
    "# Using the `with` statement to open and save string data to a `txt` file.\n",
    "\n",
    "* Note the `mode='w'` argument on the open clause;\n",
    "    * `'r'` means read the file\n",
    "    * `'w'` means write to the file\n",
    "    * `'a'` means append to the end of the file\n",
    "    * `'r+'` means read and write\n",
    "    * `'w+'` means read and write, pre-existing contents deleted\n",
    "    * `a+` means append to the end of a file, create if it doesn't exist already."
   ]
  },
  {
   "cell_type": "code",
   "execution_count": 1,
   "id": "c1ac02aa",
   "metadata": {},
   "outputs": [],
   "source": [
    "with open('string_lines.txt',mode='w') as text_document:\n",
    "    accounts.write('99 Jimmy 55.8\\n')\n",
    "    accounts.write('100 Dianna 345.67\\n')\n",
    "    accounts.write('300 Wilber 0.00\\n')\n",
    "    accounts.write('400 Stone -42.16\\n')\n",
    "    accounts.write('500 Rich 224.62\\n')"
   ]
  },
  {
   "cell_type": "markdown",
   "id": "c9976352",
   "metadata": {},
   "source": [
    "# opening files without the `with` statement\n",
    "* Need the `.close()` method at the end"
   ]
  },
  {
   "cell_type": "code",
   "execution_count": null,
   "id": "f969e241",
   "metadata": {},
   "outputs": [],
   "source": [
    "accounts = open('accounts.txt','w')\n",
    "accounts.write('Line 1\\n')\n",
    "accounts.write('Line 2\\n')\n",
    "accounts.close()"
   ]
  },
  {
   "cell_type": "markdown",
   "id": "60ceec81",
   "metadata": {},
   "source": [
    "# Saving a python dictionary to a `json` file"
   ]
  },
  {
   "cell_type": "code",
   "execution_count": 2,
   "id": "de42b751",
   "metadata": {},
   "outputs": [],
   "source": [
    "import json\n",
    "\n",
    "credentials = {'user':'johndoe',\n",
    "               'password':'qwert123',\n",
    "               'account':'google.cloud.usa123.com',\n",
    "               'database':'GCP'}\n",
    "\n",
    "with open('credentials.json','w') as creds:\n",
    "    json.dump(credentials,creds)"
   ]
  },
  {
   "cell_type": "markdown",
   "id": "bc8351ea",
   "metadata": {},
   "source": [
    "# Loading a dictionary from a json file"
   ]
  },
  {
   "cell_type": "code",
   "execution_count": 5,
   "id": "4016d145",
   "metadata": {},
   "outputs": [
    {
     "name": "stdout",
     "output_type": "stream",
     "text": [
      "johndoe\n"
     ]
    }
   ],
   "source": [
    "import json\n",
    "with open('credentials.json','r') as creds:\n",
    "    credential = json.load(creds)\n",
    "    \n",
    "print(credential['user'])"
   ]
  },
  {
   "cell_type": "markdown",
   "id": "ef6008f5",
   "metadata": {},
   "source": [
    "# Deleting and renaming a file"
   ]
  },
  {
   "cell_type": "code",
   "execution_count": 6,
   "id": "7d564650",
   "metadata": {},
   "outputs": [],
   "source": [
    "import os\n",
    "\n",
    "#rename the file\n",
    "os.rename('accounts.txt','other_name.txt')\n",
    "\n",
    "#delete the file\n",
    "os.remove('other_name.txt')"
   ]
  },
  {
   "cell_type": "code",
   "execution_count": null,
   "id": "ba04091f",
   "metadata": {},
   "outputs": [],
   "source": [
    "#Error handling: Working with "
   ]
  }
 ],
 "metadata": {
  "kernelspec": {
   "display_name": "Python 3 (ipykernel)",
   "language": "python",
   "name": "python3"
  },
  "language_info": {
   "codemirror_mode": {
    "name": "ipython",
    "version": 3
   },
   "file_extension": ".py",
   "mimetype": "text/x-python",
   "name": "python",
   "nbconvert_exporter": "python",
   "pygments_lexer": "ipython3",
   "version": "3.9.7"
  }
 },
 "nbformat": 4,
 "nbformat_minor": 5
}
