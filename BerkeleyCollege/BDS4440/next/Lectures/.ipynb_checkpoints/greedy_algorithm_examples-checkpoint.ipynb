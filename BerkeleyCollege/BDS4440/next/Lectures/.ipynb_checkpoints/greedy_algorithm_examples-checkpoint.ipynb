{
 "cells": [
  {
   "cell_type": "markdown",
   "id": "957ed396",
   "metadata": {},
   "source": [
    "# Greedy Algorithm Examples\n",
    "\n",
    "You want to give some children cookies.\n",
    "* Each child i has a greed factor gi, which is the minimum size of a cookie that the child will be content with; \n",
    "* each cookie j has a size sj. \n",
    "* If sj >= gi, we can assign the cookie j to the child i, and the child i will be content. \n",
    "* **goal is to maximize the number of your content children**\n",
    "\n",
    "Note:\n",
    "You may assume the greed factor is always positive.\n",
    "You cannot assign more than one cookie to one child.\n",
    "\n",
    "**Case1**\n",
    "\n",
    "Input: `children=[1,2,3]`, `cookies=[1,1]`\n",
    "\n",
    "Output: 1\n",
    "\n",
    "Explanation: You have 3 children and 2 cookies. \n",
    "\n",
    "The greed factors of 3 children are 1, 2, 3. \n",
    "And even though you have 2 cookies, since their size is both 1, you could only make the child whose greed factor is 1 content.\n",
    "You need to output 1.\n",
    "\n",
    "\n",
    "**Case2**\n",
    "\n",
    "Input: `children=[1,2]`, `cookies=[1,2,3]`\n",
    "Output: 2\n",
    "\n",
    "Explanation: You have 2 children and 3 cookies. The greed factors of 2 children are 1, 2. \n",
    "You have 3 cookies and their sizes are big enough to gratify all of the children, \n",
    "You need to output 2."
   ]
  },
  {
   "cell_type": "code",
   "execution_count": 1,
   "id": "2361f542",
   "metadata": {},
   "outputs": [
    {
     "name": "stdout",
     "output_type": "stream",
     "text": [
      "Case 1:\n",
      "1\n",
      "Case 2:\n",
      "2\n"
     ]
    }
   ],
   "source": [
    "def findContentChildren(g, s):\n",
    "        g=sorted(g)\n",
    "        s=sorted(s)\n",
    "        ans,i,j=0,0,0\n",
    "        while i<len(s) and j<len(g):\n",
    "            if s[i]>=g[i]:\n",
    "                ans+=1\n",
    "                i+=1\n",
    "                j+=1\n",
    "            else:\n",
    "                i+=1\n",
    "        return ans\n",
    "    \n",
    "print('Case 1:')\n",
    "print(findContentChildren([1,2,3],[1,1]))\n",
    "\n",
    "print('Case 2:')\n",
    "print(findContentChildren([1,2],[1,2,3]))"
   ]
  },
  {
   "cell_type": "markdown",
   "id": "f5a7d5d2",
   "metadata": {},
   "source": [
    "Sources\n",
    "\n",
    "1. https://www.geeksforgeeks.org/fractional-knapsack-problem/\n",
    "2. https://igotanoffer.com/blogs/tech/greedy-algorithm-interview-questions"
   ]
  },
  {
   "cell_type": "code",
   "execution_count": 27,
   "id": "458f8bbf",
   "metadata": {},
   "outputs": [],
   "source": [
    "def luckBalance(k, contests):\n",
    "    important, optional = [], 0\n",
    "    for x,y in contests:\n",
    "        if y: \n",
    "            important.append(x)\n",
    "        else: \n",
    "            optional+=x\n",
    "    if k<len(important):\n",
    "        s = sorted(important)\n",
    "        i = len(s)-k\n",
    "        return optional+sum(s[i:])-sum(s[:i])\n",
    "    return optional+sum(important)"
   ]
  },
  {
   "cell_type": "code",
   "execution_count": 28,
   "id": "32595572",
   "metadata": {},
   "outputs": [
    {
     "data": {
      "text/plain": [
       "21"
      ]
     },
     "execution_count": 28,
     "metadata": {},
     "output_type": "execute_result"
    }
   ],
   "source": [
    "k=2\n",
    "contests = [[5,1],[4,0],[6,1],[2,1],[8,0]]\n",
    "\n",
    "luckBalance(k,contests)"
   ]
  },
  {
   "cell_type": "code",
   "execution_count": 10,
   "id": "4b6eca47",
   "metadata": {},
   "outputs": [
    {
     "name": "stdout",
     "output_type": "stream",
     "text": [
      "[1, 2, 5]\n"
     ]
    },
    {
     "data": {
      "text/plain": [
       "21"
      ]
     },
     "execution_count": 10,
     "metadata": {},
     "output_type": "execute_result"
    }
   ],
   "source": [
    "k = 3\n",
    "contests = [[5, 1], [2, 1], [1, 1], [8, 1], [10, 0], [5, 0]]\n",
    "luckBalance(k,contests)"
   ]
  },
  {
   "cell_type": "code",
   "execution_count": 18,
   "id": "da83718b",
   "metadata": {},
   "outputs": [
    {
     "data": {
      "text/plain": [
       "96"
      ]
     },
     "execution_count": 18,
     "metadata": {},
     "output_type": "execute_result"
    }
   ],
   "source": [
    "l=[13,10,9,8,13,12,18,13]\n",
    "sum(l)"
   ]
  },
  {
   "cell_type": "code",
   "execution_count": 24,
   "id": "9cd5c0fa",
   "metadata": {},
   "outputs": [
    {
     "data": {
      "text/plain": [
       "25"
      ]
     },
     "execution_count": 24,
     "metadata": {},
     "output_type": "execute_result"
    }
   ],
   "source": [
    "l=[5,4,6,2,8]\n",
    "sum(l)"
   ]
  },
  {
   "cell_type": "code",
   "execution_count": null,
   "id": "a815d520",
   "metadata": {},
   "outputs": [],
   "source": []
  }
 ],
 "metadata": {
  "kernelspec": {
   "display_name": "Python 3 (ipykernel)",
   "language": "python",
   "name": "python3"
  },
  "language_info": {
   "codemirror_mode": {
    "name": "ipython",
    "version": 3
   },
   "file_extension": ".py",
   "mimetype": "text/x-python",
   "name": "python",
   "nbconvert_exporter": "python",
   "pygments_lexer": "ipython3",
   "version": "3.9.7"
  }
 },
 "nbformat": 4,
 "nbformat_minor": 5
}
