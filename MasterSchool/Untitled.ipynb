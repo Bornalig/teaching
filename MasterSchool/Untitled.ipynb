{
 "cells": [
  {
   "cell_type": "code",
   "execution_count": 1,
   "id": "0f19ab05",
   "metadata": {},
   "outputs": [],
   "source": [
    "d = {'(0,2.5)':10,'(2.5,5)':20,'(5,7.5)':15}\n",
    "\n",
    "[0.15,1.5,0.67,...] #10 elements\n",
    "[2.5, 3,4, 5,]  #20 elements\n",
    "\n",
    "\n",
    "[0.15,1.5,0.67,...,2.5, 3,4, 5,]"
   ]
  }
 ],
 "metadata": {
  "kernelspec": {
   "display_name": "Python 3 (ipykernel)",
   "language": "python",
   "name": "python3"
  },
  "language_info": {
   "codemirror_mode": {
    "name": "ipython",
    "version": 3
   },
   "file_extension": ".py",
   "mimetype": "text/x-python",
   "name": "python",
   "nbconvert_exporter": "python",
   "pygments_lexer": "ipython3",
   "version": "3.9.13"
  }
 },
 "nbformat": 4,
 "nbformat_minor": 5
}
