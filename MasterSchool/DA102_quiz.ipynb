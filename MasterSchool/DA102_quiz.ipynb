{
 "cells": [
  {
   "cell_type": "markdown",
   "id": "ea64464e",
   "metadata": {},
   "source": [
    "# Problem 1\n",
    "\n",
    "4 = (4+5+6+x)/4\n",
    "\n",
    "16 - (4+5+6) = x\n",
    "\n",
    "16 - 15 = x\n",
    "\n",
    "1 = x"
   ]
  },
  {
   "cell_type": "markdown",
   "id": "8dde5613",
   "metadata": {},
   "source": [
    "# Problem 2\n",
    "\n",
    "salaries = [40,50,40,50,40,100]\n",
    "\n",
    "old mean = (40+50+40+50+40+100)/6\n",
    "\n",
    "new_salaries = [40,50,40,50,40]\n",
    "\n",
    "new_mean = (40+50+40+50+40)/5"
   ]
  },
  {
   "cell_type": "code",
   "execution_count": 4,
   "id": "d871417d",
   "metadata": {},
   "outputs": [
    {
     "name": "stdout",
     "output_type": "stream",
     "text": [
      "53.333333333333336\n",
      "44.0\n"
     ]
    }
   ],
   "source": [
    "old_mean = (40+50+40+50+40+100)/6\n",
    "print(old_mean)\n",
    "\n",
    "new_mean = (40+50+40+50+40)/5\n",
    "print(new_mean)"
   ]
  },
  {
   "cell_type": "markdown",
   "id": "9e734a98",
   "metadata": {},
   "source": [
    "# Problem 3\n",
    "\n",
    "d = {'tal':9,'Atalia':3,'Misha':7,'Guard':4}"
   ]
  },
  {
   "cell_type": "code",
   "execution_count": 5,
   "id": "b2f2e4ba",
   "metadata": {},
   "outputs": [
    {
     "data": {
      "text/plain": [
       "5.75"
      ]
     },
     "execution_count": 5,
     "metadata": {},
     "output_type": "execute_result"
    }
   ],
   "source": [
    "(9+3+7+4)/4"
   ]
  },
  {
   "cell_type": "markdown",
   "id": "4b3ac63f",
   "metadata": {},
   "source": [
    "# Problem 4\n",
    "\n",
    "l = [35,39,39,43,43,44]"
   ]
  },
  {
   "cell_type": "code",
   "execution_count": 6,
   "id": "bcb8239b",
   "metadata": {},
   "outputs": [
    {
     "data": {
      "text/plain": [
       "40.5"
      ]
     },
     "execution_count": 6,
     "metadata": {},
     "output_type": "execute_result"
    }
   ],
   "source": [
    "l = [35,39,39,43,43,44]\n",
    "\n",
    "sum(l)/len(l)"
   ]
  },
  {
   "cell_type": "markdown",
   "id": "c1aade0b",
   "metadata": {},
   "source": [
    "# Problem 5"
   ]
  },
  {
   "cell_type": "code",
   "execution_count": 14,
   "id": "c6dffc10",
   "metadata": {},
   "outputs": [
    {
     "data": {
      "text/plain": [
       "7.5"
      ]
     },
     "execution_count": 14,
     "metadata": {},
     "output_type": "execute_result"
    }
   ],
   "source": [
    "data = [32,34,35,35,39,40,44,47]\n",
    "q3 = (40+44)/2\n",
    "q1 = (34+35)/2\n",
    "\n",
    "q3-q1"
   ]
  },
  {
   "cell_type": "markdown",
   "id": "84adf3b8",
   "metadata": {},
   "source": [
    "# Problem 6"
   ]
  },
  {
   "cell_type": "code",
   "execution_count": 18,
   "id": "8747fc17",
   "metadata": {},
   "outputs": [
    {
     "name": "stdout",
     "output_type": "stream",
     "text": [
      "10.0\n",
      "4.381780460041329\n"
     ]
    }
   ],
   "source": [
    "l = [8,4,14,16,8]\n",
    "\n",
    "mean = sum(l)/len(l)\n",
    "\n",
    "std = (sum([(i-mean)**2 for i in l])/len(l))**0.5\n",
    "print(mean)\n",
    "print(std)"
   ]
  },
  {
   "cell_type": "markdown",
   "id": "57ed9025",
   "metadata": {},
   "source": [
    "# Problem 7"
   ]
  },
  {
   "cell_type": "code",
   "execution_count": 19,
   "id": "97d22de3",
   "metadata": {},
   "outputs": [
    {
     "data": {
      "text/plain": [
       "2.0"
      ]
     },
     "execution_count": 19,
     "metadata": {},
     "output_type": "execute_result"
    }
   ],
   "source": [
    "l = [2,3,3,4,4,4,4,5,5,6,7]\n",
    "\n",
    "q3 = (5+6)/2\n",
    "q1 = (3+4)/2\n",
    "\n",
    "q3-q1"
   ]
  },
  {
   "cell_type": "markdown",
   "id": "4d79ddf6",
   "metadata": {},
   "source": [
    "# Problem 8"
   ]
  },
  {
   "cell_type": "code",
   "execution_count": 21,
   "id": "ece8d02e",
   "metadata": {},
   "outputs": [
    {
     "name": "stdout",
     "output_type": "stream",
     "text": [
      "12.4\n",
      "4.800000000000001\n"
     ]
    }
   ],
   "source": [
    "l = [8,11,17,7,19]\n",
    "mean = sum(l)/len(l)\n",
    "\n",
    "std = (sum([(i-mean)**2 for i in l])/len(l))**0.5\n",
    "print(mean)\n",
    "print(std)"
   ]
  },
  {
   "cell_type": "markdown",
   "id": "8652832b",
   "metadata": {},
   "source": [
    "# Problem 9"
   ]
  },
  {
   "cell_type": "code",
   "execution_count": 26,
   "id": "6d25231d",
   "metadata": {},
   "outputs": [
    {
     "name": "stdout",
     "output_type": "stream",
     "text": [
      "76.14285714285715\n"
     ]
    }
   ],
   "source": [
    "l = [32,28,25,16,35,42,38]\n",
    "mean = sum(l)/len(l)\n",
    "\n",
    "var = sum([(i-mean)**2 for i in l])/(len(l)-1)\n",
    "print(var)"
   ]
  },
  {
   "cell_type": "markdown",
   "id": "82d79afc",
   "metadata": {},
   "source": [
    "# Problem 10"
   ]
  },
  {
   "cell_type": "code",
   "execution_count": 31,
   "id": "304b21c9",
   "metadata": {},
   "outputs": [
    {
     "data": {
      "image/png": "[encoded data removed]",
      "text/plain": [
       "<Figure size 640x480 with 1 Axes>"
      ]
     },
     "metadata": {},
     "output_type": "display_data"
    }
   ],
   "source": [
    "import matplotlib.pyplot as plt\n",
    "\n",
    "# Generate some random data\n",
    "\n",
    "data = [1,3,6,8,10,12,13,13,16,18,19]\n",
    "\n",
    "# Create a horizontal box plot\n",
    "plt.boxplot(data, vert=False)\n",
    "\n",
    "# Set the title and axis labels\n",
    "plt.title('Horizontal Box Plot')\n",
    "plt.xlabel('Value')\n",
    "plt.ylabel('Data')\n",
    "\n",
    "# Set the xticks for the last range\n",
    "xticks = range(0,21)\n",
    "plt.xticks(xticks, fontsize=10)\n",
    "\n",
    "# Show the plot\n",
    "plt.show()"
   ]
  },
  {
   "cell_type": "code",
   "execution_count": 32,
   "id": "5425ed6f",
   "metadata": {},
   "outputs": [
    {
     "data": {
      "text/plain": [
       "11"
      ]
     },
     "execution_count": 32,
     "metadata": {},
     "output_type": "execute_result"
    }
   ],
   "source": [
    "len(data)"
   ]
  }
 ],
 "metadata": {
  "kernelspec": {
   "display_name": "Python 3 (ipykernel)",
   "language": "python",
   "name": "python3"
  },
  "language_info": {
   "codemirror_mode": {
    "name": "ipython",
    "version": 3
   },
   "file_extension": ".py",
   "mimetype": "text/x-python",
   "name": "python",
   "nbconvert_exporter": "python",
   "pygments_lexer": "ipython3",
   "version": "3.9.13"
  }
 },
 "nbformat": 4,
 "nbformat_minor": 5
}
