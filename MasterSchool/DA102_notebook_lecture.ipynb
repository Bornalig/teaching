{
 "cells": [
  {
   "cell_type": "markdown",
   "id": "5e61b03c",
   "metadata": {},
   "source": [
    "# DA 102\n",
    "\n",
    "By Joe Ganser"
   ]
  },
  {
   "cell_type": "markdown",
   "id": "1a707cde",
   "metadata": {},
   "source": [
    "### Example: Find the mean\n",
    "\n",
    "* By creating a function\n",
    "* Using numpy packages\n",
    "\n",
    "`L = [100, 77, 93, 93, 115]`"
   ]
  },
  {
   "cell_type": "code",
   "execution_count": 2,
   "id": "e003a0bc",
   "metadata": {},
   "outputs": [
    {
     "data": {
      "text/plain": [
       "95.6"
      ]
     },
     "execution_count": 2,
     "metadata": {},
     "output_type": "execute_result"
    }
   ],
   "source": [
    "L = [100, 77, 93, 93, 115]\n",
    "\n",
    "def mean(x):\n",
    "    return sum(x)/len(x)\n",
    "\n",
    "mean(L)"
   ]
  },
  {
   "cell_type": "code",
   "execution_count": 3,
   "id": "500e8534",
   "metadata": {},
   "outputs": [
    {
     "data": {
      "text/plain": [
       "95.6"
      ]
     },
     "execution_count": 3,
     "metadata": {},
     "output_type": "execute_result"
    }
   ],
   "source": [
    "import numpy\n",
    "\n",
    "numpy.mean(L)"
   ]
  },
  {
   "cell_type": "markdown",
   "id": "41891848",
   "metadata": {},
   "source": [
    "### Example: Find the Mode\n",
    "\n",
    "* Build a function\n",
    "* Use a built in function"
   ]
  },
  {
   "cell_type": "code",
   "execution_count": 4,
   "id": "4a238149",
   "metadata": {},
   "outputs": [
    {
     "data": {
      "text/plain": [
       "{100: 1, 77: 1, 93: 2, 115: 1}"
      ]
     },
     "execution_count": 4,
     "metadata": {},
     "output_type": "execute_result"
    }
   ],
   "source": [
    "#build counts\n",
    "counts = {}\n",
    "for j in L:\n",
    "    if j not in counts.keys():\n",
    "        counts[j]=0\n",
    "    counts[j]=counts[j]+1\n",
    "counts"
   ]
  },
  {
   "cell_type": "code",
   "execution_count": 6,
   "id": "effb3f93",
   "metadata": {},
   "outputs": [
    {
     "name": "stdout",
     "output_type": "stream",
     "text": [
      "93\n"
     ]
    }
   ],
   "source": [
    "#find max count\n",
    "for key,value in counts.items():\n",
    "    if value == max(counts.values()):\n",
    "        print(key)"
   ]
  },
  {
   "cell_type": "code",
   "execution_count": 7,
   "id": "1eb3cc5b",
   "metadata": {},
   "outputs": [
    {
     "name": "stderr",
     "output_type": "stream",
     "text": [
      "2023-04-13 20:13:19,482 [5584] WARNING  py.warnings: /var/folders/hj/xyjyq1ds11n1ycjbp53_4svw0000gp/T/ipykernel_5584/2073290570.py:4: FutureWarning: Unlike other reduction functions (e.g. `skew`, `kurtosis`), the default behavior of `mode` typically preserves the axis it acts along. In SciPy 1.11.0, this behavior will change: the default value of `keepdims` will become False, the `axis` over which the statistic is taken will be eliminated, and the value None will no longer be accepted. Set `keepdims` to True or False to avoid this warning.\n",
      "  mode,count = stats.mode(L)\n",
      "\n"
     ]
    },
    {
     "name": "stdout",
     "output_type": "stream",
     "text": [
      "93\n"
     ]
    }
   ],
   "source": [
    "#import a package\n",
    "from scipy import stats\n",
    "\n",
    "mode,count = stats.mode(L)\n",
    "print(mode[0])"
   ]
  },
  {
   "cell_type": "markdown",
   "id": "dae7779a",
   "metadata": {},
   "source": [
    "### Example: find the median\n",
    "\n",
    "* Build a function\n",
    "* Use a built in function"
   ]
  },
  {
   "cell_type": "code",
   "execution_count": 8,
   "id": "d1b9edb6",
   "metadata": {},
   "outputs": [],
   "source": [
    "#build a function\n",
    "def median(L):\n",
    "    L = sorted(L)\n",
    "    if len(L)%2!=0:\n",
    "        return L[len(L)//2]\n",
    "    else:\n",
    "        return 0.5*(L[len(L)//2-1]+L[len(L)//2])"
   ]
  },
  {
   "cell_type": "code",
   "execution_count": 9,
   "id": "5084ac88",
   "metadata": {},
   "outputs": [
    {
     "data": {
      "text/plain": [
       "93"
      ]
     },
     "execution_count": 9,
     "metadata": {},
     "output_type": "execute_result"
    }
   ],
   "source": [
    "median(L)"
   ]
  },
  {
   "cell_type": "code",
   "execution_count": 10,
   "id": "943fa8e9",
   "metadata": {},
   "outputs": [
    {
     "data": {
      "text/plain": [
       "93.0"
      ]
     },
     "execution_count": 10,
     "metadata": {},
     "output_type": "execute_result"
    }
   ],
   "source": [
    "#use numpy\n",
    "numpy.median(L)"
   ]
  },
  {
   "cell_type": "markdown",
   "id": "df726444",
   "metadata": {},
   "source": [
    "### Example: Find the variance/standard dev\n",
    "\n",
    "* Build a function\n",
    "* Use a built in function"
   ]
  },
  {
   "cell_type": "code",
   "execution_count": 12,
   "id": "0fe66410",
   "metadata": {},
   "outputs": [
    {
     "data": {
      "text/plain": [
       "151.04000000000002"
      ]
     },
     "execution_count": 12,
     "metadata": {},
     "output_type": "execute_result"
    }
   ],
   "source": [
    "#build a function\n",
    "\n",
    "def variance(L):\n",
    "    mean = sum(L)/len(L)\n",
    "    N = len(L)\n",
    "    k = [(i-mean)**2 for i in L]\n",
    "    return sum(k)/N\n",
    "\n",
    "variance(L)"
   ]
  },
  {
   "cell_type": "code",
   "execution_count": 13,
   "id": "d4748b51",
   "metadata": {},
   "outputs": [
    {
     "data": {
      "text/plain": [
       "151.04000000000002"
      ]
     },
     "execution_count": 13,
     "metadata": {},
     "output_type": "execute_result"
    }
   ],
   "source": [
    "#use a package\n",
    "numpy.var(L)"
   ]
  },
  {
   "cell_type": "code",
   "execution_count": 14,
   "id": "d3f8f533",
   "metadata": {},
   "outputs": [
    {
     "data": {
      "text/plain": [
       "12.289833196589774"
      ]
     },
     "execution_count": 14,
     "metadata": {},
     "output_type": "execute_result"
    }
   ],
   "source": [
    "(variance(L))**(0.5)"
   ]
  },
  {
   "cell_type": "markdown",
   "id": "32a5c69a",
   "metadata": {},
   "source": [
    "### Example: Find quartiles\n",
    "\n",
    "* Use a built in function"
   ]
  },
  {
   "cell_type": "code",
   "execution_count": 15,
   "id": "0a9c8fa3",
   "metadata": {},
   "outputs": [
    {
     "name": "stdout",
     "output_type": "stream",
     "text": [
      "3.0\n"
     ]
    }
   ],
   "source": [
    "#use numpy\n",
    "data = [7,9,11,12,13,14,14,15,19]\n",
    "q1,q3 = numpy.percentile(data,[25,75])\n",
    "\n",
    "iqr = q3-q1\n",
    "print(iqr)"
   ]
  },
  {
   "cell_type": "markdown",
   "id": "01d598c1",
   "metadata": {},
   "source": [
    "### Example: Make box plot\n",
    "\n",
    "* Build a function"
   ]
  },
  {
   "cell_type": "code",
   "execution_count": 16,
   "id": "ca312301",
   "metadata": {},
   "outputs": [
    {
     "data": {
      "image/png": "[encoded data removed]",
      "text/plain": [
       "<Figure size 640x480 with 1 Axes>"
      ]
     },
     "metadata": {},
     "output_type": "display_data"
    }
   ],
   "source": [
    "#use matplot lib\n",
    "import matplotlib.pyplot as plt\n",
    "\n",
    "def create_box_plot(data):\n",
    "    plt.boxplot(data,vert=False)\n",
    "    \n",
    "    plt.title(\"box plot\")\n",
    "    plt.xlabel(\"data\")\n",
    "    plt.ylabel(\"Value\")\n",
    "    plt.show()\n",
    "    \n",
    "create_box_plot(data)"
   ]
  },
  {
   "cell_type": "markdown",
   "id": "eaac15d8",
   "metadata": {},
   "source": [
    "### Example: Make a histogram"
   ]
  },
  {
   "cell_type": "code",
   "execution_count": 18,
   "id": "81d737c2",
   "metadata": {},
   "outputs": [
    {
     "data": {
      "image/png": "[encoded data removed]",
      "text/plain": [
       "<Figure size 640x480 with 1 Axes>"
      ]
     },
     "metadata": {},
     "output_type": "display_data"
    }
   ],
   "source": [
    "import matplotlib.pyplot as plt\n",
    "\n",
    "data = [84, 44, 52, 12, 51, 56, 74, 52, 28, 26, 95, 16, 81, 88, 76, 91, 25,\n",
    "       38, 28, 89]\n",
    "\n",
    "plt.hist(data,bins=int(len(set(data))**0.5))\n",
    "\n",
    "plt.title(\"histograms of 20 numbs\")\n",
    "plt.xlabel(\"value\")\n",
    "plt.ylabel(\"count\")\n",
    "\n",
    "plt.show()"
   ]
  },
  {
   "cell_type": "code",
   "execution_count": null,
   "id": "5e716e74",
   "metadata": {},
   "outputs": [],
   "source": []
  }
 ],
 "metadata": {
  "kernelspec": {
   "display_name": "Python 3 (ipykernel)",
   "language": "python",
   "name": "python3"
  },
  "language_info": {
   "codemirror_mode": {
    "name": "ipython",
    "version": 3
   },
   "file_extension": ".py",
   "mimetype": "text/x-python",
   "name": "python",
   "nbconvert_exporter": "python",
   "pygments_lexer": "ipython3",
   "version": "3.9.13"
  }
 },
 "nbformat": 4,
 "nbformat_minor": 5
}
