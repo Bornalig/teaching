{
 "cells": [
  {
   "cell_type": "markdown",
   "id": "5e61b03c",
   "metadata": {},
   "source": [
    "# DA 102\n",
    "\n",
    "By Joe Ganser"
   ]
  },
  {
   "cell_type": "markdown",
   "id": "1a707cde",
   "metadata": {},
   "source": [
    "### Example: Find the mean\n",
    "\n",
    "* By creating a function\n",
    "* Using numpy packages\n",
    "\n",
    "`L = [100, 77, 93, 93, 115]`"
   ]
  },
  {
   "cell_type": "code",
   "execution_count": null,
   "id": "e003a0bc",
   "metadata": {},
   "outputs": [],
   "source": [
    "L = [100, 77, 93, 93, 115]"
   ]
  },
  {
   "cell_type": "code",
   "execution_count": 1,
   "id": "500e8534",
   "metadata": {},
   "outputs": [],
   "source": [
    "import#"
   ]
  },
  {
   "cell_type": "markdown",
   "id": "41891848",
   "metadata": {},
   "source": [
    "### Example: Find the Mode\n",
    "\n",
    "* Build a function\n",
    "* Use a built in function"
   ]
  },
  {
   "cell_type": "code",
   "execution_count": null,
   "id": "4a238149",
   "metadata": {},
   "outputs": [],
   "source": [
    "#build counts"
   ]
  },
  {
   "cell_type": "code",
   "execution_count": null,
   "id": "effb3f93",
   "metadata": {},
   "outputs": [],
   "source": [
    "#find max count"
   ]
  },
  {
   "cell_type": "code",
   "execution_count": null,
   "id": "1eb3cc5b",
   "metadata": {},
   "outputs": [],
   "source": [
    "#import a package"
   ]
  },
  {
   "cell_type": "markdown",
   "id": "dae7779a",
   "metadata": {},
   "source": [
    "### Example: find the median\n",
    "\n",
    "* Build a function\n",
    "* Use a built in function"
   ]
  },
  {
   "cell_type": "code",
   "execution_count": null,
   "id": "d1b9edb6",
   "metadata": {},
   "outputs": [],
   "source": [
    "#build a function"
   ]
  },
  {
   "cell_type": "code",
   "execution_count": null,
   "id": "943fa8e9",
   "metadata": {},
   "outputs": [],
   "source": [
    "#use numpy"
   ]
  },
  {
   "cell_type": "markdown",
   "id": "df726444",
   "metadata": {},
   "source": [
    "### Example: Find the variance/standard dev\n",
    "\n",
    "* Build a function\n",
    "* Use a built in function"
   ]
  },
  {
   "cell_type": "code",
   "execution_count": null,
   "id": "0fe66410",
   "metadata": {},
   "outputs": [],
   "source": [
    "#build a function"
   ]
  },
  {
   "cell_type": "code",
   "execution_count": null,
   "id": "d4748b51",
   "metadata": {},
   "outputs": [],
   "source": [
    "#use a package"
   ]
  },
  {
   "cell_type": "markdown",
   "id": "32a5c69a",
   "metadata": {},
   "source": [
    "### Example: Find quartiles\n",
    "\n",
    "* Use a built in function"
   ]
  },
  {
   "cell_type": "code",
   "execution_count": null,
   "id": "0a9c8fa3",
   "metadata": {},
   "outputs": [],
   "source": [
    "#use numpy"
   ]
  },
  {
   "cell_type": "markdown",
   "id": "01d598c1",
   "metadata": {},
   "source": [
    "### Example: Make box plot\n",
    "\n",
    "* Build a function"
   ]
  },
  {
   "cell_type": "code",
   "execution_count": null,
   "id": "ca312301",
   "metadata": {},
   "outputs": [],
   "source": [
    "#use matplot lib"
   ]
  },
  {
   "cell_type": "markdown",
   "id": "eaac15d8",
   "metadata": {},
   "source": [
    "### Example: Make a histogram"
   ]
  },
  {
   "cell_type": "code",
   "execution_count": null,
   "id": "81d737c2",
   "metadata": {},
   "outputs": [],
   "source": [
    "#use matplotlib"
   ]
  },
  {
   "cell_type": "code",
   "execution_count": null,
   "id": "5e716e74",
   "metadata": {},
   "outputs": [],
   "source": []
  }
 ],
 "metadata": {
  "kernelspec": {
   "display_name": "Python 3 (ipykernel)",
   "language": "python",
   "name": "python3"
  },
  "language_info": {
   "codemirror_mode": {
    "name": "ipython",
    "version": 3
   },
   "file_extension": ".py",
   "mimetype": "text/x-python",
   "name": "python",
   "nbconvert_exporter": "python",
   "pygments_lexer": "ipython3",
   "version": "3.9.13"
  }
 },
 "nbformat": 4,
 "nbformat_minor": 5
}
