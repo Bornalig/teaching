{
 "cells": [
  {
   "cell_type": "markdown",
   "id": "0db175ad",
   "metadata": {},
   "source": [
    "# DA 102\n",
    "\n",
    "By Joe Ganser"
   ]
  },
  {
   "cell_type": "markdown",
   "id": "be791ce0",
   "metadata": {},
   "source": [
    "### Example: Find the mean\n",
    "\n",
    "* By creating a function\n",
    "* Using numpy packages\n",
    "\n",
    "`L = [100, 77, 93, 93, 115]`"
   ]
  },
  {
   "cell_type": "code",
   "execution_count": 2,
   "id": "692906f4",
   "metadata": {},
   "outputs": [
    {
     "data": {
      "text/plain": [
       "95.6"
      ]
     },
     "execution_count": 2,
     "metadata": {},
     "output_type": "execute_result"
    }
   ],
   "source": [
    "L = [100, 77, 93, 93, 115]\n",
    "\n",
    "\n",
    "def mean(L):\n",
    "    return sum(L)/len(L)\n",
    "\n",
    "mean(L)"
   ]
  },
  {
   "cell_type": "code",
   "execution_count": 3,
   "id": "e1bc64be",
   "metadata": {},
   "outputs": [
    {
     "data": {
      "text/plain": [
       "95.6"
      ]
     },
     "execution_count": 3,
     "metadata": {},
     "output_type": "execute_result"
    }
   ],
   "source": [
    "import numpy as np\n",
    "\n",
    "np.mean(L)"
   ]
  },
  {
   "cell_type": "markdown",
   "id": "804f1aeb",
   "metadata": {},
   "source": [
    "### Example: Find the Mode\n",
    "\n",
    "* Build a function\n",
    "* Use a built in function"
   ]
  },
  {
   "cell_type": "code",
   "execution_count": 15,
   "id": "aac3ea18",
   "metadata": {},
   "outputs": [
    {
     "data": {
      "text/plain": [
       "{100: 1, 77: 1, 93: 2, 115: 1}"
      ]
     },
     "execution_count": 15,
     "metadata": {},
     "output_type": "execute_result"
    }
   ],
   "source": [
    "counts = {}\n",
    "for j in L:\n",
    "    if j not in counts.keys():\n",
    "        counts[j]=0\n",
    "    counts[j]+=1\n",
    "counts"
   ]
  },
  {
   "cell_type": "code",
   "execution_count": 16,
   "id": "e6be789b",
   "metadata": {},
   "outputs": [
    {
     "name": "stdout",
     "output_type": "stream",
     "text": [
      "93\n"
     ]
    }
   ],
   "source": [
    "for key,value in counts.items():\n",
    "    if value == max(counts.values()):\n",
    "        print(int(key))"
   ]
  },
  {
   "cell_type": "code",
   "execution_count": 8,
   "id": "ce6d3223",
   "metadata": {},
   "outputs": [
    {
     "name": "stderr",
     "output_type": "stream",
     "text": [
      "2023-04-12 16:41:18,996 [95869] WARNING  py.warnings: /var/folders/hj/xyjyq1ds11n1ycjbp53_4svw0000gp/T/ipykernel_95869/3556786415.py:3: FutureWarning: Unlike other reduction functions (e.g. `skew`, `kurtosis`), the default behavior of `mode` typically preserves the axis it acts along. In SciPy 1.11.0, this behavior will change: the default value of `keepdims` will become False, the `axis` over which the statistic is taken will be eliminated, and the value None will no longer be accepted. Set `keepdims` to True or False to avoid this warning.\n",
      "  mode,count = stats.mode(L)\n",
      "\n"
     ]
    },
    {
     "name": "stdout",
     "output_type": "stream",
     "text": [
      "93\n"
     ]
    }
   ],
   "source": [
    "from scipy import stats\n",
    "\n",
    "mode,count = stats.mode(L)\n",
    "print(mode[0])"
   ]
  },
  {
   "cell_type": "markdown",
   "id": "98a6602e",
   "metadata": {},
   "source": [
    "### Example: find the median\n",
    "\n",
    "* Build a function\n",
    "* Use a built in function"
   ]
  },
  {
   "cell_type": "code",
   "execution_count": 24,
   "id": "bf1a65b3",
   "metadata": {},
   "outputs": [],
   "source": [
    "def median(L):\n",
    "    #ensure its sorted\n",
    "    L = sorted(L)\n",
    "    #if it has an odd number of elements\n",
    "    if len(L)%2!=0:\n",
    "        return L[len(L)//2]\n",
    "    #if it has an even nmber of elements\n",
    "    else:\n",
    "        return 0.5*(L[len(L)//2-1]+L[len(L)//2])"
   ]
  },
  {
   "cell_type": "code",
   "execution_count": 23,
   "id": "a0954739",
   "metadata": {},
   "outputs": [
    {
     "data": {
      "text/plain": [
       "93"
      ]
     },
     "execution_count": 23,
     "metadata": {},
     "output_type": "execute_result"
    }
   ],
   "source": [
    "median(L)"
   ]
  },
  {
   "cell_type": "code",
   "execution_count": 25,
   "id": "a64f86a0",
   "metadata": {},
   "outputs": [
    {
     "data": {
      "text/plain": [
       "93.0"
      ]
     },
     "execution_count": 25,
     "metadata": {},
     "output_type": "execute_result"
    }
   ],
   "source": [
    "np.median(L)"
   ]
  },
  {
   "cell_type": "markdown",
   "id": "7f1a79a6",
   "metadata": {},
   "source": [
    "### Example: Find the variance/standard dev\n",
    "\n",
    "* Build a function\n",
    "* Use a built in function"
   ]
  },
  {
   "cell_type": "code",
   "execution_count": 26,
   "id": "d42a4c59",
   "metadata": {},
   "outputs": [
    {
     "data": {
      "text/plain": [
       "151.04000000000002"
      ]
     },
     "execution_count": 26,
     "metadata": {},
     "output_type": "execute_result"
    }
   ],
   "source": [
    "def var(L):\n",
    "    mean = sum(L)/len(L)\n",
    "    return sum([(i-mean)**2 for i in L])/len(L)\n",
    "\n",
    "var(L)"
   ]
  },
  {
   "cell_type": "code",
   "execution_count": 27,
   "id": "2e0049be",
   "metadata": {},
   "outputs": [
    {
     "data": {
      "text/plain": [
       "151.04000000000002"
      ]
     },
     "execution_count": 27,
     "metadata": {},
     "output_type": "execute_result"
    }
   ],
   "source": [
    "np.var(L)"
   ]
  },
  {
   "cell_type": "code",
   "execution_count": 28,
   "id": "6b17faae",
   "metadata": {},
   "outputs": [
    {
     "data": {
      "text/plain": [
       "12.289833196589774"
      ]
     },
     "execution_count": 28,
     "metadata": {},
     "output_type": "execute_result"
    }
   ],
   "source": [
    "var(L)**(0.5)"
   ]
  },
  {
   "cell_type": "code",
   "execution_count": 29,
   "id": "98b355d1",
   "metadata": {},
   "outputs": [
    {
     "data": {
      "text/plain": [
       "12.289833196589774"
      ]
     },
     "execution_count": 29,
     "metadata": {},
     "output_type": "execute_result"
    }
   ],
   "source": [
    "np.std(L)"
   ]
  },
  {
   "cell_type": "markdown",
   "id": "aacd69cb",
   "metadata": {},
   "source": [
    "### Example: Find quartiles\n",
    "\n",
    "* Use a built in function"
   ]
  },
  {
   "cell_type": "code",
   "execution_count": 33,
   "id": "7782886b",
   "metadata": {},
   "outputs": [
    {
     "name": "stdout",
     "output_type": "stream",
     "text": [
      "Interquartile range: 3.0\n"
     ]
    }
   ],
   "source": [
    "# Calculate the interquartile range\n",
    "data = [7,9,11,12,13,14,14,15,19]\n",
    "q1,q3 = np.percentile(data, [25, 75])\n",
    "iqr = q3-q1 \n",
    "\n",
    "# Print the interquartile range\n",
    "print('Interquartile range:', iqr)"
   ]
  },
  {
   "cell_type": "markdown",
   "id": "eb8b2754",
   "metadata": {},
   "source": [
    "### Example: Build function for interquartile range\n",
    "\n",
    "1. Find median\n",
    "2. Split data into lower half, upper half\n",
    "3. Find lower half median (this is q1)\n",
    "4. Find upper half median (this is q3)\n",
    "5. Find the difference"
   ]
  },
  {
   "cell_type": "code",
   "execution_count": 9,
   "id": "0e038c85",
   "metadata": {},
   "outputs": [
    {
     "data": {
      "text/plain": [
       "4.5"
      ]
     },
     "execution_count": 9,
     "metadata": {},
     "output_type": "execute_result"
    }
   ],
   "source": [
    "def median(L):\n",
    "    #ensure its sorted\n",
    "    L = sorted(L)\n",
    "    #if it has an odd number of elements\n",
    "    if len(L)%2!=0:\n",
    "        return L[len(L)//2]\n",
    "    #if it has an even nmber of elements\n",
    "    else:\n",
    "        return 0.5*(L[len(L)//2-1]+L[len(L)//2])\n",
    "    \n",
    "def iqrange(x):\n",
    "    M = median(x)\n",
    "    lower = x[:x.index(M)]\n",
    "    upper = x[x.index(M)+1:]\n",
    "    q1 = median(lower)\n",
    "    q3 = median(upper)\n",
    "    return q3-q1\n",
    "\n",
    "data = [7,9,11,12,13,14,14,15,19]\n",
    "iqrange(data)"
   ]
  },
  {
   "cell_type": "markdown",
   "id": "052d54fd",
   "metadata": {},
   "source": [
    "### Example: Make box plot\n",
    "\n",
    "* Build a function"
   ]
  },
  {
   "cell_type": "code",
   "execution_count": 1,
   "id": "ca312301",
   "metadata": {},
   "outputs": [
    {
     "data": {
      "image/png": "[encoded data removed]",
      "text/plain": [
       "<Figure size 640x480 with 1 Axes>"
      ]
     },
     "metadata": {},
     "output_type": "display_data"
    }
   ],
   "source": [
    "import matplotlib.pyplot as plt\n",
    "\n",
    "def create_box_plot(data):\n",
    "    # Create the box plot with the given data\n",
    "    plt.boxplot(data,vert=False)\n",
    "\n",
    "    # Set the title and labels\n",
    "    plt.title('Box Plot')\n",
    "    plt.xlabel('Data')\n",
    "    plt.ylabel('Value')\n",
    "\n",
    "    # Display the box plot\n",
    "    plt.show()\n",
    "\n",
    "create_box_plot([7,9,11,12,13,14,14,15,19])"
   ]
  },
  {
   "cell_type": "markdown",
   "id": "5de350da",
   "metadata": {},
   "source": [
    "### Example: Make a histogram"
   ]
  },
  {
   "cell_type": "code",
   "execution_count": 38,
   "id": "81d737c2",
   "metadata": {},
   "outputs": [
    {
     "data": {
      "image/png": "[encoded data removed]",
      "text/plain": [
       "<Figure size 640x480 with 1 Axes>"
      ]
     },
     "metadata": {},
     "output_type": "display_data"
    }
   ],
   "source": [
    "import matplotlib.pyplot as plt\n",
    "import numpy as np\n",
    "\n",
    "\n",
    "data = [84, 44, 52, 12, 51, 56, 74, 52, 28, 26, 95, 16, 81, 88, 76, 91, 25,\n",
    "       38, 28, 89]\n",
    "\n",
    "# Create a histogram the number of bins equal to the square root of the number of elements\n",
    "plt.hist(data, bins=int(np.sqrt(len(data))))\n",
    "\n",
    "# Set the title and labels\n",
    "plt.title(\"Histogram of 20 Random Numbers\")\n",
    "plt.xlabel(\"Value\")\n",
    "plt.ylabel(\"Count\")\n",
    "\n",
    "# Display the histogram\n",
    "plt.show()"
   ]
  },
  {
   "cell_type": "code",
   "execution_count": null,
   "id": "5e716e74",
   "metadata": {},
   "outputs": [],
   "source": []
  }
 ],
 "metadata": {
  "kernelspec": {
   "display_name": "Python 3 (ipykernel)",
   "language": "python",
   "name": "python3"
  },
  "language_info": {
   "codemirror_mode": {
    "name": "ipython",
    "version": 3
   },
   "file_extension": ".py",
   "mimetype": "text/x-python",
   "name": "python",
   "nbconvert_exporter": "python",
   "pygments_lexer": "ipython3",
   "version": "3.9.13"
  }
 },
 "nbformat": 4,
 "nbformat_minor": 5
}
