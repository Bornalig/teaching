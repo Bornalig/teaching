{
 "cells": [
  {
   "cell_type": "markdown",
   "metadata": {
    "id": "fGkGXtIAtUtv"
   },
   "source": [
    "#DS542 Final exam: All problems are equal in weight."
   ]
  },
  {
   "cell_type": "markdown",
   "metadata": {
    "id": "c_i-mCdGrKgY"
   },
   "source": [
    "# Problem 1: Load the head of the csv file `superconductors.csv`"
   ]
  },
  {
   "cell_type": "code",
   "execution_count": 1,
   "metadata": {
    "id": "rnFWPy4FcsxY"
   },
   "outputs": [],
   "source": []
  },
  {
   "cell_type": "markdown",
   "metadata": {
    "id": "UhgdZDDYsdm_"
   },
   "source": [
    "# 2. Print the shape of the full dataframe from problem 1"
   ]
  },
  {
   "cell_type": "code",
   "execution_count": 1,
   "metadata": {
    "id": "jstOFkdAdhuq"
   },
   "outputs": [],
   "source": []
  },
  {
   "cell_type": "markdown",
   "metadata": {
    "id": "UuI8jyPnskzD"
   },
   "source": [
    "# 3. Print the columns of the full dataframe from problem 1"
   ]
  },
  {
   "cell_type": "code",
   "execution_count": 1,
   "metadata": {
    "id": "uwevuq_Sdndm"
   },
   "outputs": [],
   "source": []
  },
  {
   "cell_type": "markdown",
   "metadata": {
    "id": "x2q__i-jsppD"
   },
   "source": [
    "# 4. Print the info of the dataframe from problem 1"
   ]
  },
  {
   "cell_type": "code",
   "execution_count": 1,
   "metadata": {
    "id": "5BWa9LwEd3Dg"
   },
   "outputs": [],
   "source": []
  },
  {
   "cell_type": "markdown",
   "metadata": {
    "id": "-xa9F7U3sxjS"
   },
   "source": [
    "#5. Describe the dataframe (using the describe method) of the dataframe in problem 1"
   ]
  },
  {
   "cell_type": "code",
   "execution_count": 2,
   "metadata": {
    "id": "KSfcu165d7vM"
   },
   "outputs": [],
   "source": []
  },
  {
   "cell_type": "markdown",
   "metadata": {
    "id": "mvV5GliItgfi"
   },
   "source": [
    "#6. Load the `sales-funnel.csv` file's head. \n",
    "\n",
    "* Group by the `Name` column\n",
    "* aggregate the rows using the `.count()` method.\n",
    "*  `.reset_index()` on this object.\n",
    "* Access only the only the `Name` and `Quantity` columns\n",
    "* Sort it by the `Quantity` in descending order\n",
    "* Call this object `grouped`"
   ]
  },
  {
   "cell_type": "code",
   "execution_count": 2,
   "metadata": {
    "id": "BIPQ6SGMmoIG"
   },
   "outputs": [],
   "source": []
  },
  {
   "cell_type": "code",
   "execution_count": 2,
   "metadata": {
    "id": "abGDG5c8hy0K"
   },
   "outputs": [],
   "source": []
  },
  {
   "cell_type": "markdown",
   "metadata": {
    "id": "bDNrr0OIoSDm"
   },
   "source": [
    "# Problem 7: Pivot the sales table\n",
    "* Let the indices be the `Name`, `Rep` and `Manager` columns\n",
    "* Let the column to pivot be the `Status` column\n",
    "* Let the value column be the `Price`\n",
    "* Let the aggregation function be the mean\n",
    "* Fill any null values with 0\n",
    "* Do this in ONE LINE OF CODE\n",
    "* Save as the object `sales_pivot`"
   ]
  },
  {
   "cell_type": "code",
   "execution_count": 2,
   "metadata": {
    "id": "4MfaWI-Gny2k"
   },
   "outputs": [],
   "source": []
  },
  {
   "cell_type": "markdown",
   "metadata": {
    "id": "0vQ2n-NvucCl"
   },
   "source": [
    "#8. Using the `grouped` object from problem 6, make a bar plot\n",
    "\n",
    "* x values are the `Name`\n",
    "* y values are the `Account`\n",
    "* Use one line of code, acting on the dataframe"
   ]
  },
  {
   "cell_type": "code",
   "execution_count": 2,
   "metadata": {
    "id": "aAMwm9lCuJsO"
   },
   "outputs": [],
   "source": []
  },
  {
   "cell_type": "markdown",
   "metadata": {
    "id": "MetW_c_aq2TV"
   },
   "source": [
    "# 9. Using the `superconductors.csv` data from problem 1 make a histogram via `matplotlib`\n",
    "* Let the figure size be `(5,5)`\n",
    "* Run a histogram on the `critical_temp` column\n",
    "* Give it a title of `Superconducting Temperature`\n",
    "* Give it a ylabel of `Count`\n",
    "* Give it an xlabel of `Kelvin`\n",
    "* Show the plot"
   ]
  },
  {
   "cell_type": "code",
   "execution_count": 2,
   "metadata": {
    "id": "X-3MeYotmV94"
   },
   "outputs": [],
   "source": []
  },
  {
   "cell_type": "markdown",
   "metadata": {
    "id": "RbasLY0QrzNI"
   },
   "source": [
    "# Problem 10:\n",
    "\n",
    "* Create a class called `Name`\n",
    "* The constructor should have two input parameters `name` and `profession`\n",
    "* Make a method called `name_profession`, with no arguments, that returns the string `'Name: (the input name), Profession: (the profession)`\n",
    "\n",
    "* Demonstrate that it works"
   ]
  },
  {
   "cell_type": "code",
   "execution_count": 2,
   "metadata": {
    "id": "atRMf1SAorWz"
   },
   "outputs": [],
   "source": []
  },
  {
   "cell_type": "code",
   "execution_count": 2,
   "metadata": {
    "id": "oSuxbTu2qr1z"
   },
   "outputs": [],
   "source": []
  }
 ],
 "metadata": {
  "colab": {
   "provenance": []
  },
  "kernelspec": {
   "display_name": "Python 3 (ipykernel)",
   "language": "python",
   "name": "python3"
  },
  "language_info": {
   "codemirror_mode": {
    "name": "ipython",
    "version": 3
   },
   "file_extension": ".py",
   "mimetype": "text/x-python",
   "name": "python",
   "nbconvert_exporter": "python",
   "pygments_lexer": "ipython3",
   "version": "3.9.13"
  }
 },
 "nbformat": 4,
 "nbformat_minor": 1
}
