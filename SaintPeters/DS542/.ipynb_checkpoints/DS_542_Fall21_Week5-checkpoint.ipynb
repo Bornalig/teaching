{
 "cells": [
  {
   "cell_type": "markdown",
   "metadata": {},
   "source": [
    "# Examples from last week\n",
    "---"
   ]
  },
  {
   "cell_type": "code",
   "execution_count": 1,
   "metadata": {},
   "outputs": [
    {
     "name": "stdout",
     "output_type": "stream",
     "text": [
      "1 10\n",
      "This while statment looped 1 times\n",
      "3 10\n",
      "This while statment looped 2 times\n",
      "5 10\n",
      "This while statment looped 3 times\n",
      "7 10\n",
      "This while statment looped 4 times\n",
      "9 10\n",
      "This while statment looped 5 times\n"
     ]
    }
   ],
   "source": [
    "# example of a while statement\n",
    "\n",
    "x = 1\n",
    "y = 10\n",
    "\n",
    "counter = 0\n",
    "\n",
    "while x < y:\n",
    "    print(x, y)\n",
    "    x += 2\n",
    "    counter += 1\n",
    "    print(f\"This while statment looped {counter} times\")"
   ]
  },
  {
   "cell_type": "code",
   "execution_count": 2,
   "metadata": {},
   "outputs": [
    {
     "name": "stdout",
     "output_type": "stream",
     "text": [
      "Mon\n",
      "Tue\n",
      "Wed\n",
      "Thur\n",
      "Fri\n",
      "Weekend starts!\n"
     ]
    }
   ],
   "source": [
    "# for loop example\n",
    "\n",
    "days_in_week = [\"Mon\", \"Tue\", \"Wed\", \"Thur\", \"Fri\", \"Sat\", \"Sun\"]\n",
    "\n",
    "for day in days_in_week:\n",
    "    print(day)\n",
    "    \n",
    "    if day == \"Fri\":\n",
    "        break\n",
    "        \n",
    "print(\"Weekend starts!\")"
   ]
  },
  {
   "cell_type": "markdown",
   "metadata": {},
   "source": [
    "# functions\n",
    "---"
   ]
  },
  {
   "cell_type": "code",
   "execution_count": 3,
   "metadata": {},
   "outputs": [],
   "source": [
    "def greeting():\n",
    "    print(\"Hello!\")"
   ]
  },
  {
   "cell_type": "code",
   "execution_count": 4,
   "metadata": {},
   "outputs": [
    {
     "name": "stdout",
     "output_type": "stream",
     "text": [
      "Hello!\n"
     ]
    }
   ],
   "source": [
    "greeting()"
   ]
  },
  {
   "cell_type": "code",
   "execution_count": 5,
   "metadata": {},
   "outputs": [],
   "source": [
    "# naming functions best practice\n",
    "\n",
    "# function names should include a verb\n",
    "\n",
    "# set_password()\n",
    "# refresh_connection()\n",
    "# extract_version()\n",
    "# add_numbers()"
   ]
  },
  {
   "cell_type": "code",
   "execution_count": 6,
   "metadata": {},
   "outputs": [],
   "source": [
    "# function without parameters that prints value\n",
    "\n",
    "def say_goodbye():\n",
    "    print(\"It was nice seeing you, goodbye for now.\")"
   ]
  },
  {
   "cell_type": "code",
   "execution_count": 7,
   "metadata": {},
   "outputs": [
    {
     "name": "stdout",
     "output_type": "stream",
     "text": [
      "It was nice seeing you, goodbye for now.\n"
     ]
    }
   ],
   "source": [
    "say_goodbye()"
   ]
  },
  {
   "cell_type": "code",
   "execution_count": 8,
   "metadata": {},
   "outputs": [],
   "source": [
    "# function without parameters that returns a value\n",
    "\n",
    "def return_pi():\n",
    "    return 3.14159"
   ]
  },
  {
   "cell_type": "code",
   "execution_count": 9,
   "metadata": {},
   "outputs": [],
   "source": [
    "var_one = return_pi()"
   ]
  },
  {
   "cell_type": "code",
   "execution_count": 10,
   "metadata": {},
   "outputs": [
    {
     "data": {
      "text/plain": [
       "3.14159"
      ]
     },
     "execution_count": 10,
     "metadata": {},
     "output_type": "execute_result"
    }
   ],
   "source": [
    "var_one"
   ]
  },
  {
   "cell_type": "code",
   "execution_count": 11,
   "metadata": {},
   "outputs": [],
   "source": [
    "# function with one parameter that prints a value\n",
    "\n",
    "def extract_length(text):\n",
    "    print(len(text))"
   ]
  },
  {
   "cell_type": "code",
   "execution_count": 13,
   "metadata": {},
   "outputs": [
    {
     "name": "stdout",
     "output_type": "stream",
     "text": [
      "5\n"
     ]
    }
   ],
   "source": [
    "extract_length(text = \"Hello\")"
   ]
  },
  {
   "cell_type": "code",
   "execution_count": 14,
   "metadata": {},
   "outputs": [
    {
     "name": "stdout",
     "output_type": "stream",
     "text": [
      "22\n"
     ]
    }
   ],
   "source": [
    "extract_length(\"DS542 Fall 2021 Week 5\")"
   ]
  },
  {
   "cell_type": "code",
   "execution_count": 15,
   "metadata": {},
   "outputs": [],
   "source": [
    "# function with one paramenter that returns a value\n",
    "\n",
    "def triple(x):\n",
    "    return x * 3"
   ]
  },
  {
   "cell_type": "code",
   "execution_count": 16,
   "metadata": {},
   "outputs": [],
   "source": [
    "y = 100"
   ]
  },
  {
   "cell_type": "code",
   "execution_count": 17,
   "metadata": {},
   "outputs": [],
   "source": [
    "z = triple(y)"
   ]
  },
  {
   "cell_type": "code",
   "execution_count": 18,
   "metadata": {},
   "outputs": [
    {
     "data": {
      "text/plain": [
       "300"
      ]
     },
     "execution_count": 18,
     "metadata": {},
     "output_type": "execute_result"
    }
   ],
   "source": [
    "z"
   ]
  },
  {
   "cell_type": "code",
   "execution_count": 19,
   "metadata": {},
   "outputs": [
    {
     "data": {
      "text/plain": [
       "300"
      ]
     },
     "execution_count": 19,
     "metadata": {},
     "output_type": "execute_result"
    }
   ],
   "source": [
    "y = triple(y)\n",
    "y"
   ]
  },
  {
   "cell_type": "code",
   "execution_count": 22,
   "metadata": {},
   "outputs": [],
   "source": [
    "# turning previous class examples into functions\n",
    "\n",
    "# here is a function to guess a secret number between 1-10\n",
    "\n",
    "def guess_secret_number():\n",
    "    import random\n",
    "    secret_number = random.randint(1, 10)\n",
    "    \n",
    "    your_guess = None\n",
    "    guesses = 0\n",
    "    \n",
    "    while your_guess != secret_number:\n",
    "        \n",
    "        guesses += 1\n",
    "        print(\"guess a number from 1-10\")\n",
    "        your_guess = int(input())\n",
    "        \n",
    "    print(f\"Correct! it took you {guesses} guesses to guess {secret_number}\")"
   ]
  },
  {
   "cell_type": "code",
   "execution_count": 23,
   "metadata": {},
   "outputs": [
    {
     "name": "stdout",
     "output_type": "stream",
     "text": [
      "guess a number from 1-10\n",
      "5\n",
      "guess a number from 1-10\n",
      "7\n",
      "Corret! it took you 2 guesses to guess 7\n"
     ]
    }
   ],
   "source": [
    "guess_secret_number()"
   ]
  },
  {
   "cell_type": "code",
   "execution_count": 24,
   "metadata": {},
   "outputs": [
    {
     "name": "stdout",
     "output_type": "stream",
     "text": [
      "guess a number from 1-10\n",
      "3\n",
      "guess a number from 1-10\n",
      "4\n",
      "guess a number from 1-10\n",
      "5\n",
      "guess a number from 1-10\n",
      "6\n",
      "guess a number from 1-10\n",
      "7\n",
      "guess a number from 1-10\n",
      "8\n",
      "guess a number from 1-10\n",
      "9\n",
      "guess a number from 1-10\n",
      "1\n",
      "guess a number from 1-10\n",
      "2\n",
      "Corret! it took you 9 guesses to guess 2\n"
     ]
    }
   ],
   "source": [
    "guess_secret_number()"
   ]
  },
  {
   "cell_type": "code",
   "execution_count": 25,
   "metadata": {},
   "outputs": [],
   "source": [
    "# second example from a previous class\n",
    "\n",
    "# baseball game simulation\n",
    "def play_baseball(innings, max_runs_per_inning,\n",
    "                 seventh_inning_stretch_length):\n",
    "    \n",
    "    import random\n",
    "    import time\n",
    "\n",
    "    # define score of two teams\n",
    "    home_team = 0\n",
    "    away_team = 0\n",
    "\n",
    "    # define the inning of the game\n",
    "    inning = 1\n",
    "\n",
    "    # while the game is in the 1st to the 9th inning\n",
    "    while inning <= innings:\n",
    "        print(f\"the game is entering inning {inning}\")\n",
    "        print(f\"the score is: home team {home_team}, away team {away_team}\")\n",
    "\n",
    "        # if the home team is winning\n",
    "        if home_team > away_team:\n",
    "            print(f\"the home team is winning by {home_team - away_team}\")\n",
    "\n",
    "        # if the away team is winning\n",
    "        elif home_team < away_team:\n",
    "            print(f\"the away team is winning by {away_team - home_team}\")\n",
    "\n",
    "        # if the teams are tied\n",
    "        else:\n",
    "            print(f\"the score is currently tied at {home_team}\")\n",
    "\n",
    "        away_team += random.randint(0,max_runs_per_inning)\n",
    "        home_team += random.randint(0,max_runs_per_inning)\n",
    "        inning += 1\n",
    "\n",
    "        # pause 3 seconds after each inning, pause 7 seconds for 7th inning stretch\n",
    "        if inning == 7:\n",
    "            print(\"SEVENTH INNING STETCH!\")\n",
    "            time.sleep(seventh_inning_stretch_length)\n",
    "        else:\n",
    "            time.sleep(3)\n",
    "            \n",
    "        print('='*10)\n",
    "\n",
    "    # print the final score\n",
    "    print(f\"final score: home team {home_team}, away team {away_team}\")"
   ]
  },
  {
   "cell_type": "code",
   "execution_count": 27,
   "metadata": {},
   "outputs": [
    {
     "name": "stdout",
     "output_type": "stream",
     "text": [
      "the game is entering inning 1\n",
      "the score is: home team 0, away team 0\n",
      "the score is currently tied at 0\n",
      "==========\n",
      "the game is entering inning 2\n",
      "the score is: home team 2, away team 0\n",
      "the home team is winning by 2\n",
      "==========\n",
      "the game is entering inning 3\n",
      "the score is: home team 4, away team 2\n",
      "the home team is winning by 2\n",
      "==========\n",
      "the game is entering inning 4\n",
      "the score is: home team 5, away team 2\n",
      "the home team is winning by 3\n",
      "==========\n",
      "the game is entering inning 5\n",
      "the score is: home team 6, away team 2\n",
      "the home team is winning by 4\n",
      "==========\n",
      "the game is entering inning 6\n",
      "the score is: home team 6, away team 4\n",
      "the home team is winning by 2\n",
      "SEVENTH INNING STETCH!\n",
      "==========\n",
      "the game is entering inning 7\n",
      "the score is: home team 7, away team 4\n",
      "the home team is winning by 3\n",
      "==========\n",
      "the game is entering inning 8\n",
      "the score is: home team 9, away team 6\n",
      "the home team is winning by 3\n",
      "==========\n",
      "the game is entering inning 9\n",
      "the score is: home team 10, away team 6\n",
      "the home team is winning by 4\n",
      "==========\n",
      "final score: home team 12, away team 8\n"
     ]
    }
   ],
   "source": [
    "play_baseball(innings = 9,\n",
    "              max_runs_per_inning = 2,\n",
    "              seventh_inning_stretch_length = 8)"
   ]
  },
  {
   "cell_type": "code",
   "execution_count": 28,
   "metadata": {},
   "outputs": [],
   "source": [
    "# local vs global variables\n",
    "\n",
    "# local variables are created and stored within a function\n",
    "def sum_list(a_list, start):\n",
    "    current_sum = start\n",
    "    for i in a_list:\n",
    "        current_sum += i\n",
    "        \n",
    "    print(current_sum)"
   ]
  },
  {
   "cell_type": "code",
   "execution_count": 30,
   "metadata": {},
   "outputs": [
    {
     "name": "stdout",
     "output_type": "stream",
     "text": [
      "6\n"
     ]
    }
   ],
   "source": [
    "sum_list([1,2,3])"
   ]
  },
  {
   "cell_type": "code",
   "execution_count": 32,
   "metadata": {},
   "outputs": [],
   "source": [
    "# global varaibles are defined outside functions\n",
    "current_sum = 0\n",
    "\n",
    "def sum_list(a_list):\n",
    "    current_sum = 0\n",
    "    for i in a_list:\n",
    "        current_sum += i\n",
    "        \n",
    "    print(current_sum)"
   ]
  },
  {
   "cell_type": "code",
   "execution_count": 33,
   "metadata": {},
   "outputs": [
    {
     "data": {
      "text/plain": [
       "0"
      ]
     },
     "execution_count": 33,
     "metadata": {},
     "output_type": "execute_result"
    }
   ],
   "source": [
    "current_sum"
   ]
  },
  {
   "cell_type": "code",
   "execution_count": 34,
   "metadata": {},
   "outputs": [],
   "source": [
    "# best practice: global variables or local variables?\n",
    "\n",
    "# Local variables are best!"
   ]
  },
  {
   "cell_type": "code",
   "execution_count": 35,
   "metadata": {},
   "outputs": [],
   "source": [
    "# example of only local variables\n",
    "\n",
    "def print_word_reverse(word):\n",
    "    word = word[::-1]\n",
    "    print(word)"
   ]
  },
  {
   "cell_type": "code",
   "execution_count": 36,
   "metadata": {},
   "outputs": [
    {
     "name": "stdout",
     "output_type": "stream",
     "text": [
      "ecneicS ataD\n"
     ]
    }
   ],
   "source": [
    "print_word_reverse(\"Data Science\")"
   ]
  },
  {
   "cell_type": "code",
   "execution_count": 37,
   "metadata": {},
   "outputs": [
    {
     "ename": "NameError",
     "evalue": "name 'word' is not defined",
     "output_type": "error",
     "traceback": [
      "\u001b[1;31m---------------------------------------------------------------------------\u001b[0m",
      "\u001b[1;31mNameError\u001b[0m                                 Traceback (most recent call last)",
      "\u001b[1;32m<ipython-input-37-f5f166afc2ee>\u001b[0m in \u001b[0;36m<module>\u001b[1;34m\u001b[0m\n\u001b[1;32m----> 1\u001b[1;33m \u001b[0mword\u001b[0m\u001b[1;33m\u001b[0m\u001b[1;33m\u001b[0m\u001b[0m\n\u001b[0m",
      "\u001b[1;31mNameError\u001b[0m: name 'word' is not defined"
     ]
    }
   ],
   "source": [
    "word"
   ]
  },
  {
   "cell_type": "code",
   "execution_count": 38,
   "metadata": {},
   "outputs": [],
   "source": [
    "# same example but word is a global variable\n",
    "\n",
    "word = \"Global Variable\"\n",
    "\n",
    "def print_global_reverse():\n",
    "    global word\n",
    "    \n",
    "    word = word[::-1]\n",
    "    return word"
   ]
  },
  {
   "cell_type": "code",
   "execution_count": 39,
   "metadata": {},
   "outputs": [
    {
     "data": {
      "text/plain": [
       "'elbairaV labolG'"
      ]
     },
     "execution_count": 39,
     "metadata": {},
     "output_type": "execute_result"
    }
   ],
   "source": [
    "print_global_reverse()"
   ]
  },
  {
   "cell_type": "code",
   "execution_count": 40,
   "metadata": {},
   "outputs": [
    {
     "data": {
      "text/plain": [
       "'elbairaV labolG'"
      ]
     },
     "execution_count": 40,
     "metadata": {},
     "output_type": "execute_result"
    }
   ],
   "source": [
    "word"
   ]
  },
  {
   "cell_type": "code",
   "execution_count": 42,
   "metadata": {},
   "outputs": [],
   "source": [
    "# ^ is a function with \"side effects\"\n",
    "\n",
    "# when you have a function that changes nothing outside of the function it has \"no side effects\""
   ]
  },
  {
   "cell_type": "code",
   "execution_count": 43,
   "metadata": {},
   "outputs": [],
   "source": [
    "# function with a default argument\n",
    "\n",
    "def double_number(x = 5):\n",
    "    x *= 2\n",
    "    return x"
   ]
  },
  {
   "cell_type": "code",
   "execution_count": 44,
   "metadata": {},
   "outputs": [
    {
     "data": {
      "text/plain": [
       "10"
      ]
     },
     "execution_count": 44,
     "metadata": {},
     "output_type": "execute_result"
    }
   ],
   "source": [
    "double_number()"
   ]
  },
  {
   "cell_type": "code",
   "execution_count": 45,
   "metadata": {},
   "outputs": [
    {
     "data": {
      "text/plain": [
       "40"
      ]
     },
     "execution_count": 45,
     "metadata": {},
     "output_type": "execute_result"
    }
   ],
   "source": [
    "double_number(x = 20)"
   ]
  },
  {
   "cell_type": "code",
   "execution_count": 46,
   "metadata": {},
   "outputs": [],
   "source": [
    "# function with two default arguments\n",
    "\n",
    "def find_absolute_difference(i = 100, j = 150):\n",
    "    abs_difference = abs(i - j)\n",
    "    print(abs_difference)"
   ]
  },
  {
   "cell_type": "code",
   "execution_count": 47,
   "metadata": {},
   "outputs": [
    {
     "name": "stdout",
     "output_type": "stream",
     "text": [
      "50\n"
     ]
    }
   ],
   "source": [
    "find_absolute_difference()"
   ]
  },
  {
   "cell_type": "code",
   "execution_count": 48,
   "metadata": {},
   "outputs": [
    {
     "name": "stdout",
     "output_type": "stream",
     "text": [
      "80\n"
     ]
    }
   ],
   "source": [
    "find_absolute_difference(i = 10, j = 90)"
   ]
  },
  {
   "cell_type": "code",
   "execution_count": 49,
   "metadata": {},
   "outputs": [],
   "source": [
    "# function with one default and one non-default argument\n",
    "\n",
    "def concat_words(word_1, word_2 = \" friend\"):\n",
    "    return word_1 + word_2"
   ]
  },
  {
   "cell_type": "code",
   "execution_count": 50,
   "metadata": {},
   "outputs": [],
   "source": [
    "concat_results = concat_words(word_1 = \"hello\")"
   ]
  },
  {
   "cell_type": "code",
   "execution_count": 51,
   "metadata": {},
   "outputs": [
    {
     "data": {
      "text/plain": [
       "'hello friend'"
      ]
     },
     "execution_count": 51,
     "metadata": {},
     "output_type": "execute_result"
    }
   ],
   "source": [
    "concat_results"
   ]
  },
  {
   "cell_type": "code",
   "execution_count": 52,
   "metadata": {},
   "outputs": [],
   "source": [
    "concat_results_2 = concat_words(word_1 = \"hello\",\n",
    "                               word_2 = \" neighbor\")"
   ]
  },
  {
   "cell_type": "code",
   "execution_count": 53,
   "metadata": {},
   "outputs": [
    {
     "data": {
      "text/plain": [
       "'hello neighbor'"
      ]
     },
     "execution_count": 53,
     "metadata": {},
     "output_type": "execute_result"
    }
   ],
   "source": [
    "concat_results_2"
   ]
  },
  {
   "cell_type": "code",
   "execution_count": 60,
   "metadata": {},
   "outputs": [],
   "source": [
    "# functions within functions\n",
    "\n",
    "# first, run a function inside another function\n",
    "\n",
    "def roll_die():\n",
    "    import random\n",
    "    return random.randint(1, 6)\n",
    "\n",
    "def play_zahtzee():\n",
    "    rolls = []\n",
    "    \n",
    "    for die in range(5):\n",
    "        die_score = roll_die()\n",
    "        rolls.append(die_score)\n",
    "        \n",
    "    if len(set(rolls)) == 1:\n",
    "        print(\"YAHTZEE!\")\n",
    "        print(rolls)\n",
    "        \n",
    "    elif len(set(rolls)) == 2:\n",
    "        print(\"GREAT roll!\")\n",
    "        print(rolls)\n",
    "        \n",
    "    elif len(set(rolls)) == 3:\n",
    "        print(\"Nice roll!\")\n",
    "        print(rolls)\n",
    "        \n",
    "    else:\n",
    "        print(rolls)"
   ]
  },
  {
   "cell_type": "code",
   "execution_count": 67,
   "metadata": {},
   "outputs": [
    {
     "name": "stdout",
     "output_type": "stream",
     "text": [
      "Nice roll!\n",
      "[6, 4, 4, 2, 4]\n"
     ]
    }
   ],
   "source": [
    "play_zahtzee()"
   ]
  },
  {
   "cell_type": "code",
   "execution_count": 68,
   "metadata": {},
   "outputs": [],
   "source": [
    "# now, define a function inside another function\n",
    "\n",
    "def play_zahtzee():\n",
    "    \n",
    "    def roll_die():\n",
    "        import random\n",
    "        return random.randint(1, 6)\n",
    "    \n",
    "    rolls = []\n",
    "    \n",
    "    for die in range(5):\n",
    "        die_score = roll_die()\n",
    "        rolls.append(die_score)\n",
    "        \n",
    "    if len(set(rolls)) == 1:\n",
    "        print(\"YAHTZEE!\")\n",
    "        print(rolls)\n",
    "        \n",
    "    elif len(set(rolls)) == 2:\n",
    "        print(\"GREAT roll!\")\n",
    "        print(rolls)\n",
    "        \n",
    "    elif len(set(rolls)) == 3:\n",
    "        print(\"Nice roll!\")\n",
    "        print(rolls)\n",
    "        \n",
    "    else:\n",
    "        print(rolls)"
   ]
  },
  {
   "cell_type": "code",
   "execution_count": 69,
   "metadata": {},
   "outputs": [
    {
     "name": "stdout",
     "output_type": "stream",
     "text": [
      "[5, 1, 4, 1, 2]\n"
     ]
    }
   ],
   "source": [
    "play_zahtzee()"
   ]
  },
  {
   "cell_type": "code",
   "execution_count": 70,
   "metadata": {},
   "outputs": [],
   "source": [
    "# if you don't know how many arguments the user will pass, then use \"varargs\"\n",
    "# \"varagrs\" are denoted with a *\n",
    "\n",
    "def count_characters(*words):\n",
    "    \n",
    "    total_chars = 0\n",
    "    \n",
    "    for w in words:\n",
    "        total_chars += len(w)\n",
    "        \n",
    "    return total_chars"
   ]
  },
  {
   "cell_type": "code",
   "execution_count": 71,
   "metadata": {},
   "outputs": [
    {
     "data": {
      "text/plain": [
       "18"
      ]
     },
     "execution_count": 71,
     "metadata": {},
     "output_type": "execute_result"
    }
   ],
   "source": [
    "count_characters(\"hello\", \"goodbye\", \"friend\")"
   ]
  },
  {
   "cell_type": "code",
   "execution_count": 72,
   "metadata": {},
   "outputs": [
    {
     "data": {
      "text/plain": [
       "7"
      ]
     },
     "execution_count": 72,
     "metadata": {},
     "output_type": "execute_result"
    }
   ],
   "source": [
    "count_characters(\"testing\")"
   ]
  },
  {
   "cell_type": "code",
   "execution_count": 73,
   "metadata": {},
   "outputs": [],
   "source": [
    "# Higher-Order functions\n",
    "\n",
    "# functions that accept other functions as arguments\n",
    "\n",
    "def call_it_twice(function, *args):\n",
    "    function(*args)\n",
    "    function(*args)"
   ]
  },
  {
   "cell_type": "code",
   "execution_count": 74,
   "metadata": {},
   "outputs": [
    {
     "name": "stdout",
     "output_type": "stream",
     "text": [
      "Hello Bye!\n",
      "Hello Bye!\n"
     ]
    }
   ],
   "source": [
    "call_it_twice(print, \"Hello\", \"Bye!\")"
   ]
  },
  {
   "cell_type": "code",
   "execution_count": 76,
   "metadata": {},
   "outputs": [
    {
     "data": {
      "text/plain": [
       "15"
      ]
     },
     "execution_count": 76,
     "metadata": {},
     "output_type": "execute_result"
    }
   ],
   "source": [
    "triple(x = 5)"
   ]
  },
  {
   "cell_type": "code",
   "execution_count": 78,
   "metadata": {},
   "outputs": [
    {
     "name": "stdout",
     "output_type": "stream",
     "text": [
      "None\n"
     ]
    }
   ],
   "source": [
    "print(call_it_twice(triple, 5))"
   ]
  },
  {
   "cell_type": "code",
   "execution_count": 84,
   "metadata": {},
   "outputs": [],
   "source": [
    "def triple(*args):\n",
    "    print(args*3)"
   ]
  },
  {
   "cell_type": "code",
   "execution_count": 85,
   "metadata": {},
   "outputs": [
    {
     "name": "stdout",
     "output_type": "stream",
     "text": [
      "(5, 20, 100, 5, 20, 100, 5, 20, 100)\n",
      "(5, 20, 100, 5, 20, 100, 5, 20, 100)\n"
     ]
    }
   ],
   "source": [
    "call_it_twice(triple, 5, 20, 100)"
   ]
  },
  {
   "cell_type": "code",
   "execution_count": 86,
   "metadata": {},
   "outputs": [],
   "source": [
    "# lambda functions\n",
    "# also called anonymous functions or nameless functions\n",
    "\n",
    "def add_one(x):\n",
    "    return x + 1"
   ]
  },
  {
   "cell_type": "code",
   "execution_count": 87,
   "metadata": {},
   "outputs": [
    {
     "data": {
      "text/plain": [
       "<function __main__.<lambda>(x)>"
      ]
     },
     "execution_count": 87,
     "metadata": {},
     "output_type": "execute_result"
    }
   ],
   "source": [
    "lambda x: x +1"
   ]
  },
  {
   "cell_type": "code",
   "execution_count": 88,
   "metadata": {},
   "outputs": [
    {
     "data": {
      "text/plain": [
       "6"
      ]
     },
     "execution_count": 88,
     "metadata": {},
     "output_type": "execute_result"
    }
   ],
   "source": [
    "(lambda x: x +1)(5)"
   ]
  },
  {
   "cell_type": "code",
   "execution_count": 89,
   "metadata": {},
   "outputs": [],
   "source": [
    "# Type Hints\n",
    "\n",
    "# show the user expected data types\n",
    "\n",
    "def add_two(x: int) -> int:\n",
    "    return x + 2"
   ]
  },
  {
   "cell_type": "code",
   "execution_count": 90,
   "metadata": {},
   "outputs": [
    {
     "data": {
      "text/plain": [
       "7"
      ]
     },
     "execution_count": 90,
     "metadata": {},
     "output_type": "execute_result"
    }
   ],
   "source": [
    "add_two(5)"
   ]
  },
  {
   "cell_type": "code",
   "execution_count": 92,
   "metadata": {},
   "outputs": [],
   "source": [
    "def describe_number(y: int) -> str:\n",
    "    if y % 2 == 0:\n",
    "        return \"y is an even number.\""
   ]
  },
  {
   "cell_type": "code",
   "execution_count": 93,
   "metadata": {},
   "outputs": [
    {
     "data": {
      "text/plain": [
       "'y is an even number.'"
      ]
     },
     "execution_count": 93,
     "metadata": {},
     "output_type": "execute_result"
    }
   ],
   "source": [
    "describe_number(y = 10)"
   ]
  },
  {
   "cell_type": "markdown",
   "metadata": {},
   "source": [
    "# The Python Standard Library"
   ]
  },
  {
   "cell_type": "code",
   "execution_count": 94,
   "metadata": {},
   "outputs": [
    {
     "data": {
      "text/plain": [
       "True"
      ]
     },
     "execution_count": 94,
     "metadata": {},
     "output_type": "execute_result"
    }
   ],
   "source": [
    "# look at webbrowser\n",
    "\n",
    "import webbrowser\n",
    "\n",
    "webbrowser.open_new_tab('https://www.python.org/')"
   ]
  },
  {
   "cell_type": "code",
   "execution_count": 95,
   "metadata": {},
   "outputs": [],
   "source": [
    "# find a song you like on youtube, copy the url\n",
    "# for my example: https://www.youtube.com/watch?v=4v8KEbQA8kw\n",
    "\n",
    "def play_the_eagles():\n",
    "    webbrowser.open('https://www.youtube.com/watch?v=4v8KEbQA8kw')"
   ]
  },
  {
   "cell_type": "code",
   "execution_count": 96,
   "metadata": {},
   "outputs": [],
   "source": [
    "play_the_eagles()"
   ]
  },
  {
   "cell_type": "code",
   "execution_count": 97,
   "metadata": {},
   "outputs": [
    {
     "data": {
      "text/plain": [
       "datetime.datetime(2021, 10, 2, 13, 24, 42, 227422)"
      ]
     },
     "execution_count": 97,
     "metadata": {},
     "output_type": "execute_result"
    }
   ],
   "source": [
    "# datetime package\n",
    "\n",
    "import datetime\n",
    "\n",
    "datetime.datetime.now()"
   ]
  },
  {
   "cell_type": "code",
   "execution_count": 98,
   "metadata": {},
   "outputs": [
    {
     "data": {
      "text/plain": [
       "datetime.date(2021, 10, 2)"
      ]
     },
     "execution_count": 98,
     "metadata": {},
     "output_type": "execute_result"
    }
   ],
   "source": [
    "datetime.date.today()"
   ]
  },
  {
   "cell_type": "code",
   "execution_count": 99,
   "metadata": {},
   "outputs": [
    {
     "data": {
      "text/plain": [
       "datetime.date(2021, 10, 2)"
      ]
     },
     "execution_count": 99,
     "metadata": {},
     "output_type": "execute_result"
    }
   ],
   "source": [
    "from datetime import date\n",
    "\n",
    "date.today()"
   ]
  },
  {
   "cell_type": "code",
   "execution_count": 101,
   "metadata": {},
   "outputs": [],
   "source": [
    "from datetime import date\n",
    "\n",
    "def days_until_holidays():\n",
    "    \n",
    "    today = date.today()\n",
    "    \n",
    "    holidays = {\"halloween\" : date(2021, 10, 31),\n",
    "               \"memorial_day\" : date(2022, 5, 30),\n",
    "               \"mlk_day\" : date(2022, 1, 17)}\n",
    "    \n",
    "    print(\"Which holiday are you searching for?\")\n",
    "    for h in holidays:\n",
    "        print(h)\n",
    "    print('=' * 5)\n",
    "    \n",
    "    holiday_input = input()\n",
    "    \n",
    "    if holiday_input in holidays:\n",
    "        days_to_holiday = holidays[holiday_input] - today\n",
    "        \n",
    "    print(f\"only {days_to_holiday} until {holiday_input}\")"
   ]
  },
  {
   "cell_type": "code",
   "execution_count": 102,
   "metadata": {},
   "outputs": [
    {
     "name": "stdout",
     "output_type": "stream",
     "text": [
      "Which holiday are you searching for?\n",
      "halloween\n",
      "memorial_day\n",
      "mlk_day\n",
      "=====\n",
      "halloween\n",
      "only 29 days, 0:00:00 until halloween\n"
     ]
    }
   ],
   "source": [
    "days_until_holidays()"
   ]
  },
  {
   "cell_type": "code",
   "execution_count": 103,
   "metadata": {},
   "outputs": [],
   "source": [
    "from datetime import datetime\n",
    "\n",
    "now = datetime.now()"
   ]
  },
  {
   "cell_type": "code",
   "execution_count": 104,
   "metadata": {},
   "outputs": [
    {
     "data": {
      "text/plain": [
       "datetime.datetime(2021, 10, 2, 13, 32, 16, 178987)"
      ]
     },
     "execution_count": 104,
     "metadata": {},
     "output_type": "execute_result"
    }
   ],
   "source": [
    "now"
   ]
  },
  {
   "cell_type": "code",
   "execution_count": 105,
   "metadata": {},
   "outputs": [
    {
     "data": {
      "text/plain": [
       "'20211002'"
      ]
     },
     "execution_count": 105,
     "metadata": {},
     "output_type": "execute_result"
    }
   ],
   "source": [
    "# format datetime as a string with strftime()\n",
    "\n",
    "now.strftime('%Y%m%d')"
   ]
  },
  {
   "cell_type": "code",
   "execution_count": 106,
   "metadata": {},
   "outputs": [
    {
     "data": {
      "text/plain": [
       "'2021/10/02'"
      ]
     },
     "execution_count": 106,
     "metadata": {},
     "output_type": "execute_result"
    }
   ],
   "source": [
    "now.strftime('%Y/%m/%d')"
   ]
  },
  {
   "cell_type": "code",
   "execution_count": 107,
   "metadata": {},
   "outputs": [
    {
     "data": {
      "text/plain": [
       "'10/02/2021'"
      ]
     },
     "execution_count": 107,
     "metadata": {},
     "output_type": "execute_result"
    }
   ],
   "source": [
    "now.strftime('%m/%d/%Y')"
   ]
  },
  {
   "cell_type": "code",
   "execution_count": 108,
   "metadata": {},
   "outputs": [
    {
     "data": {
      "text/plain": [
       "'13:32'"
      ]
     },
     "execution_count": 108,
     "metadata": {},
     "output_type": "execute_result"
    }
   ],
   "source": [
    "now.strftime('%H:%M')"
   ]
  },
  {
   "cell_type": "code",
   "execution_count": 114,
   "metadata": {},
   "outputs": [],
   "source": [
    "file_path = '/filepath/class_files/DS_542_'\n",
    "file_type = '.ipynb'\n",
    "\n",
    "file_name = file_path + datetime.now().strftime('%Y_%m_%d') + file_type"
   ]
  },
  {
   "cell_type": "code",
   "execution_count": 115,
   "metadata": {},
   "outputs": [
    {
     "data": {
      "text/plain": [
       "'/filepath/class_files/DS_542_2021_10_02.ipynb'"
      ]
     },
     "execution_count": 115,
     "metadata": {},
     "output_type": "execute_result"
    }
   ],
   "source": [
    "file_name"
   ]
  },
  {
   "cell_type": "code",
   "execution_count": 116,
   "metadata": {},
   "outputs": [],
   "source": [
    "# time built-in package\n",
    "\n",
    "def count_to_large_number(x:int):\n",
    "    \n",
    "    import time\n",
    "    start = time.time()\n",
    "    \n",
    "    counter = 0\n",
    "    \n",
    "    for i in range(x):\n",
    "        counter += 1\n",
    "        \n",
    "    end = time.time()\n",
    "    \n",
    "    print(counter)\n",
    "    print(f\"function duraction was {end - start} seconds\")"
   ]
  },
  {
   "cell_type": "code",
   "execution_count": 117,
   "metadata": {},
   "outputs": [
    {
     "name": "stdout",
     "output_type": "stream",
     "text": [
      "10000000\n",
      "function duraction was 0.4966695308685303 seconds\n"
     ]
    }
   ],
   "source": [
    "count_to_large_number(x = 10000000)"
   ]
  },
  {
   "cell_type": "code",
   "execution_count": 118,
   "metadata": {},
   "outputs": [
    {
     "name": "stdout",
     "output_type": "stream",
     "text": [
      "100000000\n",
      "function duraction was 4.4616429805755615 seconds\n"
     ]
    }
   ],
   "source": [
    "count_to_large_number(x = 100000000)"
   ]
  },
  {
   "cell_type": "code",
   "execution_count": 119,
   "metadata": {},
   "outputs": [
    {
     "name": "stdout",
     "output_type": "stream",
     "text": [
      "Hello\n",
      "Are you there?\n"
     ]
    }
   ],
   "source": [
    "import time\n",
    "\n",
    "print(\"Hello\")\n",
    "\n",
    "time.sleep(5)\n",
    "\n",
    "print(\"Are you there?\")"
   ]
  },
  {
   "cell_type": "code",
   "execution_count": 120,
   "metadata": {},
   "outputs": [],
   "source": [
    "# python third-party packages"
   ]
  },
  {
   "cell_type": "code",
   "execution_count": 125,
   "metadata": {},
   "outputs": [
    {
     "name": "stdout",
     "output_type": "stream",
     "text": [
      "Requirement already satisfied: randfacts in c:\\users\\odslaptop\\anaconda2\\lib\\site-packages (0.11.0)\n",
      "Note: you may need to restart the kernel to use updated packages.\n"
     ]
    },
    {
     "name": "stderr",
     "output_type": "stream",
     "text": [
      "WARNING: Ignoring invalid distribution -umpy (c:\\users\\odslaptop\\anaconda2\\lib\\site-packages)\n",
      "WARNING: Ignoring invalid distribution -umpy (c:\\users\\odslaptop\\anaconda2\\lib\\site-packages)\n",
      "WARNING: Ignoring invalid distribution -umpy (c:\\users\\odslaptop\\anaconda2\\lib\\site-packages)\n",
      "WARNING: Ignoring invalid distribution -umpy (c:\\users\\odslaptop\\anaconda2\\lib\\site-packages)\n",
      "WARNING: Ignoring invalid distribution -umpy (c:\\users\\odslaptop\\anaconda2\\lib\\site-packages)\n",
      "WARNING: Ignoring invalid distribution -umpy (c:\\users\\odslaptop\\anaconda2\\lib\\site-packages)\n",
      "WARNING: You are using pip version 21.1.3; however, version 21.2.4 is available.\n",
      "You should consider upgrading via the 'C:\\Users\\ODsLaptop\\Anaconda2\\python.exe -m pip install --upgrade pip' command.\n"
     ]
    }
   ],
   "source": [
    "pip install randfacts"
   ]
  },
  {
   "cell_type": "code",
   "execution_count": 1,
   "metadata": {},
   "outputs": [
    {
     "name": "stdout",
     "output_type": "stream",
     "text": [
      "During the entire run of Gilligan's Island, it was never revealed if \"Gilligan\" was his first or last name.\n"
     ]
    }
   ],
   "source": [
    "import randfacts\n",
    "\n",
    "print(randfacts.get_fact())"
   ]
  },
  {
   "cell_type": "code",
   "execution_count": 2,
   "metadata": {},
   "outputs": [],
   "source": [
    "def print_rand_facts(number_of_facts = 3,\n",
    "                    sleep_time = 4):\n",
    "    \n",
    "    import randfacts\n",
    "    import time\n",
    "    \n",
    "    for i in range(number_of_facts):\n",
    "        print(randfacts.get_fact())\n",
    "        time.sleep(sleep_time)\n",
    "        \n",
    "    print(\"Ok, that is enough randomness.\")"
   ]
  },
  {
   "cell_type": "code",
   "execution_count": 5,
   "metadata": {},
   "outputs": [],
   "source": [
    "# wikipedia package"
   ]
  },
  {
   "cell_type": "code",
   "execution_count": 6,
   "metadata": {},
   "outputs": [
    {
     "name": "stdout",
     "output_type": "stream",
     "text": [
      "Requirement already satisfied: wikipedia in c:\\users\\odslaptop\\anaconda2\\lib\\site-packages (1.4.0)\n",
      "Requirement already satisfied: beautifulsoup4 in c:\\users\\odslaptop\\appdata\\roaming\\python\\python37\\site-packages (from wikipedia) (4.8.2)\n",
      "Requirement already satisfied: requests<3.0.0,>=2.0.0 in c:\\users\\odslaptop\\anaconda2\\lib\\site-packages (from wikipedia) (2.22.0)\n",
      "Requirement already satisfied: urllib3!=1.25.0,!=1.25.1,<1.26,>=1.21.1 in c:\\users\\odslaptop\\anaconda2\\lib\\site-packages (from requests<3.0.0,>=2.0.0->wikipedia) (1.24.2)\n",
      "Requirement already satisfied: idna<2.9,>=2.5 in c:\\users\\odslaptop\\anaconda2\\lib\\site-packages (from requests<3.0.0,>=2.0.0->wikipedia) (2.8)\n",
      "Requirement already satisfied: chardet<3.1.0,>=3.0.2 in c:\\users\\odslaptop\\anaconda2\\lib\\site-packages (from requests<3.0.0,>=2.0.0->wikipedia) (3.0.4)\n",
      "Requirement already satisfied: certifi>=2017.4.17 in c:\\users\\odslaptop\\anaconda2\\lib\\site-packages (from requests<3.0.0,>=2.0.0->wikipedia) (2020.4.5.1)\n",
      "Requirement already satisfied: soupsieve>=1.2 in c:\\users\\odslaptop\\appdata\\roaming\\python\\python37\\site-packages (from beautifulsoup4->wikipedia) (1.9.5)\n",
      "Note: you may need to restart the kernel to use updated packages.\n"
     ]
    },
    {
     "name": "stderr",
     "output_type": "stream",
     "text": [
      "WARNING: Ignoring invalid distribution -umpy (c:\\users\\odslaptop\\anaconda2\\lib\\site-packages)\n",
      "WARNING: Ignoring invalid distribution -umpy (c:\\users\\odslaptop\\anaconda2\\lib\\site-packages)\n",
      "WARNING: Ignoring invalid distribution -umpy (c:\\users\\odslaptop\\anaconda2\\lib\\site-packages)\n",
      "WARNING: Ignoring invalid distribution -umpy (c:\\users\\odslaptop\\anaconda2\\lib\\site-packages)\n",
      "WARNING: Ignoring invalid distribution -umpy (c:\\users\\odslaptop\\anaconda2\\lib\\site-packages)\n",
      "WARNING: Ignoring invalid distribution -umpy (c:\\users\\odslaptop\\anaconda2\\lib\\site-packages)\n",
      "WARNING: You are using pip version 21.1.3; however, version 21.2.4 is available.\n",
      "You should consider upgrading via the 'C:\\Users\\ODsLaptop\\Anaconda2\\python.exe -m pip install --upgrade pip' command.\n"
     ]
    }
   ],
   "source": [
    "pip install wikipedia"
   ]
  },
  {
   "cell_type": "code",
   "execution_count": 7,
   "metadata": {},
   "outputs": [
    {
     "name": "stdout",
     "output_type": "stream",
     "text": [
      "Canada is a country in North America. Its ten provinces and three territories extend from the Atlantic to the Pacific and northward into the Arctic Ocean, covering 9.98 million square kilometres (3.85 million square miles), making it the world's second-largest country by total area.\n"
     ]
    }
   ],
   "source": [
    "import wikipedia\n",
    "\n",
    "print(wikipedia.summary(\"Canada\", sentences = 2))"
   ]
  },
  {
   "cell_type": "code",
   "execution_count": 8,
   "metadata": {},
   "outputs": [
    {
     "data": {
      "text/plain": [
       "['Barack Obama',\n",
       " 'Barack (disambiguation)',\n",
       " 'Barack Obama Sr.',\n",
       " 'Family of Barack Obama',\n",
       " 'Barack (name)',\n",
       " 'Presidency of Barack Obama',\n",
       " 'The Other Barack',\n",
       " 'Barack Obama \"Hope\" poster',\n",
       " 'United States presidential approval rating',\n",
       " 'List of people granted executive clemency by Barack Obama']"
      ]
     },
     "execution_count": 8,
     "metadata": {},
     "output_type": "execute_result"
    }
   ],
   "source": [
    "wikipedia.search(\"Barack\")"
   ]
  },
  {
   "cell_type": "code",
   "execution_count": 9,
   "metadata": {},
   "outputs": [
    {
     "data": {
      "text/plain": [
       "'Barack Hussein Obama II ( (listen) bə-RAHK hoo-SAYN oh-BAH-mə; born August 4, 1961) is an American politician, author, and retired attorney who served as the 44th president of the United States from 2009 to 2017.'"
      ]
     },
     "execution_count": 9,
     "metadata": {},
     "output_type": "execute_result"
    }
   ],
   "source": [
    "wikipedia.summary(\"Barack Obama\", sentences = 1)"
   ]
  },
  {
   "cell_type": "code",
   "execution_count": 10,
   "metadata": {},
   "outputs": [],
   "source": [
    "# scipy package"
   ]
  },
  {
   "cell_type": "code",
   "execution_count": 11,
   "metadata": {},
   "outputs": [
    {
     "name": "stdout",
     "output_type": "stream",
     "text": [
      "Requirement already satisfied: scipy in c:\\users\\odslaptop\\anaconda2\\lib\\site-packages (1.1.0)\n",
      "Note: you may need to restart the kernel to use updated packages.\n"
     ]
    },
    {
     "name": "stderr",
     "output_type": "stream",
     "text": [
      "WARNING: Ignoring invalid distribution -umpy (c:\\users\\odslaptop\\anaconda2\\lib\\site-packages)\n",
      "WARNING: Ignoring invalid distribution -umpy (c:\\users\\odslaptop\\anaconda2\\lib\\site-packages)\n",
      "WARNING: Ignoring invalid distribution -umpy (c:\\users\\odslaptop\\anaconda2\\lib\\site-packages)\n",
      "WARNING: Ignoring invalid distribution -umpy (c:\\users\\odslaptop\\anaconda2\\lib\\site-packages)\n",
      "WARNING: Ignoring invalid distribution -umpy (c:\\users\\odslaptop\\anaconda2\\lib\\site-packages)\n",
      "WARNING: Ignoring invalid distribution -umpy (c:\\users\\odslaptop\\anaconda2\\lib\\site-packages)\n",
      "WARNING: You are using pip version 21.1.3; however, version 21.2.4 is available.\n",
      "You should consider upgrading via the 'C:\\Users\\ODsLaptop\\Anaconda2\\python.exe -m pip install --upgrade pip' command.\n"
     ]
    }
   ],
   "source": [
    "pip install scipy"
   ]
  },
  {
   "cell_type": "code",
   "execution_count": 1,
   "metadata": {},
   "outputs": [
    {
     "data": {
      "text/plain": [
       "3.0"
      ]
     },
     "execution_count": 1,
     "metadata": {},
     "output_type": "execute_result"
    }
   ],
   "source": [
    "from scipy import special\n",
    "\n",
    "# use cube root function\n",
    "special.cbrt(27)"
   ]
  },
  {
   "cell_type": "code",
   "execution_count": 2,
   "metadata": {},
   "outputs": [],
   "source": [
    "def get_cube_root(x:int) -> int:\n",
    "    from scipy import special\n",
    "    return special.cbrt(x)"
   ]
  },
  {
   "cell_type": "code",
   "execution_count": 3,
   "metadata": {},
   "outputs": [
    {
     "data": {
      "text/plain": [
       "4.0"
      ]
     },
     "execution_count": 3,
     "metadata": {},
     "output_type": "execute_result"
    }
   ],
   "source": [
    "get_cube_root(64)"
   ]
  }
 ],
 "metadata": {
  "kernelspec": {
   "display_name": "Python 3 (ipykernel)",
   "language": "python",
   "name": "python3"
  },
  "language_info": {
   "codemirror_mode": {
    "name": "ipython",
    "version": 3
   },
   "file_extension": ".py",
   "mimetype": "text/x-python",
   "name": "python",
   "nbconvert_exporter": "python",
   "pygments_lexer": "ipython3",
   "version": "3.9.7"
  }
 },
 "nbformat": 4,
 "nbformat_minor": 2
}
