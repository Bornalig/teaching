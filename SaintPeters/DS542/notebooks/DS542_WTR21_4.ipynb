{
 "cells": [
  {
   "cell_type": "markdown",
   "metadata": {},
   "source": [
    "# DS542 Winter 2021 Class 4\n",
    "---"
   ]
  },
  {
   "cell_type": "markdown",
   "metadata": {},
   "source": [
    "## python operators"
   ]
  },
  {
   "cell_type": "code",
   "execution_count": 2,
   "metadata": {},
   "outputs": [
    {
     "data": {
      "text/plain": [
       "2"
      ]
     },
     "execution_count": 2,
     "metadata": {},
     "output_type": "execute_result"
    }
   ],
   "source": [
    "# modulus will give the remainder\n",
    "10 % 4"
   ]
  },
  {
   "cell_type": "code",
   "execution_count": 3,
   "metadata": {},
   "outputs": [
    {
     "data": {
      "text/plain": [
       "2"
      ]
     },
     "execution_count": 3,
     "metadata": {},
     "output_type": "execute_result"
    }
   ],
   "source": [
    "# floor division cuts the decimal from division\n",
    "10 // 4"
   ]
  },
  {
   "cell_type": "code",
   "execution_count": 4,
   "metadata": {},
   "outputs": [
    {
     "data": {
      "text/plain": [
       "3.0"
      ]
     },
     "execution_count": 4,
     "metadata": {},
     "output_type": "execute_result"
    }
   ],
   "source": [
    "# exponents\n",
    "9 ** .5"
   ]
  },
  {
   "cell_type": "code",
   "execution_count": 5,
   "metadata": {},
   "outputs": [],
   "source": [
    "# assignment operator\n",
    "# +=\n",
    "\n",
    "a = 10"
   ]
  },
  {
   "cell_type": "code",
   "execution_count": 6,
   "metadata": {},
   "outputs": [],
   "source": [
    "a += 5"
   ]
  },
  {
   "cell_type": "code",
   "execution_count": 7,
   "metadata": {},
   "outputs": [
    {
     "data": {
      "text/plain": [
       "15"
      ]
     },
     "execution_count": 7,
     "metadata": {},
     "output_type": "execute_result"
    }
   ],
   "source": [
    "a"
   ]
  },
  {
   "cell_type": "code",
   "execution_count": 8,
   "metadata": {},
   "outputs": [],
   "source": [
    "# -= operator\n",
    "\n",
    "a -= 3"
   ]
  },
  {
   "cell_type": "code",
   "execution_count": 9,
   "metadata": {},
   "outputs": [
    {
     "data": {
      "text/plain": [
       "12"
      ]
     },
     "execution_count": 9,
     "metadata": {},
     "output_type": "execute_result"
    }
   ],
   "source": [
    "a"
   ]
  },
  {
   "cell_type": "code",
   "execution_count": 10,
   "metadata": {},
   "outputs": [],
   "source": [
    "# *=\n",
    "a *= 2"
   ]
  },
  {
   "cell_type": "code",
   "execution_count": 11,
   "metadata": {},
   "outputs": [
    {
     "data": {
      "text/plain": [
       "24"
      ]
     },
     "execution_count": 11,
     "metadata": {},
     "output_type": "execute_result"
    }
   ],
   "source": [
    "a"
   ]
  },
  {
   "cell_type": "code",
   "execution_count": 12,
   "metadata": {},
   "outputs": [
    {
     "data": {
      "text/plain": [
       "True"
      ]
     },
     "execution_count": 12,
     "metadata": {},
     "output_type": "execute_result"
    }
   ],
   "source": [
    "# logical operators\n",
    "# intersection\n",
    "8 > 7 and 9 < 20"
   ]
  },
  {
   "cell_type": "code",
   "execution_count": 13,
   "metadata": {},
   "outputs": [
    {
     "data": {
      "text/plain": [
       "False"
      ]
     },
     "execution_count": 13,
     "metadata": {},
     "output_type": "execute_result"
    }
   ],
   "source": [
    "8 == 7 and 9 < 20"
   ]
  },
  {
   "cell_type": "code",
   "execution_count": 14,
   "metadata": {},
   "outputs": [
    {
     "data": {
      "text/plain": [
       "True"
      ]
     },
     "execution_count": 14,
     "metadata": {},
     "output_type": "execute_result"
    }
   ],
   "source": [
    "# union\n",
    "8 == 7 or 9 < 20"
   ]
  },
  {
   "cell_type": "code",
   "execution_count": 15,
   "metadata": {},
   "outputs": [
    {
     "data": {
      "text/plain": [
       "False"
      ]
     },
     "execution_count": 15,
     "metadata": {},
     "output_type": "execute_result"
    }
   ],
   "source": [
    "not(8 == 7 or 9 < 20)"
   ]
  },
  {
   "cell_type": "markdown",
   "metadata": {},
   "source": [
    "## While Statements"
   ]
  },
  {
   "cell_type": "code",
   "execution_count": 16,
   "metadata": {},
   "outputs": [
    {
     "name": "stdout",
     "output_type": "stream",
     "text": [
      "value of a = 5\n",
      "value of a = 10\n",
      "value of a = 20\n",
      "value of a = 40\n",
      "value of a = 80\n",
      "5 iterations\n",
      "While loop is complete\n"
     ]
    }
   ],
   "source": [
    "# example 1\n",
    "\n",
    "a = 5\n",
    "b = 100\n",
    "\n",
    "n=0\n",
    "while a <= b:\n",
    "    print(f\"value of a = {a}\")\n",
    "    a = a*2\n",
    "    n=n+1\n",
    "print('{} iterations'.format(n))\n",
    "print(\"While loop is complete\")"
   ]
  },
  {
   "cell_type": "code",
   "execution_count": 17,
   "metadata": {},
   "outputs": [
    {
     "name": "stdout",
     "output_type": "stream",
     "text": [
      "How many times will we loop through this condition?4\n",
      "c = 89304710.95607185, d = 1000000\n",
      "while loop is complete\n",
      "We guessed exactly correct!\n"
     ]
    }
   ],
   "source": [
    "# example 2\n",
    "\n",
    "c = 3.14\n",
    "d = 1000000\n",
    "\n",
    "counter = 0\n",
    "\n",
    "our_guess = int(input(\"How many times will we loop through this condition?\"))\n",
    "\n",
    "while c < d:\n",
    "    counter += 1\n",
    "    c = c ** 2\n",
    "    \n",
    "print(f\"c = {c}, d = {d}\")\n",
    "print(\"while loop is complete\")\n",
    "\n",
    "if our_guess == counter:\n",
    "    print(\"We guessed exactly correct!\")\n",
    "    \n",
    "elif our_guess > counter:\n",
    "    print(\"Our guess was too high\")\n",
    "    \n",
    "elif our_guess < counter:\n",
    "    print(\"Our guess was too low\")"
   ]
  },
  {
   "cell_type": "code",
   "execution_count": null,
   "metadata": {},
   "outputs": [],
   "source": [
    "3.14 -> (3.14)^2 -> (3.14)^4 -> (3.14)^8 -> .... -> 1000000 break"
   ]
  },
  {
   "cell_type": "code",
   "execution_count": 18,
   "metadata": {},
   "outputs": [
    {
     "name": "stdout",
     "output_type": "stream",
     "text": [
      "z = 15\n",
      "z = 13\n",
      "z = 11\n",
      "hitting break statement\n",
      "loop complete or exited\n"
     ]
    }
   ],
   "source": [
    "# break statement\n",
    "\n",
    "q = 5\n",
    "z = 15\n",
    "\n",
    "while z > q:\n",
    "    \n",
    "    if z == 9:\n",
    "        print(\"hitting break statement\")\n",
    "        break\n",
    "    \n",
    "    print(f\"z = {z}\")\n",
    "    z -= 2\n",
    "    \n",
    "print(\"loop complete or exited\")"
   ]
  },
  {
   "cell_type": "code",
   "execution_count": 19,
   "metadata": {},
   "outputs": [
    {
     "name": "stdout",
     "output_type": "stream",
     "text": [
      "z = 15\n",
      "z = 13\n",
      "z = 11\n",
      "z = 7\n",
      "loop complete or exited\n"
     ]
    }
   ],
   "source": [
    "# continue statement\n",
    "\n",
    "q = 5\n",
    "z = 15\n",
    "\n",
    "while z > q:\n",
    "    \n",
    "    if z == 9:\n",
    "        z -= 2\n",
    "        continue\n",
    "    \n",
    "    print(f\"z = {z}\")\n",
    "    z -= 2\n",
    "    \n",
    "print(\"loop complete or exited\")"
   ]
  },
  {
   "cell_type": "code",
   "execution_count": 20,
   "metadata": {},
   "outputs": [
    {
     "name": "stdout",
     "output_type": "stream",
     "text": [
      "What is your guess between 1 and 10?4\n",
      "What is new guess?5\n",
      "Correct guess! It took 2 to guess 5\n"
     ]
    }
   ],
   "source": [
    "# example 3\n",
    "# lets see how many times it takes you to guess a random number between 1 and 10\n",
    "\n",
    "import random\n",
    "random_number = random.randint(1, 10)\n",
    "\n",
    "your_guess = int(input(\"What is your guess between 1 and 10?\"))\n",
    "\n",
    "# variable to count the number of guesses it takes us\n",
    "num_of_guesses = 1\n",
    "\n",
    "while your_guess != random_number:\n",
    "    \n",
    "    your_guess = int(input(\"What is new guess?\"))\n",
    "    num_of_guesses += 1\n",
    "    \n",
    "print(f\"Correct guess! It took {num_of_guesses} to guess {random_number}\")"
   ]
  },
  {
   "cell_type": "code",
   "execution_count": 21,
   "metadata": {},
   "outputs": [
    {
     "name": "stdout",
     "output_type": "stream",
     "text": [
      "What is one of your favorite foods?pizza\n",
      "What is one of your favorite foods?macaroni and cheese\n",
      "What is one of your favorite foods?sushi\n",
      "What is one of your favorite foods?burgers\n",
      "your favorite foods are ['pizza', 'macaroni and cheese', 'sushi', 'burgers']\n"
     ]
    }
   ],
   "source": [
    "# example 4\n",
    "\n",
    "favorite_foods = []\n",
    "\n",
    "while len(favorite_foods) < 4:\n",
    "    \n",
    "    new_food = input(\"What is one of your favorite foods?\")\n",
    "    favorite_foods.append(new_food)\n",
    "    \n",
    "print(f\"your favorite foods are {favorite_foods}\")"
   ]
  },
  {
   "cell_type": "code",
   "execution_count": 22,
   "metadata": {},
   "outputs": [
    {
     "name": "stdout",
     "output_type": "stream",
     "text": [
      "the game is entering inning number 1\n",
      "home team: 0, away team: 0\n",
      "score is tied at 0\n",
      "==========\n",
      "the game is entering inning number 2\n",
      "home team: 0, away team: 1\n",
      "away team is winning by 1\n",
      "==========\n",
      "the game is entering inning number 3\n",
      "home team: 1, away team: 3\n",
      "away team is winning by 2\n",
      "==========\n",
      "the game is entering inning number 4\n",
      "home team: 1, away team: 6\n",
      "away team is winning by 5\n",
      "==========\n",
      "the game is entering inning number 5\n",
      "home team: 5, away team: 7\n",
      "away team is winning by 2\n",
      "==========\n",
      "the game is entering inning number 6\n",
      "home team: 8, away team: 10\n",
      "away team is winning by 2\n",
      "==========\n",
      "the game is entering inning number 7\n",
      "home team: 10, away team: 14\n",
      "away team is winning by 4\n",
      "==========\n",
      "the game is entering inning number 8\n",
      "home team: 14, away team: 18\n",
      "away team is winning by 4\n",
      "==========\n",
      "the game is entering inning number 9\n",
      "home team: 15, away team: 20\n",
      "away team is winning by 5\n",
      "==========\n",
      "final score: home team 18, away team 23\n"
     ]
    }
   ],
   "source": [
    "# complex example\n",
    "# combine while and if statements\n",
    "\n",
    "# simulate a game of baseball\n",
    "# baseball has 9 innings, during each inning both the home and away teams have a chance to score\n",
    "\n",
    "home_team = 0\n",
    "away_team = 0\n",
    "inning = 1\n",
    "\n",
    "while inning <= 9:\n",
    "    print(f\"the game is entering inning number {inning}\")\n",
    "    print(f\"home team: {home_team}, away team: {away_team}\")\n",
    "    \n",
    "    if home_team > away_team:\n",
    "        print(f\"home team is winning by {home_team - away_team}\")\n",
    "        \n",
    "    elif away_team > home_team:\n",
    "        print(f\"away team is winning by {away_team - home_team}\")\n",
    "        \n",
    "    else:\n",
    "        print(f\"score is tied at {home_team}\")\n",
    "        \n",
    "    import random\n",
    "    away_team += random.randint(0, 4)\n",
    "    home_team += random.randint(0, 4)\n",
    "    inning += 1\n",
    "    print('='*10)\n",
    "    \n",
    "    import time\n",
    "    time.sleep(5)\n",
    "    \n",
    "print(f\"final score: home team {home_team}, away team {away_team}\")    "
   ]
  },
  {
   "cell_type": "markdown",
   "metadata": {},
   "source": [
    "## For Loops"
   ]
  },
  {
   "cell_type": "code",
   "execution_count": 23,
   "metadata": {},
   "outputs": [
    {
     "name": "stdout",
     "output_type": "stream",
     "text": [
      "sum of the numbers in list = 98.1\n"
     ]
    }
   ],
   "source": [
    "# example 1\n",
    "\n",
    "# program to find the sum of all numbers stored in a list\n",
    "\n",
    "# list of numbers\n",
    "numbers = [3, 9, 8.5, 6.1, 100, -20, -8.5]\n",
    "\n",
    "# variable to store the sum of the numbers\n",
    "numbers_sum = 0\n",
    "\n",
    "# iterate through numbers list with a for loop\n",
    "for val in numbers:\n",
    "    numbers_sum = numbers_sum + val\n",
    "    \n",
    "print(f\"sum of the numbers in list = {numbers_sum}\")"
   ]
  },
  {
   "cell_type": "code",
   "execution_count": 24,
   "metadata": {},
   "outputs": [
    {
     "name": "stdout",
     "output_type": "stream",
     "text": [
      "I like listening to rock\n",
      "I like listening to classical\n",
      "I like listening to jazz\n",
      "I like listening to acoustic\n"
     ]
    }
   ],
   "source": [
    "# example 2\n",
    "# for loop with strings in a tuple\n",
    "\n",
    "music_genres = (\"rock\", \"classical\", \"jazz\", \"acoustic\")\n",
    "\n",
    "# iterate through list of genres\n",
    "for genre in music_genres:\n",
    "    print(f\"I like listening to {genre}\")"
   ]
  },
  {
   "cell_type": "code",
   "execution_count": 25,
   "metadata": {},
   "outputs": [
    {
     "name": "stdout",
     "output_type": "stream",
     "text": [
      "I don't really like listening to rock\n",
      "I like listening to classical\n",
      "I don't really like listening to jazz\n",
      "I like listening to acoustic\n"
     ]
    }
   ],
   "source": [
    "# example 3\n",
    "# with an if statement inside of the for loop\n",
    "\n",
    "music_genres = (\"rock\", \"classical\", \"jazz\", \"acoustic\")\n",
    "\n",
    "# iterate through list of genres\n",
    "for genre in music_genres:\n",
    "    \n",
    "    if len(genre) > 4:\n",
    "        print(f\"I like listening to {genre}\")\n",
    "        \n",
    "    else:\n",
    "        print(f\"I don't really like listening to {genre}\")"
   ]
  },
  {
   "cell_type": "code",
   "execution_count": 26,
   "metadata": {},
   "outputs": [
    {
     "name": "stdout",
     "output_type": "stream",
     "text": [
      "1\n",
      "2\n",
      "3\n",
      "4\n",
      "5\n",
      "6\n",
      "7\n",
      "8\n",
      "9\n"
     ]
    }
   ],
   "source": [
    "# range() function\n",
    "\n",
    "for i in range(1, 10):\n",
    "    print(i)"
   ]
  },
  {
   "cell_type": "code",
   "execution_count": 27,
   "metadata": {},
   "outputs": [
    {
     "name": "stdout",
     "output_type": "stream",
     "text": [
      "10\n",
      "9\n",
      "8\n",
      "7\n",
      "6\n",
      "5\n",
      "4\n",
      "3\n",
      "2\n"
     ]
    }
   ],
   "source": [
    "for x in range(10, 1, -1):\n",
    "    print(x)"
   ]
  },
  {
   "cell_type": "code",
   "execution_count": 28,
   "metadata": {},
   "outputs": [
    {
     "name": "stdout",
     "output_type": "stream",
     "text": [
      "Hello!\n",
      "Hello!\n",
      "Hello!\n",
      "Hello!\n",
      "Hello!\n"
     ]
    }
   ],
   "source": [
    "# if you want to do something 5 times, use range\n",
    "\n",
    "for y in range(5):\n",
    "    print(\"Hello!\")"
   ]
  },
  {
   "cell_type": "code",
   "execution_count": 29,
   "metadata": {},
   "outputs": [
    {
     "name": "stdout",
     "output_type": "stream",
     "text": [
      "10\n",
      "20\n",
      "30\n",
      "40\n",
      "looped through 4 times\n"
     ]
    }
   ],
   "source": [
    "# you can put an else statement at the end of a for loop\n",
    "\n",
    "numbers = [10, 20, 30, 40]\n",
    "\n",
    "for num in numbers:\n",
    "    print(num)\n",
    "\n",
    "else:\n",
    "    print(f\"looped through {len(numbers)} times\")"
   ]
  },
  {
   "cell_type": "code",
   "execution_count": 30,
   "metadata": {},
   "outputs": [
    {
     "name": "stdout",
     "output_type": "stream",
     "text": [
      "James is in the class\n",
      "Jules is in the class\n",
      "Amy is in the class\n"
     ]
    }
   ],
   "source": [
    "# looping through a dictionaries keys\n",
    "\n",
    "grades = {'James' : [90, 80, 99],\n",
    "         'Jules' : [55, 75, 79, 82],\n",
    "         'Amy' : [77, 100, 100, 80]}\n",
    "\n",
    "for student in grades.keys():\n",
    "    print(f\"{student} is in the class\")"
   ]
  },
  {
   "cell_type": "code",
   "execution_count": 31,
   "metadata": {},
   "outputs": [
    {
     "name": "stdout",
     "output_type": "stream",
     "text": [
      "James 89.66666666666667\n",
      "Jules 72.75\n",
      "Amy 89.25\n"
     ]
    }
   ],
   "source": [
    "# looping through dictionary to print each students average grade\n",
    "\n",
    "for student in grades.keys():\n",
    "    print(student, sum(grades[student]) / len(grades[student]))"
   ]
  },
  {
   "cell_type": "code",
   "execution_count": 32,
   "metadata": {},
   "outputs": [
    {
     "name": "stdout",
     "output_type": "stream",
     "text": [
      "James's average: 89.7\n",
      "Jules's average: 72.8\n",
      "Amy's average: 89.2\n"
     ]
    }
   ],
   "source": [
    "for student in grades.keys():\n",
    "    print(f\"{student}'s average: {round(sum(grades[student]) / len(grades[student]), 1)}\")"
   ]
  },
  {
   "cell_type": "code",
   "execution_count": 33,
   "metadata": {},
   "outputs": [
    {
     "name": "stdout",
     "output_type": "stream",
     "text": [
      "April 12\n",
      "March 9\n",
      "August 9\n"
     ]
    }
   ],
   "source": [
    "# loop through a dictionaries values\n",
    "\n",
    "birthdays = {\"Samantha\" : \"April 12\",\n",
    "            \"Jim\" : \"March 9\",\n",
    "            \"Sarah\" : \"August 9\"}\n",
    "\n",
    "for val in birthdays.values():\n",
    "    print(val)"
   ]
  },
  {
   "cell_type": "code",
   "execution_count": 34,
   "metadata": {},
   "outputs": [
    {
     "name": "stdout",
     "output_type": "stream",
     "text": [
      "Samantha: April 12\n",
      "Jim: March 9\n",
      "Sarah: August 9\n"
     ]
    }
   ],
   "source": [
    "# loop through key, value pairs of a dictionary with .items()\n",
    "for key, val in birthdays.items():\n",
    "    print(f\"{key}: {val}\")"
   ]
  },
  {
   "cell_type": "code",
   "execution_count": null,
   "metadata": {},
   "outputs": [],
   "source": [
    "for person, birthday in birthdays.items():\n",
    "    print(f\"{key}'s birthday is {birthday}\")"
   ]
  },
  {
   "cell_type": "code",
   "execution_count": null,
   "metadata": {},
   "outputs": [],
   "source": [
    "# nested for loop example 1\n",
    "\n",
    "for i in [1, 2, 3, 4, 5]:\n",
    "    \n",
    "    for j in [6, 7, 8]:\n",
    "        \n",
    "        print(f\"{i} * {j} = {i*j}\")\n",
    "        \n",
    "    print(f\"--- moving on from {i} ---\")"
   ]
  },
  {
   "cell_type": "code",
   "execution_count": null,
   "metadata": {},
   "outputs": [],
   "source": [
    "# nested for loop example 2\n",
    "\n",
    "grades = {'James' : [90, 80, 99],\n",
    "         'Jules' : [55, 75, 79, 82],\n",
    "         'Amy' : [77, 100, 100, 80]}\n",
    "\n",
    "grades_above_90 = 0\n",
    "\n",
    "for student in grades.keys():\n",
    "    \n",
    "    for mark in grades[student]:\n",
    "        \n",
    "        if mark > 90:\n",
    "            grades_above_90 += 1\n",
    "            print(f\"{student} scored a {mark}\")\n",
    "            \n",
    "print(f\"we found {grades_above_90} grades above 90\")"
   ]
  },
  {
   "cell_type": "code",
   "execution_count": null,
   "metadata": {},
   "outputs": [],
   "source": [
    "# for loop with an if statement inside of it\n",
    "\n",
    "for i in range(1, 31, 3):\n",
    "    \n",
    "    if i % 2 == 0:\n",
    "        print(f\"{i} is an even number\")\n",
    "        \n",
    "    else:\n",
    "        print(f\"{i} is an odd number\")"
   ]
  },
  {
   "cell_type": "code",
   "execution_count": null,
   "metadata": {},
   "outputs": [],
   "source": [
    "# for loop with a while statement inside\n",
    "\n",
    "boroughs = [\"Manhattan\", \"Bronx\", \"Staten Island\",\"Brooklyn\", \"Queens\"]\n",
    "\n",
    "directions = [\"East\", \"West\", \"North\", \"South\"]\n",
    "\n",
    "while len(boroughs) > 0:\n",
    "    \n",
    "    for i in boroughs:\n",
    "        \n",
    "        for j in directions:\n",
    "            \n",
    "            print(j, i)\n",
    "        \n",
    "        boroughs.remove(i)"
   ]
  },
  {
   "cell_type": "code",
   "execution_count": null,
   "metadata": {},
   "outputs": [],
   "source": [
    "# enumerate for loop\n",
    "\n",
    "boroughs = [\"Manhattan\", \"Bronx\", \"Staten Island\",\n",
    "           \"Brooklyn\", \"Queens\"]\n",
    "\n",
    "for idx, val in enumerate(boroughs):\n",
    "    print(f\"{idx} --- {val}\")"
   ]
  },
  {
   "cell_type": "code",
   "execution_count": null,
   "metadata": {},
   "outputs": [],
   "source": [
    "# bonus example, more complicated\n",
    "\n",
    "# we're going to look at your 5 favorite numbers\n",
    "# then, we're going find the most common divisor of your favorite numbers between 2 and 10\n",
    "\n",
    "# ask for your 5 favorite numbers\n",
    "\n",
    "your_favorite_numbers = []\n",
    "\n",
    "while len(your_favorite_numbers) <= 5:\n",
    "    \n",
    "    favorite_number = int(input(\"Enter one of your favorite numbers (integers only)\"))\n",
    "    your_favorite_numbers.append(favorite_number)\n",
    "    \n",
    "# find which divisors are most common for your favorite numbers (between 2 and 10)\n",
    "\n",
    "divisible_by_dict = {}\n",
    "\n",
    "for number in your_favorite_numbers:\n",
    "    \n",
    "    for divisor in range(2, 11):\n",
    "        \n",
    "        if number % divisor == 0 and divisor in divisible_by_dict.keys():\n",
    "            \n",
    "            divisible_by_dict[divisor] += 1\n",
    "            \n",
    "        elif number % divisor == 0 and divisor not in divisible_by_dict.keys():\n",
    "            \n",
    "            divisible_by_dict[divisor] = 1\n",
    "            \n",
    "print('='*10)\n",
    "\n",
    "for key, val in divisible_by_dict.items():\n",
    "    print(f\"{val} of your favorite numbers are divisible by {key}\")"
   ]
  }
 ],
 "metadata": {
  "kernelspec": {
   "display_name": "Python 3 (ipykernel)",
   "language": "python",
   "name": "python3"
  },
  "language_info": {
   "codemirror_mode": {
    "name": "ipython",
    "version": 3
   },
   "file_extension": ".py",
   "mimetype": "text/x-python",
   "name": "python",
   "nbconvert_exporter": "python",
   "pygments_lexer": "ipython3",
   "version": "3.9.13"
  }
 },
 "nbformat": 4,
 "nbformat_minor": 2
}
