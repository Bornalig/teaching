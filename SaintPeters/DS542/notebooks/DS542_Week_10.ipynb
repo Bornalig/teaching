{
 "cells": [
  {
   "cell_type": "markdown",
   "metadata": {},
   "source": [
    "# Example of IceCream library from last week\n",
    "---"
   ]
  },
  {
   "cell_type": "code",
   "execution_count": 10,
   "metadata": {},
   "outputs": [
    {
     "name": "stderr",
     "output_type": "stream",
     "text": [
      "ic| <ipython-input-10-a23ec315dc90>:9 in __init__() at 18:03:01.760\n",
      "ic| <ipython-input-10-a23ec315dc90>:19 in open_beverage() at 18:03:01.782\n",
      "ic| <ipython-input-10-a23ec315dc90>:25 in finish_beverage() at 18:03:01.801\n",
      "ic| coffee.is_empty: True\n"
     ]
    },
    {
     "data": {
      "text/plain": [
       "True"
      ]
     },
     "execution_count": 10,
     "metadata": {},
     "output_type": "execute_result"
    }
   ],
   "source": [
    "# import icecream library\n",
    "from icecream import ic\n",
    "\n",
    "# lets create a new class called Beverage\n",
    "class Beverage:\n",
    "    \n",
    "    # constructor function to create a new Beverage object\n",
    "    def __init__(self, brand: str, flavor: str, calories: int):\n",
    "        ic()\n",
    "        \n",
    "        self.brand = brand\n",
    "        self.flavor = flavor\n",
    "        self.calories = calories\n",
    "        self.is_open = False\n",
    "        self.is_empty = False\n",
    "    \n",
    "    # method to open the beverage\n",
    "    def open_beverage(self):\n",
    "        ic()\n",
    "        \n",
    "        self.is_open = True\n",
    "        \n",
    "    # method to finish the beverage    \n",
    "    def finish_beverage(self):\n",
    "        ic()\n",
    "        \n",
    "        if self.is_open == True:\n",
    "            self.is_empty = True\n",
    "            \n",
    "        else:\n",
    "            print(\"cannot finish an unopened beverage...\")\n",
    "\n",
    "    # method to print the status of the beverage\n",
    "    def print_beverage_status(self):\n",
    "        ic()\n",
    "        \n",
    "        if self.is_open == True and self.is_empty == True:\n",
    "            print(f\"Just finished a {self.brand} {self.flavor} beverage\")\n",
    "            \n",
    "        elif self.is_open == True and self.is_empty == False:\n",
    "            print(f\"Currently drinking a {self.brand} {self.flavor} beverage\")\n",
    "            \n",
    "        if self.is_open == False and self.is_empty == False:\n",
    "            print(f\"Did not yet open this {self.brand} {self.flavor} beverage\")\n",
    "\n",
    "# create object of Beverage class\n",
    "coffee = Beverage(brand = \"Starbucks\", flavor = \"Iced Coffee\", calories = 10)\n",
    "\n",
    "# open beverage\n",
    "coffee.open_beverage()\n",
    "\n",
    "# finish beverage\n",
    "coffee.finish_beverage()\n",
    "\n",
    "# check coffee's is_empty attribute\n",
    "ic(coffee.is_empty)"
   ]
  },
  {
   "cell_type": "markdown",
   "metadata": {},
   "source": [
    "# Intro to Algorithms\n",
    "## Primality Test 1"
   ]
  },
  {
   "cell_type": "code",
   "execution_count": 11,
   "metadata": {},
   "outputs": [],
   "source": [
    "# most basic test for primality\n",
    "# test if a number has any number less than itself that it is divisible by\n",
    "\n",
    "# function to return True if a number is prime\n",
    "def testing_primality_v1(n: int):\n",
    "    \n",
    "    # if n is <= 1, return False\n",
    "    if n <= 1:\n",
    "        print(f\"{n} is <= 1 and not prime\")\n",
    "        return False\n",
    "    \n",
    "    # check if n is divisible by every number from 2 to n-1\n",
    "    for i in range(2, n):\n",
    "        if n % i == 0:\n",
    "            print(f\"{n} is divisible by {i} and not prime\")\n",
    "            return False\n",
    "        \n",
    "    # if n > 1 and not divisible by numbers between 2 to n-1 return True\n",
    "    print(f\"{n} is prime!\")\n",
    "    return True"
   ]
  },
  {
   "cell_type": "code",
   "execution_count": 12,
   "metadata": {},
   "outputs": [
    {
     "name": "stdout",
     "output_type": "stream",
     "text": [
      "7917 is divisible by 3 and not prime\n"
     ]
    },
    {
     "data": {
      "text/plain": [
       "False"
      ]
     },
     "execution_count": 12,
     "metadata": {},
     "output_type": "execute_result"
    }
   ],
   "source": [
    "testing_primality_v1(n = 7917)"
   ]
  },
  {
   "cell_type": "code",
   "execution_count": 13,
   "metadata": {},
   "outputs": [
    {
     "name": "stdout",
     "output_type": "stream",
     "text": [
      "7919 is prime!\n"
     ]
    },
    {
     "data": {
      "text/plain": [
       "True"
      ]
     },
     "execution_count": 13,
     "metadata": {},
     "output_type": "execute_result"
    }
   ],
   "source": [
    "testing_primality_v1(n = 7919)"
   ]
  },
  {
   "cell_type": "markdown",
   "metadata": {},
   "source": [
    "## Primality Test 1 is very inefficient\n",
    "Let's find a slightly better, faster algorithm to test primality"
   ]
  },
  {
   "cell_type": "code",
   "execution_count": 14,
   "metadata": {},
   "outputs": [],
   "source": [
    "# function to return True if a number is prime\n",
    "def testing_primality_v2(n: int):\n",
    "    \n",
    "    # if n is <= 1, return False\n",
    "    if n <= 1:\n",
    "        print(f\"{n} is <= 1 and not prime\")\n",
    "        return False\n",
    "    \n",
    "    if n % 2 == 0:\n",
    "        print(f\"{n} is even and not prime\")\n",
    "        return False\n",
    "    \n",
    "    # check if n is divisible by every odd number from 3 to n-1\n",
    "    for i in range(3, n, 2):\n",
    "        if n % i == 0:\n",
    "            print(f\"{n} is divisible by {i} and not prime\")\n",
    "            return False\n",
    "        \n",
    "    # if n > 1 and not divisible by numbers between 2 to n-1 return True\n",
    "    print(f\"{n} is prime!\")\n",
    "    return True"
   ]
  },
  {
   "cell_type": "code",
   "execution_count": 15,
   "metadata": {},
   "outputs": [
    {
     "name": "stdout",
     "output_type": "stream",
     "text": [
      "53 is prime!\n"
     ]
    },
    {
     "data": {
      "text/plain": [
       "True"
      ]
     },
     "execution_count": 15,
     "metadata": {},
     "output_type": "execute_result"
    }
   ],
   "source": [
    "testing_primality_v2(n = 53)"
   ]
  },
  {
   "cell_type": "code",
   "execution_count": 16,
   "metadata": {},
   "outputs": [],
   "source": [
    "def test_algorithm_time(test_number: int, algorithm):\n",
    "    import time\n",
    "    \n",
    "    # note the starting time\n",
    "    start_time = time.time()\n",
    "    \n",
    "    # run the algorithm\n",
    "    algorithm(n = test_number)\n",
    "    \n",
    "    # note the ending time\n",
    "    end_time = time.time()\n",
    "    \n",
    "    # get the elapsed time of the algorithm\n",
    "    elapsed_time = end_time - start_time\n",
    "    \n",
    "    # print the algorithms elapsed time\n",
    "    print(f\"algorithm {algorithm} took {round(elapsed_time, 4)} seconds\")"
   ]
  },
  {
   "cell_type": "code",
   "execution_count": 17,
   "metadata": {},
   "outputs": [
    {
     "name": "stdout",
     "output_type": "stream",
     "text": [
      "73176001 is prime!\n",
      "algorithm <function testing_primality_v2 at 0x000001B5AD974840> took 1.9997 seconds\n"
     ]
    }
   ],
   "source": [
    "test_algorithm_time(test_number = 73176001, algorithm = testing_primality_v2)"
   ]
  },
  {
   "cell_type": "code",
   "execution_count": 18,
   "metadata": {},
   "outputs": [
    {
     "name": "stdout",
     "output_type": "stream",
     "text": [
      "73176001 is prime!\n",
      "algorithm <function testing_primality_v1 at 0x000001B5ADA9CEA0> took 3.8563 seconds\n"
     ]
    }
   ],
   "source": [
    "test_algorithm_time(test_number = 73176001, algorithm = testing_primality_v1)"
   ]
  },
  {
   "cell_type": "markdown",
   "metadata": {},
   "source": [
    "# Let's look at sorting algorithms"
   ]
  },
  {
   "cell_type": "markdown",
   "metadata": {},
   "source": [
    "- Sorting algorithms are for sorting collections of data\n",
    "- Let's try sorting a list of integers"
   ]
  },
  {
   "cell_type": "markdown",
   "metadata": {},
   "source": [
    "## Bubble Sort"
   ]
  },
  {
   "cell_type": "code",
   "execution_count": 19,
   "metadata": {},
   "outputs": [],
   "source": [
    "def bubble_sort(array):\n",
    "    n = len(array)\n",
    "\n",
    "    for i in range(n):\n",
    "        # Create a flag that will allow the function to\n",
    "        # terminate early if there's nothing left to sort\n",
    "        already_sorted = True\n",
    "\n",
    "        # Start looking at each item of the list one by one,\n",
    "        # comparing it with its adjacent value. With each\n",
    "        # iteration, the portion of the array that you look at\n",
    "        # shrinks because the remaining items have already been\n",
    "        # sorted.\n",
    "        for j in range(n - i - 1):\n",
    "            if array[j] > array[j + 1]:\n",
    "                # If the item you're looking at is greater than its\n",
    "                # adjacent value, then swap them\n",
    "                array[j], array[j + 1] = array[j + 1], array[j]\n",
    "\n",
    "                # Since you had to swap two elements,\n",
    "                # set the `already_sorted` flag to `False` so the\n",
    "                # algorithm doesn't finish prematurely\n",
    "                already_sorted = False\n",
    "\n",
    "        # If there were no swaps during the last iteration,\n",
    "        # the array is already sorted, and you can terminate\n",
    "        if already_sorted:\n",
    "            break\n",
    "\n",
    "    return array"
   ]
  },
  {
   "cell_type": "code",
   "execution_count": 24,
   "metadata": {},
   "outputs": [],
   "source": [
    "def test_sorting_algorithm_speed(algorithm, array_length):\n",
    "    # generate a list of 100000 random integers\n",
    "    import random\n",
    "    array = [random.randint(0, 1000) for i in range(array_length)]\n",
    "    \n",
    "    # note the starting time\n",
    "    import time\n",
    "    start_time = time.time()\n",
    "    \n",
    "    # run the algorithm\n",
    "    algorithm(array = array)\n",
    "    \n",
    "    # note the ending time\n",
    "    end_time = time.time()\n",
    "    \n",
    "    # get the elapsed time of the algorithm\n",
    "    elapsed_time = end_time - start_time\n",
    "    \n",
    "    # print the algorithms elapsed time\n",
    "    print(f\"algorithm {algorithm} took {round(elapsed_time, 4)} seconds\")"
   ]
  },
  {
   "cell_type": "code",
   "execution_count": 28,
   "metadata": {},
   "outputs": [
    {
     "name": "stdout",
     "output_type": "stream",
     "text": [
      "algorithm <function bubble_sort at 0x000001B5AD974378> took 7.9528 seconds\n"
     ]
    }
   ],
   "source": [
    "test_sorting_algorithm_speed(algorithm = bubble_sort,\n",
    "                            array_length = 10000)"
   ]
  },
  {
   "cell_type": "markdown",
   "metadata": {},
   "source": [
    "## Insertion Sort"
   ]
  },
  {
   "cell_type": "code",
   "execution_count": 29,
   "metadata": {},
   "outputs": [],
   "source": [
    "def insertion_sort(array):\n",
    "    # Loop from the second element of the array until\n",
    "    # the last element\n",
    "    for i in range(1, len(array)):\n",
    "        # This is the element we want to position in its\n",
    "        # correct place\n",
    "        key_item = array[i]\n",
    "\n",
    "        # Initialize the variable that will be used to\n",
    "        # find the correct position of the element referenced\n",
    "        # by `key_item`\n",
    "        j = i - 1\n",
    "\n",
    "        # Run through the list of items (the left\n",
    "        # portion of the array) and find the correct position\n",
    "        # of the element referenced by `key_item`. Do this only\n",
    "        # if `key_item` is smaller than its adjacent values.\n",
    "        while j >= 0 and array[j] > key_item:\n",
    "            # Shift the value one position to the left\n",
    "            # and reposition j to point to the next element\n",
    "            # (from right to left)\n",
    "            array[j + 1] = array[j]\n",
    "            j -= 1\n",
    "\n",
    "        # When you finish shifting the elements, you can position\n",
    "        # `key_item` in its correct location\n",
    "        array[j + 1] = key_item\n",
    "\n",
    "    return array"
   ]
  },
  {
   "cell_type": "code",
   "execution_count": 30,
   "metadata": {},
   "outputs": [
    {
     "name": "stdout",
     "output_type": "stream",
     "text": [
      "algorithm <function insertion_sort at 0x000001B5ADAD2E18> took 4.0831 seconds\n"
     ]
    }
   ],
   "source": [
    "test_sorting_algorithm_speed(algorithm = insertion_sort,\n",
    "                            array_length = 10000)"
   ]
  },
  {
   "cell_type": "markdown",
   "metadata": {},
   "source": [
    "## Merge Sort"
   ]
  },
  {
   "cell_type": "code",
   "execution_count": 31,
   "metadata": {},
   "outputs": [],
   "source": [
    "def merge(left, right):\n",
    "    # If the first array is empty, then nothing needs\n",
    "    # to be merged, and you can return the second array as the result\n",
    "    if len(left) == 0:\n",
    "        return right\n",
    "\n",
    "    # If the second array is empty, then nothing needs\n",
    "    # to be merged, and you can return the first array as the result\n",
    "    if len(right) == 0:\n",
    "        return left\n",
    "\n",
    "    result = []\n",
    "    index_left = index_right = 0\n",
    "\n",
    "    # Now go through both arrays until all the elements\n",
    "    # make it into the resultant array\n",
    "    while len(result) < len(left) + len(right):\n",
    "        # The elements need to be sorted to add them to the\n",
    "        # resultant array, so you need to decide whether to get\n",
    "        # the next element from the first or the second array\n",
    "        if left[index_left] <= right[index_right]:\n",
    "            result.append(left[index_left])\n",
    "            index_left += 1\n",
    "        else:\n",
    "            result.append(right[index_right])\n",
    "            index_right += 1\n",
    "\n",
    "        # If you reach the end of either array, then you can\n",
    "        # add the remaining elements from the other array to\n",
    "        # the result and break the loop\n",
    "        if index_right == len(right):\n",
    "            result += left[index_left:]\n",
    "            break\n",
    "\n",
    "        if index_left == len(left):\n",
    "            result += right[index_right:]\n",
    "            break\n",
    "\n",
    "    return result"
   ]
  },
  {
   "cell_type": "code",
   "execution_count": 32,
   "metadata": {},
   "outputs": [],
   "source": [
    "def merge_sort(array):\n",
    "    # If the input array contains fewer than two elements,\n",
    "    # then return it as the result of the function\n",
    "    if len(array) < 2:\n",
    "        return array\n",
    "\n",
    "    midpoint = len(array) // 2\n",
    "\n",
    "    # Sort the array by recursively splitting the input\n",
    "    # into two equal halves, sorting each half and merging them\n",
    "    # together into the final result\n",
    "    return merge(\n",
    "        left=merge_sort(array[:midpoint]),\n",
    "        right=merge_sort(array[midpoint:]))"
   ]
  },
  {
   "cell_type": "code",
   "execution_count": 33,
   "metadata": {},
   "outputs": [
    {
     "name": "stdout",
     "output_type": "stream",
     "text": [
      "algorithm <function merge_sort at 0x000001B5ADAD2BF8> took 0.0659 seconds\n"
     ]
    }
   ],
   "source": [
    "test_sorting_algorithm_speed(algorithm = merge_sort,\n",
    "                            array_length = 10000)"
   ]
  },
  {
   "cell_type": "markdown",
   "metadata": {},
   "source": [
    "# Algorithms for Project Euler (Bonus Assignment)\n",
    "---"
   ]
  },
  {
   "cell_type": "code",
   "execution_count": 58,
   "metadata": {},
   "outputs": [],
   "source": [
    "# Problem 5\n",
    "# 2520 is the smallest number that can be divided by each of the numbers from 1 to 10 without any remainder.\n",
    "# What is the smallest positive number that is evenly divisible by all of the numbers from 1 to 20?\n",
    "\n",
    "def is_divisible_by(n: int, divisors: list):\n",
    "    \n",
    "    if n % 2 != 0:\n",
    "        return False\n",
    "    \n",
    "    for d in divisors:\n",
    "        if n % d != 0:\n",
    "            return False\n",
    "    \n",
    "    print(f\"{n} divisible by all divisors: {divisors}\")\n",
    "    return True"
   ]
  },
  {
   "cell_type": "code",
   "execution_count": 59,
   "metadata": {},
   "outputs": [
    {
     "data": {
      "text/plain": [
       "False"
      ]
     },
     "execution_count": 59,
     "metadata": {},
     "output_type": "execute_result"
    }
   ],
   "source": [
    "is_divisible_by(n = 100, divisors = range(1,11))"
   ]
  },
  {
   "cell_type": "code",
   "execution_count": 60,
   "metadata": {},
   "outputs": [
    {
     "name": "stdout",
     "output_type": "stream",
     "text": [
      "2520 divisible by all divisors: range(1, 11)\n"
     ]
    },
    {
     "data": {
      "text/plain": [
       "True"
      ]
     },
     "execution_count": 60,
     "metadata": {},
     "output_type": "execute_result"
    }
   ],
   "source": [
    "is_divisible_by(n = 2520, divisors = range(1,11))"
   ]
  },
  {
   "cell_type": "markdown",
   "metadata": {},
   "source": [
    "### How could we improve the function to speed it up?\n",
    "1. rather than checking all numbers from 1-20, which numbers do you really need? [11, 13, 14, 16, 17, 19, 20]\n",
    "\n",
    "2. Can you increment by more than 1 to check all the numbers?"
   ]
  }
 ],
 "metadata": {
  "kernelspec": {
   "display_name": "Python 3",
   "language": "python",
   "name": "python3"
  },
  "language_info": {
   "codemirror_mode": {
    "name": "ipython",
    "version": 3
   },
   "file_extension": ".py",
   "mimetype": "text/x-python",
   "name": "python",
   "nbconvert_exporter": "python",
   "pygments_lexer": "ipython3",
   "version": "3.7.2"
  }
 },
 "nbformat": 4,
 "nbformat_minor": 2
}
