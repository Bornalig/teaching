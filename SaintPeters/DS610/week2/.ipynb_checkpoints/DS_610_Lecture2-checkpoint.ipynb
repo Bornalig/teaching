{
 "cells": [
  {
   "cell_type": "markdown",
   "metadata": {
    "colab_type": "text",
    "id": "view-in-github"
   },
   "source": [
    "<a href=\"https://colab.research.google.com/github/JoeGanser/teaching/blob/main/saintpeters/ds610/week2/DS_610_Lecture2.ipynb\" target=\"_parent\"><img src=\"https://colab.research.google.com/assets/colab-badge.svg\" alt=\"Open In Colab\"/></a>"
   ]
  },
  {
   "cell_type": "code",
   "execution_count": null,
   "metadata": {
    "colab": {
     "base_uri": "https://localhost:8080/"
    },
    "id": "UaIN5XhF_FiP",
    "outputId": "5a9feb45-bb9c-4c0f-cd29-f3a588f12d9b"
   },
   "outputs": [
    {
     "name": "stdout",
     "output_type": "stream",
     "text": [
      "Looking in indexes: https://pypi.org/simple, https://us-python.pkg.dev/colab-wheels/public/simple/\n",
      "Collecting pyspark\n",
      "  Downloading pyspark-3.3.1.tar.gz (281.4 MB)\n",
      "\u001b[K     |████████████████████████████████| 281.4 MB 41 kB/s \n",
      "\u001b[?25hCollecting py4j==0.10.9.5\n",
      "  Downloading py4j-0.10.9.5-py2.py3-none-any.whl (199 kB)\n",
      "\u001b[K     |████████████████████████████████| 199 kB 42.5 MB/s \n",
      "\u001b[?25hBuilding wheels for collected packages: pyspark\n",
      "  Building wheel for pyspark (setup.py) ... \u001b[?25l\u001b[?25hdone\n",
      "  Created wheel for pyspark: filename=pyspark-3.3.1-py2.py3-none-any.whl size=281845512 sha256=3c9255c105eb213a45cd285c9a02adcd5111d2157a53b83fa3938018bcef0aed\n",
      "  Stored in directory: /root/.cache/pip/wheels/42/59/f5/79a5bf931714dcd201b26025347785f087370a10a3329a899c\n",
      "Successfully built pyspark\n",
      "Installing collected packages: py4j, pyspark\n",
      "Successfully installed py4j-0.10.9.5 pyspark-3.3.1\n"
     ]
    }
   ],
   "source": [
    "!pip install pyspark\n",
    "from pyspark.sql import SparkSession\n",
    "\n",
    "spark = SparkSession \\\n",
    "    .builder \\\n",
    "    .appName(\"Python Spark SQL basic example\") \\\n",
    "    .config(\"spark.some.config.option\", \"some-value\") \\\n",
    "    .getOrCreate()"
   ]
  },
  {
   "cell_type": "markdown",
   "metadata": {
    "id": "vneZdco7R8ka"
   },
   "source": [
    "#Load a DataFrame from a CSV file on github"
   ]
  },
  {
   "cell_type": "code",
   "execution_count": null,
   "metadata": {
    "colab": {
     "base_uri": "https://localhost:8080/"
    },
    "id": "ZCP-hEBsQj62",
    "outputId": "db105fea-bcca-4b5e-adaf-2c954bfd4800"
   },
   "outputs": [
    {
     "name": "stdout",
     "output_type": "stream",
     "text": [
      "+--------------------+-------------------+-----+\n",
      "|   DEST_COUNTRY_NAME|ORIGIN_COUNTRY_NAME|count|\n",
      "+--------------------+-------------------+-----+\n",
      "|       United States|            Romania|   15|\n",
      "|       United States|            Croatia|    1|\n",
      "|       United States|            Ireland|  344|\n",
      "|               Egypt|      United States|   15|\n",
      "|       United States|              India|   62|\n",
      "|       United States|          Singapore|    1|\n",
      "|       United States|            Grenada|   62|\n",
      "|          Costa Rica|      United States|  588|\n",
      "|             Senegal|      United States|   40|\n",
      "|             Moldova|      United States|    1|\n",
      "|       United States|       Sint Maarten|  325|\n",
      "|       United States|   Marshall Islands|   39|\n",
      "|              Guyana|      United States|   64|\n",
      "|               Malta|      United States|    1|\n",
      "|            Anguilla|      United States|   41|\n",
      "|             Bolivia|      United States|   30|\n",
      "|       United States|           Paraguay|    6|\n",
      "|             Algeria|      United States|    4|\n",
      "|Turks and Caicos ...|      United States|  230|\n",
      "|       United States|          Gibraltar|    1|\n",
      "+--------------------+-------------------+-----+\n",
      "only showing top 20 rows\n",
      "\n"
     ]
    }
   ],
   "source": [
    "url = 'https://raw.githubusercontent.com/JoeGanser/Spark-The-Definitive-Guide/master/data/flight-data/csv/'\n",
    "csv_file = \"2015-summary.csv\"\n",
    "url = url+csv_file\n",
    "from pyspark import SparkFiles\n",
    "spark.sparkContext.addFile(url)\n",
    "\n",
    "flightData2015 = spark.read.csv(\"file://\"+SparkFiles.get(csv_file), header=True, inferSchema= True)\n",
    "flightData2015.show()"
   ]
  },
  {
   "cell_type": "code",
   "execution_count": null,
   "metadata": {
    "colab": {
     "base_uri": "https://localhost:8080/"
    },
    "id": "E7qjNfy5Qypm",
    "outputId": "b4b441b8-275c-4c4a-c3f5-9bd2f894dae3"
   },
   "outputs": [
    {
     "name": "stdout",
     "output_type": "stream",
     "text": [
      "root\n",
      " |-- DEST_COUNTRY_NAME: string (nullable = true)\n",
      " |-- ORIGIN_COUNTRY_NAME: string (nullable = true)\n",
      " |-- count: integer (nullable = true)\n",
      "\n"
     ]
    }
   ],
   "source": [
    "flightData2015.printSchema()"
   ]
  },
  {
   "cell_type": "code",
   "execution_count": null,
   "metadata": {
    "colab": {
     "base_uri": "https://localhost:8080/"
    },
    "id": "Hq3fhEW1bxqs",
    "outputId": "dfee91c0-4992-483d-f509-652b7f796d41"
   },
   "outputs": [
    {
     "name": "stdout",
     "output_type": "stream",
     "text": [
      "+--------------------+\n",
      "|   DEST_COUNTRY_NAME|\n",
      "+--------------------+\n",
      "|       United States|\n",
      "|       United States|\n",
      "|       United States|\n",
      "|               Egypt|\n",
      "|       United States|\n",
      "|       United States|\n",
      "|       United States|\n",
      "|          Costa Rica|\n",
      "|             Senegal|\n",
      "|             Moldova|\n",
      "|       United States|\n",
      "|       United States|\n",
      "|              Guyana|\n",
      "|               Malta|\n",
      "|            Anguilla|\n",
      "|             Bolivia|\n",
      "|       United States|\n",
      "|             Algeria|\n",
      "|Turks and Caicos ...|\n",
      "|       United States|\n",
      "+--------------------+\n",
      "only showing top 20 rows\n",
      "\n"
     ]
    }
   ],
   "source": [
    "selection = flightData2015.select('DEST_COUNTRY_NAME')\n",
    "selection.show()"
   ]
  },
  {
   "cell_type": "code",
   "execution_count": null,
   "metadata": {
    "colab": {
     "base_uri": "https://localhost:8080/"
    },
    "id": "9usMYo6nb7ay",
    "outputId": "61b0c866-3bc8-43c3-f3dc-81e35259a5ae"
   },
   "outputs": [
    {
     "name": "stdout",
     "output_type": "stream",
     "text": [
      "+-------+-----------------+-------------------+------------------+\n",
      "|summary|DEST_COUNTRY_NAME|ORIGIN_COUNTRY_NAME|             count|\n",
      "+-------+-----------------+-------------------+------------------+\n",
      "|  count|              256|                256|               256|\n",
      "|   mean|             null|               null|       1770.765625|\n",
      "| stddev|             null|               null|23126.516918551915|\n",
      "|    min|          Algeria|             Angola|                 1|\n",
      "|    max|           Zambia|            Vietnam|            370002|\n",
      "+-------+-----------------+-------------------+------------------+\n",
      "\n"
     ]
    }
   ],
   "source": [
    "flightData2015.describe().show()"
   ]
  },
  {
   "cell_type": "code",
   "execution_count": null,
   "metadata": {
    "colab": {
     "base_uri": "https://localhost:8080/"
    },
    "id": "FSnBjm8_b_rB",
    "outputId": "0fc94fa2-b3a9-493c-d930-96a765808ac5"
   },
   "outputs": [
    {
     "name": "stdout",
     "output_type": "stream",
     "text": [
      "+--------------------+-------------------+-----+----------------+\n",
      "|   DEST_COUNTRY_NAME|ORIGIN_COUNTRY_NAME|count|double the count|\n",
      "+--------------------+-------------------+-----+----------------+\n",
      "|       United States|            Romania|   15|              30|\n",
      "|       United States|            Croatia|    1|               2|\n",
      "|       United States|            Ireland|  344|             688|\n",
      "|               Egypt|      United States|   15|              30|\n",
      "|       United States|              India|   62|             124|\n",
      "|       United States|          Singapore|    1|               2|\n",
      "|       United States|            Grenada|   62|             124|\n",
      "|          Costa Rica|      United States|  588|            1176|\n",
      "|             Senegal|      United States|   40|              80|\n",
      "|             Moldova|      United States|    1|               2|\n",
      "|       United States|       Sint Maarten|  325|             650|\n",
      "|       United States|   Marshall Islands|   39|              78|\n",
      "|              Guyana|      United States|   64|             128|\n",
      "|               Malta|      United States|    1|               2|\n",
      "|            Anguilla|      United States|   41|              82|\n",
      "|             Bolivia|      United States|   30|              60|\n",
      "|       United States|           Paraguay|    6|              12|\n",
      "|             Algeria|      United States|    4|               8|\n",
      "|Turks and Caicos ...|      United States|  230|             460|\n",
      "|       United States|          Gibraltar|    1|               2|\n",
      "+--------------------+-------------------+-----+----------------+\n",
      "only showing top 20 rows\n",
      "\n"
     ]
    }
   ],
   "source": [
    "flightData2015 = flightData2015.withColumn('double the count',flightData2015['count']*2)\n",
    "flightData2015.show()"
   ]
  },
  {
   "cell_type": "code",
   "execution_count": null,
   "metadata": {
    "colab": {
     "base_uri": "https://localhost:8080/"
    },
    "id": "Ea37R_9AcTfF",
    "outputId": "a02a2bc2-91f8-429a-a9d6-5b08e4feac6e"
   },
   "outputs": [
    {
     "name": "stdout",
     "output_type": "stream",
     "text": [
      "+--------------------+-------------------+-----+\n",
      "|   DEST_COUNTRY_NAME|ORIGIN_COUNTRY_NAME|count|\n",
      "+--------------------+-------------------+-----+\n",
      "|       United States|            Romania|   15|\n",
      "|       United States|            Croatia|    1|\n",
      "|       United States|            Ireland|  344|\n",
      "|               Egypt|      United States|   15|\n",
      "|       United States|              India|   62|\n",
      "|       United States|          Singapore|    1|\n",
      "|       United States|            Grenada|   62|\n",
      "|          Costa Rica|      United States|  588|\n",
      "|             Senegal|      United States|   40|\n",
      "|             Moldova|      United States|    1|\n",
      "|       United States|       Sint Maarten|  325|\n",
      "|       United States|   Marshall Islands|   39|\n",
      "|              Guyana|      United States|   64|\n",
      "|               Malta|      United States|    1|\n",
      "|            Anguilla|      United States|   41|\n",
      "|             Bolivia|      United States|   30|\n",
      "|       United States|           Paraguay|    6|\n",
      "|             Algeria|      United States|    4|\n",
      "|Turks and Caicos ...|      United States|  230|\n",
      "|       United States|          Gibraltar|    1|\n",
      "+--------------------+-------------------+-----+\n",
      "only showing top 20 rows\n",
      "\n"
     ]
    }
   ],
   "source": [
    "flightData2015 = flightData2015.drop('double the count')\n",
    "flightData2015.show()"
   ]
  },
  {
   "cell_type": "code",
   "execution_count": null,
   "metadata": {
    "colab": {
     "base_uri": "https://localhost:8080/"
    },
    "id": "O0vidQ2tcbsK",
    "outputId": "2c9a188c-e36e-4c9b-c383-f3e657c87489"
   },
   "outputs": [
    {
     "name": "stdout",
     "output_type": "stream",
     "text": [
      "+--------------------+----------------+-----+\n",
      "|                DEST|          ORIGIN|count|\n",
      "+--------------------+----------------+-----+\n",
      "|       United States|         Romania|   15|\n",
      "|       United States|         Croatia|    1|\n",
      "|       United States|         Ireland|  344|\n",
      "|               Egypt|   United States|   15|\n",
      "|       United States|           India|   62|\n",
      "|       United States|       Singapore|    1|\n",
      "|       United States|         Grenada|   62|\n",
      "|          Costa Rica|   United States|  588|\n",
      "|             Senegal|   United States|   40|\n",
      "|             Moldova|   United States|    1|\n",
      "|       United States|    Sint Maarten|  325|\n",
      "|       United States|Marshall Islands|   39|\n",
      "|              Guyana|   United States|   64|\n",
      "|               Malta|   United States|    1|\n",
      "|            Anguilla|   United States|   41|\n",
      "|             Bolivia|   United States|   30|\n",
      "|       United States|        Paraguay|    6|\n",
      "|             Algeria|   United States|    4|\n",
      "|Turks and Caicos ...|   United States|  230|\n",
      "|       United States|       Gibraltar|    1|\n",
      "+--------------------+----------------+-----+\n",
      "only showing top 20 rows\n",
      "\n"
     ]
    }
   ],
   "source": [
    "flightData2015 = flightData2015.withColumnRenamed('DEST_COUNTRY_NAME','DEST').withColumnRenamed('ORIGIN_COUNTRY_NAME','ORIGIN')\n",
    "flightData2015.show()"
   ]
  },
  {
   "cell_type": "code",
   "execution_count": null,
   "metadata": {
    "colab": {
     "base_uri": "https://localhost:8080/"
    },
    "id": "RLCQitDictNC",
    "outputId": "a6eba39b-3317-4763-8db7-1f4a937b99e2"
   },
   "outputs": [
    {
     "name": "stdout",
     "output_type": "stream",
     "text": [
      "+-------------+--------------------+-----+\n",
      "|         DEST|              ORIGIN|count|\n",
      "+-------------+--------------------+-----+\n",
      "|United States|             Romania|   15|\n",
      "|United States|             Croatia|    1|\n",
      "|United States|             Ireland|  344|\n",
      "|United States|               India|   62|\n",
      "|United States|           Singapore|    1|\n",
      "|United States|             Grenada|   62|\n",
      "|United States|        Sint Maarten|  325|\n",
      "|United States|    Marshall Islands|   39|\n",
      "|United States|            Paraguay|    6|\n",
      "|United States|           Gibraltar|    1|\n",
      "|United States|Federated States ...|   69|\n",
      "|United States|              Russia|  161|\n",
      "|United States|         Netherlands|  660|\n",
      "|United States|             Senegal|   42|\n",
      "|United States|              Angola|   13|\n",
      "|United States|            Anguilla|   38|\n",
      "|United States|             Ecuador|  300|\n",
      "|United States|              Cyprus|    1|\n",
      "|United States|            Portugal|  134|\n",
      "|United States|          Costa Rica|  608|\n",
      "+-------------+--------------------+-----+\n",
      "only showing top 20 rows\n",
      "\n"
     ]
    }
   ],
   "source": [
    "united_states = flightData2015.filter(\"DEST = 'United States'\")\n",
    "united_states.show()"
   ]
  },
  {
   "cell_type": "code",
   "execution_count": null,
   "metadata": {
    "colab": {
     "base_uri": "https://localhost:8080/"
    },
    "id": "C7dPJyO3dNNP",
    "outputId": "bc5c8fdc-cc8d-404e-c27c-9cb11703fd77"
   },
   "outputs": [
    {
     "name": "stderr",
     "output_type": "stream",
     "text": [
      "/usr/local/lib/python3.7/dist-packages/pyspark/sql/dataframe.py:229: FutureWarning: Deprecated in 2.0, use createOrReplaceTempView instead.\n",
      "  warnings.warn(\"Deprecated in 2.0, use createOrReplaceTempView instead.\", FutureWarning)\n"
     ]
    },
    {
     "name": "stdout",
     "output_type": "stream",
     "text": [
      "+--------------------+\n",
      "|   DEST_COUNTRY_NAME|\n",
      "+--------------------+\n",
      "|             Algeria|\n",
      "|              Angola|\n",
      "|            Anguilla|\n",
      "| Antigua and Barbuda|\n",
      "|           Argentina|\n",
      "|               Aruba|\n",
      "|           Australia|\n",
      "|             Austria|\n",
      "|          Azerbaijan|\n",
      "|             Bahrain|\n",
      "|            Barbados|\n",
      "|             Belgium|\n",
      "|              Belize|\n",
      "|             Bermuda|\n",
      "|             Bolivia|\n",
      "|Bonaire, Sint Eus...|\n",
      "|              Brazil|\n",
      "|British Virgin Is...|\n",
      "|            Bulgaria|\n",
      "|        Burkina Faso|\n",
      "+--------------------+\n",
      "only showing top 20 rows\n",
      "\n"
     ]
    }
   ],
   "source": [
    "#Writing in SQL example\n",
    "flightData2015.registerTempTable(\"flightData2015\")\n",
    "spark.sql(\"select distinct DEST_COUNTRY_NAME from flightData2015 order by DEST_COUNTRY_NAME ASC\").show(20)"
   ]
  },
  {
   "cell_type": "code",
   "execution_count": null,
   "metadata": {
    "colab": {
     "base_uri": "https://localhost:8080/"
    },
    "id": "Wk_UdYkg1Nr9",
    "outputId": "79872e8e-e012-4179-c1f8-68bd320f9f09"
   },
   "outputs": [
    {
     "name": "stderr",
     "output_type": "stream",
     "text": [
      "/usr/local/lib/python3.7/dist-packages/pyspark/sql/context.py:114: FutureWarning: Deprecated in 3.0.0. Use SparkSession.builder.getOrCreate() instead.\n",
      "  FutureWarning,\n"
     ]
    },
    {
     "name": "stdout",
     "output_type": "stream",
     "text": [
      "+--------------------+-------------------+-----+\n",
      "|   DEST_COUNTRY_NAME|ORIGIN_COUNTRY_NAME|count|\n",
      "+--------------------+-------------------+-----+\n",
      "|       United States|            Romania|   15|\n",
      "|       United States|            Croatia|    1|\n",
      "|       United States|            Ireland|  344|\n",
      "|               Egypt|      United States|   15|\n",
      "|       United States|              India|   62|\n",
      "|       United States|          Singapore|    1|\n",
      "|       United States|            Grenada|   62|\n",
      "|          Costa Rica|      United States|  588|\n",
      "|             Senegal|      United States|   40|\n",
      "|             Moldova|      United States|    1|\n",
      "|       United States|       Sint Maarten|  325|\n",
      "|       United States|   Marshall Islands|   39|\n",
      "|              Guyana|      United States|   64|\n",
      "|               Malta|      United States|    1|\n",
      "|            Anguilla|      United States|   41|\n",
      "|             Bolivia|      United States|   30|\n",
      "|       United States|           Paraguay|    6|\n",
      "|             Algeria|      United States|    4|\n",
      "|Turks and Caicos ...|      United States|  230|\n",
      "|       United States|          Gibraltar|    1|\n",
      "+--------------------+-------------------+-----+\n",
      "only showing top 20 rows\n",
      "\n"
     ]
    }
   ],
   "source": [
    "from pyspark.sql import SparkSession\n",
    "from pyspark.sql import SQLContext\n",
    "spark = SparkSession \\\n",
    "    .builder \\\n",
    "    .appName(\"Python Spark SQL basic example\") \\\n",
    "    .config(\"spark.some.config.option\", \"some-value\") \\\n",
    "    .getOrCreate()\n",
    "\n",
    "sqlContext = SQLContext(spark)\n",
    "df_sqlContext = sqlContext.read.csv(\"file://\"+SparkFiles.get(csv_file), header=True, inferSchema= True)\n",
    "df_sqlContext.show()"
   ]
  },
  {
   "cell_type": "code",
   "execution_count": null,
   "metadata": {
    "id": "OApw5xt6FvnB"
   },
   "outputs": [],
   "source": []
  }
 ],
 "metadata": {
  "colab": {
   "authorship_tag": "ABX9TyMjpjD6KLnDljL6kHepUsUP",
   "include_colab_link": true,
   "provenance": []
  },
  "kernelspec": {
   "display_name": "Python 3 (ipykernel)",
   "language": "python",
   "name": "python3"
  },
  "language_info": {
   "codemirror_mode": {
    "name": "ipython",
    "version": 3
   },
   "file_extension": ".py",
   "mimetype": "text/x-python",
   "name": "python",
   "nbconvert_exporter": "python",
   "pygments_lexer": "ipython3",
   "version": "3.9.13"
  }
 },
 "nbformat": 4,
 "nbformat_minor": 1
}
