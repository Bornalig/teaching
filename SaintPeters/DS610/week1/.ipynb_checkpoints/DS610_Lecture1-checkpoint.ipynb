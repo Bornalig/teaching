{
 "cells": [
  {
   "cell_type": "markdown",
   "metadata": {
    "colab_type": "text",
    "id": "view-in-github"
   },
   "source": [
    "<a href=\"https://colab.research.google.com/github/JoeGanser/teaching/blob/main/saintpeters/ds610/week1/DS610_Lecture1.ipynb\" target=\"_parent\"><img src=\"https://colab.research.google.com/assets/colab-badge.svg\" alt=\"Open In Colab\"/></a>"
   ]
  },
  {
   "cell_type": "markdown",
   "metadata": {
    "id": "LXLn8_ECjgvu"
   },
   "source": [
    "# Python Recapitulation"
   ]
  },
  {
   "cell_type": "code",
   "execution_count": null,
   "metadata": {
    "colab": {
     "base_uri": "https://localhost:8080/"
    },
    "id": "pSy9iP6UjYu0",
    "outputId": "dc302756-d03a-4edb-ce37-7a3cf6da00c8"
   },
   "outputs": [
    {
     "data": {
      "text/plain": [
       "3.3333333333333335"
      ]
     },
     "execution_count": 1,
     "metadata": {},
     "output_type": "execute_result"
    }
   ],
   "source": [
    "#divison\n",
    "100/30"
   ]
  },
  {
   "cell_type": "code",
   "execution_count": null,
   "metadata": {
    "colab": {
     "base_uri": "https://localhost:8080/"
    },
    "id": "ah305YLPjmnq",
    "outputId": "17dfe037-90ee-4412-cb8a-2c9341015e50"
   },
   "outputs": [
    {
     "data": {
      "text/plain": [
       "3"
      ]
     },
     "execution_count": 2,
     "metadata": {},
     "output_type": "execute_result"
    }
   ],
   "source": [
    "#floor division\n",
    "100//30"
   ]
  },
  {
   "cell_type": "code",
   "execution_count": null,
   "metadata": {
    "colab": {
     "base_uri": "https://localhost:8080/"
    },
    "id": "hzWkZLYUjq6o",
    "outputId": "c55fa359-f5e8-4486-efb3-aeedc56b1ca8"
   },
   "outputs": [
    {
     "data": {
      "text/plain": [
       "1"
      ]
     },
     "execution_count": 3,
     "metadata": {},
     "output_type": "execute_result"
    }
   ],
   "source": [
    "#modulo operator\n",
    "7%3"
   ]
  },
  {
   "cell_type": "code",
   "execution_count": null,
   "metadata": {
    "colab": {
     "base_uri": "https://localhost:8080/"
    },
    "id": "1ZcBhCDmjtux",
    "outputId": "4fde855a-671d-4116-87f1-e58b1fa88dcb"
   },
   "outputs": [
    {
     "data": {
      "text/plain": [
       "9"
      ]
     },
     "execution_count": 4,
     "metadata": {},
     "output_type": "execute_result"
    }
   ],
   "source": [
    "#power\n",
    "3**2"
   ]
  },
  {
   "cell_type": "code",
   "execution_count": null,
   "metadata": {
    "colab": {
     "base_uri": "https://localhost:8080/"
    },
    "id": "ErZYnbxljwgy",
    "outputId": "7982b436-2be4-4da7-f609-fc19e2f4aeee"
   },
   "outputs": [
    {
     "data": {
      "text/plain": [
       "3.0"
      ]
     },
     "execution_count": 5,
     "metadata": {},
     "output_type": "execute_result"
    }
   ],
   "source": [
    "#root\n",
    "9**(0.5)"
   ]
  },
  {
   "cell_type": "code",
   "execution_count": null,
   "metadata": {
    "colab": {
     "base_uri": "https://localhost:8080/"
    },
    "id": "9j3MHSoFjzH5",
    "outputId": "bee93e27-d689-43bd-9632-5112f49360d4"
   },
   "outputs": [
    {
     "data": {
      "text/plain": [
       "float"
      ]
     },
     "execution_count": 6,
     "metadata": {},
     "output_type": "execute_result"
    }
   ],
   "source": [
    "#finding data types\n",
    "type(9.0)"
   ]
  },
  {
   "cell_type": "code",
   "execution_count": null,
   "metadata": {
    "colab": {
     "base_uri": "https://localhost:8080/"
    },
    "id": "PJ6VPnEKj2bg",
    "outputId": "03ee232c-916a-450f-aa34-b0c855760749"
   },
   "outputs": [
    {
     "data": {
      "text/plain": [
       "str"
      ]
     },
     "execution_count": 7,
     "metadata": {},
     "output_type": "execute_result"
    }
   ],
   "source": [
    "type('Hello')"
   ]
  },
  {
   "cell_type": "code",
   "execution_count": null,
   "metadata": {
    "colab": {
     "base_uri": "https://localhost:8080/",
     "height": 37
    },
    "id": "isX_ZHw5j34F",
    "outputId": "017bec78-a2c6-47d8-a67b-6134023d964d"
   },
   "outputs": [
    {
     "data": {
      "application/vnd.google.colaboratory.intrinsic+json": {
       "type": "string"
      },
      "text/plain": [
       "'e'"
      ]
     },
     "execution_count": 8,
     "metadata": {},
     "output_type": "execute_result"
    }
   ],
   "source": [
    "name = 'Peter'\n",
    "name[3]"
   ]
  },
  {
   "cell_type": "code",
   "execution_count": null,
   "metadata": {
    "colab": {
     "base_uri": "https://localhost:8080/",
     "height": 37
    },
    "id": "2QgMKMwfkME8",
    "outputId": "4db38926-6573-4cc2-b38d-a028e3d4e146"
   },
   "outputs": [
    {
     "data": {
      "application/vnd.google.colaboratory.intrinsic+json": {
       "type": "string"
      },
      "text/plain": [
       "'e'"
      ]
     },
     "execution_count": 10,
     "metadata": {},
     "output_type": "execute_result"
    }
   ],
   "source": [
    "name[-2]"
   ]
  },
  {
   "cell_type": "code",
   "execution_count": null,
   "metadata": {
    "colab": {
     "base_uri": "https://localhost:8080/",
     "height": 37
    },
    "id": "SN8I5GbqkN0d",
    "outputId": "5e1942e7-6095-49a9-b9a0-68ae2ff9c5bf"
   },
   "outputs": [
    {
     "data": {
      "application/vnd.google.colaboratory.intrinsic+json": {
       "type": "string"
      },
      "text/plain": [
       "'Ptr'"
      ]
     },
     "execution_count": 17,
     "metadata": {},
     "output_type": "execute_result"
    }
   ],
   "source": [
    "#print everything with a step of 2\n",
    "name[::2]"
   ]
  },
  {
   "cell_type": "code",
   "execution_count": null,
   "metadata": {
    "colab": {
     "base_uri": "https://localhost:8080/",
     "height": 181
    },
    "id": "dDXWUGvIkRk1",
    "outputId": "483bbd11-e261-4b99-ac94-7cc6330489a5"
   },
   "outputs": [
    {
     "ename": "TypeError",
     "evalue": "ignored",
     "output_type": "error",
     "traceback": [
      "\u001b[0;31m---------------------------------------------------------------------------\u001b[0m",
      "\u001b[0;31mTypeError\u001b[0m                                 Traceback (most recent call last)",
      "\u001b[0;32m<ipython-input-18-d63082781dfe>\u001b[0m in \u001b[0;36m<module>\u001b[0;34m\u001b[0m\n\u001b[1;32m      1\u001b[0m \u001b[0;31m#strings are immutable in python\u001b[0m\u001b[0;34m\u001b[0m\u001b[0;34m\u001b[0m\u001b[0;34m\u001b[0m\u001b[0m\n\u001b[0;32m----> 2\u001b[0;31m \u001b[0mname\u001b[0m\u001b[0;34m[\u001b[0m\u001b[0;36m0\u001b[0m\u001b[0;34m]\u001b[0m\u001b[0;34m=\u001b[0m\u001b[0;34m'D'\u001b[0m\u001b[0;34m\u001b[0m\u001b[0;34m\u001b[0m\u001b[0m\n\u001b[0m",
      "\u001b[0;31mTypeError\u001b[0m: 'str' object does not support item assignment"
     ]
    }
   ],
   "source": [
    "#strings are immutable in python\n",
    "name[0]='D'"
   ]
  },
  {
   "cell_type": "code",
   "execution_count": null,
   "metadata": {
    "colab": {
     "base_uri": "https://localhost:8080/"
    },
    "id": "qHtzDb2eoZ53",
    "outputId": "2a3ffa74-0941-4f2f-cf14-3007cd233c60"
   },
   "outputs": [
    {
     "name": "stdout",
     "output_type": "stream",
     "text": [
      "a\n"
     ]
    }
   ],
   "source": [
    "s = 'abc'\n",
    "print(s[0])"
   ]
  },
  {
   "cell_type": "code",
   "execution_count": null,
   "metadata": {
    "colab": {
     "base_uri": "https://localhost:8080/"
    },
    "id": "p-HNYh2GojXT",
    "outputId": "229849d6-2268-4fb9-f3dc-5ac69a1f432e"
   },
   "outputs": [
    {
     "name": "stdout",
     "output_type": "stream",
     "text": [
      "c\n"
     ]
    }
   ],
   "source": [
    "print(s[-1])"
   ]
  },
  {
   "cell_type": "code",
   "execution_count": null,
   "metadata": {
    "colab": {
     "base_uri": "https://localhost:8080/"
    },
    "id": "k_-Rf4cvok9O",
    "outputId": "dcdb9059-a030-417e-dfb1-bae1f1e15e29"
   },
   "outputs": [
    {
     "name": "stdout",
     "output_type": "stream",
     "text": [
      "b\n"
     ]
    }
   ],
   "source": [
    "print(s[-2])"
   ]
  },
  {
   "cell_type": "code",
   "execution_count": null,
   "metadata": {
    "colab": {
     "base_uri": "https://localhost:8080/"
    },
    "id": "kvkdB3YLomQP",
    "outputId": "fb06a2a2-9e4a-4ae6-e17f-4ad25283b371"
   },
   "outputs": [
    {
     "name": "stdout",
     "output_type": "stream",
     "text": [
      "abc\n"
     ]
    }
   ],
   "source": [
    "print(s[::])"
   ]
  },
  {
   "cell_type": "code",
   "execution_count": null,
   "metadata": {
    "colab": {
     "base_uri": "https://localhost:8080/"
    },
    "id": "hMbdSrSSopJO",
    "outputId": "7fc88d87-c7d4-48ab-b2fc-b04ccfde2b8b"
   },
   "outputs": [
    {
     "name": "stdout",
     "output_type": "stream",
     "text": [
      "ac\n"
     ]
    }
   ],
   "source": [
    "print(s[0:len(s):2])"
   ]
  },
  {
   "cell_type": "code",
   "execution_count": null,
   "metadata": {
    "colab": {
     "base_uri": "https://localhost:8080/"
    },
    "id": "rn0T3h0porko",
    "outputId": "23e04fdc-f1c0-47da-c20e-15aef5381526"
   },
   "outputs": [
    {
     "name": "stdout",
     "output_type": "stream",
     "text": [
      "['A', 'sentence', 'seperated', 'by', 'hash']\n"
     ]
    },
    {
     "data": {
      "text/plain": [
       "list"
      ]
     },
     "execution_count": 24,
     "metadata": {},
     "output_type": "execute_result"
    }
   ],
   "source": [
    "#split a specific element (doesnt include the element that was split on)\n",
    "sentence = 'A#sentence#seperated#by#hash'\n",
    "result = sentence.split('#')\n",
    "print(result)\n",
    "type(result)"
   ]
  },
  {
   "cell_type": "code",
   "execution_count": null,
   "metadata": {
    "colab": {
     "base_uri": "https://localhost:8080/"
    },
    "id": "2CTeo-qCo-A-",
    "outputId": "a6f62205-e2a2-4d6c-dc02-e8d0000d0163"
   },
   "outputs": [
    {
     "name": "stdout",
     "output_type": "stream",
     "text": [
      "The quick brown fox jumps over the lazy dog.\n"
     ]
    }
   ],
   "source": [
    "color = 'brown'\n",
    "action = 'jumps'\n",
    "animal = 'dog'\n",
    "print('The quick '+color+' fox '+action+' over the lazy '+animal+'.')"
   ]
  },
  {
   "cell_type": "code",
   "execution_count": null,
   "metadata": {
    "colab": {
     "base_uri": "https://localhost:8080/"
    },
    "id": "EW_uXLjYpqjJ",
    "outputId": "9eab4a41-b3b7-42fe-8bb4-d1688e1007fc"
   },
   "outputs": [
    {
     "name": "stdout",
     "output_type": "stream",
     "text": [
      "The quick brown fox jumps over the lazy dog.\n"
     ]
    }
   ],
   "source": [
    "print(f'The quick {color} fox {action} over the lazy {animal}.')"
   ]
  },
  {
   "cell_type": "code",
   "execution_count": null,
   "metadata": {
    "colab": {
     "base_uri": "https://localhost:8080/"
    },
    "id": "S9KzqXqhpw36",
    "outputId": "3dfaf7c0-74fa-4281-a486-7a2af52fd100"
   },
   "outputs": [
    {
     "name": "stdout",
     "output_type": "stream",
     "text": [
      "The quick brown fox jumps over the lazy dog.\n"
     ]
    }
   ],
   "source": [
    "print('The quick {0} fox {1} over the lazy {2}.'.format(color,action,animal))"
   ]
  },
  {
   "cell_type": "markdown",
   "metadata": {
    "id": "-YFUw0gwqOk2"
   },
   "source": [
    "#Lists: a list is a sequential collection which is ordered and changable (mutable)."
   ]
  },
  {
   "cell_type": "code",
   "execution_count": null,
   "metadata": {
    "colab": {
     "base_uri": "https://localhost:8080/"
    },
    "id": "kdwmZWdip_7x",
    "outputId": "35b0162c-b38a-4668-d093-804d9097f9f6"
   },
   "outputs": [
    {
     "data": {
      "text/plain": [
       "['bannana', 'cherry', 'avocados', 'blueberries']"
      ]
     },
     "execution_count": 28,
     "metadata": {},
     "output_type": "execute_result"
    }
   ],
   "source": [
    "fruits = ['apple','bannana','cherry','avocados','blueberries']\n",
    "fruits[1:]"
   ]
  },
  {
   "cell_type": "markdown",
   "metadata": {
    "id": "RDHMgKPlqgLy"
   },
   "source": [
    "`[staring-index:ending-index:step-size]`\n",
    "\n",
    "* staring-index is inclusive\n",
    "* ending-index is exclusive"
   ]
  },
  {
   "cell_type": "code",
   "execution_count": null,
   "metadata": {
    "colab": {
     "base_uri": "https://localhost:8080/"
    },
    "id": "zliSbTVDxBJy",
    "outputId": "4db7f603-9fa0-4a7e-cdde-512b648d0940"
   },
   "outputs": [
    {
     "data": {
      "text/plain": [
       "['apple', 'bannana']"
      ]
     },
     "execution_count": 29,
     "metadata": {},
     "output_type": "execute_result"
    }
   ],
   "source": [
    "fruits[:2]"
   ]
  },
  {
   "cell_type": "markdown",
   "metadata": {
    "id": "Dkjbf5aq0ROx"
   },
   "source": [
    "# Dictionaries `{'key1':'value1','key2':'value2'}`"
   ]
  },
  {
   "cell_type": "code",
   "execution_count": null,
   "metadata": {
    "id": "q5alUxDEqb94"
   },
   "outputs": [],
   "source": [
    "misc_data = {'Python':'DS-542','fruits':['watermellon','cherry','bluberries','bannana','avocados']}"
   ]
  },
  {
   "cell_type": "code",
   "execution_count": null,
   "metadata": {
    "colab": {
     "base_uri": "https://localhost:8080/",
     "height": 37
    },
    "id": "kJH36HVg0wnI",
    "outputId": "7a93521d-513a-409d-bef1-1eeabb97bf0f"
   },
   "outputs": [
    {
     "data": {
      "application/vnd.google.colaboratory.intrinsic+json": {
       "type": "string"
      },
      "text/plain": [
       "'BANNANA'"
      ]
     },
     "execution_count": 31,
     "metadata": {},
     "output_type": "execute_result"
    }
   ],
   "source": [
    "misc_data['fruits'][3].upper()"
   ]
  },
  {
   "cell_type": "markdown",
   "metadata": {
    "id": "3_D_jzkc0z_N"
   },
   "source": [
    "#Python Operators"
   ]
  },
  {
   "cell_type": "code",
   "execution_count": null,
   "metadata": {
    "colab": {
     "base_uri": "https://localhost:8080/"
    },
    "id": "fqT_1GAl0y5O",
    "outputId": "f9025946-67c9-4db2-c1a5-4fa39bd521b7"
   },
   "outputs": [
    {
     "name": "stdout",
     "output_type": "stream",
     "text": [
      "True\n"
     ]
    }
   ],
   "source": [
    "x = 5\n",
    "print(x>3 & x<10)"
   ]
  },
  {
   "cell_type": "code",
   "execution_count": null,
   "metadata": {
    "id": "LkJeWhoR058z"
   },
   "outputs": [],
   "source": [
    "car_brands_one = ('BMW','Toyota','Honda','Audi')\n",
    "car_brands_two = ('BMW','Toyota','Honda','Audi')\n",
    "car_brands_three = car_brands_one"
   ]
  },
  {
   "cell_type": "code",
   "execution_count": null,
   "metadata": {
    "colab": {
     "base_uri": "https://localhost:8080/"
    },
    "id": "ze0inVTH1NJd",
    "outputId": "482d0a6d-4ed3-40b9-88c6-ec75ea88c38a"
   },
   "outputs": [
    {
     "name": "stdout",
     "output_type": "stream",
     "text": [
      "car_brands_one is car car_brands_three:  True\n"
     ]
    }
   ],
   "source": [
    "print('car_brands_one is car car_brands_three:  '+str(car_brands_one == car_brands_three))"
   ]
  },
  {
   "cell_type": "code",
   "execution_count": null,
   "metadata": {
    "colab": {
     "base_uri": "https://localhost:8080/"
    },
    "id": "_MipUbS-1bfe",
    "outputId": "76c3b36d-c0c2-4c64-8ee4-0beb44b9ef3b"
   },
   "outputs": [
    {
     "name": "stdout",
     "output_type": "stream",
     "text": [
      "car_brands_one is car_breands_two:   True\n"
     ]
    }
   ],
   "source": [
    "print('car_brands_one is car_breands_two:   '+str(car_brands_one==car_brands_two))"
   ]
  },
  {
   "cell_type": "code",
   "execution_count": null,
   "metadata": {
    "colab": {
     "base_uri": "https://localhost:8080/"
    },
    "id": "aTngm_Ws1h9k",
    "outputId": "e654dc9f-d470-4abe-a1a6-ff39ce98314d"
   },
   "outputs": [
    {
     "name": "stdout",
     "output_type": "stream",
     "text": [
      "car_brands_one is NOT car_breands_two:   False\n"
     ]
    }
   ],
   "source": [
    "print('car_brands_one is NOT car_breands_two:   '+str(car_brands_one!=car_brands_two))"
   ]
  },
  {
   "cell_type": "markdown",
   "metadata": {
    "id": "Zk9kaxQo23Es"
   },
   "source": [
    "# If, elif, else statements"
   ]
  },
  {
   "cell_type": "markdown",
   "metadata": {
    "id": "fCWO8v4k27kZ"
   },
   "source": [
    "ent\n",
    "    `"
   ]
  },
  {
   "cell_type": "code",
   "execution_count": null,
   "metadata": {
    "id": "xKidTAu92Wf8"
   },
   "outputs": [],
   "source": [
    "if condition_one:\n",
    "  execute_these_statements\n",
    "elif condition_two:\n",
    "  execute_this_next_statement\n",
    "else:\n",
    "  execute_this_final_statement"
   ]
  },
  {
   "cell_type": "code",
   "execution_count": null,
   "metadata": {
    "colab": {
     "base_uri": "https://localhost:8080/"
    },
    "id": "DO5Qjkrk3ep4",
    "outputId": "7c101fb1-4533-4958-ac8a-e03dcc7f8ebd"
   },
   "outputs": [
    {
     "name": "stdout",
     "output_type": "stream",
     "text": [
      "Please choose from one of the offerred courses!\n"
     ]
    }
   ],
   "source": [
    "current_course = 'Python'\n",
    "current_course = 'Algorithms I'\n",
    "current_course = 'Algorithms II'\n",
    "current_course = 'PostgreSQL'\n",
    "\n",
    "if current_course == 'Python':\n",
    "  print('welcome to python')\n",
    "elif current_course == 'Algorithms I':\n",
    "  print('Welcome to algorithms I')\n",
    "else:\n",
    "  print('Please choose from one of the offerred courses!')"
   ]
  },
  {
   "cell_type": "markdown",
   "metadata": {
    "id": "lA_lCLoGp9qT"
   },
   "source": [
    "# For Loops"
   ]
  },
  {
   "cell_type": "code",
   "execution_count": null,
   "metadata": {
    "colab": {
     "base_uri": "https://localhost:8080/"
    },
    "id": "nwiMh3dd38pN",
    "outputId": "cfa2b4bc-7c43-40dc-b562-9aca7218707d"
   },
   "outputs": [
    {
     "name": "stdout",
     "output_type": "stream",
     "text": [
      "T\n",
      "h\n",
      "e\n",
      " \n",
      "q\n",
      "u\n",
      "i\n",
      "c\n",
      "k\n",
      " \n",
      "b\n",
      "r\n",
      "o\n",
      "w\n",
      "n\n",
      " \n",
      "f\n",
      "o\n",
      "x\n",
      " \n",
      "j\n",
      "u\n",
      "m\n",
      "p\n",
      "s\n",
      " \n",
      "o\n",
      "v\n",
      "e\n",
      "r\n",
      " \n",
      "t\n",
      "h\n",
      "e\n",
      " \n",
      "l\n",
      "a\n",
      "z\n",
      "y\n",
      " \n",
      "d\n",
      "o\n",
      "g\n",
      ".\n"
     ]
    }
   ],
   "source": [
    "sentence = 'The quick brown fox jumps over the lazy dog.'\n",
    "\n",
    "for character in sentence:\n",
    "  print(character)"
   ]
  },
  {
   "cell_type": "code",
   "execution_count": null,
   "metadata": {
    "colab": {
     "base_uri": "https://localhost:8080/"
    },
    "id": "RQXuVAcErNPb",
    "outputId": "165a6fbf-f557-4b07-ce16-5a207bed54ff"
   },
   "outputs": [
    {
     "name": "stdout",
     "output_type": "stream",
     "text": [
      "Course: Python, code: DS542\n",
      "Course: Data Mining, code: DS-600\n",
      "Course: Algorithms I, code: DS590\n"
     ]
    }
   ],
   "source": [
    "coure_code = {'Python':'DS542','Data Mining':'DS-600','Algorithms I':'DS590'}\n",
    "\n",
    "for course,code in coure_code.items():\n",
    "  print(f'Course: {course}, code: {code}')"
   ]
  },
  {
   "cell_type": "markdown",
   "metadata": {
    "id": "Z9MigkPcrj7B"
   },
   "source": [
    "#Iteration with `while` loops"
   ]
  },
  {
   "cell_type": "code",
   "execution_count": null,
   "metadata": {
    "colab": {
     "base_uri": "https://localhost:8080/"
    },
    "id": "tdBlT5aqrhw_",
    "outputId": "1f888491-27f6-4df4-922c-9ecc68ecfd4b"
   },
   "outputs": [
    {
     "name": "stdout",
     "output_type": "stream",
     "text": [
      "9*1=9\n",
      "9*2=18\n",
      "9*3=27\n",
      "9*4=36\n",
      "9*5=45\n",
      "9*6=54\n",
      "9*7=63\n",
      "9*8=72\n",
      "9*9=81\n",
      "9*10=90\n",
      "Execution time: 0.004922389984130859 seconds\n"
     ]
    }
   ],
   "source": [
    "import time\n",
    "\n",
    "start_time = time.time()\n",
    "\n",
    "start = 1\n",
    "end = 10\n",
    "table = 9\n",
    "\n",
    "while start<=end:\n",
    "  print(f'{table}*{start}={table*start}')\n",
    "  start+=1\n",
    "\n",
    "print(f'Execution time: {time.time() - start_time} seconds')"
   ]
  },
  {
   "cell_type": "markdown",
   "metadata": {
    "id": "-u5p3TLIsO5H"
   },
   "source": [
    "#List Comprehension\n",
    "\n",
    "`[expression for item in list if conditional]`"
   ]
  },
  {
   "cell_type": "code",
   "execution_count": null,
   "metadata": {
    "colab": {
     "base_uri": "https://localhost:8080/"
    },
    "id": "6021xf8EsIuG",
    "outputId": "364b683c-7bc5-45f5-c5bd-f77b70964f8a"
   },
   "outputs": [
    {
     "data": {
      "text/plain": [
       "[0, 1, 4, 9, 16, 25, 36, 49, 64, 81, 100]"
      ]
     },
     "execution_count": 41,
     "metadata": {},
     "output_type": "execute_result"
    }
   ],
   "source": [
    "squares = [num**2 for num in range(0,11)]\n",
    "squares"
   ]
  },
  {
   "cell_type": "code",
   "execution_count": null,
   "metadata": {
    "colab": {
     "base_uri": "https://localhost:8080/"
    },
    "id": "1bKYMIursgeQ",
    "outputId": "9784f799-49a2-424c-ce8e-16caf8370f56"
   },
   "outputs": [
    {
     "data": {
      "text/plain": [
       "[0, 2, 4, 6, 8, 10]"
      ]
     },
     "execution_count": 42,
     "metadata": {},
     "output_type": "execute_result"
    }
   ],
   "source": [
    "result = [num for num in range(0,11) if num%2==0]\n",
    "result"
   ]
  },
  {
   "cell_type": "code",
   "execution_count": null,
   "metadata": {
    "id": "6C2h_5cJslit"
   },
   "outputs": [],
   "source": [
    "#"
   ]
  },
  {
   "cell_type": "markdown",
   "metadata": {
    "id": "XHPiom54srq2"
   },
   "source": [
    "# Methods and Functions\n",
    "\n",
    "Functions are a set of statements telling the computer to do something.\n",
    "\n",
    "Methods are functions associated with objects/classes"
   ]
  },
  {
   "cell_type": "code",
   "execution_count": null,
   "metadata": {
    "id": "7kciJvHtstuP"
   },
   "outputs": [],
   "source": [
    "def addfunc(arg1,arg2):\n",
    "  '''this function  adds two numbers or strings'''\n",
    "  return arg1+arg2"
   ]
  },
  {
   "cell_type": "code",
   "execution_count": null,
   "metadata": {
    "colab": {
     "base_uri": "https://localhost:8080/"
    },
    "id": "qrlUQU3mFwwb",
    "outputId": "36ccd485-81fd-4db7-9b28-52c4d44baf71"
   },
   "outputs": [
    {
     "data": {
      "text/plain": [
       "3"
      ]
     },
     "execution_count": 45,
     "metadata": {},
     "output_type": "execute_result"
    }
   ],
   "source": [
    "addfunc(1,2)"
   ]
  },
  {
   "cell_type": "code",
   "execution_count": null,
   "metadata": {
    "colab": {
     "base_uri": "https://localhost:8080/",
     "height": 37
    },
    "id": "8CKd7rKEFypo",
    "outputId": "a452a66b-1ba0-45e4-d36c-7b2774ed199c"
   },
   "outputs": [
    {
     "data": {
      "application/vnd.google.colaboratory.intrinsic+json": {
       "type": "string"
      },
      "text/plain": [
       "'ab'"
      ]
     },
     "execution_count": 46,
     "metadata": {},
     "output_type": "execute_result"
    }
   ],
   "source": [
    "addfunc('a','b')"
   ]
  },
  {
   "cell_type": "code",
   "execution_count": null,
   "metadata": {
    "colab": {
     "base_uri": "https://localhost:8080/",
     "height": 249
    },
    "id": "mXuGjlgdF2bP",
    "outputId": "927857d7-9bfd-4e78-c63e-adffdfbb7613"
   },
   "outputs": [
    {
     "ename": "TypeError",
     "evalue": "ignored",
     "output_type": "error",
     "traceback": [
      "\u001b[0;31m---------------------------------------------------------------------------\u001b[0m",
      "\u001b[0;31mTypeError\u001b[0m                                 Traceback (most recent call last)",
      "\u001b[0;32m<ipython-input-47-b4276b1d83de>\u001b[0m in \u001b[0;36m<module>\u001b[0;34m\u001b[0m\n\u001b[0;32m----> 1\u001b[0;31m \u001b[0maddfunc\u001b[0m\u001b[0;34m(\u001b[0m\u001b[0;36m1\u001b[0m\u001b[0;34m,\u001b[0m\u001b[0;34m'x'\u001b[0m\u001b[0;34m)\u001b[0m\u001b[0;34m\u001b[0m\u001b[0;34m\u001b[0m\u001b[0m\n\u001b[0m",
      "\u001b[0;32m<ipython-input-44-b97b891fc8e4>\u001b[0m in \u001b[0;36maddfunc\u001b[0;34m(arg1, arg2)\u001b[0m\n\u001b[1;32m      1\u001b[0m \u001b[0;32mdef\u001b[0m \u001b[0maddfunc\u001b[0m\u001b[0;34m(\u001b[0m\u001b[0marg1\u001b[0m\u001b[0;34m,\u001b[0m\u001b[0marg2\u001b[0m\u001b[0;34m)\u001b[0m\u001b[0;34m:\u001b[0m\u001b[0;34m\u001b[0m\u001b[0;34m\u001b[0m\u001b[0m\n\u001b[1;32m      2\u001b[0m   \u001b[0;34m'''this function  adds two numbers or strings'''\u001b[0m\u001b[0;34m\u001b[0m\u001b[0;34m\u001b[0m\u001b[0m\n\u001b[0;32m----> 3\u001b[0;31m   \u001b[0;32mreturn\u001b[0m \u001b[0marg1\u001b[0m\u001b[0;34m+\u001b[0m\u001b[0marg2\u001b[0m\u001b[0;34m\u001b[0m\u001b[0;34m\u001b[0m\u001b[0m\n\u001b[0m",
      "\u001b[0;31mTypeError\u001b[0m: unsupported operand type(s) for +: 'int' and 'str'"
     ]
    }
   ],
   "source": [
    "addfunc(1,'x')"
   ]
  },
  {
   "cell_type": "markdown",
   "metadata": {
    "id": "irPcCr-xy0ld"
   },
   "source": [
    "#Map Function\n",
    "Apply the given function to each item of the given iterable. Returns a map object, an iterator"
   ]
  },
  {
   "cell_type": "code",
   "execution_count": null,
   "metadata": {
    "colab": {
     "base_uri": "https://localhost:8080/"
    },
    "id": "6u39B1qJysjj",
    "outputId": "59010195-dda1-4c1e-85a1-9be92ad9ed02"
   },
   "outputs": [
    {
     "data": {
      "text/plain": [
       "[1, 8, 27, 64, 125]"
      ]
     },
     "execution_count": 48,
     "metadata": {},
     "output_type": "execute_result"
    }
   ],
   "source": [
    "def cube(number):\n",
    "  return number**3\n",
    "\n",
    "marks = [1,2,3,4,5]\n",
    "\n",
    "list(map(cube,marks))"
   ]
  },
  {
   "cell_type": "markdown",
   "metadata": {
    "id": "m6Z0YYkpzHuv"
   },
   "source": [
    "#Lambda expressions\n",
    "Anonymous functions means a function without a name. I.e. it is not bound to an identifier"
   ]
  },
  {
   "cell_type": "code",
   "execution_count": null,
   "metadata": {
    "colab": {
     "base_uri": "https://localhost:8080/"
    },
    "id": "yt3wNhq_zF0V",
    "outputId": "900dfc0d-4216-4033-c2af-48c661412d88"
   },
   "outputs": [
    {
     "data": {
      "text/plain": [
       "125"
      ]
     },
     "execution_count": 49,
     "metadata": {},
     "output_type": "execute_result"
    }
   ],
   "source": [
    "cubelambda = lambda number: number**3\n",
    "\n",
    "cubelambda(5)"
   ]
  },
  {
   "cell_type": "code",
   "execution_count": null,
   "metadata": {
    "colab": {
     "base_uri": "https://localhost:8080/"
    },
    "id": "GdgLTMdQzZzs",
    "outputId": "17ddbdc5-f97f-422f-c3bd-8bb2b0fd3810"
   },
   "outputs": [
    {
     "data": {
      "text/plain": [
       "[1, 32, 243, 1024, 3125]"
      ]
     },
     "execution_count": 50,
     "metadata": {},
     "output_type": "execute_result"
    }
   ],
   "source": [
    "list(map(lambda number: number**5, marks))"
   ]
  },
  {
   "cell_type": "code",
   "execution_count": null,
   "metadata": {
    "colab": {
     "base_uri": "https://localhost:8080/"
    },
    "id": "ZJkZo8h7zhgj",
    "outputId": "1c6026a3-9f0e-44d4-9f1f-501883ccc78c"
   },
   "outputs": [
    {
     "data": {
      "text/plain": [
       "{'!dlroW', 'olleH'}"
      ]
     },
     "execution_count": 51,
     "metadata": {},
     "output_type": "execute_result"
    }
   ],
   "source": [
    "sentence = \"Hello World!\"\n",
    "set(map(lambda word: word[::-1], sentence.split()))"
   ]
  },
  {
   "cell_type": "markdown",
   "metadata": {
    "id": "z_XC6eVnzsmd"
   },
   "source": [
    "# Python File Handling"
   ]
  },
  {
   "cell_type": "markdown",
   "metadata": {
    "id": "yGGblSTL1Uqi"
   },
   "source": [
    "* 'r' - Read - opens a file for reading, error if the file does not exist\n",
    "* 'a' - append - opens a file for appending, creates the file if it doesn't exist\n",
    "* 'w' - Write - opens a file for writing, creates it if it doesnt exist\n",
    "* 'x' - Creates a specified file, returns and error if it exists\n",
    "\n",
    "Always close the file"
   ]
  },
  {
   "cell_type": "code",
   "execution_count": null,
   "metadata": {
    "id": "X-xjH2YpzqBE"
   },
   "outputs": [],
   "source": [
    "names = open('names.txt','w')\n",
    "names.write('Joe\\n')\n",
    "names.write('Sophia')\n",
    "names.close()"
   ]
  },
  {
   "cell_type": "code",
   "execution_count": null,
   "metadata": {
    "colab": {
     "base_uri": "https://localhost:8080/"
    },
    "id": "Tt2gfKm00IZo",
    "outputId": "3f1d4478-0c1b-4c6e-c78f-f620d7f81517"
   },
   "outputs": [
    {
     "name": "stdout",
     "output_type": "stream",
     "text": [
      "Joe\n",
      "\n",
      "Sophia\n"
     ]
    }
   ],
   "source": [
    "names = open('names.txt','r')\n",
    "\n",
    "for name in names:\n",
    "  print(name)\n",
    "names.close()"
   ]
  },
  {
   "cell_type": "code",
   "execution_count": null,
   "metadata": {
    "id": "4IrTLkkZIE3r"
   },
   "outputs": [],
   "source": []
  }
 ],
 "metadata": {
  "colab": {
   "include_colab_link": true,
   "provenance": []
  },
  "kernelspec": {
   "display_name": "Python 3 (ipykernel)",
   "language": "python",
   "name": "python3"
  },
  "language_info": {
   "codemirror_mode": {
    "name": "ipython",
    "version": 3
   },
   "file_extension": ".py",
   "mimetype": "text/x-python",
   "name": "python",
   "nbconvert_exporter": "python",
   "pygments_lexer": "ipython3",
   "version": "3.9.13"
  }
 },
 "nbformat": 4,
 "nbformat_minor": 1
}
