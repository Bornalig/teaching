{
 "cells": [
  {
   "cell_type": "markdown",
   "id": "6cfa304c",
   "metadata": {},
   "source": [
    "# HW7 DS610\n",
    "\n",
    "Streaming Data\n",
    "\n",
    "In this homework you will be running the code below to demonstrate a basic example of perform a streamed query.\n",
    "\n",
    "There are two files attached;\n",
    "* logfile1.json\n",
    "* logfile2.json\n",
    "\n",
    "Put this jupyter notebook into a local EMTPY folder on your computer. Be sure that java is installed on your computer!\n",
    "* If you dont have it, download it from here; https://www.oracle.com/java/technologies/javase-downloads.html\n",
    "* Check your terminal by typing \"java -version\" to see if you have it downloaded\n",
    "\n",
    "Once you have this notebook in an EMPTY folder, then one at a time, add logfile1.json and logfile2.json to the folder AFTER running the script below."
   ]
  },
  {
   "cell_type": "code",
   "execution_count": null,
   "id": "9f6cbe97",
   "metadata": {},
   "outputs": [],
   "source": [
    "try:\n",
    "    from pyspark.sql import SparkSession\n",
    "except:\n",
    "    !pip install pyspark\n",
    "    from pyspark.sql import SparkSession\n",
    "from pyspark import SparkContext\n",
    "from pyspark.streaming import StreamingContext\n",
    "from pyspark.sql import functions as f\n",
    "from pyspark.sql.types import StructType, StructField, LongType, StringType, DoubleType\n",
    "\n",
    "import os\n",
    "current_dir = os.path.abspath(os.curdir)\n",
    "\n",
    "schema = '''\n",
    "StructType([StructField('Arrival_Time', LongType(), True), \n",
    "StructField('Creation_Time', LongType(), True), StructField('Device', StringType(), True),\n",
    "StructField('Index', LongType(), True), StructField('Model', StringType(), True),\n",
    "StructField('User', StringType(), True), StructField('gt', StringType(), True),\n",
    "StructField('x', DoubleType(), True), StructField('y', DoubleType(), True), \n",
    "StructField('z', DoubleType(), True)])\n",
    "'''\n",
    "\n",
    "spark = SparkSession.builder.config(\"HW7\", current_dir).appName(\"StructuredStreaming\").getOrCreate()\n",
    "streaming = spark.readStream.schema(eval(schema)).json(current_dir)\n",
    "# Run forever until terminated\n",
    "\n",
    "stream = streaming.withColumn('Arrival_Time',f.to_timestamp((f.col('Arrival_Time')/1000)))\\\n",
    "                  .withColumn('Creation_Time',f.to_timestamp((f.col('Creation_Time')/1000000000)))\\\n",
    "                  .groupby('User')\\\n",
    "                  .agg(f.max(f.col('Arrival_Time')),f.min(f.col('Arrival_Time')))\n",
    "\n",
    "query = stream.writeStream.outputMode(\"complete\").format(\"console\").queryName(\"arrivals\").start()\n",
    "\n",
    "query.awaitTermination()\n",
    "\n",
    "# Cleanly shut down the session\n",
    "spark.stop()"
   ]
  }
 ],
 "metadata": {
  "kernelspec": {
   "display_name": "Python 3 (ipykernel)",
   "language": "python",
   "name": "python3"
  },
  "language_info": {
   "codemirror_mode": {
    "name": "ipython",
    "version": 3
   },
   "file_extension": ".py",
   "mimetype": "text/x-python",
   "name": "python",
   "nbconvert_exporter": "python",
   "pygments_lexer": "ipython3",
   "version": "3.9.13"
  }
 },
 "nbformat": 4,
 "nbformat_minor": 5
}
