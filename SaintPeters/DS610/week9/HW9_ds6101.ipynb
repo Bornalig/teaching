{
 "cells": [
  {
   "cell_type": "markdown",
   "id": "91ef56b2",
   "metadata": {},
   "source": [
    "# Map Reduce Recommendation Engine Similarity HW Solutions"
   ]
  },
  {
   "cell_type": "markdown",
   "id": "f428cba6",
   "metadata": {},
   "source": [
    "# Problem 1:\n",
    "\n",
    "Was the recommendation engine used in the lecture:\n",
    "\n",
    "* user-to-user recommendation engine\n",
    "* item-to-item recommendation engine\n",
    "\n",
    "Cite the part of the code/output that indicates your decision."
   ]
  },
  {
   "cell_type": "code",
   "execution_count": 1,
   "id": "c7f6d489",
   "metadata": {},
   "outputs": [],
   "source": [
    "# put your answer here"
   ]
  },
  {
   "cell_type": "markdown",
   "id": "b39a4808",
   "metadata": {},
   "source": [
    "# Problem 2:\n",
    "\n",
    "Using the `from mrjob.step import MRStep` package, build the steps that would combine the output of all three steps into one mapreduce class\n",
    "\n",
    "heres a hint the output should be\n",
    "\n",
    "`class MR_Rec_Engine(MRJob):\n",
    "    def steps(self):\n",
    "        return [\n",
    "          #fill in your code here\n",
    "            ]`"
   ]
  },
  {
   "cell_type": "code",
   "execution_count": null,
   "id": "d064fc05",
   "metadata": {},
   "outputs": [],
   "source": [
    "#submit your answer"
   ]
  }
 ],
 "metadata": {
  "kernelspec": {
   "display_name": "Python 3 (ipykernel)",
   "language": "python",
   "name": "python3"
  },
  "language_info": {
   "codemirror_mode": {
    "name": "ipython",
    "version": 3
   },
   "file_extension": ".py",
   "mimetype": "text/x-python",
   "name": "python",
   "nbconvert_exporter": "python",
   "pygments_lexer": "ipython3",
   "version": "3.9.13"
  }
 },
 "nbformat": 4,
 "nbformat_minor": 5
}
