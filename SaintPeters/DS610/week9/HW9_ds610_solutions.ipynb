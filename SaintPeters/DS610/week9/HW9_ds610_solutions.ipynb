{
 "cells": [
  {
   "cell_type": "markdown",
   "id": "1a04a89a",
   "metadata": {},
   "source": [
    "# Map Reduce Recommendation Engine Similarity HW Solutions"
   ]
  },
  {
   "cell_type": "markdown",
   "id": "e27a07bb",
   "metadata": {},
   "source": [
    "# Problem 1:\n",
    "\n",
    "Was the recommendation engine used in the lecture:\n",
    "\n",
    "* user-to-user recommendation engine\n",
    "* item-to-item recommendation engine\n",
    "\n",
    "Cite the part of the code/output that indicates your decision."
   ]
  },
  {
   "cell_type": "markdown",
   "id": "5bb25a4e",
   "metadata": {},
   "source": [
    "# Solution 1:\n",
    "\n",
    "item-to-item recommendation engine;\n",
    "\n",
    "In step 2, the reduce yielded the following\n",
    "\n",
    "`    def reducer(self, moviePair, ratingPairs,minPairs=10,minScore=0.95):\n",
    "        score, numPairs = self.cosine_similarity(ratingPairs)\n",
    "        if (numPairs > minPairs and score > minScore):\n",
    "            yield moviePair, (score, numPairs)`\n",
    "            \n",
    "This was done comparing movie-to-movie which is item-to-item.\n",
    "\n",
    "Moreover, the final output had the structure of \n",
    "\n",
    "`\"Star Trek: The Wrath of Khan (1982)\"\t[\"Scout, The (1994)\",0.9650318905132629,11]\n",
    "\n",
    "\"Star Trek: The Wrath of Khan (1982)\"\t[\"Walkabout (1971)\",0.9650855887341657,15]\n",
    "\n",
    "\"Star Trek: The Wrath of Khan (1982)\"\t[\"Cool Hand Luke (1967)\",0.9652229089822076,82]`\n",
    "\n",
    "which gives recommendations for each movie that was watched."
   ]
  },
  {
   "cell_type": "markdown",
   "id": "fb5026cd",
   "metadata": {},
   "source": [
    "# Problem 2:\n",
    "\n",
    "Using the `from mrjob.step import MRStep` package, build the steps that would combine the output of all three steps into one mapreduce class\n",
    "\n",
    "heres a hint the output should be\n",
    "\n",
    "`class MR_Rec_Engine(MRJob):\n",
    "    def steps(self):\n",
    "        return [\n",
    "          #fill in your code here\n",
    "            ]`"
   ]
  },
  {
   "cell_type": "markdown",
   "id": "9b979795",
   "metadata": {},
   "source": [
    "# Solution 2"
   ]
  },
  {
   "cell_type": "code",
   "execution_count": null,
   "id": "95a33635",
   "metadata": {},
   "outputs": [],
   "source": [
    "from mrjob.job import MRJob\n",
    "from mrjob.step import MRStep\n",
    "\n",
    "class MR_Rec_Engine(MRJob):\n",
    "    def steps(self):\n",
    "        return [\n",
    "            MRStep(mapper=self.mapper_step1,\n",
    "                    reducer=self.reducer_step1),\n",
    "            MRStep(mapper=self.mapper_step2,\n",
    "                    reducer=self.reducer_step2),\n",
    "            MRStep(mapper=self.mapper_step3,\n",
    "                    mapper_init=self.mapper_init_step3,\n",
    "                    reducer=self.reducer_step3)]\n",
    "     \n",
    "     #remaining functions below"
   ]
  },
  {
   "cell_type": "code",
   "execution_count": null,
   "id": "46d8b712",
   "metadata": {},
   "outputs": [],
   "source": []
  }
 ],
 "metadata": {
  "kernelspec": {
   "display_name": "Python 3 (ipykernel)",
   "language": "python",
   "name": "python3"
  },
  "language_info": {
   "codemirror_mode": {
    "name": "ipython",
    "version": 3
   },
   "file_extension": ".py",
   "mimetype": "text/x-python",
   "name": "python",
   "nbconvert_exporter": "python",
   "pygments_lexer": "ipython3",
   "version": "3.9.13"
  }
 },
 "nbformat": 4,
 "nbformat_minor": 5
}
