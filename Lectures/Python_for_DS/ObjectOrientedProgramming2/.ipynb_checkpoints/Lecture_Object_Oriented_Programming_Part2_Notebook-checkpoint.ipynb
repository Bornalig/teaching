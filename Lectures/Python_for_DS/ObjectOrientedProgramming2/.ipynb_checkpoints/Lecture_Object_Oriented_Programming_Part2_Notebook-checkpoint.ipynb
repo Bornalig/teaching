{
 "cells": [
  {
   "cell_type": "markdown",
   "id": "ec4a3dc9",
   "metadata": {},
   "source": [
    "# Lecture Object Oriented Programming in Python Part 2 Notebook Advanced Programming for AI"
   ]
  },
  {
   "cell_type": "markdown",
   "id": "6ed99403",
   "metadata": {},
   "source": [
    "# Example 1 Building class inheritence"
   ]
  },
  {
   "cell_type": "code",
   "execution_count": 13,
   "id": "5e7bc11f",
   "metadata": {},
   "outputs": [
    {
     "name": "stdout",
     "output_type": "stream",
     "text": [
      "My interest rate\n",
      "I am a bank loan\n"
     ]
    }
   ],
   "source": [
    "class loan:\n",
    "    #parent class\n",
    "    def statement(self):\n",
    "        print('I am a bank loan')\n",
    "        \n",
    "class mortgage(loan):\n",
    "    #child class\n",
    "    def announcement(self):\n",
    "        print('My interest rate')\n",
    "        \n",
    "m = mortgage()\n",
    "m.announcement()\n",
    "m.statement()"
   ]
  },
  {
   "cell_type": "markdown",
   "id": "a30f5d36",
   "metadata": {},
   "source": [
    "# Example 2: Parent-child classes that have methods of the same name."
   ]
  },
  {
   "cell_type": "code",
   "execution_count": 14,
   "id": "153b44e5",
   "metadata": {},
   "outputs": [
    {
     "name": "stdout",
     "output_type": "stream",
     "text": [
      "fish class\n"
     ]
    }
   ],
   "source": [
    "class animal:\n",
    "    def statement(self):\n",
    "        print('animal class')\n",
    "\n",
    "class fish(animal):\n",
    "    def statement(self):\n",
    "        print('fish class')\n",
    "        \n",
    "f = fish()\n",
    "f.statement()"
   ]
  },
  {
   "cell_type": "markdown",
   "id": "b0828a4e",
   "metadata": {},
   "source": [
    "# Example 3: Overriding the child classes' method that shares the same name as the parent via the `super()` clause"
   ]
  },
  {
   "cell_type": "code",
   "execution_count": 15,
   "id": "9b3f2989",
   "metadata": {},
   "outputs": [
    {
     "data": {
      "text/plain": [
       "'animal class'"
      ]
     },
     "execution_count": 15,
     "metadata": {},
     "output_type": "execute_result"
    }
   ],
   "source": [
    "class animal:\n",
    "    def statement(self):\n",
    "        return 'animal class'\n",
    "    \n",
    "class fish(animal):\n",
    "    def statement(self):\n",
    "        if super().statement() is not None:\n",
    "            return super().statement()\n",
    "        else:\n",
    "            return 'fish class'\n",
    "        \n",
    "f = fish()\n",
    "f.statement()"
   ]
  },
  {
   "cell_type": "markdown",
   "id": "d69a4b67",
   "metadata": {},
   "source": [
    "# Example 4: Using the `super()` class to extract the constructor from the parent class into the child class"
   ]
  },
  {
   "cell_type": "code",
   "execution_count": 16,
   "id": "64ab15d1",
   "metadata": {},
   "outputs": [
    {
     "data": {
      "text/plain": [
       "'the rate is 3% and downpayment is 10000'"
      ]
     },
     "execution_count": 16,
     "metadata": {},
     "output_type": "execute_result"
    }
   ],
   "source": [
    "class loan:\n",
    "    def __init__(self,rate):\n",
    "        self.rate=rate\n",
    "    \n",
    "    def statement(self):\n",
    "        return 'the rate is {}%'.format(self.rate)\n",
    "    \n",
    "class mortgage(loan):\n",
    "    def __init__(self,rate,downpayment):\n",
    "        super().__init__(rate)\n",
    "        self.downpayment = downpayment\n",
    "    def statement(self):\n",
    "        return super().statement()+' and downpayment is {}'.format(self.downpayment)\n",
    "    \n",
    "l = loan(3)\n",
    "m = mortgage(l.rate,10000)\n",
    "m.statement()"
   ]
  },
  {
   "cell_type": "markdown",
   "id": "4be43f69",
   "metadata": {},
   "source": [
    "# Example 5: Definine name spaces/variable scopes"
   ]
  },
  {
   "cell_type": "code",
   "execution_count": 17,
   "id": "ac34be49",
   "metadata": {},
   "outputs": [],
   "source": [
    "#global name space\n",
    "\n",
    "def outer_function():\n",
    "    #enclosed name space\n",
    "    n=100\n",
    "    def inner_function():\n",
    "        #local name space\n",
    "        m=200"
   ]
  },
  {
   "cell_type": "markdown",
   "id": "0d426fa9",
   "metadata": {},
   "source": [
    "# Example 6: Demonstrating local name spaces"
   ]
  },
  {
   "cell_type": "code",
   "execution_count": 19,
   "id": "4f87c334",
   "metadata": {},
   "outputs": [
    {
     "ename": "NameError",
     "evalue": "name 'N' is not defined",
     "output_type": "error",
     "traceback": [
      "\u001b[0;31m---------------------------------------------------------------------------\u001b[0m",
      "\u001b[0;31mNameError\u001b[0m                                 Traceback (most recent call last)",
      "\u001b[0;32m/var/folders/jl/97zzvf352gg0qn93kb33f4th0000gn/T/ipykernel_1216/190981379.py\u001b[0m in \u001b[0;36m<module>\u001b[0;34m\u001b[0m\n\u001b[1;32m      3\u001b[0m     \u001b[0;32mreturn\u001b[0m \u001b[0mN\u001b[0m\u001b[0;34m+\u001b[0m\u001b[0mx\u001b[0m\u001b[0;34m\u001b[0m\u001b[0;34m\u001b[0m\u001b[0m\n\u001b[1;32m      4\u001b[0m \u001b[0;34m\u001b[0m\u001b[0m\n\u001b[0;32m----> 5\u001b[0;31m \u001b[0mN\u001b[0m\u001b[0;34m\u001b[0m\u001b[0;34m\u001b[0m\u001b[0m\n\u001b[0m",
      "\u001b[0;31mNameError\u001b[0m: name 'N' is not defined"
     ]
    }
   ],
   "source": [
    "def add_N_to_number(x):\n",
    "    N=3\n",
    "    return N+x\n",
    "\n",
    "N"
   ]
  },
  {
   "cell_type": "markdown",
   "id": "c2f00e88",
   "metadata": {},
   "source": [
    "# Example 7: Demonstrating global name spaces"
   ]
  },
  {
   "cell_type": "code",
   "execution_count": 20,
   "id": "25013e41",
   "metadata": {},
   "outputs": [
    {
     "data": {
      "text/plain": [
       "8"
      ]
     },
     "execution_count": 20,
     "metadata": {},
     "output_type": "execute_result"
    }
   ],
   "source": [
    "def add_V_to_number(x):\n",
    "    global V\n",
    "    V=3\n",
    "    return V+x\n",
    "\n",
    "add_V_to_number(5)"
   ]
  },
  {
   "cell_type": "code",
   "execution_count": 21,
   "id": "d7af213f",
   "metadata": {},
   "outputs": [
    {
     "name": "stdout",
     "output_type": "stream",
     "text": [
      "3\n"
     ]
    }
   ],
   "source": [
    "print(V)"
   ]
  },
  {
   "cell_type": "markdown",
   "id": "16ce5db7",
   "metadata": {},
   "source": [
    "# Example 8: A basic polymorphism in python"
   ]
  },
  {
   "cell_type": "code",
   "execution_count": 23,
   "id": "11519322",
   "metadata": {},
   "outputs": [
    {
     "name": "stdout",
     "output_type": "stream",
     "text": [
      "4\n",
      "5\n",
      "4\n"
     ]
    }
   ],
   "source": [
    "dictionary = {'a':10,'b':20,'c':30,'d':40}\n",
    "word = 'alpha'\n",
    "List = [0,1,2,3]\n",
    "\n",
    "print(len(dictionary))\n",
    "print(len(word))\n",
    "print(len(List))"
   ]
  },
  {
   "cell_type": "markdown",
   "id": "1c8d4144",
   "metadata": {},
   "source": [
    "# Example 9: Demonstrating using a polymorphism for classes that have attributes of the same name (with a list)"
   ]
  },
  {
   "cell_type": "code",
   "execution_count": 11,
   "id": "d4a5ae62",
   "metadata": {},
   "outputs": [
    {
     "name": "stdout",
     "output_type": "stream",
     "text": [
      "dolphin\n",
      "birch_tree\n"
     ]
    }
   ],
   "source": [
    "class animal:\n",
    "    def __init__(self,name):\n",
    "        self.name = name\n",
    "\n",
    "class plant:\n",
    "    def __init__(self,name):\n",
    "        self.name = name\n",
    "\n",
    "for c in [animal('dolphin'),plant('birch_tree')]:\n",
    "    print(c.name)"
   ]
  },
  {
   "cell_type": "markdown",
   "id": "dd8e3b44",
   "metadata": {},
   "source": [
    "# Example 10: Demonstrating using a polymorphism for classes that have attributes of the same name (with a function)"
   ]
  },
  {
   "cell_type": "code",
   "execution_count": 24,
   "id": "575011cb",
   "metadata": {},
   "outputs": [
    {
     "name": "stdout",
     "output_type": "stream",
     "text": [
      "venus_fly_trap\n",
      "cow\n"
     ]
    }
   ],
   "source": [
    "class animal:\n",
    "    def __init__(self,name):\n",
    "        self.name = name\n",
    "\n",
    "class plant:\n",
    "    def __init__(self,name):\n",
    "        self.name = name\n",
    "\n",
    "def class_polymorphism_printer(c):\n",
    "    print(c.name)\n",
    "    \n",
    "class_polymorphism_printer(plant('venus_fly_trap'))\n",
    "class_polymorphism_printer(animal('cow'))"
   ]
  },
  {
   "cell_type": "markdown",
   "id": "0b1b8e3f",
   "metadata": {},
   "source": [
    "# Example 11 Class polymorphism with inheritence; using the parent-child inheritence to alter the methods of the child class."
   ]
  },
  {
   "cell_type": "code",
   "execution_count": 12,
   "id": "a25f3e16",
   "metadata": {},
   "outputs": [
    {
     "name": "stdout",
     "output_type": "stream",
     "text": [
      "alligator\n",
      "False\n"
     ]
    }
   ],
   "source": [
    "class animal:\n",
    "    def __init__(self,name):\n",
    "        self.name = name\n",
    "    \n",
    "class vertebrae(animal):\n",
    "    def __init__(self,warm_blooded):\n",
    "        super().__init__('alligator')\n",
    "        self.warm_blooded = warm_blooded\n",
    "        \n",
    "    \n",
    "v = vertebrae(False)\n",
    "print(v.name)\n",
    "print(v.warm_blooded)"
   ]
  }
 ],
 "metadata": {
  "kernelspec": {
   "display_name": "Python 3 (ipykernel)",
   "language": "python",
   "name": "python3"
  },
  "language_info": {
   "codemirror_mode": {
    "name": "ipython",
    "version": 3
   },
   "file_extension": ".py",
   "mimetype": "text/x-python",
   "name": "python",
   "nbconvert_exporter": "python",
   "pygments_lexer": "ipython3",
   "version": "3.9.7"
  }
 },
 "nbformat": 4,
 "nbformat_minor": 5
}
