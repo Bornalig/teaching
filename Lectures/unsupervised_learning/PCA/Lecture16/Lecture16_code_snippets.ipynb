{
 "cells": [
  {
   "cell_type": "code",
   "execution_count": 1,
   "metadata": {},
   "outputs": [],
   "source": [
    "import numpy as np\n",
    "\n",
    "X = np.array([[1,2,3,4],[6,7,8,9],[10,11,12,13],[8,9,10,11]])\n",
    "X_s = (X-X.mean())#/X.std()\n",
    "U,s,V = np.linalg.svd(X_s)\n",
    "c1 = V.T[:,0]\n",
    "c2 = V.T[:,1]\n",
    "c3 = V.T[:,2]"
   ]
  },
  {
   "cell_type": "code",
   "execution_count": 16,
   "metadata": {},
   "outputs": [
    {
     "data": {
      "text/plain": [
       "array([-10.5,  -0.5,   7.5,   3.5])"
      ]
     },
     "execution_count": 16,
     "metadata": {},
     "output_type": "execute_result"
    }
   ],
   "source": [
    "X_s.dot(c1)"
   ]
  },
  {
   "cell_type": "code",
   "execution_count": 14,
   "metadata": {},
   "outputs": [
    {
     "data": {
      "text/plain": [
       "array([[ 1.05000000e+01,  1.41877261e-16,  1.27017964e-33,\n",
       "        -6.03233547e-52],\n",
       "       [ 5.00000000e-01,  1.94989087e-18, -9.54404464e-35,\n",
       "         2.36700321e-50],\n",
       "       [-7.50000000e+00,  2.21868956e-16,  2.44249001e-35,\n",
       "         3.57536154e-52],\n",
       "       [-3.50000000e+00, -4.95231388e-17,  3.74456549e-33,\n",
       "         8.05583618e-52]])"
      ]
     },
     "execution_count": 14,
     "metadata": {},
     "output_type": "execute_result"
    }
   ],
   "source": [
    "\n",
    "\n",
    "pca = PCA()\n",
    "pca.fit_transform(X)"
   ]
  },
  {
   "cell_type": "code",
   "execution_count": 17,
   "metadata": {},
   "outputs": [
    {
     "data": {
      "text/plain": [
       "array([[ 1,  2,  3,  4],\n",
       "       [ 6,  7,  8,  9],\n",
       "       [10, 11, 12, 13],\n",
       "       [ 8,  9, 10, 11]])"
      ]
     },
     "execution_count": 17,
     "metadata": {},
     "output_type": "execute_result"
    }
   ],
   "source": [
    "X"
   ]
  },
  {
   "cell_type": "code",
   "execution_count": 19,
   "metadata": {},
   "outputs": [
    {
     "data": {
      "text/plain": [
       "4"
      ]
     },
     "execution_count": 19,
     "metadata": {},
     "output_type": "execute_result"
    }
   ],
   "source": [
    "step2 = (1/np.cov(X).shape[0]-1)*np.cov(X)"
   ]
  },
  {
   "cell_type": "code",
   "execution_count": 30,
   "metadata": {},
   "outputs": [
    {
     "data": {
      "text/html": [
       "<div>\n",
       "<style scoped>\n",
       "    .dataframe tbody tr th:only-of-type {\n",
       "        vertical-align: middle;\n",
       "    }\n",
       "\n",
       "    .dataframe tbody tr th {\n",
       "        vertical-align: top;\n",
       "    }\n",
       "\n",
       "    .dataframe thead th {\n",
       "        text-align: right;\n",
       "    }\n",
       "</style>\n",
       "<table border=\"1\" class=\"dataframe\">\n",
       "  <thead>\n",
       "    <tr style=\"text-align: right;\">\n",
       "      <th></th>\n",
       "      <th>CRIM</th>\n",
       "      <th>ZN</th>\n",
       "      <th>INDUS</th>\n",
       "      <th>CHAS</th>\n",
       "      <th>NOX</th>\n",
       "      <th>RM</th>\n",
       "      <th>AGE</th>\n",
       "      <th>DIS</th>\n",
       "      <th>RAD</th>\n",
       "      <th>TAX</th>\n",
       "      <th>PTRATIO</th>\n",
       "      <th>B</th>\n",
       "      <th>LSTAT</th>\n",
       "    </tr>\n",
       "  </thead>\n",
       "  <tbody>\n",
       "    <tr>\n",
       "      <th>0</th>\n",
       "      <td>0.00632</td>\n",
       "      <td>18.0</td>\n",
       "      <td>2.31</td>\n",
       "      <td>0.0</td>\n",
       "      <td>0.538</td>\n",
       "      <td>6.575</td>\n",
       "      <td>65.2</td>\n",
       "      <td>4.0900</td>\n",
       "      <td>1.0</td>\n",
       "      <td>296.0</td>\n",
       "      <td>15.3</td>\n",
       "      <td>396.90</td>\n",
       "      <td>4.98</td>\n",
       "    </tr>\n",
       "    <tr>\n",
       "      <th>1</th>\n",
       "      <td>0.02731</td>\n",
       "      <td>0.0</td>\n",
       "      <td>7.07</td>\n",
       "      <td>0.0</td>\n",
       "      <td>0.469</td>\n",
       "      <td>6.421</td>\n",
       "      <td>78.9</td>\n",
       "      <td>4.9671</td>\n",
       "      <td>2.0</td>\n",
       "      <td>242.0</td>\n",
       "      <td>17.8</td>\n",
       "      <td>396.90</td>\n",
       "      <td>9.14</td>\n",
       "    </tr>\n",
       "    <tr>\n",
       "      <th>2</th>\n",
       "      <td>0.02729</td>\n",
       "      <td>0.0</td>\n",
       "      <td>7.07</td>\n",
       "      <td>0.0</td>\n",
       "      <td>0.469</td>\n",
       "      <td>7.185</td>\n",
       "      <td>61.1</td>\n",
       "      <td>4.9671</td>\n",
       "      <td>2.0</td>\n",
       "      <td>242.0</td>\n",
       "      <td>17.8</td>\n",
       "      <td>392.83</td>\n",
       "      <td>4.03</td>\n",
       "    </tr>\n",
       "    <tr>\n",
       "      <th>3</th>\n",
       "      <td>0.03237</td>\n",
       "      <td>0.0</td>\n",
       "      <td>2.18</td>\n",
       "      <td>0.0</td>\n",
       "      <td>0.458</td>\n",
       "      <td>6.998</td>\n",
       "      <td>45.8</td>\n",
       "      <td>6.0622</td>\n",
       "      <td>3.0</td>\n",
       "      <td>222.0</td>\n",
       "      <td>18.7</td>\n",
       "      <td>394.63</td>\n",
       "      <td>2.94</td>\n",
       "    </tr>\n",
       "    <tr>\n",
       "      <th>4</th>\n",
       "      <td>0.06905</td>\n",
       "      <td>0.0</td>\n",
       "      <td>2.18</td>\n",
       "      <td>0.0</td>\n",
       "      <td>0.458</td>\n",
       "      <td>7.147</td>\n",
       "      <td>54.2</td>\n",
       "      <td>6.0622</td>\n",
       "      <td>3.0</td>\n",
       "      <td>222.0</td>\n",
       "      <td>18.7</td>\n",
       "      <td>396.90</td>\n",
       "      <td>5.33</td>\n",
       "    </tr>\n",
       "  </tbody>\n",
       "</table>\n",
       "</div>"
      ],
      "text/plain": [
       "      CRIM    ZN  INDUS  CHAS    NOX     RM   AGE     DIS  RAD    TAX  \\\n",
       "0  0.00632  18.0   2.31   0.0  0.538  6.575  65.2  4.0900  1.0  296.0   \n",
       "1  0.02731   0.0   7.07   0.0  0.469  6.421  78.9  4.9671  2.0  242.0   \n",
       "2  0.02729   0.0   7.07   0.0  0.469  7.185  61.1  4.9671  2.0  242.0   \n",
       "3  0.03237   0.0   2.18   0.0  0.458  6.998  45.8  6.0622  3.0  222.0   \n",
       "4  0.06905   0.0   2.18   0.0  0.458  7.147  54.2  6.0622  3.0  222.0   \n",
       "\n",
       "   PTRATIO       B  LSTAT  \n",
       "0     15.3  396.90   4.98  \n",
       "1     17.8  396.90   9.14  \n",
       "2     17.8  392.83   4.03  \n",
       "3     18.7  394.63   2.94  \n",
       "4     18.7  396.90   5.33  "
      ]
     },
     "execution_count": 30,
     "metadata": {},
     "output_type": "execute_result"
    }
   ],
   "source": [
    "from sklearn.datasets import load_boston\n",
    "import pandas as pd\n",
    "boston = load_boston()\n",
    "X = boston[\"data\"]\n",
    "y = boston[\"target\"]\n",
    "XX = pd.DataFrame(X,columns = boston[\"feature_names\"])\n",
    "XX.head()"
   ]
  },
  {
   "cell_type": "code",
   "execution_count": 29,
   "metadata": {},
   "outputs": [
    {
     "data": {
      "text/plain": [
       "array([[-1.19818843e+02, -5.56005586e+00, -3.17269264e+00, ...,\n",
       "         3.78374287e-01, -7.13108946e-02,  3.35451015e-02],\n",
       "       [-1.68890155e+02,  1.01162086e+01, -3.07818868e+01, ...,\n",
       "         4.86740794e-02, -9.47343278e-02, -3.31502751e-02],\n",
       "       [-1.69311707e+02,  1.40805323e+01, -1.67536282e+01, ...,\n",
       "        -4.67469154e-01, -1.07257460e-01, -4.50902543e-03],\n",
       "       ...,\n",
       "       [-1.38387163e+02,  9.38092201e-01, -3.72851813e+01, ...,\n",
       "        -2.97952531e-01, -1.04654969e-01,  4.30883930e-02],\n",
       "       [-1.37505173e+02,  4.25182510e+00, -3.59883419e+01, ...,\n",
       "        -1.94149871e-01, -9.54593524e-02,  4.51072934e-02],\n",
       "       [-1.39190333e+02,  1.00906423e+00, -2.97724323e+01, ...,\n",
       "         4.16189839e-01, -7.03283698e-02,  4.55682936e-02]])"
      ]
     },
     "execution_count": 29,
     "metadata": {},
     "output_type": "execute_result"
    }
   ],
   "source": [
    "from sklearn.decomposition import PCA\n",
    "pca = PCA()\n",
    "pca.fit_transform(X)"
   ]
  },
  {
   "cell_type": "code",
   "execution_count": 36,
   "metadata": {},
   "outputs": [
    {
     "data": {
      "image/png": "[encoded data removed]",
      "text/plain": [
       "<Figure size 432x288 with 1 Axes>"
      ]
     },
     "metadata": {
      "needs_background": "light"
     },
     "output_type": "display_data"
    }
   ],
   "source": [
    "from sklearn.decomposition import PCA\n",
    "import matplotlib.pyplot as plt\n",
    "pca_reduced = PCA()\n",
    "X_reduced = pca_reduced.fit_transform(X)\n",
    "plt.plot(range(X_reduced.shape[1]),pca_reduced.explained_variance_ratio_)\n",
    "plt.xlabel('Number of components')\n",
    "plt.ylabel('% of variance explained')\n",
    "plt.show()"
   ]
  },
  {
   "cell_type": "code",
   "execution_count": 41,
   "metadata": {},
   "outputs": [
    {
     "data": {
      "image/png": "[encoded data removed]",
      "text/plain": [
       "<Figure size 432x288 with 1 Axes>"
      ]
     },
     "metadata": {
      "needs_background": "light"
     },
     "output_type": "display_data"
    }
   ],
   "source": [
    "cumsum = np.cumsum(pca.explained_variance_ratio_)\n",
    "plt.plot(range(X.shape[1]),cumsum)\n",
    "plt.xlabel('# of principle components used',fontsize=12)\n",
    "plt.ylabel('cumulative % of explained variance',fontsize=12)\n",
    "plt.show()"
   ]
  },
  {
   "cell_type": "code",
   "execution_count": 47,
   "metadata": {},
   "outputs": [
    {
     "name": "stdout",
     "output_type": "stream",
     "text": [
      "Percentage: 1.000, Avg F1 score: 0.601 (0.026)\n",
      "Percentage: 0.950, Avg F1 score: 0.743 (0.020)\n",
      "Percentage: 0.900, Avg F1 score: 0.746 (0.012)\n",
      "Percentage: 0.850, Avg F1 score: 0.736 (0.011)\n",
      "Percentage: 0.800, Avg F1 score: 0.651 (0.041)\n",
      "Percentage: 0.750, Avg F1 score: 0.643 (0.030)\n",
      "Percentage: 0.700, Avg F1 score: 0.643 (0.030)\n"
     ]
    }
   ],
   "source": [
    "from sklearn.datasets import make_classification\n",
    "from sklearn.model_selection import cross_val_score\n",
    "from sklearn.model_selection import RepeatedStratifiedKFold\n",
    "from sklearn.pipeline import Pipeline\n",
    "from sklearn.decomposition import PCA\n",
    "from sklearn.linear_model import LogisticRegression\n",
    "from sklearn.metrics import make_scorer,f1_score\n",
    "import numpy as np\n",
    "f1_scorer = make_scorer(f1_score)\n",
    "\n",
    "\n",
    "X,y = make_classification(n_samples=1000,n_features=20,n_informative=15,n_redundant=5)\n",
    "for percentage in [1,0.95,0.90,0.85,0.80,0.75,0.70]:\n",
    "    steps = [('pca',PCA(n_components=percentage)),('clf',LogisticRegression())]\n",
    "    model = Pipeline(steps=steps)\n",
    "    cv = RepeatedStratifiedKFold(n_splits=10,n_repeats=3,random_state=1)\n",
    "    n_scores = cross_val_score(model,X,y,scoring=f1_scorer)\n",
    "    print('Percentage: %.3f, Avg F1 score: %.3f (%.3f)'%(percentage,np.mean(n_scores),np.std(n_scores)))"
   ]
  },
  {
   "cell_type": "code",
   "execution_count": 48,
   "metadata": {},
   "outputs": [
    {
     "name": "stdout",
     "output_type": "stream",
     "text": [
      "Percentage: 1.000, Avg F1 score: 0.615 (0.025)\n",
      "Percentage: 0.950, Avg F1 score: nan (nan)\n",
      "Percentage: 0.900, Avg F1 score: nan (nan)\n",
      "Percentage: 0.850, Avg F1 score: nan (nan)\n",
      "Percentage: 0.800, Avg F1 score: nan (nan)\n",
      "Percentage: 0.750, Avg F1 score: nan (nan)\n",
      "Percentage: 0.700, Avg F1 score: nan (nan)\n"
     ]
    },
    {
     "name": "stderr",
     "output_type": "stream",
     "text": [
      "/Users/joseph.ganser/anaconda3/lib/python3.7/site-packages/sklearn/model_selection/_validation.py:536: FitFailedWarning: Estimator fit failed. The score on this train-test partition for these parameters will be set to nan. Details: \n",
      "TypeError: 'float' object cannot be interpreted as an integer\n",
      "\n",
      "  FitFailedWarning)\n",
      "/Users/joseph.ganser/anaconda3/lib/python3.7/site-packages/sklearn/model_selection/_validation.py:536: FitFailedWarning: Estimator fit failed. The score on this train-test partition for these parameters will be set to nan. Details: \n",
      "TypeError: 'float' object cannot be interpreted as an integer\n",
      "\n",
      "  FitFailedWarning)\n",
      "/Users/joseph.ganser/anaconda3/lib/python3.7/site-packages/sklearn/model_selection/_validation.py:536: FitFailedWarning: Estimator fit failed. The score on this train-test partition for these parameters will be set to nan. Details: \n",
      "TypeError: 'float' object cannot be interpreted as an integer\n",
      "\n",
      "  FitFailedWarning)\n",
      "/Users/joseph.ganser/anaconda3/lib/python3.7/site-packages/sklearn/model_selection/_validation.py:536: FitFailedWarning: Estimator fit failed. The score on this train-test partition for these parameters will be set to nan. Details: \n",
      "TypeError: 'float' object cannot be interpreted as an integer\n",
      "\n",
      "  FitFailedWarning)\n",
      "/Users/joseph.ganser/anaconda3/lib/python3.7/site-packages/sklearn/model_selection/_validation.py:536: FitFailedWarning: Estimator fit failed. The score on this train-test partition for these parameters will be set to nan. Details: \n",
      "TypeError: 'float' object cannot be interpreted as an integer\n",
      "\n",
      "  FitFailedWarning)\n",
      "/Users/joseph.ganser/anaconda3/lib/python3.7/site-packages/sklearn/model_selection/_validation.py:536: FitFailedWarning: Estimator fit failed. The score on this train-test partition for these parameters will be set to nan. Details: \n",
      "TypeError: 'float' object cannot be interpreted as an integer\n",
      "\n",
      "  FitFailedWarning)\n",
      "/Users/joseph.ganser/anaconda3/lib/python3.7/site-packages/sklearn/model_selection/_validation.py:536: FitFailedWarning: Estimator fit failed. The score on this train-test partition for these parameters will be set to nan. Details: \n",
      "TypeError: 'float' object cannot be interpreted as an integer\n",
      "\n",
      "  FitFailedWarning)\n",
      "/Users/joseph.ganser/anaconda3/lib/python3.7/site-packages/sklearn/model_selection/_validation.py:536: FitFailedWarning: Estimator fit failed. The score on this train-test partition for these parameters will be set to nan. Details: \n",
      "TypeError: 'float' object cannot be interpreted as an integer\n",
      "\n",
      "  FitFailedWarning)\n",
      "/Users/joseph.ganser/anaconda3/lib/python3.7/site-packages/sklearn/model_selection/_validation.py:536: FitFailedWarning: Estimator fit failed. The score on this train-test partition for these parameters will be set to nan. Details: \n",
      "TypeError: 'float' object cannot be interpreted as an integer\n",
      "\n",
      "  FitFailedWarning)\n",
      "/Users/joseph.ganser/anaconda3/lib/python3.7/site-packages/sklearn/model_selection/_validation.py:536: FitFailedWarning: Estimator fit failed. The score on this train-test partition for these parameters will be set to nan. Details: \n",
      "TypeError: 'float' object cannot be interpreted as an integer\n",
      "\n",
      "  FitFailedWarning)\n",
      "/Users/joseph.ganser/anaconda3/lib/python3.7/site-packages/sklearn/model_selection/_validation.py:536: FitFailedWarning: Estimator fit failed. The score on this train-test partition for these parameters will be set to nan. Details: \n",
      "TypeError: 'float' object cannot be interpreted as an integer\n",
      "\n",
      "  FitFailedWarning)\n",
      "/Users/joseph.ganser/anaconda3/lib/python3.7/site-packages/sklearn/model_selection/_validation.py:536: FitFailedWarning: Estimator fit failed. The score on this train-test partition for these parameters will be set to nan. Details: \n",
      "TypeError: 'float' object cannot be interpreted as an integer\n",
      "\n",
      "  FitFailedWarning)\n",
      "/Users/joseph.ganser/anaconda3/lib/python3.7/site-packages/sklearn/model_selection/_validation.py:536: FitFailedWarning: Estimator fit failed. The score on this train-test partition for these parameters will be set to nan. Details: \n",
      "TypeError: 'float' object cannot be interpreted as an integer\n",
      "\n",
      "  FitFailedWarning)\n",
      "/Users/joseph.ganser/anaconda3/lib/python3.7/site-packages/sklearn/model_selection/_validation.py:536: FitFailedWarning: Estimator fit failed. The score on this train-test partition for these parameters will be set to nan. Details: \n",
      "TypeError: 'float' object cannot be interpreted as an integer\n",
      "\n",
      "  FitFailedWarning)\n",
      "/Users/joseph.ganser/anaconda3/lib/python3.7/site-packages/sklearn/model_selection/_validation.py:536: FitFailedWarning: Estimator fit failed. The score on this train-test partition for these parameters will be set to nan. Details: \n",
      "TypeError: 'float' object cannot be interpreted as an integer\n",
      "\n",
      "  FitFailedWarning)\n",
      "/Users/joseph.ganser/anaconda3/lib/python3.7/site-packages/sklearn/model_selection/_validation.py:536: FitFailedWarning: Estimator fit failed. The score on this train-test partition for these parameters will be set to nan. Details: \n",
      "TypeError: 'float' object cannot be interpreted as an integer\n",
      "\n",
      "  FitFailedWarning)\n",
      "/Users/joseph.ganser/anaconda3/lib/python3.7/site-packages/sklearn/model_selection/_validation.py:536: FitFailedWarning: Estimator fit failed. The score on this train-test partition for these parameters will be set to nan. Details: \n",
      "TypeError: 'float' object cannot be interpreted as an integer\n",
      "\n",
      "  FitFailedWarning)\n",
      "/Users/joseph.ganser/anaconda3/lib/python3.7/site-packages/sklearn/model_selection/_validation.py:536: FitFailedWarning: Estimator fit failed. The score on this train-test partition for these parameters will be set to nan. Details: \n",
      "TypeError: 'float' object cannot be interpreted as an integer\n",
      "\n",
      "  FitFailedWarning)\n",
      "/Users/joseph.ganser/anaconda3/lib/python3.7/site-packages/sklearn/model_selection/_validation.py:536: FitFailedWarning: Estimator fit failed. The score on this train-test partition for these parameters will be set to nan. Details: \n",
      "TypeError: 'float' object cannot be interpreted as an integer\n",
      "\n",
      "  FitFailedWarning)\n",
      "/Users/joseph.ganser/anaconda3/lib/python3.7/site-packages/sklearn/model_selection/_validation.py:536: FitFailedWarning: Estimator fit failed. The score on this train-test partition for these parameters will be set to nan. Details: \n",
      "TypeError: 'float' object cannot be interpreted as an integer\n",
      "\n",
      "  FitFailedWarning)\n",
      "/Users/joseph.ganser/anaconda3/lib/python3.7/site-packages/sklearn/model_selection/_validation.py:536: FitFailedWarning: Estimator fit failed. The score on this train-test partition for these parameters will be set to nan. Details: \n",
      "TypeError: 'float' object cannot be interpreted as an integer\n",
      "\n",
      "  FitFailedWarning)\n",
      "/Users/joseph.ganser/anaconda3/lib/python3.7/site-packages/sklearn/model_selection/_validation.py:536: FitFailedWarning: Estimator fit failed. The score on this train-test partition for these parameters will be set to nan. Details: \n",
      "TypeError: 'float' object cannot be interpreted as an integer\n",
      "\n",
      "  FitFailedWarning)\n",
      "/Users/joseph.ganser/anaconda3/lib/python3.7/site-packages/sklearn/model_selection/_validation.py:536: FitFailedWarning: Estimator fit failed. The score on this train-test partition for these parameters will be set to nan. Details: \n",
      "TypeError: 'float' object cannot be interpreted as an integer\n",
      "\n",
      "  FitFailedWarning)\n",
      "/Users/joseph.ganser/anaconda3/lib/python3.7/site-packages/sklearn/model_selection/_validation.py:536: FitFailedWarning: Estimator fit failed. The score on this train-test partition for these parameters will be set to nan. Details: \n",
      "TypeError: 'float' object cannot be interpreted as an integer\n",
      "\n",
      "  FitFailedWarning)\n",
      "/Users/joseph.ganser/anaconda3/lib/python3.7/site-packages/sklearn/model_selection/_validation.py:536: FitFailedWarning: Estimator fit failed. The score on this train-test partition for these parameters will be set to nan. Details: \n",
      "TypeError: 'float' object cannot be interpreted as an integer\n",
      "\n",
      "  FitFailedWarning)\n",
      "/Users/joseph.ganser/anaconda3/lib/python3.7/site-packages/sklearn/model_selection/_validation.py:536: FitFailedWarning: Estimator fit failed. The score on this train-test partition for these parameters will be set to nan. Details: \n",
      "TypeError: 'float' object cannot be interpreted as an integer\n",
      "\n",
      "  FitFailedWarning)\n",
      "/Users/joseph.ganser/anaconda3/lib/python3.7/site-packages/sklearn/model_selection/_validation.py:536: FitFailedWarning: Estimator fit failed. The score on this train-test partition for these parameters will be set to nan. Details: \n",
      "TypeError: 'float' object cannot be interpreted as an integer\n",
      "\n",
      "  FitFailedWarning)\n",
      "/Users/joseph.ganser/anaconda3/lib/python3.7/site-packages/sklearn/model_selection/_validation.py:536: FitFailedWarning: Estimator fit failed. The score on this train-test partition for these parameters will be set to nan. Details: \n",
      "TypeError: 'float' object cannot be interpreted as an integer\n",
      "\n",
      "  FitFailedWarning)\n",
      "/Users/joseph.ganser/anaconda3/lib/python3.7/site-packages/sklearn/model_selection/_validation.py:536: FitFailedWarning: Estimator fit failed. The score on this train-test partition for these parameters will be set to nan. Details: \n",
      "TypeError: 'float' object cannot be interpreted as an integer\n",
      "\n",
      "  FitFailedWarning)\n",
      "/Users/joseph.ganser/anaconda3/lib/python3.7/site-packages/sklearn/model_selection/_validation.py:536: FitFailedWarning: Estimator fit failed. The score on this train-test partition for these parameters will be set to nan. Details: \n",
      "TypeError: 'float' object cannot be interpreted as an integer\n",
      "\n",
      "  FitFailedWarning)\n"
     ]
    }
   ],
   "source": [
    "from sklearn.datasets import make_classification\n",
    "from sklearn.model_selection import cross_val_score\n",
    "from sklearn.model_selection import RepeatedStratifiedKFold\n",
    "from sklearn.pipeline import Pipeline\n",
    "from sklearn.decomposition import PCA,TruncatedSVD\n",
    "from sklearn.linear_model import LogisticRegression\n",
    "from sklearn.metrics import make_scorer,f1_score\n",
    "import numpy as np\n",
    "f1_scorer = make_scorer(f1_score)\n",
    "\n",
    "\n",
    "X,y = make_classification(n_samples=1000,n_features=20,n_informative=15,n_redundant=5)\n",
    "for percentage in np.arange(1,20,5):\n",
    "    steps = [('svd',TruncatedSVD(n_components=percentage)),('clf',LogisticRegression())]\n",
    "    model = Pipeline(steps=steps)\n",
    "    cv = RepeatedStratifiedKFold(n_splits=10,n_repeats=3,random_state=1)\n",
    "    n_scores = cross_val_score(model,X,y,scoring=f1_scorer)\n",
    "    print('Percentage: %.3f, Avg F1 score: %.3f (%.3f)'%(percentage,np.mean(n_scores),np.std(n_scores)))"
   ]
  },
  {
   "cell_type": "code",
   "execution_count": 54,
   "metadata": {},
   "outputs": [
    {
     "data": {
      "text/plain": [
       "array([[ 5.23390009e+00,  1.61440078e+00,  2.22044605e-16],\n",
       "       [ 1.51603702e+01,  4.03949965e-01,  0.00000000e+00],\n",
       "       [ 2.31015463e+01, -5.64410691e-01,  0.00000000e+00],\n",
       "       [ 1.91309582e+01, -8.02303628e-02,  8.88178420e-16]])"
      ]
     },
     "execution_count": 54,
     "metadata": {},
     "output_type": "execute_result"
    }
   ],
   "source": [
    "X = np.array([[1,2,3,4],[6,7,8,9],[10,11,12,13],[8,9,10,11]])\n",
    "svd = TruncatedSVD(n_components=3)\n",
    "svd.fit(X)\n",
    "transformed = svd.transform(X)\n",
    "transformed"
   ]
  },
  {
   "cell_type": "code",
   "execution_count": 58,
   "metadata": {},
   "outputs": [
    {
     "data": {
      "text/plain": [
       "array([ 1,  3,  5,  7,  9, 11, 13, 15, 17, 19])"
      ]
     },
     "execution_count": 58,
     "metadata": {},
     "output_type": "execute_result"
    }
   ],
   "source": [
    "np.arange(1,20,2)"
   ]
  },
  {
   "cell_type": "code",
   "execution_count": 61,
   "metadata": {},
   "outputs": [
    {
     "name": "stdout",
     "output_type": "stream",
     "text": [
      "Number components: 1.000, Avg F1 score: 0.659 (0.019)\n",
      "Number components: 3.000, Avg F1 score: 0.711 (0.013)\n",
      "Number components: 5.000, Avg F1 score: 0.725 (0.014)\n",
      "Number components: 7.000, Avg F1 score: 0.843 (0.015)\n",
      "Number components: 9.000, Avg F1 score: 0.889 (0.019)\n",
      "Number components: 11.000, Avg F1 score: 0.891 (0.023)\n",
      "Number components: 13.000, Avg F1 score: 0.888 (0.017)\n",
      "Number components: 15.000, Avg F1 score: 0.891 (0.016)\n",
      "Number components: 17.000, Avg F1 score: 0.891 (0.016)\n",
      "Number components: 19.000, Avg F1 score: 0.891 (0.016)\n"
     ]
    }
   ],
   "source": [
    "from sklearn.datasets import make_classification\n",
    "from sklearn.model_selection import cross_val_score\n",
    "from sklearn.model_selection import RepeatedStratifiedKFold\n",
    "from sklearn.pipeline import Pipeline\n",
    "from sklearn.decomposition import PCA,TruncatedSVD\n",
    "from sklearn.linear_model import LogisticRegression\n",
    "from sklearn.metrics import make_scorer,f1_score\n",
    "import numpy as np\n",
    "f1_scorer = make_scorer(f1_score)\n",
    "\n",
    "\n",
    "X,y = make_classification(n_samples=1000,n_features=20,n_informative=15,n_redundant=5)\n",
    "for n in list(np.arange(1,20,2)):\n",
    "    steps = [('svd',TruncatedSVD(n_components=n)),('clf',LogisticRegression())]\n",
    "    model = Pipeline(steps=steps)\n",
    "    cv = RepeatedStratifiedKFold(n_splits=10,n_repeats=3,random_state=1)\n",
    "    n_scores = cross_val_score(model,X,y,scoring=f1_scorer)\n",
    "    print('Number components: %.3f, Avg F1 score: %.3f (%.3f)'%(n,np.mean(n_scores),np.std(n_scores)))"
   ]
  },
  {
   "cell_type": "code",
   "execution_count": 63,
   "metadata": {},
   "outputs": [
    {
     "data": {
      "image/png": "[encoded data removed]",
      "text/plain": [
       "<Figure size 792x288 with 3 Axes>"
      ]
     },
     "metadata": {
      "needs_background": "light"
     },
     "output_type": "display_data"
    }
   ],
   "source": [
    "from sklearn.datasets import make_swiss_roll\n",
    "X, t = make_swiss_roll(n_samples=1000, noise=0.2, random_state=42)\n",
    "\n",
    "from sklearn.decomposition import KernelPCA\n",
    "\n",
    "lin_pca = KernelPCA(n_components = 2, kernel=\"linear\", fit_inverse_transform=True)\n",
    "rbf_pca = KernelPCA(n_components = 2, kernel=\"rbf\", gamma=0.0433, fit_inverse_transform=True)\n",
    "sig_pca = KernelPCA(n_components = 2, kernel=\"sigmoid\", gamma=0.001, coef0=1, fit_inverse_transform=True)\n",
    "\n",
    "y = t > 6.9\n",
    "\n",
    "plt.figure(figsize=(11, 4))\n",
    "for subplot, pca, title in ((131, lin_pca, \"Linear kernel\"), (132, rbf_pca, \"RBF kernel, $\\gamma=0.04$\"), (133, sig_pca, \"Sigmoid kernel, $\\gamma=10^{-3}, r=1$\")):\n",
    "    X_reduced = pca.fit_transform(X)\n",
    "    if subplot == 132:\n",
    "        X_reduced_rbf = X_reduced\n",
    "    \n",
    "    plt.subplot(subplot)\n",
    "    #plt.plot(X_reduced[y, 0], X_reduced[y, 1], \"gs\")\n",
    "    #plt.plot(X_reduced[~y, 0], X_reduced[~y, 1], \"y^\")\n",
    "    plt.title(title, fontsize=14)\n",
    "    plt.scatter(X_reduced[:, 0], X_reduced[:, 1], c=t, cmap=plt.cm.hot)\n",
    "    plt.xlabel(\"$z_1$\", fontsize=18)\n",
    "    if subplot == 131:\n",
    "        plt.ylabel(\"$z_2$\", fontsize=18, rotation=0)\n",
    "    plt.grid(True)\n",
    "\n",
    "#save_fig(\"kernel_pca_plot\")\n",
    "plt.show()"
   ]
  },
  {
   "cell_type": "code",
   "execution_count": 64,
   "metadata": {},
   "outputs": [
    {
     "data": {
      "text/plain": [
       "array([[10.5,  0. ],\n",
       "       [ 0.5, -0. ],\n",
       "       [-7.5, -0. ],\n",
       "       [-3.5,  0. ]])"
      ]
     },
     "execution_count": 64,
     "metadata": {},
     "output_type": "execute_result"
    }
   ],
   "source": [
    "from sklearn.decomposition import KernelPCA\n",
    "\n",
    "X = np.array([[1,2,3,4],[6,7,8,9],[10,11,12,13],[8,9,10,11]])\n",
    "lin_pca = KernelPCA(n_components = 2, kernel=\"linear\", fit_inverse_transform=True)\n",
    "lin_pca.fit_transform(X)"
   ]
  },
  {
   "cell_type": "code",
   "execution_count": 74,
   "metadata": {},
   "outputs": [
    {
     "name": "stdout",
     "output_type": "stream",
     "text": [
      "{'kpca__gamma': 0.043333333333333335, 'kpca__kernel': 'rbf'}\n",
      "Pipeline(memory=None,\n",
      "         steps=[('kpca',\n",
      "                 KernelPCA(alpha=1.0, coef0=1, copy_X=True, degree=3,\n",
      "                           eigen_solver='auto', fit_inverse_transform=False,\n",
      "                           gamma=0.043333333333333335, kernel='rbf',\n",
      "                           kernel_params=None, max_iter=None, n_components=2,\n",
      "                           n_jobs=None, random_state=None,\n",
      "                           remove_zero_eig=False, tol=0)),\n",
      "                ('log_reg',\n",
      "                 LogisticRegression(C=1.0, class_weight=None, dual=False,\n",
      "                                    fit_intercept=True, intercept_scaling=1,\n",
      "                                    l1_ratio=None, max_iter=100,\n",
      "                                    multi_class='auto', n_jobs=None,\n",
      "                                    penalty='l2', random_state=None,\n",
      "                                    solver='liblinear', tol=0.0001, verbose=0,\n",
      "                                    warm_start=False))],\n",
      "         verbose=False)\n",
      "0.9330048611485737\n"
     ]
    }
   ],
   "source": [
    "from sklearn.datasets import make_swiss_roll\n",
    "from sklearn.model_selection import GridSearchCV\n",
    "from sklearn.linear_model import LogisticRegression\n",
    "from sklearn.pipeline import Pipeline\n",
    "\n",
    "X, t = make_swiss_roll(n_samples=1000, noise=0.2, random_state=42)\n",
    "y = t > 6.9\n",
    "\n",
    "clf = Pipeline([\n",
    "    ('kpca',KernelPCA(n_components=2)),\n",
    "    ('log_reg', LogisticRegression(solver=\"liblinear\"))\n",
    "])\n",
    "\n",
    "param_grid = [{\n",
    "    'kpca__gamma':np.linspace(0.03,0.05,10),\n",
    "    'kpca__kernel':[\"rbf\",\"sigmoid\"]#,\"linear\", \"cosine\"]\n",
    "}]\n",
    "\n",
    "grid_search = GridSearchCV(clf,param_grid,cv=3)\n",
    "grid_search.fit(X,y)\n",
    "print(grid_search.best_params_)\n",
    "print(grid_search.best_estimator_)\n",
    "print(grid_search.best_score_)"
   ]
  },
  {
   "cell_type": "code",
   "execution_count": 71,
   "metadata": {},
   "outputs": [
    {
     "data": {
      "text/plain": [
       "array([ 8.24234644, 13.67266022, 11.61126935, 10.35461227,  6.18283002,\n",
       "        6.1826027 ,  5.25981413, 12.87590683, 10.37776449, 11.38581581,\n",
       "        4.90639327, 13.85357398, 12.55797604,  6.71363795,  6.42604892,\n",
       "        6.44093576,  7.57980457,  9.65810183,  8.78337487,  7.45715896,\n",
       "       10.47896666,  6.02708764,  7.46578743,  8.16526801,  9.01074732,\n",
       "       12.11249808,  6.59427004,  9.55893438, 10.29576475,  5.15017381,\n",
       "       10.43836431,  6.31954098,  5.3254858 , 13.65542448, 13.81325648,\n",
       "       12.33135449,  7.58330612,  5.63292697, 11.16113333,  8.8607285 ,\n",
       "        5.86257225,  9.37932141,  5.03649316, 13.28253187,  7.15133285,\n",
       "       10.9565144 ,  7.65019666,  9.6139146 ,  9.86501197,  6.45460118,\n",
       "       13.85050881, 12.01784373, 13.5669579 , 13.14593807, 10.34746352,\n",
       "       13.40084895,  5.54641116,  6.55948394,  5.13864614,  7.77855511,\n",
       "        8.37558613,  7.26979335, 12.52305599,  8.07470987,  7.36013436,\n",
       "        9.82717906,  6.04056851, 12.2729174 ,  5.41501224, 14.01357923,\n",
       "       11.99062446,  6.58524016,  4.76443371, 12.39793188, 11.3743625 ,\n",
       "       11.58311967, 11.98144075,  5.41024338,  8.09084888,  5.80442914,\n",
       "       12.84694713, 10.58683543,  7.83102939,  5.31141232,  7.64332831,\n",
       "        7.77716959, 11.58876521, 10.72122659, 13.07417208,  9.1629098 ,\n",
       "        5.83953819, 11.43456273, 11.88261914, 10.00230194, 11.97858347,\n",
       "        9.36630283,  9.63902983,  8.74186815,  4.95195861,  5.72924172,\n",
       "        5.00860208, 10.7104158 ,  7.6751243 ,  9.50555482, 13.26600148,\n",
       "        7.06191289,  8.58015691, 11.8332907 ,  6.86876089,  5.43790754,\n",
       "        7.44323209,  6.23186382, 13.47458292, 12.32874412, 10.68207875,\n",
       "       12.92571154, 12.28681986,  6.47077036, 13.12455936,  9.79556986,\n",
       "       12.32233316, 13.15785051,  7.70950112,  5.74960393,  6.86062728,\n",
       "        8.73778505, 12.42199652, 12.82458361,  4.77791127,  9.5260689 ,\n",
       "        8.646395  ,  6.80570578,  5.84209345,  7.89433701, 13.59910358,\n",
       "        7.75850485,  9.6018754 , 11.33818657,  8.13951724, 13.87121934,\n",
       "       13.78324103,  7.08538121,  9.39884574,  7.54810024,  7.39694739,\n",
       "        5.06004027, 10.45739748,  9.45002716,  5.19756478,  7.33857004,\n",
       "       13.27259328,  6.97020661,  6.07799098,  9.32537257, 14.00192566,\n",
       "        6.99370617, 11.04711727, 11.89048475,  6.95207007, 11.57566637,\n",
       "        8.17866334, 10.67173104, 10.68326584,  9.76194641,  5.56335002,\n",
       "       12.58492953,  7.73566987,  6.47028453,  5.09668564, 10.28142377,\n",
       "       11.09828264,  4.86872558,  9.53875235,  6.84706137, 10.79299928,\n",
       "        6.35575386, 11.22432375,  8.35728375, 13.54086113,  6.00849334,\n",
       "        7.92686361,  5.78185172, 13.42742101, 12.98111758,  7.14343155,\n",
       "       10.93259207, 12.41452676,  9.94503335,  9.70422808,  6.99179312,\n",
       "        5.58986189, 13.16844828, 13.19862924, 10.67922964,  7.90766948,\n",
       "        8.00361168, 11.55436006, 13.16745399, 13.07298156, 12.06254284,\n",
       "       10.76339469,  5.50538947,  6.23570372, 13.18106269, 10.42784822,\n",
       "        4.79906915,  5.66873574, 10.96574583,  4.76009328,  6.22796916,\n",
       "        9.8840831 , 11.23334759, 10.85697909,  6.82607743, 11.42452001,\n",
       "        6.94840895,  7.77920888, 11.74790472, 10.83503481, 12.71613106,\n",
       "       10.91024447, 10.06857138,  5.59525287,  8.17802878,  7.21186241,\n",
       "        7.01193719, 13.88279741,  8.41724775, 13.11972969, 10.66073039,\n",
       "       12.20330904,  9.44963198, 10.14958   ,  9.35425889,  6.55251079,\n",
       "       11.52133975,  7.35860615,  4.94156156, 10.79582205,  6.38161781,\n",
       "       13.57600232, 13.70295401, 13.33478272,  8.20105254,  4.85806416,\n",
       "       13.46158531,  8.7479295 , 13.82289601, 13.7942933 , 12.7518137 ,\n",
       "        7.48750441,  8.34184957, 12.73416312,  7.69930851,  6.30982048,\n",
       "        9.96011725, 13.53543986, 11.27231527, 10.08508893,  5.62825586,\n",
       "       10.50869554, 14.04342669,  6.03264972,  9.59753086, 12.98143537,\n",
       "       11.69396872, 11.28160757, 11.33314549,  8.10051326,  7.47942692,\n",
       "       12.34043816, 12.34752785, 12.88435306, 13.31947841,  9.53167755,\n",
       "        9.4390687 , 12.23614379, 10.83815471, 11.32827093, 12.21255819,\n",
       "       13.10049171,  7.89791829,  8.25217491,  5.5981479 , 10.16255091,\n",
       "        5.05113693,  9.10054692,  9.82669417,  7.41297666, 10.28086127,\n",
       "        4.99984706,  5.06438737, 12.46521662,  8.1071058 ,  5.9099061 ,\n",
       "        9.63441575, 11.96940725,  6.74645424, 10.58299341,  5.51676989,\n",
       "        5.19947773,  9.7202884 ,  9.80775496, 10.72002427, 11.55563858,\n",
       "       13.90957815,  9.57840512,  7.75618203, 12.2068423 ,  7.26492281,\n",
       "        8.84959715,  5.45182295,  4.95131411, 13.78513654, 12.591316  ,\n",
       "       11.27179134,  8.56667968,  6.34564947,  6.18677337,  7.07087273,\n",
       "        9.88872835, 11.44729688, 10.93460267,  7.3507038 , 13.71178223,\n",
       "       11.66690358,  9.93705284, 10.47772119,  8.6670264 ,  7.04719855,\n",
       "        8.06735244, 11.8549203 ,  4.84804441,  5.80634784,  5.14595367,\n",
       "        5.0962489 , 12.77491504, 11.34420807,  9.18137203,  5.63445422,\n",
       "        9.34575945,  9.17475529,  6.34477815,  8.80134444,  8.46820762,\n",
       "       10.51663941, 10.69800562,  5.13936921,  8.24302969, 10.61097972,\n",
       "        9.4543365 , 12.78461556, 10.9204302 ,  6.24800978,  5.37748376,\n",
       "       10.76704804,  4.9622522 , 10.23319377, 13.57385024, 10.13610533,\n",
       "        8.37080435, 10.7752376 ,  9.03132072,  9.85470607, 13.58548576,\n",
       "        8.35132061, 13.77139662, 13.24511776,  6.55767695,  5.36610384,\n",
       "        5.66219927,  4.88412564,  5.60249292, 11.14957617,  5.38332619,\n",
       "        7.71866347, 12.67515119,  4.93172181, 12.38857358,  7.36880765,\n",
       "        5.82606624, 11.27898206, 10.64003566, 12.98236787, 11.64027035,\n",
       "       12.28501834,  7.3705022 ,  6.38471728, 11.78676635, 12.31662725,\n",
       "       14.04768001,  8.60121897,  8.21857684, 12.02990874,  7.92438668,\n",
       "       13.48457011, 12.80273857,  8.75556243, 11.78918207, 11.82378803,\n",
       "        5.68430855, 13.21874972,  9.4742804 , 12.50156709,  7.72878541,\n",
       "       13.15249657,  8.38052838,  4.81453144, 13.24541308,  5.57274564,\n",
       "        7.72184911, 13.66651207, 13.67165027, 10.11691375, 10.66731441,\n",
       "        8.93888845,  7.4758354 ,  7.80997934, 11.0507261 , 11.80335186,\n",
       "       12.17284571, 12.15436465,  5.57198625,  9.37219057,  5.25486751,\n",
       "        9.89157668,  8.87371592, 13.0788038 ,  8.01968506,  5.81571962,\n",
       "        6.06005383, 11.8894576 , 10.53895696,  5.66544775,  5.50507695,\n",
       "       11.3188674 ,  5.39816416, 12.45823755, 11.36856516,  5.47908318,\n",
       "        5.5119656 , 14.01124794,  8.23980813,  8.20560892, 12.37284443,\n",
       "       13.6399965 , 14.00523008, 11.8128111 ,  8.25855203,  5.49936469,\n",
       "       12.03682611,  9.97522505,  8.71058722, 13.25457781,  5.76040056,\n",
       "        9.35527121,  4.81939456,  9.12941147,  5.24303485,  5.83222146,\n",
       "        5.82004776, 10.83105193, 11.74369632, 10.21051006, 13.78065161,\n",
       "        8.24546096,  7.40516195, 12.8987429 ,  6.81973011, 13.79054754,\n",
       "        4.82694221, 13.85328157,  5.11916157, 13.11121496,  9.68585476,\n",
       "       14.07086171,  5.40790522,  9.93234263, 13.84785016,  9.64247001,\n",
       "       10.64433139, 11.26966589,  8.99633759, 10.62698454, 10.21942163,\n",
       "       13.20560314,  5.14071102,  7.36040466, 13.66980619, 13.10292747,\n",
       "        9.0068527 , 10.55700102,  7.32664504,  6.48538914,  9.08264349,\n",
       "        8.04265527, 10.21321824,  5.44502067, 13.89584369, 14.00720627,\n",
       "       11.29240812,  9.7649782 ,  7.62961804, 12.38222635, 11.16582824,\n",
       "        6.24501753, 13.29767543, 12.46461986, 13.66404227, 11.55213421,\n",
       "       10.493691  ,  8.65423673, 13.50314783, 12.87484884,  5.13856491,\n",
       "        4.96089186,  8.26047262, 12.35167415, 14.01724729,  6.13003478,\n",
       "       10.31193905,  8.30220073, 13.85361682, 12.64917285, 12.61345088,\n",
       "        9.12971794,  8.62197068,  7.28918993,  5.24371552, 12.86220537,\n",
       "       12.3738005 , 14.13450607, 14.10546988,  9.94720948, 11.95992462,\n",
       "       13.61659621, 12.72012698,  7.04358992,  8.95866742,  5.92968779,\n",
       "       13.70410808, 10.42545032,  6.86729665, 11.04301879, 10.5381104 ,\n",
       "        8.08799307,  5.78264407, 11.04181723,  9.61617353, 11.99131834,\n",
       "        9.61481448, 12.7440104 ,  9.91398839,  9.99910481, 12.97465453,\n",
       "        8.51512541,  5.97545275,  4.98365931, 11.82938995, 10.55866877,\n",
       "       11.34818446,  6.71952892,  5.99765986,  4.84946922,  8.01659888,\n",
       "       10.27223219,  8.40920201,  8.83549298, 13.23388392,  7.99461943,\n",
       "        9.55662579, 12.09814462,  8.44971666, 10.575418  , 12.83997546,\n",
       "       13.66141003,  6.09852388, 13.44527161,  9.35047577,  7.146285  ,\n",
       "        9.03964154, 13.9489784 ,  9.35520514,  7.81079991, 10.68205139,\n",
       "        6.97570812,  5.427384  ,  5.92705174,  5.91919258,  6.14403814,\n",
       "        6.02080426, 10.75249115,  6.42656839,  7.97022637, 13.16442062,\n",
       "        9.1793722 , 11.00397244,  6.3364655 ,  6.52467029,  5.09756661,\n",
       "        6.30456444,  7.33804107,  6.38067349,  5.54839067,  5.84935528,\n",
       "        9.05512656,  6.65703846,  8.14555154,  9.45698498, 11.21920695,\n",
       "        5.08289717, 12.24665449, 10.63021073,  5.4829497 , 12.94567354,\n",
       "       13.39140689,  5.28803519,  7.32189934, 12.31065703, 11.76457042,\n",
       "        6.45145862,  6.68545987,  8.20400629,  9.27891053, 10.53930293,\n",
       "        8.18931812,  9.07167598, 11.7571366 ,  5.05812002,  7.09155113,\n",
       "       11.43555044, 13.14951465,  9.53483526,  9.72744043,  5.72246139,\n",
       "        8.92915119,  9.73218845,  6.99761964,  7.24994665,  8.26820845,\n",
       "        4.90155556,  7.7479136 ,  6.7052395 ,  7.79897881,  5.84112048,\n",
       "       13.10541087, 10.30686605, 11.11277755, 12.15015268,  9.41009603,\n",
       "        5.5315934 ,  9.77449888, 10.24323622, 11.73799051,  8.78068436,\n",
       "        5.91480501,  7.38691388,  8.13435901, 10.80001556, 10.09184777,\n",
       "        8.06852155, 14.01007616, 10.42168215,  6.94819882,  5.67166619,\n",
       "        6.15305243,  7.03048596,  6.22677525,  6.47074176,  7.39934764,\n",
       "        6.34639662, 13.16420399,  5.46857422,  9.65579236,  8.58028795,\n",
       "       13.97108932,  5.76833076,  8.46208966, 13.84943255, 12.86960147,\n",
       "       12.41311183,  7.14306586,  6.32296655, 11.01420286, 13.47155132,\n",
       "        9.95975562, 10.09971166,  7.35112977, 11.96468902,  6.47523478,\n",
       "        7.76299391,  8.72203295,  9.49650409,  6.99704688,  5.79470056,\n",
       "       10.4673473 ,  7.43266786, 10.19043016,  6.1672233 ,  9.24702761,\n",
       "        9.73192613,  5.20081431,  7.88480956,  5.97921747,  5.30968401,\n",
       "       14.04254436,  7.75050239, 12.34527581,  7.11232061, 11.13540082,\n",
       "       11.87736776, 10.32615186,  9.15688985,  8.59389815,  8.00039493,\n",
       "       13.47299477, 12.54079247, 13.80755334,  5.88386271, 11.60065265,\n",
       "       13.55603944,  6.42047039,  5.33910154, 11.69728654, 10.12667052,\n",
       "       12.64643828,  6.0297126 , 12.20760681,  6.6126817 ,  6.2548099 ,\n",
       "        6.26055765, 12.38957485, 10.98172509,  9.64216447,  8.09428662,\n",
       "       12.9798093 ,  8.41109698, 12.40865738,  8.85113799,  8.26500653,\n",
       "        9.07304323,  7.55280853, 11.75844139,  9.45041703,  6.90094207,\n",
       "       13.19067959,  8.3304785 ,  9.83525401, 13.25568735, 10.59569349,\n",
       "        5.81412706, 13.57009807, 10.628398  ,  7.86880004,  6.02499734,\n",
       "       12.19590008, 10.55643702,  9.74014132, 13.1371281 , 12.1447426 ,\n",
       "        6.14189104,  7.65030025,  7.05434395, 11.7239176 ,  5.02842473,\n",
       "       10.08347272, 11.8983928 , 12.97571043,  7.93643351, 12.45255673,\n",
       "        5.75506854, 12.69001388,  5.91394132,  8.45673348, 12.22672077,\n",
       "        6.12532745,  6.87303248, 11.51945907, 11.49857346, 10.75506306,\n",
       "       11.25269899,  9.82744635,  7.0855392 ,  7.97049696,  6.42390714,\n",
       "       13.27433381, 10.21072711,  8.49032458,  9.0666911 , 13.64032412,\n",
       "        6.1576919 , 10.23747498,  9.48027745, 10.47520938,  4.88307344,\n",
       "       12.93196318, 13.49739683, 10.03864375, 11.27816831, 13.40674082,\n",
       "       11.37795607,  6.15003559, 10.14377882, 10.43054358,  8.70972638,\n",
       "       11.65321238, 13.51859063, 13.4356667 ,  8.96144995,  5.77963242,\n",
       "       13.99429861, 12.61881718,  5.88730707, 13.39111926, 12.91096904,\n",
       "        9.60232247, 10.28502868,  8.47290087,  5.22850527,  7.87154856,\n",
       "       12.27910447,  4.75604477,  7.85554462,  8.46504051,  9.77722322,\n",
       "       13.38182392,  7.97662307,  7.98234587, 11.66317449,  8.97444266,\n",
       "        6.82923957,  8.97653096,  6.03993512,  6.37479716,  9.40939458,\n",
       "        8.66066832, 13.33460847,  8.12787101, 10.18430527, 10.67133951,\n",
       "        4.83580133, 10.96608138,  6.39033844, 13.77026333,  6.11350218,\n",
       "        8.62012928,  5.51679065, 14.10770746,  9.44546545, 10.32376057,\n",
       "        5.34456989, 11.78059989,  6.69070259, 13.17635126,  6.64578454,\n",
       "        6.50957841,  5.05686148,  9.16151512, 10.03589124,  5.33167832,\n",
       "       12.02156457,  8.9845356 ,  9.65465083,  8.86648   ,  8.48949184,\n",
       "        9.98687484,  6.17549383,  6.42702122, 12.83452711, 13.62931714,\n",
       "        8.2307464 ,  7.26409741, 10.78194168,  8.56461779,  4.95164975,\n",
       "        6.18409254, 11.46026826, 10.92260083,  4.96776269,  6.80442732,\n",
       "        6.89021763, 11.0448289 ,  4.89815642,  5.69358925, 12.25142047,\n",
       "        6.39513278, 10.86437611,  6.95720881,  5.64960203,  7.00423289,\n",
       "       11.51959444, 12.77713819, 12.53702686,  8.45575556, 11.00894305,\n",
       "        6.64432045,  7.47524125, 13.16015505,  4.83492922,  5.5182879 ,\n",
       "        6.67167078,  4.96244911,  6.42237767, 10.20742623,  8.6842218 ,\n",
       "       13.12562165, 12.41661305,  7.93394162,  7.15739724,  8.29090562,\n",
       "       10.27578774,  7.23882927, 10.59485385,  8.5710029 ,  9.91531108,\n",
       "        8.82278468,  7.48766338, 13.6513508 , 11.90920404,  6.03292455,\n",
       "       12.89750682,  9.3063198 , 13.14334509, 12.25084717,  8.71993185,\n",
       "        4.92415722,  7.24461344,  9.81717119, 10.68278055,  7.14292315,\n",
       "        6.02578904, 12.58142107, 13.99016096,  9.66690222,  6.33042813,\n",
       "        7.27882507,  4.88571702, 13.32945222,  5.82216679, 10.14592875,\n",
       "        7.29529858,  9.9353936 , 10.8518815 , 12.53252125,  6.65786363,\n",
       "        4.81602222,  6.00250565, 13.19486484, 12.94860892, 10.34287482,\n",
       "       10.37212705, 10.98021197,  6.36522434, 13.33051854,  8.65920819,\n",
       "        8.32338454,  9.60307313,  5.15503279,  6.27957281, 11.66819194,\n",
       "        5.49274804, 10.39696369,  7.02474986,  8.3814137 ,  7.43326335,\n",
       "        8.06452536, 11.48923698,  7.51269518, 10.05062695,  9.19905832,\n",
       "       10.96734235, 13.54180126, 11.61671834,  6.73815432,  5.0062831 ,\n",
       "        7.18416937, 10.32086635,  5.19706585,  9.39053065, 10.33750031,\n",
       "        7.86256344, 11.97806533,  5.71705385,  5.42054589, 11.57540632,\n",
       "        9.38228462, 11.20042871,  8.8105401 ,  7.03467343, 12.43224645,\n",
       "       12.24670614, 11.25974897,  7.27729647, 10.27518196,  8.11448781,\n",
       "        5.57552969, 13.35786575,  6.0018742 , 13.66816505,  8.91589436])"
      ]
     },
     "execution_count": 71,
     "metadata": {},
     "output_type": "execute_result"
    }
   ],
   "source": [
    "t"
   ]
  },
  {
   "cell_type": "code",
   "execution_count": null,
   "metadata": {},
   "outputs": [],
   "source": []
  }
 ],
 "metadata": {
  "kernelspec": {
   "display_name": "Python 3 (ipykernel)",
   "language": "python",
   "name": "python3"
  },
  "language_info": {
   "codemirror_mode": {
    "name": "ipython",
    "version": 3
   },
   "file_extension": ".py",
   "mimetype": "text/x-python",
   "name": "python",
   "nbconvert_exporter": "python",
   "pygments_lexer": "ipython3",
   "version": "3.9.13"
  }
 },
 "nbformat": 4,
 "nbformat_minor": 2
}
