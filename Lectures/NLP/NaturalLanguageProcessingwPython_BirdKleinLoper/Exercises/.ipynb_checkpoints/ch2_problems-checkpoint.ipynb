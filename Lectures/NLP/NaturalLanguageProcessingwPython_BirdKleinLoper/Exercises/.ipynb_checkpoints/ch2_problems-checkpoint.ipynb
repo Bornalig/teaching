{
 "cells": [
  {
   "cell_type": "markdown",
   "id": "33fae8d7",
   "metadata": {},
   "source": [
    "# Exercises ch 2\n",
    "\n",
    "# problem 2"
   ]
  },
  {
   "cell_type": "code",
   "execution_count": 17,
   "id": "b9b40853",
   "metadata": {},
   "outputs": [
    {
     "name": "stdout",
     "output_type": "stream",
     "text": [
      "['indicate', 'revived', 'imagining', 'properest', 'fine', 'arm-in-arm', 'help', 'dab', 'ranked', 'puncture']\n",
      "5943\n"
     ]
    }
   ],
   "source": [
    "import nltk\n",
    "pursuasion = nltk.corpus.gutenberg.raw('austen-persuasion.txt')\n",
    "words = nltk.word_tokenize(pursuasion)\n",
    "corpus_tokens = set([word.lower() for word in words])\n",
    "print(list(corpus_tokens)[:10])\n",
    "print(len(corpus_tokens))"
   ]
  },
  {
   "cell_type": "markdown",
   "id": "b1d6e82b",
   "metadata": {},
   "source": [
    "# problem 3"
   ]
  },
  {
   "cell_type": "code",
   "execution_count": 25,
   "id": "6c623751",
   "metadata": {},
   "outputs": [
    {
     "name": "stdout",
     "output_type": "stream",
     "text": [
      "adventure\n",
      "['Dan', 'Morgan', 'told', 'himself', 'he', 'would', ...]\n",
      "\n",
      "\n",
      "belles_lettres\n",
      "['Northern', 'liberals', 'are', 'the', 'chief', ...]\n",
      "\n",
      "\n"
     ]
    }
   ],
   "source": [
    "brown_categories = nltk.corpus.brown.categories()\n",
    "for category in brown_categories[:2]:\n",
    "    print(category)\n",
    "    print(nltk.corpus.brown.words(categories=category))\n",
    "    print('\\n')"
   ]
  },
  {
   "cell_type": "code",
   "execution_count": 19,
   "id": "314ac972",
   "metadata": {},
   "outputs": [
    {
     "data": {
      "text/plain": [
       "['The', 'Fulton', 'County', 'Grand', 'Jury', 'said', ...]"
      ]
     },
     "execution_count": 19,
     "metadata": {},
     "output_type": "execute_result"
    }
   ],
   "source": [
    "brown"
   ]
  },
  {
   "cell_type": "code",
   "execution_count": null,
   "id": "5927be7d",
   "metadata": {},
   "outputs": [],
   "source": []
  }
 ],
 "metadata": {
  "kernelspec": {
   "display_name": "Python 3 (ipykernel)",
   "language": "python",
   "name": "python3"
  },
  "language_info": {
   "codemirror_mode": {
    "name": "ipython",
    "version": 3
   },
   "file_extension": ".py",
   "mimetype": "text/x-python",
   "name": "python",
   "nbconvert_exporter": "python",
   "pygments_lexer": "ipython3",
   "version": "3.9.13"
  }
 },
 "nbformat": 4,
 "nbformat_minor": 5
}
