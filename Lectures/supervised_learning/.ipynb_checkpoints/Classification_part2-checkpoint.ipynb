{
 "cells": [
  {
   "cell_type": "markdown",
   "id": "b0965cc5",
   "metadata": {},
   "source": [
    "# Classification Part 2: Metrics\n",
    "\n",
    "* Github Repo: https://github.com/JoeGanser/teaching/blob/main/Lectures/supervised_learning/Classification_part2.ipynb"
   ]
  },
  {
   "cell_type": "markdown",
   "id": "8c6edfef",
   "metadata": {},
   "source": [
    "### Example 1: Confusion Matrics & Classification Report\n",
    "\n",
    "Working with confusion matrices, classification_report, loss functions and cross entropy\n",
    "\n",
    "Suppose our observations are;\n",
    "\n",
    "`predicted_probabilies = np.array([[0.25,0.75],[0.05,0.95],[0.25,0.75],[0.15,0.85]])`\n",
    "\n",
    "`predictions = np.array([0,0,0,0])`\n",
    "\n",
    "`observations = np.array([1,0,0,0])`\n",
    "\n",
    "* Put these into a confusion matrix and classification report\n",
    "* Put these into the log loss function"
   ]
  },
  {
   "cell_type": "code",
   "execution_count": 2,
   "id": "c9153193",
   "metadata": {},
   "outputs": [
    {
     "name": "stdout",
     "output_type": "stream",
     "text": [
      "[[3 1]\n",
      " [0 0]]\n",
      "              precision    recall  f1-score   support\n",
      "\n",
      "           0       1.00      0.75      0.86         4\n",
      "           1       0.00      0.00      0.00         0\n",
      "\n",
      "    accuracy                           0.75         4\n",
      "   macro avg       0.50      0.38      0.43         4\n",
      "weighted avg       1.00      0.75      0.86         4\n",
      "\n",
      "3 1 0 0\n"
     ]
    },
    {
     "name": "stderr",
     "output_type": "stream",
     "text": [
      "/opt/anaconda3/lib/python3.9/site-packages/sklearn/metrics/_classification.py:1248: UndefinedMetricWarning: Recall and F-score are ill-defined and being set to 0.0 in labels with no true samples. Use `zero_division` parameter to control this behavior.\n",
      "  _warn_prf(average, modifier, msg_start, len(result))\n",
      "/opt/anaconda3/lib/python3.9/site-packages/sklearn/metrics/_classification.py:1248: UndefinedMetricWarning: Recall and F-score are ill-defined and being set to 0.0 in labels with no true samples. Use `zero_division` parameter to control this behavior.\n",
      "  _warn_prf(average, modifier, msg_start, len(result))\n",
      "/opt/anaconda3/lib/python3.9/site-packages/sklearn/metrics/_classification.py:1248: UndefinedMetricWarning: Recall and F-score are ill-defined and being set to 0.0 in labels with no true samples. Use `zero_division` parameter to control this behavior.\n",
      "  _warn_prf(average, modifier, msg_start, len(result))\n"
     ]
    }
   ],
   "source": [
    "import numpy as np\n",
    "predicted_probabilies = np.array([[0.25,0.75],[0.05,0.95],[0.25,0.75],[0.15,0.85]])\n",
    "predictions = np.array([0,0,0,0])\n",
    "observations = np.array([1,0,0,0])\n",
    "\n",
    "from sklearn.metrics import confusion_matrix,classification_report\n",
    "\n",
    "print(confusion_matrix(predictions,observations))\n",
    "print(classification_report(predictions,observations))\n",
    "tn, fp, fn, tp = confusion_matrix(predictions,observations).ravel()\n",
    "print(tn,fp,fn,tp)"
   ]
  },
  {
   "cell_type": "markdown",
   "id": "b24db031",
   "metadata": {},
   "source": [
    "#### Print the confusion matrix"
   ]
  },
  {
   "cell_type": "code",
   "execution_count": 25,
   "id": "41bdc86e",
   "metadata": {},
   "outputs": [
    {
     "name": "stdout",
     "output_type": "stream",
     "text": [
      "[[3 1]\n",
      " [0 0]]\n"
     ]
    }
   ],
   "source": [
    "from sklearn.metrics import confusion_matrix\n",
    "print(confusion_matrix(predictions,observations))"
   ]
  },
  {
   "cell_type": "markdown",
   "id": "beb574eb",
   "metadata": {},
   "source": [
    "**Use the confusion matrix to print the count of the true negatives, false positives, false negatives and true positives** "
   ]
  },
  {
   "cell_type": "code",
   "execution_count": 27,
   "id": "86e85d37",
   "metadata": {},
   "outputs": [
    {
     "name": "stdout",
     "output_type": "stream",
     "text": [
      "3 1 0 0\n"
     ]
    }
   ],
   "source": [
    "tn, fp, fn, tp = confusion_matrix(predictions,observations).ravel()\n",
    "print(tn,fp,fn,tp)"
   ]
  },
  {
   "cell_type": "markdown",
   "id": "e2da72c9",
   "metadata": {},
   "source": [
    "**Print the classification report**"
   ]
  },
  {
   "cell_type": "code",
   "execution_count": 28,
   "id": "ab219adc",
   "metadata": {},
   "outputs": [
    {
     "name": "stdout",
     "output_type": "stream",
     "text": [
      "              precision    recall  f1-score   support\n",
      "\n",
      "           0       1.00      0.75      0.86         4\n",
      "           1       0.00      0.00      0.00         0\n",
      "\n",
      "    accuracy                           0.75         4\n",
      "   macro avg       0.50      0.38      0.43         4\n",
      "weighted avg       1.00      0.75      0.86         4\n",
      "\n"
     ]
    }
   ],
   "source": [
    "from sklearn.metrics import classification_report\n",
    "print(classification_report(predictions,observations))"
   ]
  },
  {
   "cell_type": "markdown",
   "id": "25bfe4d9",
   "metadata": {},
   "source": [
    "**Print the log loss**"
   ]
  },
  {
   "cell_type": "code",
   "execution_count": 35,
   "id": "c783139e",
   "metadata": {},
   "outputs": [
    {
     "data": {
      "text/plain": [
       "1.6417071730028858"
      ]
     },
     "execution_count": 35,
     "metadata": {},
     "output_type": "execute_result"
    }
   ],
   "source": [
    "from sklearn.metrics import log_loss\n",
    "log_loss(observations,predicted_probabilies)"
   ]
  },
  {
   "cell_type": "markdown",
   "id": "1f67ff46",
   "metadata": {},
   "source": [
    "### Example 2: Grid Search with imbalanced classes\n",
    "\n",
    "**Using grid search CV to fit logistic regression for imbalanced classes**\n",
    "\n",
    "* Print the first 5 rows of the data set\n",
    "* Print the percentage break down of each class in the dataset\n",
    "    * Do the grid search on a `train` set\n",
    "    * Evaluate best model on a `test` set\n",
    "* Grid search through a range of hyper parameters to find the best ones that maximize the `F1_score` metric\n",
    "    * `parameters=[0.0001,0.001,0.01,0.1,1,10,100]`\n",
    "* Print the `best_score_` and `best_params_` attribute of `GridSearchCV`\n",
    "\n",
    "* Dataset link: https://raw.githubusercontent.com/JoeGanser/Datasets-1/master/pima-indians-diabetes.csv\n",
    "* columns = `['times pregnant','glucose_concentration','blood-pressure','skinfold-thickness','serum-insulin','BMI','diabetes-function','age','class']`"
   ]
  },
  {
   "cell_type": "code",
   "execution_count": 3,
   "id": "71ec0648",
   "metadata": {},
   "outputs": [
    {
     "name": "stdout",
     "output_type": "stream",
     "text": [
      "(768, 9)\n"
     ]
    },
    {
     "data": {
      "text/html": [
       "<div>\n",
       "<style scoped>\n",
       "    .dataframe tbody tr th:only-of-type {\n",
       "        vertical-align: middle;\n",
       "    }\n",
       "\n",
       "    .dataframe tbody tr th {\n",
       "        vertical-align: top;\n",
       "    }\n",
       "\n",
       "    .dataframe thead th {\n",
       "        text-align: right;\n",
       "    }\n",
       "</style>\n",
       "<table border=\"1\" class=\"dataframe\">\n",
       "  <thead>\n",
       "    <tr style=\"text-align: right;\">\n",
       "      <th></th>\n",
       "      <th>times pregnant</th>\n",
       "      <th>glucose_concentration</th>\n",
       "      <th>blood-pressure</th>\n",
       "      <th>skinfold-thickness</th>\n",
       "      <th>serum-insulin</th>\n",
       "      <th>BMI</th>\n",
       "      <th>diabetes-function</th>\n",
       "      <th>age</th>\n",
       "      <th>class</th>\n",
       "    </tr>\n",
       "  </thead>\n",
       "  <tbody>\n",
       "    <tr>\n",
       "      <th>0</th>\n",
       "      <td>6</td>\n",
       "      <td>148</td>\n",
       "      <td>72</td>\n",
       "      <td>35</td>\n",
       "      <td>0</td>\n",
       "      <td>33.6</td>\n",
       "      <td>0.627</td>\n",
       "      <td>50</td>\n",
       "      <td>1</td>\n",
       "    </tr>\n",
       "    <tr>\n",
       "      <th>1</th>\n",
       "      <td>1</td>\n",
       "      <td>85</td>\n",
       "      <td>66</td>\n",
       "      <td>29</td>\n",
       "      <td>0</td>\n",
       "      <td>26.6</td>\n",
       "      <td>0.351</td>\n",
       "      <td>31</td>\n",
       "      <td>0</td>\n",
       "    </tr>\n",
       "    <tr>\n",
       "      <th>2</th>\n",
       "      <td>8</td>\n",
       "      <td>183</td>\n",
       "      <td>64</td>\n",
       "      <td>0</td>\n",
       "      <td>0</td>\n",
       "      <td>23.3</td>\n",
       "      <td>0.672</td>\n",
       "      <td>32</td>\n",
       "      <td>1</td>\n",
       "    </tr>\n",
       "    <tr>\n",
       "      <th>3</th>\n",
       "      <td>1</td>\n",
       "      <td>89</td>\n",
       "      <td>66</td>\n",
       "      <td>23</td>\n",
       "      <td>94</td>\n",
       "      <td>28.1</td>\n",
       "      <td>0.167</td>\n",
       "      <td>21</td>\n",
       "      <td>0</td>\n",
       "    </tr>\n",
       "    <tr>\n",
       "      <th>4</th>\n",
       "      <td>0</td>\n",
       "      <td>137</td>\n",
       "      <td>40</td>\n",
       "      <td>35</td>\n",
       "      <td>168</td>\n",
       "      <td>43.1</td>\n",
       "      <td>2.288</td>\n",
       "      <td>33</td>\n",
       "      <td>1</td>\n",
       "    </tr>\n",
       "  </tbody>\n",
       "</table>\n",
       "</div>"
      ],
      "text/plain": [
       "   times pregnant  glucose_concentration  blood-pressure  skinfold-thickness  \\\n",
       "0               6                    148              72                  35   \n",
       "1               1                     85              66                  29   \n",
       "2               8                    183              64                   0   \n",
       "3               1                     89              66                  23   \n",
       "4               0                    137              40                  35   \n",
       "\n",
       "   serum-insulin   BMI  diabetes-function  age  class  \n",
       "0              0  33.6              0.627   50      1  \n",
       "1              0  26.6              0.351   31      0  \n",
       "2              0  23.3              0.672   32      1  \n",
       "3             94  28.1              0.167   21      0  \n",
       "4            168  43.1              2.288   33      1  "
      ]
     },
     "execution_count": 3,
     "metadata": {},
     "output_type": "execute_result"
    }
   ],
   "source": [
    "import pandas as pd\n",
    "import warnings\n",
    "warnings.filterwarnings('ignore')\n",
    "columns = ['times pregnant','glucose_concentration','blood-pressure','skinfold-thickness',\n",
    "           'serum-insulin','BMI','diabetes-function','age','class']\n",
    "data1 = pd.read_csv('https://raw.githubusercontent.com/JoeGanser/Datasets-1/master/pima-indians-diabetes.csv',names=columns)\n",
    "X = data1.drop('class',axis=1)\n",
    "y = data1['class']\n",
    "print(data1.shape)\n",
    "data1.head()"
   ]
  },
  {
   "cell_type": "code",
   "execution_count": 4,
   "id": "186f5538",
   "metadata": {},
   "outputs": [
    {
     "data": {
      "text/plain": [
       "0    65.104167\n",
       "1    34.895833\n",
       "Name: class, dtype: float64"
      ]
     },
     "execution_count": 4,
     "metadata": {},
     "output_type": "execute_result"
    }
   ],
   "source": [
    "100*data1['class'].value_counts()/len(data1)"
   ]
  },
  {
   "cell_type": "code",
   "execution_count": 5,
   "id": "cb31fb36",
   "metadata": {},
   "outputs": [
    {
     "name": "stdout",
     "output_type": "stream",
     "text": [
      "0.6383289882125565\n",
      "{'C': 10}\n"
     ]
    }
   ],
   "source": [
    "from sklearn.linear_model import LogisticRegression\n",
    "from sklearn.metrics import make_scorer,f1_score\n",
    "from sklearn.model_selection import GridSearchCV\n",
    "logreg = LogisticRegression()\n",
    "\n",
    "parameters=[0.0001,0.001,0.01,0.1,1,10,100]\n",
    "parameters = {'C':parameters}\n",
    "f1 = make_scorer(f1_score, greater_is_better=True)\n",
    "gs = GridSearchCV(logreg, parameters,scoring=f1)\n",
    "gs.fit(X, y)\n",
    "print(gs.best_score_)\n",
    "print(gs.best_params_)"
   ]
  },
  {
   "cell_type": "markdown",
   "id": "34171be8",
   "metadata": {},
   "source": [
    "### Example 3: Making a classification model report\n",
    "\n",
    "Using the model from example 2, split the data set from example 2 into a train and test set. Using the best parameters from the `GridSearchCV`, generate the following metrics (for both the train set and test set!)\n",
    "* Classification report\n",
    "* f1 score\n",
    "* accuracy score\n",
    "* confusion matrix graph\n",
    "* roc-auc curve\n",
    "* auc metric"
   ]
  },
  {
   "cell_type": "code",
   "execution_count": 6,
   "id": "da824107",
   "metadata": {},
   "outputs": [],
   "source": [
    "import matplotlib.pyplot as plt\n",
    "from sklearn.model_selection import train_test_split\n",
    "from sklearn.metrics import confusion_matrix,classification_report,accuracy_score,f1_score,roc_curve,auc\n",
    "X = data1.drop('class',axis=1)\n",
    "y = data1['class']\n",
    "X_train,X_test,y_train,y_test = train_test_split(X,y,test_size=0.3)\n",
    "\n",
    "logreg = LogisticRegression(C=10)\n",
    "logreg.fit(X_train,y_train)\n",
    "\n",
    "y_pred_test = logreg.predict(X_test)\n",
    "y_pred_prob_test = logreg.predict_proba(X_test)\n",
    "\n",
    "y_pred_train = logreg.predict(X_train)\n",
    "y_pred_prob_train = logreg.predict_proba(X_train)"
   ]
  },
  {
   "cell_type": "markdown",
   "id": "9ed25271",
   "metadata": {},
   "source": [
    "**Classification Reports**"
   ]
  },
  {
   "cell_type": "code",
   "execution_count": 7,
   "id": "160596a7",
   "metadata": {},
   "outputs": [
    {
     "name": "stdout",
     "output_type": "stream",
     "text": [
      "Classification report train set \n",
      " \n",
      "              precision    recall  f1-score   support\n",
      "\n",
      "           0       0.88      0.81      0.84       378\n",
      "           1       0.62      0.74      0.67       159\n",
      "\n",
      "    accuracy                           0.79       537\n",
      "   macro avg       0.75      0.77      0.76       537\n",
      "weighted avg       0.80      0.79      0.79       537\n",
      "\n",
      "Classification report test set \n",
      " \n",
      "              precision    recall  f1-score   support\n",
      "\n",
      "           0       0.86      0.80      0.83       164\n",
      "           1       0.58      0.67      0.62        67\n",
      "\n",
      "    accuracy                           0.76       231\n",
      "   macro avg       0.72      0.74      0.72       231\n",
      "weighted avg       0.78      0.76      0.77       231\n",
      "\n"
     ]
    }
   ],
   "source": [
    "print('Classification report train set \\n ')\n",
    "print(classification_report(y_pred_train,y_train))\n",
    "\n",
    "print('Classification report test set \\n ')\n",
    "print(classification_report(y_pred_test,y_test))"
   ]
  },
  {
   "cell_type": "markdown",
   "id": "3527ada7",
   "metadata": {},
   "source": [
    "**Accuracy Score**"
   ]
  },
  {
   "cell_type": "code",
   "execution_count": 8,
   "id": "b8c75d3b",
   "metadata": {},
   "outputs": [
    {
     "name": "stdout",
     "output_type": "stream",
     "text": [
      "Accuracy score train set \n",
      " \n",
      "0.7858472998137802\n",
      "Accuracy Score test set \n",
      " \n",
      "0.7619047619047619\n"
     ]
    }
   ],
   "source": [
    "print('Accuracy score train set \\n ')\n",
    "print(accuracy_score(y_pred_train,y_train))\n",
    "\n",
    "print('Accuracy Score test set \\n ')\n",
    "print(accuracy_score(y_pred_test,y_test))"
   ]
  },
  {
   "cell_type": "markdown",
   "id": "11e601e8",
   "metadata": {},
   "source": [
    "## Example 4: ROC-AUC plots\n",
    "**ROC-AUC plot for train and test sets**"
   ]
  },
  {
   "cell_type": "code",
   "execution_count": 9,
   "id": "5bfbb710",
   "metadata": {},
   "outputs": [
    {
     "data": {
      "image/png": "[encoded data removed]",
      "text/plain": [
       "<Figure size 360x360 with 1 Axes>"
      ]
     },
     "metadata": {
      "needs_background": "light"
     },
     "output_type": "display_data"
    }
   ],
   "source": [
    "y_pred_prob_test = y_pred_prob_test[:,1]\n",
    "false_positive_rate_test, true_positive_rate_test, thresholds = roc_curve(y_test, y_pred_prob_test)\n",
    "roc_auc_test = auc(false_positive_rate_test, true_positive_rate_test)\n",
    "plt.figure(figsize=(5,5))\n",
    "plt.title('Receiver Operating Characteristic Test Set')\n",
    "plt.plot(false_positive_rate_test,true_positive_rate_test, color='red',label = 'AUC = %0.2f' % roc_auc_test)\n",
    "plt.legend(loc = 'lower right')\n",
    "plt.plot([0, 1], [0, 1],linestyle='--')\n",
    "plt.axis('tight')\n",
    "plt.ylabel('True Positive Rate')\n",
    "plt.xlabel('False Positive Rate')\n",
    "plt.show()"
   ]
  },
  {
   "cell_type": "markdown",
   "id": "49c28d2b",
   "metadata": {},
   "source": [
    "**ROC-AUC curve for train set, with AUC metric**"
   ]
  },
  {
   "cell_type": "code",
   "execution_count": 10,
   "id": "d81af419",
   "metadata": {},
   "outputs": [
    {
     "data": {
      "image/png": "[encoded data removed]",
      "text/plain": [
       "<Figure size 360x360 with 1 Axes>"
      ]
     },
     "metadata": {
      "needs_background": "light"
     },
     "output_type": "display_data"
    }
   ],
   "source": [
    "y_pred_prob_train = y_pred_prob_train[:,1]\n",
    "false_positive_rate_train, true_positive_rate_train, thresholds = roc_curve(y_train, y_pred_prob_train)\n",
    "roc_auc_train = auc(false_positive_rate_train, true_positive_rate_train)\n",
    "plt.figure(figsize=(5,5))\n",
    "plt.title('Receiver Operating Characteristic Train Set')\n",
    "plt.plot(false_positive_rate_train,true_positive_rate_train, color='red',label = 'AUC = %0.2f' % roc_auc_train)\n",
    "plt.legend(loc = 'lower right')\n",
    "plt.plot([0, 1], [0, 1],linestyle='--')\n",
    "plt.axis('tight')\n",
    "plt.ylabel('True Positive Rate')\n",
    "plt.xlabel('False Positive Rate')\n",
    "plt.show()"
   ]
  },
  {
   "cell_type": "markdown",
   "id": "cbf0c29e",
   "metadata": {},
   "source": [
    "### Example 5: Confusion Matrix Graphic for test set"
   ]
  },
  {
   "cell_type": "code",
   "execution_count": 11,
   "id": "a73fc194",
   "metadata": {},
   "outputs": [
    {
     "data": {
      "image/png": "[encoded data removed]",
      "text/plain": [
       "<Figure size 432x288 with 2 Axes>"
      ]
     },
     "metadata": {
      "needs_background": "light"
     },
     "output_type": "display_data"
    }
   ],
   "source": [
    "import matplotlib.pyplot as plt\n",
    "from sklearn.metrics import plot_confusion_matrix\n",
    "plot_confusion_matrix(logreg, X_test, y_test,normalize=None)\n",
    "plt.title('Confusion matrix for test set \\n (without normalization)')\n",
    "plt.show()"
   ]
  },
  {
   "cell_type": "markdown",
   "id": "273c8864",
   "metadata": {},
   "source": [
    "**Same Plot, normalized**"
   ]
  },
  {
   "cell_type": "code",
   "execution_count": 12,
   "id": "60defc15",
   "metadata": {},
   "outputs": [
    {
     "data": {
      "image/png": "[encoded data removed]",
      "text/plain": [
       "<Figure size 432x288 with 2 Axes>"
      ]
     },
     "metadata": {
      "needs_background": "light"
     },
     "output_type": "display_data"
    }
   ],
   "source": [
    "plot_confusion_matrix(logreg, X_train, y_train,normalize='true')  \n",
    "plt.title('Confusion matrix for train set \\n (normalized)')\n",
    "plt.show()"
   ]
  },
  {
   "cell_type": "code",
   "execution_count": 15,
   "id": "0924451f",
   "metadata": {},
   "outputs": [
    {
     "data": {
      "image/png": "[encoded data removed]",
      "text/plain": [
       "<Figure size 360x360 with 1 Axes>"
      ]
     },
     "metadata": {
      "needs_background": "light"
     },
     "output_type": "display_data"
    },
    {
     "data": {
      "image/png": "[encoded data removed]",
      "text/plain": [
       "<Figure size 432x288 with 2 Axes>"
      ]
     },
     "metadata": {
      "needs_background": "light"
     },
     "output_type": "display_data"
    }
   ],
   "source": [
    "plt.figure(figsize=(5,5))\n",
    "plt.title('Receiver Operating Characteristic Train Set')\n",
    "plt.plot(false_positive_rate_train,true_positive_rate_train, color='red',label = 'AUC = %0.2f' % roc_auc_train)\n",
    "plt.legend(loc = 'lower right')\n",
    "plt.plot([0, 1], [0, 1],linestyle='--')\n",
    "plt.axis('tight')\n",
    "plt.ylabel('True Positive Rate')\n",
    "plt.xlabel('False Positive Rate')\n",
    "plot_confusion_matrix(logreg, X_train, y_train,normalize='true')  \n",
    "plt.title('Confusion matrix for train set \\n (normalized)')\n",
    "plt.show()"
   ]
  },
  {
   "cell_type": "markdown",
   "id": "dc81c743",
   "metadata": {},
   "source": [
    "* https://stackoverflow.com/questions/49473587/why-is-my-implementations-of-the-log-loss-or-cross-entropy-not-producing-the-s\n",
    "* https://machinelearningmastery.com/cross-entropy-for-machine-learning/\n",
    "* https://machinelearningmastery.com/roc-curves-and-precision-recall-curves-for-classification-in-python/\n",
    "* https://machinelearningmastery.com/standard-machine-learning-datasets-for-imbalanced-classification/\n",
    "* https://raw.githubusercontent.com/jbrownlee/Datasets/master/pima-indians-diabetes.names"
   ]
  },
  {
   "cell_type": "code",
   "execution_count": null,
   "id": "9ed7799d",
   "metadata": {},
   "outputs": [],
   "source": []
  }
 ],
 "metadata": {
  "kernelspec": {
   "display_name": "Python 3 (ipykernel)",
   "language": "python",
   "name": "python3"
  },
  "language_info": {
   "codemirror_mode": {
    "name": "ipython",
    "version": 3
   },
   "file_extension": ".py",
   "mimetype": "text/x-python",
   "name": "python",
   "nbconvert_exporter": "python",
   "pygments_lexer": "ipython3",
   "version": "3.9.13"
  }
 },
 "nbformat": 4,
 "nbformat_minor": 5
}
