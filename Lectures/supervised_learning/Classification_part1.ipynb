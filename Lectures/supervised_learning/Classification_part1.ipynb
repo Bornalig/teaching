{
 "cells": [
  {
   "cell_type": "markdown",
   "id": "fdcc760c",
   "metadata": {},
   "source": [
    "# Classification Part 1\n",
    "by Joe Ganser\n",
    "\n",
    "* Github repo: https://github.com/JoeGanser/teaching/blob/main/Lectures/supervised_learning/Classification%20part%201.ipynb\n",
    "\n",
    "\n",
    "# Example 1: Loading our data, and examining what it looks like\n",
    "* This is the famous \"iris\" data set from the UCI Machine learning repository.\n",
    "* It describes a the flower petal width and lengths for three different flower species.\n",
    "* Load the data and examine the first 5 columns\n",
    "    * columns names are; `columns = ['sepal_length','sepal_width','petal_length','petal_width']`"
   ]
  },
  {
   "cell_type": "code",
   "execution_count": 6,
   "id": "2e4324d5",
   "metadata": {},
   "outputs": [],
   "source": [
    "import warnings\n",
    "warnings.filterwarnings('ignore')"
   ]
  },
  {
   "cell_type": "code",
   "execution_count": 7,
   "id": "4c96dc95",
   "metadata": {},
   "outputs": [
    {
     "data": {
      "text/html": [
       "<div>\n",
       "<style scoped>\n",
       "    .dataframe tbody tr th:only-of-type {\n",
       "        vertical-align: middle;\n",
       "    }\n",
       "\n",
       "    .dataframe tbody tr th {\n",
       "        vertical-align: top;\n",
       "    }\n",
       "\n",
       "    .dataframe thead th {\n",
       "        text-align: right;\n",
       "    }\n",
       "</style>\n",
       "<table border=\"1\" class=\"dataframe\">\n",
       "  <thead>\n",
       "    <tr style=\"text-align: right;\">\n",
       "      <th></th>\n",
       "      <th>sepal_length</th>\n",
       "      <th>sepal_width</th>\n",
       "      <th>petal_length</th>\n",
       "      <th>petal_width</th>\n",
       "      <th>target</th>\n",
       "    </tr>\n",
       "  </thead>\n",
       "  <tbody>\n",
       "    <tr>\n",
       "      <th>0</th>\n",
       "      <td>5.1</td>\n",
       "      <td>3.5</td>\n",
       "      <td>1.4</td>\n",
       "      <td>0.2</td>\n",
       "      <td>0</td>\n",
       "    </tr>\n",
       "    <tr>\n",
       "      <th>1</th>\n",
       "      <td>4.9</td>\n",
       "      <td>3.0</td>\n",
       "      <td>1.4</td>\n",
       "      <td>0.2</td>\n",
       "      <td>0</td>\n",
       "    </tr>\n",
       "    <tr>\n",
       "      <th>2</th>\n",
       "      <td>4.7</td>\n",
       "      <td>3.2</td>\n",
       "      <td>1.3</td>\n",
       "      <td>0.2</td>\n",
       "      <td>0</td>\n",
       "    </tr>\n",
       "    <tr>\n",
       "      <th>3</th>\n",
       "      <td>4.6</td>\n",
       "      <td>3.1</td>\n",
       "      <td>1.5</td>\n",
       "      <td>0.2</td>\n",
       "      <td>0</td>\n",
       "    </tr>\n",
       "    <tr>\n",
       "      <th>4</th>\n",
       "      <td>5.0</td>\n",
       "      <td>3.6</td>\n",
       "      <td>1.4</td>\n",
       "      <td>0.2</td>\n",
       "      <td>0</td>\n",
       "    </tr>\n",
       "  </tbody>\n",
       "</table>\n",
       "</div>"
      ],
      "text/plain": [
       "   sepal_length  sepal_width  petal_length  petal_width  target\n",
       "0           5.1          3.5           1.4          0.2       0\n",
       "1           4.9          3.0           1.4          0.2       0\n",
       "2           4.7          3.2           1.3          0.2       0\n",
       "3           4.6          3.1           1.5          0.2       0\n",
       "4           5.0          3.6           1.4          0.2       0"
      ]
     },
     "execution_count": 7,
     "metadata": {},
     "output_type": "execute_result"
    }
   ],
   "source": [
    "from sklearn import datasets\n",
    "import pandas as pd\n",
    "iris = datasets.load_iris()\n",
    "columns = ['sepal_length','sepal_width','petal_length','petal_width']\n",
    "X = pd.DataFrame(iris[\"data\"],columns=columns)\n",
    "y = pd.DataFrame(iris[\"target\"],columns=['target'])\n",
    "data = pd.concat([X,y],axis=1)\n",
    "data.head()"
   ]
  },
  {
   "cell_type": "markdown",
   "id": "e606f82e",
   "metadata": {},
   "source": [
    "# Example 2: Let's get a value count of each class, to see their distribution\n",
    "\n",
    "* Are these classes balanced?\n",
    "* How many values are there for each class?"
   ]
  },
  {
   "cell_type": "code",
   "execution_count": 4,
   "id": "8bfda550",
   "metadata": {},
   "outputs": [
    {
     "data": {
      "text/plain": [
       "0    50\n",
       "1    50\n",
       "2    50\n",
       "Name: target, dtype: int64"
      ]
     },
     "execution_count": 4,
     "metadata": {},
     "output_type": "execute_result"
    }
   ],
   "source": [
    "data['target'].value_counts()"
   ]
  },
  {
   "cell_type": "markdown",
   "id": "dd787706",
   "metadata": {},
   "source": [
    "# Example 3: Lets fit a simple logistic regression model to the data, and see the over all accuracy score\n",
    "\n",
    "* Load the data\n",
    "    * Dont worry about train/test/split\n",
    "* Instantiate the `LogisticRegression` class\n",
    "* Fit the `X,y` data to it.\n",
    "* Use the fitted model to make predictions\n",
    "* Using the predictions, find the `accuracy_score`\n",
    "\n",
    "### Does the score mean anything if we havent split the data?"
   ]
  },
  {
   "cell_type": "code",
   "execution_count": 8,
   "id": "d8049feb",
   "metadata": {},
   "outputs": [
    {
     "name": "stdout",
     "output_type": "stream",
     "text": [
      "0.9733333333333334\n"
     ]
    }
   ],
   "source": [
    "from sklearn.linear_model import LogisticRegression\n",
    "from sklearn.metrics import accuracy_score\n",
    "import warnings\n",
    "warnings.filterwarnings('ignore')\n",
    "X = data.drop('target',axis=1)\n",
    "y = data['target']\n",
    "log_reg = LogisticRegression(multi_class=\"multinomial\",solver=\"lbfgs\")\n",
    "log_reg.fit(X,y)\n",
    "y_pred = log_reg.predict(X)\n",
    "print(accuracy_score(y,y_pred))"
   ]
  },
  {
   "cell_type": "markdown",
   "id": "dfeb104e",
   "metadata": {},
   "source": [
    "# Example 4: \"One vs Rest classification\" Lets re-do example 3, except this time focusing only on classifying everything as either class 2, or not. \n",
    "\n",
    "* This makes it a binary classification problem\n",
    "* Use only the 3rd column (`petal_length`) of the data set to make predictions.\n",
    "* Also, lets visualize the predicted probability of it being class 2 as a function of the petal/sepal length/width.\n",
    "    * Plot the predicted probability of being class 2 versus the petal length\n",
    "    * Use the `predict_proba` function on the `LogisticRegression()` function to do the calculations.\n",
    "    * The petal width bounds between 0 and the max value of that feature\n",
    "        * What does this mean?"
   ]
  },
  {
   "cell_type": "code",
   "execution_count": 9,
   "id": "d3f78773",
   "metadata": {},
   "outputs": [
    {
     "data": {
      "image/png": "[encoded data removed]",
      "text/plain": [
       "<Figure size 504x504 with 1 Axes>"
      ]
     },
     "metadata": {
      "needs_background": "light"
     },
     "output_type": "display_data"
    }
   ],
   "source": [
    "from sklearn import datasets\n",
    "import numpy as np\n",
    "import matplotlib.pyplot as plt\n",
    "from sklearn.linear_model import LogisticRegression\n",
    "iris = datasets.load_iris()\n",
    "X = np.array(data['petal_length']).reshape(-1,1)\n",
    "y = data['target'].apply(lambda x: 1 if x==2 else 0).values\n",
    "log_reg = LogisticRegression()\n",
    "log_reg.fit(X,y)\n",
    "X_new = np.linspace(0,X.max(),1000).reshape(-1,1)\n",
    "y_proba = log_reg.predict_proba(X_new)\n",
    "plt.figure(figsize=(7,7))\n",
    "plt.plot(X_new,y_proba[:,1],\"g--\",label=\"Iris-Virginica (class 2)\")\n",
    "plt.plot(X_new,y_proba[:,0],\"b--\",label=\"Not Iris-Virginica (class 1 or 3)\")\n",
    "plt.xlabel('petal length')\n",
    "plt.legend(loc='center left')\n",
    "plt.show()"
   ]
  },
  {
   "cell_type": "markdown",
   "id": "900187dc",
   "metadata": {},
   "source": [
    "# Example 5: Split a data set into train, test and validation sets\n",
    "\n",
    "* train set: 70% of data\n",
    "* test set: 15% of data\n",
    "* validation set: 15% of data\n",
    "\n",
    "\n",
    "* Use an artificially generated data set;\n",
    "\n",
    "`\n",
    "from sklearn.datasets import make_classification\n",
    "X,y = make_classification(n_samples=1000, n_features=20, n_informative=18, n_redundant=2, n_repeated=0, \n",
    "                          n_classes=3)`"
   ]
  },
  {
   "cell_type": "code",
   "execution_count": 10,
   "id": "2ab2fdbe",
   "metadata": {},
   "outputs": [],
   "source": [
    "from sklearn.datasets import make_classification\n",
    "X,y = make_classification(n_samples=1000, n_features=20, n_informative=18, n_redundant=2, n_repeated=0, \n",
    "                          n_classes=3)\n",
    "\n",
    "# perform train test val split\n",
    "from sklearn.model_selection import train_test_split\n",
    "X_train,X_test,y_train,y_test = train_test_split(X,y,test_size=0.3)\n",
    "X_test,X_val,y_test,y_val = train_test_split(X_test,y_test,test_size=0.5)"
   ]
  },
  {
   "cell_type": "markdown",
   "id": "eeb839df",
   "metadata": {},
   "source": [
    "# Example 6: Use cross validation to split our dataset into several 5 folds, and evaluate how a simple logistic regression classifier does on each fold"
   ]
  },
  {
   "cell_type": "code",
   "execution_count": 1,
   "id": "ee87b536",
   "metadata": {},
   "outputs": [
    {
     "data": {
      "text/plain": [
       "array([0.60714286, 0.70714286, 0.56428571, 0.62142857, 0.6       ])"
      ]
     },
     "execution_count": 1,
     "metadata": {},
     "output_type": "execute_result"
    }
   ],
   "source": [
    "from sklearn.datasets import make_classification\n",
    "X,y = make_classification(n_samples=1000, n_features=20, n_informative=18, n_redundant=2, n_repeated=0, \n",
    "                          n_classes=3)\n",
    "\n",
    "# perform train test val split\n",
    "from sklearn.model_selection import train_test_split\n",
    "X_train,X_test,y_train,y_test = train_test_split(X,y,test_size=0.3)\n",
    "\n",
    "from sklearn.linear_model import LogisticRegression\n",
    "from sklearn.model_selection import cross_val_score\n",
    "\n",
    "cross_val_score(LogisticRegression(),X_train,y_train,cv=5)"
   ]
  },
  {
   "cell_type": "markdown",
   "id": "98909042",
   "metadata": {},
   "source": [
    "# Example 7: Use grid search on the data set in example 6 to find the best value of c in the ranges of `[0.0001,0.001,0.01,0.1,1,10]`"
   ]
  },
  {
   "cell_type": "code",
   "execution_count": 6,
   "id": "b3660b66",
   "metadata": {},
   "outputs": [
    {
     "name": "stdout",
     "output_type": "stream",
     "text": [
      "0.6857142857142857\n",
      "{'C': 0.001}\n"
     ]
    }
   ],
   "source": [
    "from sklearn.datasets import make_classification\n",
    "X,y = make_classification(n_samples=1000, n_features=20, n_informative=18, n_redundant=2, n_repeated=0, \n",
    "                          n_classes=3)\n",
    "\n",
    "# perform train test val split\n",
    "from sklearn.model_selection import train_test_split\n",
    "X_train,X_test,y_train,y_test = train_test_split(X,y,test_size=0.3)\n",
    "\n",
    "from sklearn.linear_model import LogisticRegression\n",
    "from sklearn.model_selection import GridSearchCV\n",
    "\n",
    "parameters = {'C':[0.0001,0.001,0.01,0.1,1,10]}\n",
    "gs = GridSearchCV(LogisticRegression(),parameters,cv=5)\n",
    "gs.fit(X_train,y_train)\n",
    "print(gs.best_score_)\n",
    "print(gs.best_params_)"
   ]
  },
  {
   "cell_type": "markdown",
   "id": "5cb7f806",
   "metadata": {},
   "source": [
    "# Example 8:  Using example 5 data, run through a series of hyper parameters (values of `c`) for `LogisticRegression()` and find the value of `c` that fits the best score on the train set, test set and validation set.\n",
    "\n",
    "* `c` is the hyper parameter of `LogisticRegression()`\n",
    "* Since the set had 3 classes, let the model by `LogisticRegression(multi_class=\"multinomial\",solver=\"lbfgs\",C=c)`\n",
    "* Loop through possible values of `c`, finding the best one\n",
    "    * This means we want to minimize the score difference between the *train*, *val* and *test* sets\n",
    "    * At each value of `c`, save the scores values to the dictionary"
   ]
  },
  {
   "cell_type": "code",
   "execution_count": 12,
   "id": "99c75b11",
   "metadata": {},
   "outputs": [
    {
     "name": "stdout",
     "output_type": "stream",
     "text": [
      "Best validation score:  0.7066666666666667\n",
      "Best C value:  0.1\n"
     ]
    }
   ],
   "source": [
    "from sklearn.datasets import make_classification\n",
    "from sklearn.model_selection import train_test_split\n",
    "from sklearn.linear_model import LogisticRegression\n",
    "from sklearn.metrics import accuracy_score\n",
    "\n",
    "X,y = make_classification(n_samples=1000, n_features=20, n_informative=18, n_redundant=2, n_repeated=0, \n",
    "                          n_classes=3)\n",
    "X_train,X_test,y_train,y_test = train_test_split(X,y,test_size=0.3)\n",
    "X_test,X_val,y_test,y_val = train_test_split(X_test,y_test,test_size=0.5)\n",
    "\n",
    "\n",
    "scores = {}\n",
    "max_score = 0\n",
    "min_diff = 100\n",
    "for c in [0.0001,0.001,0.01,0.1,1,10]:\n",
    "    log_reg = LogisticRegression(multi_class=\"multinomial\",solver=\"lbfgs\",C=c)\n",
    "    log_reg.fit(X_train,y_train)\n",
    "    y_pred = log_reg.predict(X_val)\n",
    "    y_pred_train = log_reg.predict(X_train)\n",
    "    train_score = accuracy_score(y_pred_train,y_train)\n",
    "    val_score = accuracy_score(y_pred,y_val)\n",
    "    scores[c] = (val_score,train_score,np.abs(val_score-train_score))\n",
    "    if val_score>max_score:\n",
    "        max_score = val_score\n",
    "    if np.abs(val_score-train_score)<min_diff:\n",
    "        min_diff = np.abs(val_score-train_score)\n",
    "print(\"Best validation score: \",max_score)\n",
    "c_best = [j for j in scores.keys() if scores[j][0]==max_score][0]\n",
    "log_reg_best = LogisticRegression(multi_class=\"multinomial\",solver=\"lbfgs\",C=c_best)\n",
    "log_reg_best.fit(X_train,y_train)\n",
    "y_pred_test = log_reg.predict(X_test)\n",
    "print(\"Best C value: \",c_best)"
   ]
  },
  {
   "cell_type": "code",
   "execution_count": null,
   "id": "48538281",
   "metadata": {},
   "outputs": [],
   "source": []
  }
 ],
 "metadata": {
  "kernelspec": {
   "display_name": "Python 3 (ipykernel)",
   "language": "python",
   "name": "python3"
  },
  "language_info": {
   "codemirror_mode": {
    "name": "ipython",
    "version": 3
   },
   "file_extension": ".py",
   "mimetype": "text/x-python",
   "name": "python",
   "nbconvert_exporter": "python",
   "pygments_lexer": "ipython3",
   "version": "3.9.13"
  }
 },
 "nbformat": 4,
 "nbformat_minor": 5
}
